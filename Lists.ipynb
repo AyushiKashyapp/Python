{
  "nbformat": 4,
  "nbformat_minor": 0,
  "metadata": {
    "colab": {
      "provenance": [],
      "authorship_tag": "ABX9TyMsrQLQjy8kVN8nCCk7btGp",
      "include_colab_link": true
    },
    "kernelspec": {
      "name": "python3",
      "display_name": "Python 3"
    },
    "language_info": {
      "name": "python"
    }
  },
  "cells": [
    {
      "cell_type": "markdown",
      "metadata": {
        "id": "view-in-github",
        "colab_type": "text"
      },
      "source": [
        "<a href=\"https://colab.research.google.com/github/AyushiKashyapp/Python/blob/main/Lists.ipynb\" target=\"_parent\"><img src=\"https://colab.research.google.com/assets/colab-badge.svg\" alt=\"Open In Colab\"/></a>"
      ]
    },
    {
      "cell_type": "markdown",
      "source": [
        "# Lists\n",
        "\n",
        "Lists are used to store multiple items in a single variable.\n",
        "\n",
        "Items are ordered, unchangeable and allow duplicate values."
      ],
      "metadata": {
        "id": "HbAXJduNxiU-"
      }
    },
    {
      "cell_type": "code",
      "source": [
        "# Creating lists\n",
        "fruits = ['banana', 'apple', 'cherry', 'apple', 4, 5, True]\n",
        "veggies = list(('carrots', 'onions', 'capsicum', 'beans', 'tomato'))\n",
        "\n",
        "# Accessing lists\n",
        "print(\"The list has elements: \",fruits)\n",
        "print(\"Length of the list is:\", len(fruits))\n",
        "print(\"Fruits is of type:\", type(fruits))"
      ],
      "metadata": {
        "colab": {
          "base_uri": "https://localhost:8080/"
        },
        "id": "SOIoE8GhxzWZ",
        "outputId": "839cb3e7-b534-48e3-d47d-1848073c5b6e"
      },
      "execution_count": null,
      "outputs": [
        {
          "output_type": "stream",
          "name": "stdout",
          "text": [
            "The list has elements:  ['banana', 'apple', 'cherry', 'apple', 4, 5, True]\n",
            "Length of the list is: 7\n",
            "Fruits is of type: <class 'list'>\n"
          ]
        }
      ]
    },
    {
      "cell_type": "markdown",
      "source": [
        "2. Accessing list items."
      ],
      "metadata": {
        "id": "LiaLqoFLy14A"
      }
    },
    {
      "cell_type": "code",
      "source": [
        "print(\"Second vegetable is:\", veggies[1])\n",
        "print(\"Second Last vegetable is: \", veggies[-2])\n",
        "print(\"Vegetables in range 2:4 are: \", veggies[2:4])\n",
        "print(\"Vegetables in range :4 are: \", veggies[:4]) # Include from Start till 4\n",
        "print(\"Vegetables in range 2: are: \", veggies[2:]) # Include from 2 till last\n",
        "print(\"Vegetables in range -4:-2 are: \", veggies[-4:-2]) # Search from end of list\n",
        "\n",
        "if(\"beans\" in veggies):\n",
        "  print(\"Beans is available in the veggies.\")"
      ],
      "metadata": {
        "colab": {
          "base_uri": "https://localhost:8080/"
        },
        "id": "_IiC7mhlyis6",
        "outputId": "02a2275f-0272-49ce-ec39-251fb2d3eb94"
      },
      "execution_count": null,
      "outputs": [
        {
          "output_type": "stream",
          "name": "stdout",
          "text": [
            "Second vegetable is: onions\n",
            "Second Last vegetable is:  beans\n",
            "Vegetables in range 2:4 are:  ['capsicum', 'beans']\n",
            "Vegetables in range :4 are:  ['carrots', 'onions', 'capsicum', 'beans']\n",
            "Vegetables in range 2: are:  ['capsicum', 'beans', 'tomato']\n",
            "Vegetables in range -4:-2 are:  ['onions', 'capsicum']\n",
            "Beans is available in the veggies.\n"
          ]
        }
      ]
    },
    {
      "cell_type": "markdown",
      "source": [
        "3. Change list item."
      ],
      "metadata": {
        "id": "YDx7vVHo0VNz"
      }
    },
    {
      "cell_type": "code",
      "source": [
        "fruits[2] = 'orange' # Change a single item\n",
        "print(\"Second fruit changed to: \", fruits[2])\n",
        "\n",
        "fruits[1:2] = ['pears', 'berries'] # Change a range of items\n",
        "print(fruits)\n",
        "print(\"Range of fruits 1:2 is changed to: \", fruits[1:3])\n",
        "\n",
        "fruits[1:2] = ['melon'] # Chnging only one value while specifying 2 in the range\n",
        "print(fruits)\n",
        "print(\"Range of fruits 1:2 is changed to: \", fruits[1:3])\n",
        "\n",
        "fruits.insert(4, 'kinu')\n",
        "print(\"Newly inserted fruit is: \", fruits[4])"
      ],
      "metadata": {
        "colab": {
          "base_uri": "https://localhost:8080/"
        },
        "id": "0owEzJDP0a5z",
        "outputId": "abe1e5fc-c657-4cf1-a8bb-02b9b3342a33"
      },
      "execution_count": null,
      "outputs": [
        {
          "output_type": "stream",
          "name": "stdout",
          "text": [
            "Second fruit changed to:  orange\n",
            "['banana', 'pears', 'berries', 'orange', 'apple', 4, 5, True]\n",
            "Range of fruits 1:2 is changed to:  ['pears', 'berries']\n",
            "['banana', 'melon', 'berries', 'orange', 'apple', 4, 5, True]\n",
            "Range of fruits 1:2 is changed to:  ['melon', 'berries']\n",
            "Newly inserted fruit is:  kinu\n"
          ]
        }
      ]
    },
    {
      "cell_type": "markdown",
      "source": [
        "4. Add list items"
      ],
      "metadata": {
        "id": "w9oq74443M3W"
      }
    },
    {
      "cell_type": "code",
      "source": [
        "fruits.append('grapes') # Append item to fruits list\n",
        "print(\"Appended fruit to fruits list: \",fruits[-1])\n",
        "\n",
        "fruits.insert(5, 'peaches') # Insert at a particular index in the list\n",
        "print(\"Inserted fruit to fruits list: \", fruits[5])\n",
        "\n",
        "meal = fruits\n",
        "meal.extend(veggies) # Append items of other list to the current list\n",
        "print(\"Fruits + Veggies: \", meal)\n",
        "\n",
        "fruit_tuple = ('watermelon', 'green apple')\n",
        "meal.extend(fruit_tuple) # .extend() can append any iterable: tuple, dictionary, list, sets, etc.\n",
        "print(\"List Meal + Tuple fruit_tuple :\", meal)"
      ],
      "metadata": {
        "colab": {
          "base_uri": "https://localhost:8080/"
        },
        "id": "6ti8jiMCX39D",
        "outputId": "9f414755-75a6-4875-decf-d8b9fab1d405"
      },
      "execution_count": null,
      "outputs": [
        {
          "output_type": "stream",
          "name": "stdout",
          "text": [
            "Appended fruit to fruits list:  grapes\n",
            "Inserted fruit to fruits list:  peaches\n",
            "Fruits + Veggies:  ['banana', 'melon', 'berries', 'orange', 'kinu', 'peaches', 'peaches', 'peaches', 'peaches', 'peaches', 'peaches', 'apple', 4, 5, True, 'grapes', 'grapes', 'grapes', 'carrots', 'onions', 'capsicum', 'beans', 'tomato', 'grapes', 'carrots', 'onions', 'capsicum', 'beans', 'tomato', 'grapes', 'carrots', 'onions', 'capsicum', 'beans', 'tomato', 'grapes', 'carrots', 'onions', 'capsicum', 'beans', 'tomato', 'grapes', 'carrots', 'onions', 'capsicum', 'beans', 'tomato']\n",
            "List Meal + Tuple fruit_tuple : ['banana', 'melon', 'berries', 'orange', 'kinu', 'peaches', 'peaches', 'peaches', 'peaches', 'peaches', 'peaches', 'apple', 4, 5, True, 'grapes', 'grapes', 'grapes', 'carrots', 'onions', 'capsicum', 'beans', 'tomato', 'grapes', 'carrots', 'onions', 'capsicum', 'beans', 'tomato', 'grapes', 'carrots', 'onions', 'capsicum', 'beans', 'tomato', 'grapes', 'carrots', 'onions', 'capsicum', 'beans', 'tomato', 'grapes', 'carrots', 'onions', 'capsicum', 'beans', 'tomato', 'watermelon', 'green apple']\n"
          ]
        }
      ]
    },
    {
      "cell_type": "markdown",
      "source": [
        "5. Remove list item"
      ],
      "metadata": {
        "id": "QuIL-Xj_Zq-t"
      }
    },
    {
      "cell_type": "code",
      "source": [
        "fruits.remove('melon') # If more than one occurance are there, then .remove() will remove the first occurance\n",
        "fruits.pop(4) # If no index is specified, .pop() will remove the last element\n",
        "del fruits[8] # Remove element at a specific index\n",
        "del meal # Delete the list entirely\n",
        "fruits.clear() # Empties the list"
      ],
      "metadata": {
        "id": "I54jszu2a_DO"
      },
      "execution_count": null,
      "outputs": []
    },
    {
      "cell_type": "markdown",
      "source": [
        "6. Loop through a list"
      ],
      "metadata": {
        "id": "-Qxw7nbJbynm"
      }
    },
    {
      "cell_type": "code",
      "source": [
        "for i in veggies: # Loop though the element\n",
        "  print (i)"
      ],
      "metadata": {
        "colab": {
          "base_uri": "https://localhost:8080/"
        },
        "id": "SEEkBfMLb2IM",
        "outputId": "0f257e48-8d11-45a1-af30-3b85228b0e1d"
      },
      "execution_count": null,
      "outputs": [
        {
          "output_type": "stream",
          "name": "stdout",
          "text": [
            "carrots\n",
            "onions\n",
            "capsicum\n",
            "beans\n",
            "tomato\n"
          ]
        }
      ]
    },
    {
      "cell_type": "code",
      "source": [
        "for i in range(len(veggies)): # Loop through with index numbers\n",
        "  print(veggies[i])"
      ],
      "metadata": {
        "colab": {
          "base_uri": "https://localhost:8080/"
        },
        "id": "F_N_czxMcMl-",
        "outputId": "7408f028-8a8f-46fb-95fb-c38c55e7f9c2"
      },
      "execution_count": null,
      "outputs": [
        {
          "output_type": "stream",
          "name": "stdout",
          "text": [
            "carrots\n",
            "onions\n",
            "capsicum\n",
            "beans\n",
            "tomato\n"
          ]
        }
      ]
    },
    {
      "cell_type": "code",
      "source": [
        "i = 0\n",
        "while i < len(veggies):\n",
        "  print(veggies[i])\n",
        "  i = i+1"
      ],
      "metadata": {
        "colab": {
          "base_uri": "https://localhost:8080/"
        },
        "id": "4jgc8PRlckZN",
        "outputId": "0991ce7f-0e7b-4336-818b-ebbf0da149bf"
      },
      "execution_count": null,
      "outputs": [
        {
          "output_type": "stream",
          "name": "stdout",
          "text": [
            "carrots\n",
            "onions\n",
            "capsicum\n",
            "beans\n",
            "tomato\n"
          ]
        }
      ]
    },
    {
      "cell_type": "markdown",
      "source": [
        "7. List Comprehension\n",
        "\n",
        "***expression* for *item* in *iterable* if *condition* == True**"
      ],
      "metadata": {
        "id": "mmwDPSkGc3zV"
      }
    },
    {
      "cell_type": "code",
      "source": [
        "[print(i) for i in veggies]"
      ],
      "metadata": {
        "colab": {
          "base_uri": "https://localhost:8080/"
        },
        "id": "Zc9fTAiPc3ZU",
        "outputId": "083a6073-e3b2-4f3e-cc88-d0439c21cb93"
      },
      "execution_count": null,
      "outputs": [
        {
          "output_type": "stream",
          "name": "stdout",
          "text": [
            "carrots\n",
            "onions\n",
            "capsicum\n",
            "beans\n",
            "tomato\n"
          ]
        },
        {
          "output_type": "execute_result",
          "data": {
            "text/plain": [
              "[None, None, None, None, None]"
            ]
          },
          "metadata": {},
          "execution_count": 18
        }
      ]
    },
    {
      "cell_type": "code",
      "source": [
        "# Creating a new list based on the values of an old list\n",
        "\n",
        "new_list = []\n",
        "for i in veggies:\n",
        "  if \"a\" in i:\n",
        "    new_list.append(i)\n",
        "print(\"New list using for loop: \",new_list)\n",
        "\n",
        "# Using List Comprehension to create a new list based on the element of an old list\n",
        "new_list_2 = [i for i in veggies if \"a\" in i]\n",
        "print(\"New list using List Comprehension: \",new_list_2)\n",
        "\n",
        "# Condition ------ A filter which holds when the condition is True\n",
        "new_list3 = [x for x in veggies if x != \"beans\"]\n",
        "print(\"Condition when veggies is not beans: \", new_list3)\n",
        "\n",
        "# Iterable ------- Can be any iterable object like a list, tuple, set, dictionary,...\n",
        "new_list4 = [x for x in veggies]\n",
        "print(\"Iterating over veggies list: \", new_list4)\n",
        "\n",
        "# Expression is the current item in the list, which can be manipulated before adding to the new list\n",
        "new_list5 = [x.upper() for x in veggies]\n",
        "print(\"Expression to add veggies in upper cases: \", new_list5)\n",
        "\n",
        "# The expression can also contain conditions, not like a filter, but as a way to manipulate the outcome: Return Spring Onion instead of Onion\n",
        "new_list6 = [x if x != \"onions\" else \"spring onion\" for x in veggies]\n",
        "print(\"Expression defining Spring Onion instead of Onion: \", new_list6)"
      ],
      "metadata": {
        "colab": {
          "base_uri": "https://localhost:8080/"
        },
        "id": "_E7sC1jZdX6_",
        "outputId": "71cb48fa-4ce5-4b57-e359-71ea9586ea12"
      },
      "execution_count": null,
      "outputs": [
        {
          "output_type": "stream",
          "name": "stdout",
          "text": [
            "New list using for loop:  ['carrots', 'capsicum', 'beans', 'tomato']\n",
            "New list using List Comprehension:  ['carrots', 'capsicum', 'beans', 'tomato']\n",
            "Condition when veggies is not beans:  ['carrots', 'onions', 'capsicum', 'tomato']\n",
            "Iterating over veggies list:  ['carrots', 'onions', 'capsicum', 'beans', 'tomato']\n",
            "Expression to add veggies in upper cases:  ['CARROTS', 'ONIONS', 'CAPSICUM', 'BEANS', 'TOMATO']\n",
            "Expression defining Spring Onion instead of Onion:  ['carrots', 'spring onion', 'capsicum', 'beans', 'tomato']\n"
          ]
        }
      ]
    },
    {
      "cell_type": "markdown",
      "source": [
        "8. Sort List"
      ],
      "metadata": {
        "id": "aAku9ibeiBTp"
      }
    },
    {
      "cell_type": "code",
      "source": [
        "veggies.sort() # Sort Ascending\n",
        "print(\"Alphanumerically sorted list, Ascending: \", veggies)\n",
        "\n",
        "veggies.sort(reverse= True) # Sort Descending\n",
        "print(\"Alphanumerically sorted list, Descending: \", veggies)\n",
        "\n",
        "veggies.reverse() # Reverse the order of the list regardless of the alphabets of the elements\n",
        "print(\"Reversed order of the list: \", veggies)"
      ],
      "metadata": {
        "colab": {
          "base_uri": "https://localhost:8080/"
        },
        "id": "f5l_rF4XiEaT",
        "outputId": "0aa74246-2be7-4cb1-de24-60526e7c5ffe"
      },
      "execution_count": null,
      "outputs": [
        {
          "output_type": "stream",
          "name": "stdout",
          "text": [
            "Alphanumerically sorted list, Ascending:  ['beans', 'capsicum', 'carrots', 'onions', 'tomato']\n",
            "Alphanumerically sorted list, Descending:  ['tomato', 'onions', 'carrots', 'capsicum', 'beans']\n",
            "Reversed order of the list:  ['beans', 'capsicum', 'carrots', 'onions', 'tomato']\n"
          ]
        }
      ]
    },
    {
      "cell_type": "markdown",
      "source": [
        "9. Copy list\n",
        "\n",
        "**You cannot copy a list simply by typing list2 = list1, because: list2 will only be a reference to list1, and changes made in list1 will automatically also be made in list2.**"
      ],
      "metadata": {
        "id": "PG7lD34rmJFf"
      }
    },
    {
      "cell_type": "code",
      "source": [
        "meal1 = veggies.copy() # Using .copy() method\n",
        "print(\"List Veggies copied to list Meal: \", meal)\n",
        "\n",
        "meal2 = list(veggies) # Using list()\n",
        "print(\"Creating new list Meal 2 using elements of list Veggies: \", meal2)\n",
        "\n",
        "meal3 = veggies[:]\n",
        "print(\"Creating new list Meal 3 using slice (:) operator: \", meal3)"
      ],
      "metadata": {
        "colab": {
          "base_uri": "https://localhost:8080/"
        },
        "id": "LLNqLu3HmRZL",
        "outputId": "c4181025-6cfd-4afc-94e0-750e49cbf374"
      },
      "execution_count": null,
      "outputs": [
        {
          "output_type": "stream",
          "name": "stdout",
          "text": [
            "List Veggies copied to list Meal:  ['beans', 'capsicum', 'carrots', 'onions', 'tomato']\n",
            "Creating new list Meal 2 using elements of list Veggies:  ['beans', 'capsicum', 'carrots', 'onions', 'tomato']\n",
            "Creating new list Meal 3 using slice (:) operator:  ['beans', 'capsicum', 'carrots', 'onions', 'tomato']\n"
          ]
        }
      ]
    },
    {
      "cell_type": "markdown",
      "source": [
        "10. Join Lists"
      ],
      "metadata": {
        "id": "gxw9WpienNnY"
      }
    },
    {
      "cell_type": "code",
      "source": [
        "new_list7 = veggies + meal3 # Using + Operator\n",
        "print(\"Concatenating two lists using + operator: \", new_list7)\n",
        "\n",
        "for i in meal: # Append each element from the old list to the new list\n",
        "  new_list7.append(i)\n",
        "print(\"Append each element from the old list to the new list: \", new_list7)\n",
        "\n",
        "meal.extend(new_list7) # Using .extend()\n",
        "print(\"Extending the list with another list using .extend() :\", meal)"
      ],
      "metadata": {
        "colab": {
          "base_uri": "https://localhost:8080/"
        },
        "id": "JpgvjNbQnRl_",
        "outputId": "e9181d9f-9f57-4ee0-adb4-8650e4be7f92"
      },
      "execution_count": null,
      "outputs": [
        {
          "output_type": "stream",
          "name": "stdout",
          "text": [
            "Concatenating two lists using + operator:  ['beans', 'capsicum', 'carrots', 'onions', 'tomato', 'beans', 'capsicum', 'carrots', 'onions', 'tomato']\n",
            "Append each element from the old list to the new list:  ['beans', 'capsicum', 'carrots', 'onions', 'tomato', 'beans', 'capsicum', 'carrots', 'onions', 'tomato', 'beans', 'capsicum', 'carrots', 'onions', 'tomato']\n",
            "Extending the list with another list using .extend() : ['beans', 'capsicum', 'carrots', 'onions', 'tomato', 'beans', 'capsicum', 'carrots', 'onions', 'tomato', 'beans', 'capsicum', 'carrots', 'onions', 'tomato', 'beans', 'capsicum', 'carrots', 'onions', 'tomato']\n"
          ]
        }
      ]
    },
    {
      "cell_type": "markdown",
      "source": [
        "# Exercises"
      ],
      "metadata": {
        "id": "3xGbelpJghGN"
      }
    },
    {
      "cell_type": "markdown",
      "source": [
        "1. Write a Python program to sum all the items in a list."
      ],
      "metadata": {
        "id": "pRW6X5IHgcsA"
      }
    },
    {
      "cell_type": "code",
      "source": [
        "list1 = [1,2,3,4,5]\n",
        "sum1 = 0\n",
        "\n",
        "# for loop\n",
        "for l in list1:\n",
        "  sum1 += l\n",
        "print(\"For loop: \",sum1)\n",
        "\n",
        "# list comprehension\n",
        "sum_value = sum([l for l in list1])\n",
        "print(\"List Comprehension: \",sum_value)\n",
        "\n",
        "# sum function\n",
        "print(\"Simplified sum function: \", sum(list1))"
      ],
      "metadata": {
        "colab": {
          "base_uri": "https://localhost:8080/"
        },
        "id": "3tSotSS1gb4g",
        "outputId": "e0a998ac-c589-4c73-ba49-1799d2d84402"
      },
      "execution_count": null,
      "outputs": [
        {
          "output_type": "stream",
          "name": "stdout",
          "text": [
            "For loop:  15\n",
            "List Comprehension:  15\n",
            "Simplified sum function:  15\n"
          ]
        }
      ]
    },
    {
      "cell_type": "markdown",
      "source": [
        "2. Write a Python program to multiply all the items in a list."
      ],
      "metadata": {
        "id": "evyO7ryHivpU"
      }
    },
    {
      "cell_type": "code",
      "source": [
        "# for loop\n",
        "\n",
        "product1 = 1\n",
        "for l in list1:\n",
        "  product1 = product1 * l\n",
        "print(\"For loop: \", product1)\n",
        "\n",
        "# List comprehension / Simplified\n",
        "import math\n",
        "product2 = math.prod(list1)\n",
        "print(\"List Comprehension/ Simplified: \", product2)"
      ],
      "metadata": {
        "colab": {
          "base_uri": "https://localhost:8080/"
        },
        "id": "XnK1zd4Xiu0r",
        "outputId": "0b704e85-f1ae-4296-c2a6-4352e1bcd838"
      },
      "execution_count": null,
      "outputs": [
        {
          "output_type": "stream",
          "name": "stdout",
          "text": [
            "For loop:  120\n",
            "List Comprehension/ Simplified:  120\n"
          ]
        }
      ]
    },
    {
      "cell_type": "markdown",
      "source": [
        "3. Write a Python program to get the largest number from a list."
      ],
      "metadata": {
        "id": "7Fpjh-aHjkiT"
      }
    },
    {
      "cell_type": "code",
      "source": [
        "list2 = [45,73,98,54,12]\n",
        "\n",
        "#Using sort\n",
        "list2.sort()\n",
        "list2.reverse()\n",
        "print(\"Largest Number: \", list2[0])\n",
        "\n",
        "#Using loop\n",
        "def max_list(list):\n",
        "  max = list2[0]\n",
        "  for a in list2:\n",
        "    if a > max:\n",
        "      max = a\n",
        "  return max\n",
        "\n",
        "print(\"Using loop: \", max_list(list2))\n"
      ],
      "metadata": {
        "colab": {
          "base_uri": "https://localhost:8080/"
        },
        "id": "pG8yZqwZjkNe",
        "outputId": "d86c773b-3780-4dec-d465-c586c01f39dd"
      },
      "execution_count": null,
      "outputs": [
        {
          "output_type": "stream",
          "name": "stdout",
          "text": [
            "Largest Number:  98\n",
            "Using loop:  98\n"
          ]
        }
      ]
    },
    {
      "cell_type": "markdown",
      "source": [
        "4. Write a Python program to get the smallest number from a list."
      ],
      "metadata": {
        "id": "GN4QK8rTkJLI"
      }
    },
    {
      "cell_type": "code",
      "source": [
        "list3 = [34,12,5,89,20]\n",
        "\n",
        "#Using sort\n",
        "list3.sort()\n",
        "print(\"Smallest Number: \", list3[0])\n",
        "\n",
        "#Using loop\n",
        "\n",
        "def min_list(list):\n",
        "  min = list3[0]\n",
        "  for a in list3:\n",
        "    if a < min:\n",
        "      min = a\n",
        "  return min\n",
        "print(\"Min using loop: \", min_list(list3))"
      ],
      "metadata": {
        "colab": {
          "base_uri": "https://localhost:8080/"
        },
        "id": "CGAgQkV2kMWl",
        "outputId": "fdf85d75-706c-4fa9-8fe9-43e970ac3088"
      },
      "execution_count": null,
      "outputs": [
        {
          "output_type": "stream",
          "name": "stdout",
          "text": [
            "Smallest Number:  5\n",
            "Min using loop:  5\n"
          ]
        }
      ]
    },
    {
      "cell_type": "markdown",
      "source": [
        "5. Write a Python program to count the number of strings from a given list of strings. The string length is 2 or more and the first and last characters are the same.\n",
        "Sample List : ['abc', 'xyz', 'aba', '1221']\n",
        "Expected Result : 2"
      ],
      "metadata": {
        "id": "uup1eqJGlk-2"
      }
    },
    {
      "cell_type": "code",
      "source": [
        "Sample_list = ['abc', 'xyz', 'aba', '1221']\n",
        "\n",
        "score = 0\n",
        "\n",
        "for l in Sample_list:\n",
        "   if len(l)>1 and l[0] == l[-1]:\n",
        "      score += 1\n",
        "\n",
        "print(score)\n"
      ],
      "metadata": {
        "colab": {
          "base_uri": "https://localhost:8080/"
        },
        "id": "atbmgdrkm9Sx",
        "outputId": "acd81a83-25a2-4984-9b4c-e8bbaeae2e8c"
      },
      "execution_count": null,
      "outputs": [
        {
          "output_type": "stream",
          "name": "stdout",
          "text": [
            "2\n"
          ]
        }
      ]
    },
    {
      "cell_type": "markdown",
      "source": [
        "6. Write a Python program to get a list, sorted in increasing order by the last element in each tuple from a given list of non-empty tuples.\n",
        "Sample List : [(2, 5), (1, 2), (4, 4), (2, 3), (2, 1)]\n",
        "Expected Result : [(2, 1), (1, 2), (2, 3), (4, 4), (2, 5)]\n",
        "\n"
      ],
      "metadata": {
        "id": "y6kv_0aSnyNN"
      }
    },
    {
      "cell_type": "code",
      "source": [
        "Sample_list1 = [(2, 5), (1, 2), (4, 4), (2, 3), (2, 1)]\n",
        "\n",
        "sorted_list = sorted(Sample_list1, key = lambda x:x[-1])\n",
        "\n",
        "print(sorted_list)"
      ],
      "metadata": {
        "colab": {
          "base_uri": "https://localhost:8080/"
        },
        "id": "cWF_CRaWnzab",
        "outputId": "fa47a537-142c-4c34-ec89-47c6e57063d4"
      },
      "execution_count": null,
      "outputs": [
        {
          "output_type": "stream",
          "name": "stdout",
          "text": [
            "[(2, 1), (1, 2), (2, 3), (4, 4), (2, 5)]\n"
          ]
        }
      ]
    },
    {
      "cell_type": "markdown",
      "source": [
        "7. Write a Python program to remove duplicates from a list."
      ],
      "metadata": {
        "id": "v-dE4yA4p4Uc"
      }
    },
    {
      "cell_type": "code",
      "source": [
        "list4 = [2,5,3,6,2,6,2,5,3,6]\n",
        "unique_list = []\n",
        "\n",
        "for l in list4:\n",
        "  if l not in unique_list:\n",
        "    unique_list.append(l)\n",
        "print(unique_list)"
      ],
      "metadata": {
        "colab": {
          "base_uri": "https://localhost:8080/"
        },
        "id": "XtBGxnXbp6BG",
        "outputId": "96ac06e9-679c-452f-fc15-0704f546ce28"
      },
      "execution_count": null,
      "outputs": [
        {
          "output_type": "stream",
          "name": "stdout",
          "text": [
            "[2, 5, 3, 6]\n"
          ]
        }
      ]
    },
    {
      "cell_type": "markdown",
      "source": [
        "8. Write a Python program to check if a list is empty or not."
      ],
      "metadata": {
        "id": "cCbnkCuerQYZ"
      }
    },
    {
      "cell_type": "code",
      "source": [
        "def empty_check(list):\n",
        "  if len(list) == 0:\n",
        "    print(\"Empty\")\n",
        "  else:\n",
        "    print(\"Not Empty\")\n",
        "em = []\n",
        "empty_check(list4)\n",
        "empty_check(em)"
      ],
      "metadata": {
        "colab": {
          "base_uri": "https://localhost:8080/"
        },
        "id": "grHcztthrRvr",
        "outputId": "66cdbae0-e942-4d3e-e3ff-c5bca11a70cc"
      },
      "execution_count": null,
      "outputs": [
        {
          "output_type": "stream",
          "name": "stdout",
          "text": [
            "Not Empty\n",
            "Empty\n"
          ]
        }
      ]
    },
    {
      "cell_type": "markdown",
      "source": [
        "9. Write a Python program to clone or copy a list."
      ],
      "metadata": {
        "id": "m63qcjBcr4J9"
      }
    },
    {
      "cell_type": "code",
      "source": [
        "def clone_list(list):\n",
        "  clone = []\n",
        "  for l in list:\n",
        "    clone.append(l)\n",
        "  return clone\n",
        "\n",
        "print(\"Cloned List: \", clone_list(list3))"
      ],
      "metadata": {
        "colab": {
          "base_uri": "https://localhost:8080/"
        },
        "id": "L1-USghGr5fp",
        "outputId": "5dc5852a-1392-4057-b02d-34321e48650f"
      },
      "execution_count": null,
      "outputs": [
        {
          "output_type": "stream",
          "name": "stdout",
          "text": [
            "Cloned List:  [5, 12, 20, 34, 89]\n"
          ]
        }
      ]
    },
    {
      "cell_type": "markdown",
      "source": [
        "10. Write a Python program to find the list of words that are longer than n from a given list of words."
      ],
      "metadata": {
        "id": "7W6Bq1gMsQmL"
      }
    },
    {
      "cell_type": "code",
      "source": [
        "words1 = ['abc', 'xyxz', 'ad', 'a', 'ghsgj']\n",
        "\n",
        "def wcount(list, n):\n",
        "  word2 = []\n",
        "  for l in list:\n",
        "    if len(l) < n:\n",
        "      word2.append(l)\n",
        "  return word2\n",
        "\n",
        "print(\"Count list: \", wcount(words1, 4))"
      ],
      "metadata": {
        "colab": {
          "base_uri": "https://localhost:8080/"
        },
        "id": "vpfKMW9SsWOz",
        "outputId": "23d7dbe6-794c-4fd8-f1de-a49e1843fe4f"
      },
      "execution_count": null,
      "outputs": [
        {
          "output_type": "stream",
          "name": "stdout",
          "text": [
            "Count list:  ['abc', 'ad', 'a']\n"
          ]
        }
      ]
    },
    {
      "cell_type": "markdown",
      "source": [
        "11. Write a Python function that takes two lists and returns True if they have at least one common member.\n"
      ],
      "metadata": {
        "id": "J1LZHNjgkozb"
      }
    },
    {
      "cell_type": "code",
      "source": [
        "def common_list(list1 = [],list2 = []):\n",
        "  for l in list1:\n",
        "    if l in list2:\n",
        "        return True\n",
        "    else:\n",
        "        return False\n",
        "\n",
        "l1 = [3,4,2,4,3]\n",
        "l2 = [9,8,5,0,3]\n",
        "\n",
        "print(\"List Common: \", common_list(l1, l2))"
      ],
      "metadata": {
        "colab": {
          "base_uri": "https://localhost:8080/"
        },
        "id": "PmVtcDMhkp6A",
        "outputId": "d3b5f771-d920-4df0-d3d9-a2b0d7234ff2"
      },
      "execution_count": null,
      "outputs": [
        {
          "output_type": "stream",
          "name": "stdout",
          "text": [
            "List Common:  True\n"
          ]
        }
      ]
    },
    {
      "cell_type": "markdown",
      "source": [
        "12. Write a Python program to print a specified list after removing the 0th, 4th and 5th elements.\n",
        "Sample List : ['Red', 'Green', 'White', 'Black', 'Pink', 'Yellow']\n",
        "Expected Output : ['Green', 'White', 'Black']"
      ],
      "metadata": {
        "id": "IwSityXBmOOP"
      }
    },
    {
      "cell_type": "code",
      "source": [
        "Sample_List = ['Red', 'Green', 'White', 'Black', 'Pink', 'Yellow']\n",
        "\n",
        "def remove_ele(list1 = []):\n",
        "  del list1[5]\n",
        "  del list1[4]\n",
        "  del list1[0]\n",
        "  return list1\n",
        "\n",
        "print(\"List after removal: \", remove_ele(Sample_List))"
      ],
      "metadata": {
        "colab": {
          "base_uri": "https://localhost:8080/"
        },
        "id": "vDUUbwCimNw2",
        "outputId": "03b4450b-d72f-4695-b239-042199ada7af"
      },
      "execution_count": null,
      "outputs": [
        {
          "output_type": "stream",
          "name": "stdout",
          "text": [
            "List after removal:  ['Green', 'White', 'Black']\n"
          ]
        }
      ]
    },
    {
      "cell_type": "markdown",
      "source": [
        "13. Write a Python program to generate a 3 x 4 x 6 3D array whose each element is *."
      ],
      "metadata": {
        "id": "6K173u53npX0"
      }
    },
    {
      "cell_type": "code",
      "source": [
        "array3d = [[['*' for _ in range(6)] for _ in range(4)] for _ in range(3)]\n",
        "\n",
        "for l in array3d:\n",
        "  print(l)"
      ],
      "metadata": {
        "colab": {
          "base_uri": "https://localhost:8080/"
        },
        "id": "A6JeX3cZnpFh",
        "outputId": "faa1f69b-5484-4518-b6b3-24d451a65969"
      },
      "execution_count": null,
      "outputs": [
        {
          "output_type": "stream",
          "name": "stdout",
          "text": [
            "[['*', '*', '*', '*', '*', '*'], ['*', '*', '*', '*', '*', '*'], ['*', '*', '*', '*', '*', '*'], ['*', '*', '*', '*', '*', '*']]\n",
            "[['*', '*', '*', '*', '*', '*'], ['*', '*', '*', '*', '*', '*'], ['*', '*', '*', '*', '*', '*'], ['*', '*', '*', '*', '*', '*']]\n",
            "[['*', '*', '*', '*', '*', '*'], ['*', '*', '*', '*', '*', '*'], ['*', '*', '*', '*', '*', '*'], ['*', '*', '*', '*', '*', '*']]\n"
          ]
        }
      ]
    },
    {
      "cell_type": "markdown",
      "source": [
        "14. Write a Python program to print the numbers of a specified list after removing even numbers from it.\n"
      ],
      "metadata": {
        "id": "BUkCS6Jdq5CR"
      }
    },
    {
      "cell_type": "code",
      "source": [
        "def remove_even(list1 = []):\n",
        "  odd_list = []\n",
        "  for l in list1:\n",
        "    if l % 2 != 0:\n",
        "      odd_list.append(l)\n",
        "  return odd_list\n",
        "\n",
        "list5 = [3,2,5,4,7,6]\n",
        "\n",
        "print(\"List after removing even: \", remove_even(list5))\n"
      ],
      "metadata": {
        "colab": {
          "base_uri": "https://localhost:8080/"
        },
        "id": "62eZE7pBq6IU",
        "outputId": "7de060ea-d642-4f64-94eb-b35895a5bf1b"
      },
      "execution_count": null,
      "outputs": [
        {
          "output_type": "stream",
          "name": "stdout",
          "text": [
            "List after removing even:  [3, 5, 7]\n"
          ]
        }
      ]
    },
    {
      "cell_type": "markdown",
      "source": [
        "15. Write a Python program to shuffle and print a specified list."
      ],
      "metadata": {
        "id": "YYG_R_SdrnmK"
      }
    },
    {
      "cell_type": "code",
      "source": [
        "import random\n",
        "\n",
        "list6 = [4,5,3,5,2,8,6]\n",
        "random.shuffle(list6)\n",
        "print(\"Shuffled List: \",list6)"
      ],
      "metadata": {
        "colab": {
          "base_uri": "https://localhost:8080/"
        },
        "id": "atZyrYqVrpN_",
        "outputId": "4dce2774-e985-457d-ad89-eff3e4ae67d7"
      },
      "execution_count": null,
      "outputs": [
        {
          "output_type": "stream",
          "name": "stdout",
          "text": [
            "Shuffled List:  [8, 3, 5, 4, 5, 6, 2]\n"
          ]
        }
      ]
    },
    {
      "cell_type": "markdown",
      "source": [
        "16. Write a Python program to generate and print a list of the first and last 5 elements where the values are square numbers between 1 and 30 (both included)."
      ],
      "metadata": {
        "id": "UR4Sqg5rsTEw"
      }
    },
    {
      "cell_type": "code",
      "source": [
        "square_list = []\n",
        "i = 0\n",
        "\n",
        "for i in range(30):\n",
        "  square_list.append(i*i)\n",
        "\n",
        "five_list = square_list[:5] + square_list[-5:]\n",
        "\n",
        "print(\"First and Last five elements list: \", five_list)"
      ],
      "metadata": {
        "colab": {
          "base_uri": "https://localhost:8080/"
        },
        "id": "H4zsJqWKsXpw",
        "outputId": "26f0d64d-f425-4be2-e72b-0a190feffa7d"
      },
      "execution_count": null,
      "outputs": [
        {
          "output_type": "stream",
          "name": "stdout",
          "text": [
            "First and Last five elements list:  [0, 1, 4, 9, 16, 625, 676, 729, 784, 841]\n"
          ]
        }
      ]
    },
    {
      "cell_type": "markdown",
      "source": [
        "17. Write a Python program to check if each number is prime in a given list of numbers. Return True if all numbers are prime otherwise False.\n",
        "Sample Data:\n",
        "([0, 3, 4, 7, 9]) -> False\n",
        "([3, 5, 7, 13]) -> True\n",
        "([1, 5, 3]) -> False"
      ],
      "metadata": {
        "id": "0Gir6AKGt9uz"
      }
    },
    {
      "cell_type": "code",
      "source": [
        "from pickle import FALSE\n",
        "def is_prime(n):\n",
        "  if n < 2:\n",
        "    return False\n",
        "  for i in range(2, int(n**0.5)+1):\n",
        "    if n % i == 0:\n",
        "      return False\n",
        "  return True\n",
        "\n",
        "def prime_list(numbers):\n",
        "  return all(is_prime(num) for num in numbers)\n",
        "\n",
        "print(prime_list([0, 3, 4, 7, 9]))\n",
        "print(prime_list([3, 5, 7, 13]))\n",
        "print(prime_list([1, 5, 3]))\n"
      ],
      "metadata": {
        "colab": {
          "base_uri": "https://localhost:8080/"
        },
        "id": "QAEJGQswt9DQ",
        "outputId": "2885c641-2c4b-4afe-c114-540442185c81"
      },
      "execution_count": null,
      "outputs": [
        {
          "output_type": "stream",
          "name": "stdout",
          "text": [
            "False\n",
            "True\n",
            "False\n"
          ]
        }
      ]
    },
    {
      "cell_type": "markdown",
      "source": [
        " 18. Write a  Python program to generate all permutations of a list in Python."
      ],
      "metadata": {
        "id": "Kr14AyxQxbeg"
      }
    },
    {
      "cell_type": "code",
      "source": [
        "import itertools\n",
        "\n",
        "list7 = [3,5,2,7,2,9]\n",
        "\n",
        "perm_list = list(itertools.permutations(list7))\n",
        "\n",
        "for perm in perm_list:\n",
        "  print(perm)"
      ],
      "metadata": {
        "colab": {
          "base_uri": "https://localhost:8080/"
        },
        "collapsed": true,
        "id": "jSx7y3RmxeLP",
        "outputId": "c4f48c78-7001-4927-cfbe-2eca3b73ae9e"
      },
      "execution_count": null,
      "outputs": [
        {
          "output_type": "stream",
          "name": "stdout",
          "text": [
            "(3, 5, 2, 7, 2, 9)\n",
            "(3, 5, 2, 7, 9, 2)\n",
            "(3, 5, 2, 2, 7, 9)\n",
            "(3, 5, 2, 2, 9, 7)\n",
            "(3, 5, 2, 9, 7, 2)\n",
            "(3, 5, 2, 9, 2, 7)\n",
            "(3, 5, 7, 2, 2, 9)\n",
            "(3, 5, 7, 2, 9, 2)\n",
            "(3, 5, 7, 2, 2, 9)\n",
            "(3, 5, 7, 2, 9, 2)\n",
            "(3, 5, 7, 9, 2, 2)\n",
            "(3, 5, 7, 9, 2, 2)\n",
            "(3, 5, 2, 2, 7, 9)\n",
            "(3, 5, 2, 2, 9, 7)\n",
            "(3, 5, 2, 7, 2, 9)\n",
            "(3, 5, 2, 7, 9, 2)\n",
            "(3, 5, 2, 9, 2, 7)\n",
            "(3, 5, 2, 9, 7, 2)\n",
            "(3, 5, 9, 2, 7, 2)\n",
            "(3, 5, 9, 2, 2, 7)\n",
            "(3, 5, 9, 7, 2, 2)\n",
            "(3, 5, 9, 7, 2, 2)\n",
            "(3, 5, 9, 2, 2, 7)\n",
            "(3, 5, 9, 2, 7, 2)\n",
            "(3, 2, 5, 7, 2, 9)\n",
            "(3, 2, 5, 7, 9, 2)\n",
            "(3, 2, 5, 2, 7, 9)\n",
            "(3, 2, 5, 2, 9, 7)\n",
            "(3, 2, 5, 9, 7, 2)\n",
            "(3, 2, 5, 9, 2, 7)\n",
            "(3, 2, 7, 5, 2, 9)\n",
            "(3, 2, 7, 5, 9, 2)\n",
            "(3, 2, 7, 2, 5, 9)\n",
            "(3, 2, 7, 2, 9, 5)\n",
            "(3, 2, 7, 9, 5, 2)\n",
            "(3, 2, 7, 9, 2, 5)\n",
            "(3, 2, 2, 5, 7, 9)\n",
            "(3, 2, 2, 5, 9, 7)\n",
            "(3, 2, 2, 7, 5, 9)\n",
            "(3, 2, 2, 7, 9, 5)\n",
            "(3, 2, 2, 9, 5, 7)\n",
            "(3, 2, 2, 9, 7, 5)\n",
            "(3, 2, 9, 5, 7, 2)\n",
            "(3, 2, 9, 5, 2, 7)\n",
            "(3, 2, 9, 7, 5, 2)\n",
            "(3, 2, 9, 7, 2, 5)\n",
            "(3, 2, 9, 2, 5, 7)\n",
            "(3, 2, 9, 2, 7, 5)\n",
            "(3, 7, 5, 2, 2, 9)\n",
            "(3, 7, 5, 2, 9, 2)\n",
            "(3, 7, 5, 2, 2, 9)\n",
            "(3, 7, 5, 2, 9, 2)\n",
            "(3, 7, 5, 9, 2, 2)\n",
            "(3, 7, 5, 9, 2, 2)\n",
            "(3, 7, 2, 5, 2, 9)\n",
            "(3, 7, 2, 5, 9, 2)\n",
            "(3, 7, 2, 2, 5, 9)\n",
            "(3, 7, 2, 2, 9, 5)\n",
            "(3, 7, 2, 9, 5, 2)\n",
            "(3, 7, 2, 9, 2, 5)\n",
            "(3, 7, 2, 5, 2, 9)\n",
            "(3, 7, 2, 5, 9, 2)\n",
            "(3, 7, 2, 2, 5, 9)\n",
            "(3, 7, 2, 2, 9, 5)\n",
            "(3, 7, 2, 9, 5, 2)\n",
            "(3, 7, 2, 9, 2, 5)\n",
            "(3, 7, 9, 5, 2, 2)\n",
            "(3, 7, 9, 5, 2, 2)\n",
            "(3, 7, 9, 2, 5, 2)\n",
            "(3, 7, 9, 2, 2, 5)\n",
            "(3, 7, 9, 2, 5, 2)\n",
            "(3, 7, 9, 2, 2, 5)\n",
            "(3, 2, 5, 2, 7, 9)\n",
            "(3, 2, 5, 2, 9, 7)\n",
            "(3, 2, 5, 7, 2, 9)\n",
            "(3, 2, 5, 7, 9, 2)\n",
            "(3, 2, 5, 9, 2, 7)\n",
            "(3, 2, 5, 9, 7, 2)\n",
            "(3, 2, 2, 5, 7, 9)\n",
            "(3, 2, 2, 5, 9, 7)\n",
            "(3, 2, 2, 7, 5, 9)\n",
            "(3, 2, 2, 7, 9, 5)\n",
            "(3, 2, 2, 9, 5, 7)\n",
            "(3, 2, 2, 9, 7, 5)\n",
            "(3, 2, 7, 5, 2, 9)\n",
            "(3, 2, 7, 5, 9, 2)\n",
            "(3, 2, 7, 2, 5, 9)\n",
            "(3, 2, 7, 2, 9, 5)\n",
            "(3, 2, 7, 9, 5, 2)\n",
            "(3, 2, 7, 9, 2, 5)\n",
            "(3, 2, 9, 5, 2, 7)\n",
            "(3, 2, 9, 5, 7, 2)\n",
            "(3, 2, 9, 2, 5, 7)\n",
            "(3, 2, 9, 2, 7, 5)\n",
            "(3, 2, 9, 7, 5, 2)\n",
            "(3, 2, 9, 7, 2, 5)\n",
            "(3, 9, 5, 2, 7, 2)\n",
            "(3, 9, 5, 2, 2, 7)\n",
            "(3, 9, 5, 7, 2, 2)\n",
            "(3, 9, 5, 7, 2, 2)\n",
            "(3, 9, 5, 2, 2, 7)\n",
            "(3, 9, 5, 2, 7, 2)\n",
            "(3, 9, 2, 5, 7, 2)\n",
            "(3, 9, 2, 5, 2, 7)\n",
            "(3, 9, 2, 7, 5, 2)\n",
            "(3, 9, 2, 7, 2, 5)\n",
            "(3, 9, 2, 2, 5, 7)\n",
            "(3, 9, 2, 2, 7, 5)\n",
            "(3, 9, 7, 5, 2, 2)\n",
            "(3, 9, 7, 5, 2, 2)\n",
            "(3, 9, 7, 2, 5, 2)\n",
            "(3, 9, 7, 2, 2, 5)\n",
            "(3, 9, 7, 2, 5, 2)\n",
            "(3, 9, 7, 2, 2, 5)\n",
            "(3, 9, 2, 5, 2, 7)\n",
            "(3, 9, 2, 5, 7, 2)\n",
            "(3, 9, 2, 2, 5, 7)\n",
            "(3, 9, 2, 2, 7, 5)\n",
            "(3, 9, 2, 7, 5, 2)\n",
            "(3, 9, 2, 7, 2, 5)\n",
            "(5, 3, 2, 7, 2, 9)\n",
            "(5, 3, 2, 7, 9, 2)\n",
            "(5, 3, 2, 2, 7, 9)\n",
            "(5, 3, 2, 2, 9, 7)\n",
            "(5, 3, 2, 9, 7, 2)\n",
            "(5, 3, 2, 9, 2, 7)\n",
            "(5, 3, 7, 2, 2, 9)\n",
            "(5, 3, 7, 2, 9, 2)\n",
            "(5, 3, 7, 2, 2, 9)\n",
            "(5, 3, 7, 2, 9, 2)\n",
            "(5, 3, 7, 9, 2, 2)\n",
            "(5, 3, 7, 9, 2, 2)\n",
            "(5, 3, 2, 2, 7, 9)\n",
            "(5, 3, 2, 2, 9, 7)\n",
            "(5, 3, 2, 7, 2, 9)\n",
            "(5, 3, 2, 7, 9, 2)\n",
            "(5, 3, 2, 9, 2, 7)\n",
            "(5, 3, 2, 9, 7, 2)\n",
            "(5, 3, 9, 2, 7, 2)\n",
            "(5, 3, 9, 2, 2, 7)\n",
            "(5, 3, 9, 7, 2, 2)\n",
            "(5, 3, 9, 7, 2, 2)\n",
            "(5, 3, 9, 2, 2, 7)\n",
            "(5, 3, 9, 2, 7, 2)\n",
            "(5, 2, 3, 7, 2, 9)\n",
            "(5, 2, 3, 7, 9, 2)\n",
            "(5, 2, 3, 2, 7, 9)\n",
            "(5, 2, 3, 2, 9, 7)\n",
            "(5, 2, 3, 9, 7, 2)\n",
            "(5, 2, 3, 9, 2, 7)\n",
            "(5, 2, 7, 3, 2, 9)\n",
            "(5, 2, 7, 3, 9, 2)\n",
            "(5, 2, 7, 2, 3, 9)\n",
            "(5, 2, 7, 2, 9, 3)\n",
            "(5, 2, 7, 9, 3, 2)\n",
            "(5, 2, 7, 9, 2, 3)\n",
            "(5, 2, 2, 3, 7, 9)\n",
            "(5, 2, 2, 3, 9, 7)\n",
            "(5, 2, 2, 7, 3, 9)\n",
            "(5, 2, 2, 7, 9, 3)\n",
            "(5, 2, 2, 9, 3, 7)\n",
            "(5, 2, 2, 9, 7, 3)\n",
            "(5, 2, 9, 3, 7, 2)\n",
            "(5, 2, 9, 3, 2, 7)\n",
            "(5, 2, 9, 7, 3, 2)\n",
            "(5, 2, 9, 7, 2, 3)\n",
            "(5, 2, 9, 2, 3, 7)\n",
            "(5, 2, 9, 2, 7, 3)\n",
            "(5, 7, 3, 2, 2, 9)\n",
            "(5, 7, 3, 2, 9, 2)\n",
            "(5, 7, 3, 2, 2, 9)\n",
            "(5, 7, 3, 2, 9, 2)\n",
            "(5, 7, 3, 9, 2, 2)\n",
            "(5, 7, 3, 9, 2, 2)\n",
            "(5, 7, 2, 3, 2, 9)\n",
            "(5, 7, 2, 3, 9, 2)\n",
            "(5, 7, 2, 2, 3, 9)\n",
            "(5, 7, 2, 2, 9, 3)\n",
            "(5, 7, 2, 9, 3, 2)\n",
            "(5, 7, 2, 9, 2, 3)\n",
            "(5, 7, 2, 3, 2, 9)\n",
            "(5, 7, 2, 3, 9, 2)\n",
            "(5, 7, 2, 2, 3, 9)\n",
            "(5, 7, 2, 2, 9, 3)\n",
            "(5, 7, 2, 9, 3, 2)\n",
            "(5, 7, 2, 9, 2, 3)\n",
            "(5, 7, 9, 3, 2, 2)\n",
            "(5, 7, 9, 3, 2, 2)\n",
            "(5, 7, 9, 2, 3, 2)\n",
            "(5, 7, 9, 2, 2, 3)\n",
            "(5, 7, 9, 2, 3, 2)\n",
            "(5, 7, 9, 2, 2, 3)\n",
            "(5, 2, 3, 2, 7, 9)\n",
            "(5, 2, 3, 2, 9, 7)\n",
            "(5, 2, 3, 7, 2, 9)\n",
            "(5, 2, 3, 7, 9, 2)\n",
            "(5, 2, 3, 9, 2, 7)\n",
            "(5, 2, 3, 9, 7, 2)\n",
            "(5, 2, 2, 3, 7, 9)\n",
            "(5, 2, 2, 3, 9, 7)\n",
            "(5, 2, 2, 7, 3, 9)\n",
            "(5, 2, 2, 7, 9, 3)\n",
            "(5, 2, 2, 9, 3, 7)\n",
            "(5, 2, 2, 9, 7, 3)\n",
            "(5, 2, 7, 3, 2, 9)\n",
            "(5, 2, 7, 3, 9, 2)\n",
            "(5, 2, 7, 2, 3, 9)\n",
            "(5, 2, 7, 2, 9, 3)\n",
            "(5, 2, 7, 9, 3, 2)\n",
            "(5, 2, 7, 9, 2, 3)\n",
            "(5, 2, 9, 3, 2, 7)\n",
            "(5, 2, 9, 3, 7, 2)\n",
            "(5, 2, 9, 2, 3, 7)\n",
            "(5, 2, 9, 2, 7, 3)\n",
            "(5, 2, 9, 7, 3, 2)\n",
            "(5, 2, 9, 7, 2, 3)\n",
            "(5, 9, 3, 2, 7, 2)\n",
            "(5, 9, 3, 2, 2, 7)\n",
            "(5, 9, 3, 7, 2, 2)\n",
            "(5, 9, 3, 7, 2, 2)\n",
            "(5, 9, 3, 2, 2, 7)\n",
            "(5, 9, 3, 2, 7, 2)\n",
            "(5, 9, 2, 3, 7, 2)\n",
            "(5, 9, 2, 3, 2, 7)\n",
            "(5, 9, 2, 7, 3, 2)\n",
            "(5, 9, 2, 7, 2, 3)\n",
            "(5, 9, 2, 2, 3, 7)\n",
            "(5, 9, 2, 2, 7, 3)\n",
            "(5, 9, 7, 3, 2, 2)\n",
            "(5, 9, 7, 3, 2, 2)\n",
            "(5, 9, 7, 2, 3, 2)\n",
            "(5, 9, 7, 2, 2, 3)\n",
            "(5, 9, 7, 2, 3, 2)\n",
            "(5, 9, 7, 2, 2, 3)\n",
            "(5, 9, 2, 3, 2, 7)\n",
            "(5, 9, 2, 3, 7, 2)\n",
            "(5, 9, 2, 2, 3, 7)\n",
            "(5, 9, 2, 2, 7, 3)\n",
            "(5, 9, 2, 7, 3, 2)\n",
            "(5, 9, 2, 7, 2, 3)\n",
            "(2, 3, 5, 7, 2, 9)\n",
            "(2, 3, 5, 7, 9, 2)\n",
            "(2, 3, 5, 2, 7, 9)\n",
            "(2, 3, 5, 2, 9, 7)\n",
            "(2, 3, 5, 9, 7, 2)\n",
            "(2, 3, 5, 9, 2, 7)\n",
            "(2, 3, 7, 5, 2, 9)\n",
            "(2, 3, 7, 5, 9, 2)\n",
            "(2, 3, 7, 2, 5, 9)\n",
            "(2, 3, 7, 2, 9, 5)\n",
            "(2, 3, 7, 9, 5, 2)\n",
            "(2, 3, 7, 9, 2, 5)\n",
            "(2, 3, 2, 5, 7, 9)\n",
            "(2, 3, 2, 5, 9, 7)\n",
            "(2, 3, 2, 7, 5, 9)\n",
            "(2, 3, 2, 7, 9, 5)\n",
            "(2, 3, 2, 9, 5, 7)\n",
            "(2, 3, 2, 9, 7, 5)\n",
            "(2, 3, 9, 5, 7, 2)\n",
            "(2, 3, 9, 5, 2, 7)\n",
            "(2, 3, 9, 7, 5, 2)\n",
            "(2, 3, 9, 7, 2, 5)\n",
            "(2, 3, 9, 2, 5, 7)\n",
            "(2, 3, 9, 2, 7, 5)\n",
            "(2, 5, 3, 7, 2, 9)\n",
            "(2, 5, 3, 7, 9, 2)\n",
            "(2, 5, 3, 2, 7, 9)\n",
            "(2, 5, 3, 2, 9, 7)\n",
            "(2, 5, 3, 9, 7, 2)\n",
            "(2, 5, 3, 9, 2, 7)\n",
            "(2, 5, 7, 3, 2, 9)\n",
            "(2, 5, 7, 3, 9, 2)\n",
            "(2, 5, 7, 2, 3, 9)\n",
            "(2, 5, 7, 2, 9, 3)\n",
            "(2, 5, 7, 9, 3, 2)\n",
            "(2, 5, 7, 9, 2, 3)\n",
            "(2, 5, 2, 3, 7, 9)\n",
            "(2, 5, 2, 3, 9, 7)\n",
            "(2, 5, 2, 7, 3, 9)\n",
            "(2, 5, 2, 7, 9, 3)\n",
            "(2, 5, 2, 9, 3, 7)\n",
            "(2, 5, 2, 9, 7, 3)\n",
            "(2, 5, 9, 3, 7, 2)\n",
            "(2, 5, 9, 3, 2, 7)\n",
            "(2, 5, 9, 7, 3, 2)\n",
            "(2, 5, 9, 7, 2, 3)\n",
            "(2, 5, 9, 2, 3, 7)\n",
            "(2, 5, 9, 2, 7, 3)\n",
            "(2, 7, 3, 5, 2, 9)\n",
            "(2, 7, 3, 5, 9, 2)\n",
            "(2, 7, 3, 2, 5, 9)\n",
            "(2, 7, 3, 2, 9, 5)\n",
            "(2, 7, 3, 9, 5, 2)\n",
            "(2, 7, 3, 9, 2, 5)\n",
            "(2, 7, 5, 3, 2, 9)\n",
            "(2, 7, 5, 3, 9, 2)\n",
            "(2, 7, 5, 2, 3, 9)\n",
            "(2, 7, 5, 2, 9, 3)\n",
            "(2, 7, 5, 9, 3, 2)\n",
            "(2, 7, 5, 9, 2, 3)\n",
            "(2, 7, 2, 3, 5, 9)\n",
            "(2, 7, 2, 3, 9, 5)\n",
            "(2, 7, 2, 5, 3, 9)\n",
            "(2, 7, 2, 5, 9, 3)\n",
            "(2, 7, 2, 9, 3, 5)\n",
            "(2, 7, 2, 9, 5, 3)\n",
            "(2, 7, 9, 3, 5, 2)\n",
            "(2, 7, 9, 3, 2, 5)\n",
            "(2, 7, 9, 5, 3, 2)\n",
            "(2, 7, 9, 5, 2, 3)\n",
            "(2, 7, 9, 2, 3, 5)\n",
            "(2, 7, 9, 2, 5, 3)\n",
            "(2, 2, 3, 5, 7, 9)\n",
            "(2, 2, 3, 5, 9, 7)\n",
            "(2, 2, 3, 7, 5, 9)\n",
            "(2, 2, 3, 7, 9, 5)\n",
            "(2, 2, 3, 9, 5, 7)\n",
            "(2, 2, 3, 9, 7, 5)\n",
            "(2, 2, 5, 3, 7, 9)\n",
            "(2, 2, 5, 3, 9, 7)\n",
            "(2, 2, 5, 7, 3, 9)\n",
            "(2, 2, 5, 7, 9, 3)\n",
            "(2, 2, 5, 9, 3, 7)\n",
            "(2, 2, 5, 9, 7, 3)\n",
            "(2, 2, 7, 3, 5, 9)\n",
            "(2, 2, 7, 3, 9, 5)\n",
            "(2, 2, 7, 5, 3, 9)\n",
            "(2, 2, 7, 5, 9, 3)\n",
            "(2, 2, 7, 9, 3, 5)\n",
            "(2, 2, 7, 9, 5, 3)\n",
            "(2, 2, 9, 3, 5, 7)\n",
            "(2, 2, 9, 3, 7, 5)\n",
            "(2, 2, 9, 5, 3, 7)\n",
            "(2, 2, 9, 5, 7, 3)\n",
            "(2, 2, 9, 7, 3, 5)\n",
            "(2, 2, 9, 7, 5, 3)\n",
            "(2, 9, 3, 5, 7, 2)\n",
            "(2, 9, 3, 5, 2, 7)\n",
            "(2, 9, 3, 7, 5, 2)\n",
            "(2, 9, 3, 7, 2, 5)\n",
            "(2, 9, 3, 2, 5, 7)\n",
            "(2, 9, 3, 2, 7, 5)\n",
            "(2, 9, 5, 3, 7, 2)\n",
            "(2, 9, 5, 3, 2, 7)\n",
            "(2, 9, 5, 7, 3, 2)\n",
            "(2, 9, 5, 7, 2, 3)\n",
            "(2, 9, 5, 2, 3, 7)\n",
            "(2, 9, 5, 2, 7, 3)\n",
            "(2, 9, 7, 3, 5, 2)\n",
            "(2, 9, 7, 3, 2, 5)\n",
            "(2, 9, 7, 5, 3, 2)\n",
            "(2, 9, 7, 5, 2, 3)\n",
            "(2, 9, 7, 2, 3, 5)\n",
            "(2, 9, 7, 2, 5, 3)\n",
            "(2, 9, 2, 3, 5, 7)\n",
            "(2, 9, 2, 3, 7, 5)\n",
            "(2, 9, 2, 5, 3, 7)\n",
            "(2, 9, 2, 5, 7, 3)\n",
            "(2, 9, 2, 7, 3, 5)\n",
            "(2, 9, 2, 7, 5, 3)\n",
            "(7, 3, 5, 2, 2, 9)\n",
            "(7, 3, 5, 2, 9, 2)\n",
            "(7, 3, 5, 2, 2, 9)\n",
            "(7, 3, 5, 2, 9, 2)\n",
            "(7, 3, 5, 9, 2, 2)\n",
            "(7, 3, 5, 9, 2, 2)\n",
            "(7, 3, 2, 5, 2, 9)\n",
            "(7, 3, 2, 5, 9, 2)\n",
            "(7, 3, 2, 2, 5, 9)\n",
            "(7, 3, 2, 2, 9, 5)\n",
            "(7, 3, 2, 9, 5, 2)\n",
            "(7, 3, 2, 9, 2, 5)\n",
            "(7, 3, 2, 5, 2, 9)\n",
            "(7, 3, 2, 5, 9, 2)\n",
            "(7, 3, 2, 2, 5, 9)\n",
            "(7, 3, 2, 2, 9, 5)\n",
            "(7, 3, 2, 9, 5, 2)\n",
            "(7, 3, 2, 9, 2, 5)\n",
            "(7, 3, 9, 5, 2, 2)\n",
            "(7, 3, 9, 5, 2, 2)\n",
            "(7, 3, 9, 2, 5, 2)\n",
            "(7, 3, 9, 2, 2, 5)\n",
            "(7, 3, 9, 2, 5, 2)\n",
            "(7, 3, 9, 2, 2, 5)\n",
            "(7, 5, 3, 2, 2, 9)\n",
            "(7, 5, 3, 2, 9, 2)\n",
            "(7, 5, 3, 2, 2, 9)\n",
            "(7, 5, 3, 2, 9, 2)\n",
            "(7, 5, 3, 9, 2, 2)\n",
            "(7, 5, 3, 9, 2, 2)\n",
            "(7, 5, 2, 3, 2, 9)\n",
            "(7, 5, 2, 3, 9, 2)\n",
            "(7, 5, 2, 2, 3, 9)\n",
            "(7, 5, 2, 2, 9, 3)\n",
            "(7, 5, 2, 9, 3, 2)\n",
            "(7, 5, 2, 9, 2, 3)\n",
            "(7, 5, 2, 3, 2, 9)\n",
            "(7, 5, 2, 3, 9, 2)\n",
            "(7, 5, 2, 2, 3, 9)\n",
            "(7, 5, 2, 2, 9, 3)\n",
            "(7, 5, 2, 9, 3, 2)\n",
            "(7, 5, 2, 9, 2, 3)\n",
            "(7, 5, 9, 3, 2, 2)\n",
            "(7, 5, 9, 3, 2, 2)\n",
            "(7, 5, 9, 2, 3, 2)\n",
            "(7, 5, 9, 2, 2, 3)\n",
            "(7, 5, 9, 2, 3, 2)\n",
            "(7, 5, 9, 2, 2, 3)\n",
            "(7, 2, 3, 5, 2, 9)\n",
            "(7, 2, 3, 5, 9, 2)\n",
            "(7, 2, 3, 2, 5, 9)\n",
            "(7, 2, 3, 2, 9, 5)\n",
            "(7, 2, 3, 9, 5, 2)\n",
            "(7, 2, 3, 9, 2, 5)\n",
            "(7, 2, 5, 3, 2, 9)\n",
            "(7, 2, 5, 3, 9, 2)\n",
            "(7, 2, 5, 2, 3, 9)\n",
            "(7, 2, 5, 2, 9, 3)\n",
            "(7, 2, 5, 9, 3, 2)\n",
            "(7, 2, 5, 9, 2, 3)\n",
            "(7, 2, 2, 3, 5, 9)\n",
            "(7, 2, 2, 3, 9, 5)\n",
            "(7, 2, 2, 5, 3, 9)\n",
            "(7, 2, 2, 5, 9, 3)\n",
            "(7, 2, 2, 9, 3, 5)\n",
            "(7, 2, 2, 9, 5, 3)\n",
            "(7, 2, 9, 3, 5, 2)\n",
            "(7, 2, 9, 3, 2, 5)\n",
            "(7, 2, 9, 5, 3, 2)\n",
            "(7, 2, 9, 5, 2, 3)\n",
            "(7, 2, 9, 2, 3, 5)\n",
            "(7, 2, 9, 2, 5, 3)\n",
            "(7, 2, 3, 5, 2, 9)\n",
            "(7, 2, 3, 5, 9, 2)\n",
            "(7, 2, 3, 2, 5, 9)\n",
            "(7, 2, 3, 2, 9, 5)\n",
            "(7, 2, 3, 9, 5, 2)\n",
            "(7, 2, 3, 9, 2, 5)\n",
            "(7, 2, 5, 3, 2, 9)\n",
            "(7, 2, 5, 3, 9, 2)\n",
            "(7, 2, 5, 2, 3, 9)\n",
            "(7, 2, 5, 2, 9, 3)\n",
            "(7, 2, 5, 9, 3, 2)\n",
            "(7, 2, 5, 9, 2, 3)\n",
            "(7, 2, 2, 3, 5, 9)\n",
            "(7, 2, 2, 3, 9, 5)\n",
            "(7, 2, 2, 5, 3, 9)\n",
            "(7, 2, 2, 5, 9, 3)\n",
            "(7, 2, 2, 9, 3, 5)\n",
            "(7, 2, 2, 9, 5, 3)\n",
            "(7, 2, 9, 3, 5, 2)\n",
            "(7, 2, 9, 3, 2, 5)\n",
            "(7, 2, 9, 5, 3, 2)\n",
            "(7, 2, 9, 5, 2, 3)\n",
            "(7, 2, 9, 2, 3, 5)\n",
            "(7, 2, 9, 2, 5, 3)\n",
            "(7, 9, 3, 5, 2, 2)\n",
            "(7, 9, 3, 5, 2, 2)\n",
            "(7, 9, 3, 2, 5, 2)\n",
            "(7, 9, 3, 2, 2, 5)\n",
            "(7, 9, 3, 2, 5, 2)\n",
            "(7, 9, 3, 2, 2, 5)\n",
            "(7, 9, 5, 3, 2, 2)\n",
            "(7, 9, 5, 3, 2, 2)\n",
            "(7, 9, 5, 2, 3, 2)\n",
            "(7, 9, 5, 2, 2, 3)\n",
            "(7, 9, 5, 2, 3, 2)\n",
            "(7, 9, 5, 2, 2, 3)\n",
            "(7, 9, 2, 3, 5, 2)\n",
            "(7, 9, 2, 3, 2, 5)\n",
            "(7, 9, 2, 5, 3, 2)\n",
            "(7, 9, 2, 5, 2, 3)\n",
            "(7, 9, 2, 2, 3, 5)\n",
            "(7, 9, 2, 2, 5, 3)\n",
            "(7, 9, 2, 3, 5, 2)\n",
            "(7, 9, 2, 3, 2, 5)\n",
            "(7, 9, 2, 5, 3, 2)\n",
            "(7, 9, 2, 5, 2, 3)\n",
            "(7, 9, 2, 2, 3, 5)\n",
            "(7, 9, 2, 2, 5, 3)\n",
            "(2, 3, 5, 2, 7, 9)\n",
            "(2, 3, 5, 2, 9, 7)\n",
            "(2, 3, 5, 7, 2, 9)\n",
            "(2, 3, 5, 7, 9, 2)\n",
            "(2, 3, 5, 9, 2, 7)\n",
            "(2, 3, 5, 9, 7, 2)\n",
            "(2, 3, 2, 5, 7, 9)\n",
            "(2, 3, 2, 5, 9, 7)\n",
            "(2, 3, 2, 7, 5, 9)\n",
            "(2, 3, 2, 7, 9, 5)\n",
            "(2, 3, 2, 9, 5, 7)\n",
            "(2, 3, 2, 9, 7, 5)\n",
            "(2, 3, 7, 5, 2, 9)\n",
            "(2, 3, 7, 5, 9, 2)\n",
            "(2, 3, 7, 2, 5, 9)\n",
            "(2, 3, 7, 2, 9, 5)\n",
            "(2, 3, 7, 9, 5, 2)\n",
            "(2, 3, 7, 9, 2, 5)\n",
            "(2, 3, 9, 5, 2, 7)\n",
            "(2, 3, 9, 5, 7, 2)\n",
            "(2, 3, 9, 2, 5, 7)\n",
            "(2, 3, 9, 2, 7, 5)\n",
            "(2, 3, 9, 7, 5, 2)\n",
            "(2, 3, 9, 7, 2, 5)\n",
            "(2, 5, 3, 2, 7, 9)\n",
            "(2, 5, 3, 2, 9, 7)\n",
            "(2, 5, 3, 7, 2, 9)\n",
            "(2, 5, 3, 7, 9, 2)\n",
            "(2, 5, 3, 9, 2, 7)\n",
            "(2, 5, 3, 9, 7, 2)\n",
            "(2, 5, 2, 3, 7, 9)\n",
            "(2, 5, 2, 3, 9, 7)\n",
            "(2, 5, 2, 7, 3, 9)\n",
            "(2, 5, 2, 7, 9, 3)\n",
            "(2, 5, 2, 9, 3, 7)\n",
            "(2, 5, 2, 9, 7, 3)\n",
            "(2, 5, 7, 3, 2, 9)\n",
            "(2, 5, 7, 3, 9, 2)\n",
            "(2, 5, 7, 2, 3, 9)\n",
            "(2, 5, 7, 2, 9, 3)\n",
            "(2, 5, 7, 9, 3, 2)\n",
            "(2, 5, 7, 9, 2, 3)\n",
            "(2, 5, 9, 3, 2, 7)\n",
            "(2, 5, 9, 3, 7, 2)\n",
            "(2, 5, 9, 2, 3, 7)\n",
            "(2, 5, 9, 2, 7, 3)\n",
            "(2, 5, 9, 7, 3, 2)\n",
            "(2, 5, 9, 7, 2, 3)\n",
            "(2, 2, 3, 5, 7, 9)\n",
            "(2, 2, 3, 5, 9, 7)\n",
            "(2, 2, 3, 7, 5, 9)\n",
            "(2, 2, 3, 7, 9, 5)\n",
            "(2, 2, 3, 9, 5, 7)\n",
            "(2, 2, 3, 9, 7, 5)\n",
            "(2, 2, 5, 3, 7, 9)\n",
            "(2, 2, 5, 3, 9, 7)\n",
            "(2, 2, 5, 7, 3, 9)\n",
            "(2, 2, 5, 7, 9, 3)\n",
            "(2, 2, 5, 9, 3, 7)\n",
            "(2, 2, 5, 9, 7, 3)\n",
            "(2, 2, 7, 3, 5, 9)\n",
            "(2, 2, 7, 3, 9, 5)\n",
            "(2, 2, 7, 5, 3, 9)\n",
            "(2, 2, 7, 5, 9, 3)\n",
            "(2, 2, 7, 9, 3, 5)\n",
            "(2, 2, 7, 9, 5, 3)\n",
            "(2, 2, 9, 3, 5, 7)\n",
            "(2, 2, 9, 3, 7, 5)\n",
            "(2, 2, 9, 5, 3, 7)\n",
            "(2, 2, 9, 5, 7, 3)\n",
            "(2, 2, 9, 7, 3, 5)\n",
            "(2, 2, 9, 7, 5, 3)\n",
            "(2, 7, 3, 5, 2, 9)\n",
            "(2, 7, 3, 5, 9, 2)\n",
            "(2, 7, 3, 2, 5, 9)\n",
            "(2, 7, 3, 2, 9, 5)\n",
            "(2, 7, 3, 9, 5, 2)\n",
            "(2, 7, 3, 9, 2, 5)\n",
            "(2, 7, 5, 3, 2, 9)\n",
            "(2, 7, 5, 3, 9, 2)\n",
            "(2, 7, 5, 2, 3, 9)\n",
            "(2, 7, 5, 2, 9, 3)\n",
            "(2, 7, 5, 9, 3, 2)\n",
            "(2, 7, 5, 9, 2, 3)\n",
            "(2, 7, 2, 3, 5, 9)\n",
            "(2, 7, 2, 3, 9, 5)\n",
            "(2, 7, 2, 5, 3, 9)\n",
            "(2, 7, 2, 5, 9, 3)\n",
            "(2, 7, 2, 9, 3, 5)\n",
            "(2, 7, 2, 9, 5, 3)\n",
            "(2, 7, 9, 3, 5, 2)\n",
            "(2, 7, 9, 3, 2, 5)\n",
            "(2, 7, 9, 5, 3, 2)\n",
            "(2, 7, 9, 5, 2, 3)\n",
            "(2, 7, 9, 2, 3, 5)\n",
            "(2, 7, 9, 2, 5, 3)\n",
            "(2, 9, 3, 5, 2, 7)\n",
            "(2, 9, 3, 5, 7, 2)\n",
            "(2, 9, 3, 2, 5, 7)\n",
            "(2, 9, 3, 2, 7, 5)\n",
            "(2, 9, 3, 7, 5, 2)\n",
            "(2, 9, 3, 7, 2, 5)\n",
            "(2, 9, 5, 3, 2, 7)\n",
            "(2, 9, 5, 3, 7, 2)\n",
            "(2, 9, 5, 2, 3, 7)\n",
            "(2, 9, 5, 2, 7, 3)\n",
            "(2, 9, 5, 7, 3, 2)\n",
            "(2, 9, 5, 7, 2, 3)\n",
            "(2, 9, 2, 3, 5, 7)\n",
            "(2, 9, 2, 3, 7, 5)\n",
            "(2, 9, 2, 5, 3, 7)\n",
            "(2, 9, 2, 5, 7, 3)\n",
            "(2, 9, 2, 7, 3, 5)\n",
            "(2, 9, 2, 7, 5, 3)\n",
            "(2, 9, 7, 3, 5, 2)\n",
            "(2, 9, 7, 3, 2, 5)\n",
            "(2, 9, 7, 5, 3, 2)\n",
            "(2, 9, 7, 5, 2, 3)\n",
            "(2, 9, 7, 2, 3, 5)\n",
            "(2, 9, 7, 2, 5, 3)\n",
            "(9, 3, 5, 2, 7, 2)\n",
            "(9, 3, 5, 2, 2, 7)\n",
            "(9, 3, 5, 7, 2, 2)\n",
            "(9, 3, 5, 7, 2, 2)\n",
            "(9, 3, 5, 2, 2, 7)\n",
            "(9, 3, 5, 2, 7, 2)\n",
            "(9, 3, 2, 5, 7, 2)\n",
            "(9, 3, 2, 5, 2, 7)\n",
            "(9, 3, 2, 7, 5, 2)\n",
            "(9, 3, 2, 7, 2, 5)\n",
            "(9, 3, 2, 2, 5, 7)\n",
            "(9, 3, 2, 2, 7, 5)\n",
            "(9, 3, 7, 5, 2, 2)\n",
            "(9, 3, 7, 5, 2, 2)\n",
            "(9, 3, 7, 2, 5, 2)\n",
            "(9, 3, 7, 2, 2, 5)\n",
            "(9, 3, 7, 2, 5, 2)\n",
            "(9, 3, 7, 2, 2, 5)\n",
            "(9, 3, 2, 5, 2, 7)\n",
            "(9, 3, 2, 5, 7, 2)\n",
            "(9, 3, 2, 2, 5, 7)\n",
            "(9, 3, 2, 2, 7, 5)\n",
            "(9, 3, 2, 7, 5, 2)\n",
            "(9, 3, 2, 7, 2, 5)\n",
            "(9, 5, 3, 2, 7, 2)\n",
            "(9, 5, 3, 2, 2, 7)\n",
            "(9, 5, 3, 7, 2, 2)\n",
            "(9, 5, 3, 7, 2, 2)\n",
            "(9, 5, 3, 2, 2, 7)\n",
            "(9, 5, 3, 2, 7, 2)\n",
            "(9, 5, 2, 3, 7, 2)\n",
            "(9, 5, 2, 3, 2, 7)\n",
            "(9, 5, 2, 7, 3, 2)\n",
            "(9, 5, 2, 7, 2, 3)\n",
            "(9, 5, 2, 2, 3, 7)\n",
            "(9, 5, 2, 2, 7, 3)\n",
            "(9, 5, 7, 3, 2, 2)\n",
            "(9, 5, 7, 3, 2, 2)\n",
            "(9, 5, 7, 2, 3, 2)\n",
            "(9, 5, 7, 2, 2, 3)\n",
            "(9, 5, 7, 2, 3, 2)\n",
            "(9, 5, 7, 2, 2, 3)\n",
            "(9, 5, 2, 3, 2, 7)\n",
            "(9, 5, 2, 3, 7, 2)\n",
            "(9, 5, 2, 2, 3, 7)\n",
            "(9, 5, 2, 2, 7, 3)\n",
            "(9, 5, 2, 7, 3, 2)\n",
            "(9, 5, 2, 7, 2, 3)\n",
            "(9, 2, 3, 5, 7, 2)\n",
            "(9, 2, 3, 5, 2, 7)\n",
            "(9, 2, 3, 7, 5, 2)\n",
            "(9, 2, 3, 7, 2, 5)\n",
            "(9, 2, 3, 2, 5, 7)\n",
            "(9, 2, 3, 2, 7, 5)\n",
            "(9, 2, 5, 3, 7, 2)\n",
            "(9, 2, 5, 3, 2, 7)\n",
            "(9, 2, 5, 7, 3, 2)\n",
            "(9, 2, 5, 7, 2, 3)\n",
            "(9, 2, 5, 2, 3, 7)\n",
            "(9, 2, 5, 2, 7, 3)\n",
            "(9, 2, 7, 3, 5, 2)\n",
            "(9, 2, 7, 3, 2, 5)\n",
            "(9, 2, 7, 5, 3, 2)\n",
            "(9, 2, 7, 5, 2, 3)\n",
            "(9, 2, 7, 2, 3, 5)\n",
            "(9, 2, 7, 2, 5, 3)\n",
            "(9, 2, 2, 3, 5, 7)\n",
            "(9, 2, 2, 3, 7, 5)\n",
            "(9, 2, 2, 5, 3, 7)\n",
            "(9, 2, 2, 5, 7, 3)\n",
            "(9, 2, 2, 7, 3, 5)\n",
            "(9, 2, 2, 7, 5, 3)\n",
            "(9, 7, 3, 5, 2, 2)\n",
            "(9, 7, 3, 5, 2, 2)\n",
            "(9, 7, 3, 2, 5, 2)\n",
            "(9, 7, 3, 2, 2, 5)\n",
            "(9, 7, 3, 2, 5, 2)\n",
            "(9, 7, 3, 2, 2, 5)\n",
            "(9, 7, 5, 3, 2, 2)\n",
            "(9, 7, 5, 3, 2, 2)\n",
            "(9, 7, 5, 2, 3, 2)\n",
            "(9, 7, 5, 2, 2, 3)\n",
            "(9, 7, 5, 2, 3, 2)\n",
            "(9, 7, 5, 2, 2, 3)\n",
            "(9, 7, 2, 3, 5, 2)\n",
            "(9, 7, 2, 3, 2, 5)\n",
            "(9, 7, 2, 5, 3, 2)\n",
            "(9, 7, 2, 5, 2, 3)\n",
            "(9, 7, 2, 2, 3, 5)\n",
            "(9, 7, 2, 2, 5, 3)\n",
            "(9, 7, 2, 3, 5, 2)\n",
            "(9, 7, 2, 3, 2, 5)\n",
            "(9, 7, 2, 5, 3, 2)\n",
            "(9, 7, 2, 5, 2, 3)\n",
            "(9, 7, 2, 2, 3, 5)\n",
            "(9, 7, 2, 2, 5, 3)\n",
            "(9, 2, 3, 5, 2, 7)\n",
            "(9, 2, 3, 5, 7, 2)\n",
            "(9, 2, 3, 2, 5, 7)\n",
            "(9, 2, 3, 2, 7, 5)\n",
            "(9, 2, 3, 7, 5, 2)\n",
            "(9, 2, 3, 7, 2, 5)\n",
            "(9, 2, 5, 3, 2, 7)\n",
            "(9, 2, 5, 3, 7, 2)\n",
            "(9, 2, 5, 2, 3, 7)\n",
            "(9, 2, 5, 2, 7, 3)\n",
            "(9, 2, 5, 7, 3, 2)\n",
            "(9, 2, 5, 7, 2, 3)\n",
            "(9, 2, 2, 3, 5, 7)\n",
            "(9, 2, 2, 3, 7, 5)\n",
            "(9, 2, 2, 5, 3, 7)\n",
            "(9, 2, 2, 5, 7, 3)\n",
            "(9, 2, 2, 7, 3, 5)\n",
            "(9, 2, 2, 7, 5, 3)\n",
            "(9, 2, 7, 3, 5, 2)\n",
            "(9, 2, 7, 3, 2, 5)\n",
            "(9, 2, 7, 5, 3, 2)\n",
            "(9, 2, 7, 5, 2, 3)\n",
            "(9, 2, 7, 2, 3, 5)\n",
            "(9, 2, 7, 2, 5, 3)\n"
          ]
        }
      ]
    },
    {
      "cell_type": "markdown",
      "source": [
        "19. Write a Python program to calculate the difference between the two lists."
      ],
      "metadata": {
        "id": "MrSL4F5EyX97"
      }
    },
    {
      "cell_type": "code",
      "source": [
        "list9 = [4,5,6,7,9,12,14]\n",
        "list10 = [7,9,10,4,6,12,15]\n",
        "\n",
        "diff_list9_list10 = list(set(list9) - set(list10))\n",
        "diff_list10_list9 = list(set(list10) - set(list9))\n",
        "\n",
        "diff_list = diff_list9_list10 + diff_list10_list9\n",
        "\n",
        "print(\"Difference in list is: \", diff_list)"
      ],
      "metadata": {
        "colab": {
          "base_uri": "https://localhost:8080/"
        },
        "id": "ayu_6ZjFyZc5",
        "outputId": "3c4f44bd-c595-47be-fae2-d964b17257c7"
      },
      "execution_count": null,
      "outputs": [
        {
          "output_type": "stream",
          "name": "stdout",
          "text": [
            "Difference in list is:  [5, 14, 10, 15]\n"
          ]
        }
      ]
    },
    {
      "cell_type": "markdown",
      "source": [
        "20. Write a Python program to access the index of a list."
      ],
      "metadata": {
        "id": "FS8GG_Ybz8PL"
      }
    },
    {
      "cell_type": "code",
      "source": [
        "list11 = ['apple', 'banana', 'guava', 'grapes', 'pineapple']\n",
        "\n",
        "for index, element in enumerate(list11):\n",
        "  print(f\"Index: {index}, Element: {element}\")"
      ],
      "metadata": {
        "colab": {
          "base_uri": "https://localhost:8080/"
        },
        "id": "h2cS5vDmz7n7",
        "outputId": "39fb0948-2469-4e64-b62f-4ae2454dc052"
      },
      "execution_count": null,
      "outputs": [
        {
          "output_type": "stream",
          "name": "stdout",
          "text": [
            "Index: 0, Element: apple\n",
            "Index: 1, Element: banana\n",
            "Index: 2, Element: guava\n",
            "Index: 3, Element: grapes\n",
            "Index: 4, Element: pineapple\n"
          ]
        }
      ]
    },
    {
      "cell_type": "markdown",
      "source": [
        "21. Write a Python program to convert a list of characters into a string."
      ],
      "metadata": {
        "id": "25tJU9cZvRPQ"
      }
    },
    {
      "cell_type": "code",
      "source": [
        "char_list = ['k','r','i','s','h','u']\n",
        "s1 =''\n",
        "for c in char_list:\n",
        "  s1 += c\n",
        "\n",
        "print(\"The string is :\", s1)"
      ],
      "metadata": {
        "colab": {
          "base_uri": "https://localhost:8080/"
        },
        "id": "A5IDoAsGvT6z",
        "outputId": "dbf75686-bf60-4828-df33-313dcc9f539e"
      },
      "execution_count": null,
      "outputs": [
        {
          "output_type": "stream",
          "name": "stdout",
          "text": [
            "The string is : krishu\n"
          ]
        }
      ]
    },
    {
      "cell_type": "markdown",
      "source": [
        "22. Write a Python program to find the index of an item in a specified list."
      ],
      "metadata": {
        "id": "9Y0dZ0-QwA16"
      }
    },
    {
      "cell_type": "code",
      "source": [
        "list13 = [2,5,1,8,3]\n",
        "def find_ind(item, list1 = []):\n",
        "  for l in list1:\n",
        "    if l == item:\n",
        "      return list1.index(l)\n",
        "\n",
        "print(\"Index of element 5 is: \", find_ind(8, list13))\n",
        "\n"
      ],
      "metadata": {
        "colab": {
          "base_uri": "https://localhost:8080/"
        },
        "id": "tjbROMg6wCKW",
        "outputId": "946d43b0-bb9f-4913-f8b4-49682c5b98aa"
      },
      "execution_count": null,
      "outputs": [
        {
          "output_type": "stream",
          "name": "stdout",
          "text": [
            "Index of element 5 is:  3\n"
          ]
        }
      ]
    },
    {
      "cell_type": "markdown",
      "source": [
        "23. Write a Python program to flatten a shallow list."
      ],
      "metadata": {
        "id": "cGnJmRwYxYLG"
      }
    },
    {
      "cell_type": "code",
      "source": [
        "import itertools\n",
        "\n",
        "original_list = [[1,2,3],[4,5],[7,8,9]]\n",
        "new_list = list(itertools.chain(*original_list))\n",
        "print(new_list)"
      ],
      "metadata": {
        "colab": {
          "base_uri": "https://localhost:8080/"
        },
        "id": "2m4oFdFKxZ-3",
        "outputId": "9a653700-633e-47c7-f25e-bea9606b085b"
      },
      "execution_count": null,
      "outputs": [
        {
          "output_type": "stream",
          "name": "stdout",
          "text": [
            "[1, 2, 3, 4, 5, 7, 8, 9]\n"
          ]
        }
      ]
    },
    {
      "cell_type": "markdown",
      "source": [
        "24. Write a Python program to append a list to the second list."
      ],
      "metadata": {
        "id": "5HWgxNvuyFh7"
      }
    },
    {
      "cell_type": "code",
      "source": [
        "def append_list(list1 = [], list2 = []):\n",
        "  return list1 + list2\n",
        "\n",
        "l1 = [1,2,3,4]\n",
        "l2 = [6,7,8,9]\n",
        "\n",
        "print(\"Appended list: \", append_list(l1,l2))"
      ],
      "metadata": {
        "colab": {
          "base_uri": "https://localhost:8080/"
        },
        "id": "MlT_bqrNyHBl",
        "outputId": "766f14ac-bae5-44bc-b3b5-7b5be0cf5c21"
      },
      "execution_count": null,
      "outputs": [
        {
          "output_type": "stream",
          "name": "stdout",
          "text": [
            "Appended list:  [1, 2, 3, 4, 6, 7, 8, 9]\n"
          ]
        }
      ]
    },
    {
      "cell_type": "markdown",
      "source": [
        "25. Write a Python program to select an item randomly from a list."
      ],
      "metadata": {
        "id": "-MKKPzC0ywGg"
      }
    },
    {
      "cell_type": "code",
      "source": [
        "import random\n",
        "\n",
        "def random_pick(list1 = []):\n",
        "  i = random.randint(0, len(list1))\n",
        "  return list1[i]\n",
        "\n",
        "l3 = [3,5,6,2,7,5]\n",
        "print(\"Randomly picked item: \", random_pick(l3))"
      ],
      "metadata": {
        "colab": {
          "base_uri": "https://localhost:8080/"
        },
        "id": "B-qvpCiUyx2l",
        "outputId": "b13bb9bc-d974-46a3-dea4-4259a85a739b"
      },
      "execution_count": null,
      "outputs": [
        {
          "output_type": "stream",
          "name": "stdout",
          "text": [
            "Randomly picked item:  2\n"
          ]
        }
      ]
    },
    {
      "cell_type": "markdown",
      "source": [
        "26. Write a Python program to check whether two lists are circularly identical."
      ],
      "metadata": {
        "id": "vTYldXRR0INg"
      }
    },
    {
      "cell_type": "code",
      "source": [
        "def are_circularly_identical(list1, list2):\n",
        "    if len(list1) != len(list2):\n",
        "        return False\n",
        "\n",
        "    concatenated_list1 = list1 + list1\n",
        "    return any(list2 == concatenated_list1[i:i+len(list2)] for i in range(len(list1)))\n",
        "\n",
        "list1 = [1, 2, 3, 4]\n",
        "list2 = [3, 4, 1, 2]\n",
        "list3 = [4, 3, 2, 1]\n",
        "\n",
        "print(are_circularly_identical(list1, list2))  # Output: True\n",
        "print(are_circularly_identical(list1, list3))  # Output: False\n"
      ],
      "metadata": {
        "colab": {
          "base_uri": "https://localhost:8080/"
        },
        "id": "VDr9m2bY0pPW",
        "outputId": "9cdcc304-35c6-4352-a41c-7163589fb919"
      },
      "execution_count": null,
      "outputs": [
        {
          "output_type": "stream",
          "name": "stdout",
          "text": [
            "True\n",
            "False\n"
          ]
        }
      ]
    },
    {
      "cell_type": "markdown",
      "source": [
        "27. Write a Python program to find the second smallest number in a list."
      ],
      "metadata": {
        "id": "KFAsI96M7_md"
      }
    },
    {
      "cell_type": "code",
      "source": [
        "list14 = [3,5,9,7,8,1]\n",
        "\n",
        "def second_smallest(list1 = []):\n",
        "  list1.sort()\n",
        "  return list1[1]\n",
        "\n",
        "print(\"Second Smallest element: \", second_smallest(list14))"
      ],
      "metadata": {
        "colab": {
          "base_uri": "https://localhost:8080/"
        },
        "id": "veoZDO-H8BUB",
        "outputId": "1c5dfdc0-9562-436f-97b9-b8121580fc01"
      },
      "execution_count": null,
      "outputs": [
        {
          "output_type": "stream",
          "name": "stdout",
          "text": [
            "Second Smallest element:  3\n"
          ]
        }
      ]
    },
    {
      "cell_type": "markdown",
      "source": [
        "28. Write a Python program to find the second largest number in a list."
      ],
      "metadata": {
        "id": "hjUQSI-W8lCO"
      }
    },
    {
      "cell_type": "code",
      "source": [
        "def second_largest(list1 = []):\n",
        "  list1.sort()\n",
        "  return list1[-2]\n",
        "\n",
        "print(\"Second Largest element: \", second_largest(list14))"
      ],
      "metadata": {
        "colab": {
          "base_uri": "https://localhost:8080/"
        },
        "id": "E0sBHwnE8n4Y",
        "outputId": "aca8e121-4aab-47b8-99e2-c417586fc45e"
      },
      "execution_count": null,
      "outputs": [
        {
          "output_type": "stream",
          "name": "stdout",
          "text": [
            "Second Largest element:  8\n"
          ]
        }
      ]
    },
    {
      "cell_type": "markdown",
      "source": [
        "29. Write a Python program to get unique values from a list."
      ],
      "metadata": {
        "id": "8S7bngTe88th"
      }
    },
    {
      "cell_type": "code",
      "source": [
        "list15 = [1,2,2,4,6,2,4,1,6,3]\n",
        "\n",
        "def unique_value_list(list1 = []):\n",
        "  uniquelist = []\n",
        "  for i in list1:\n",
        "    if i not in uniquelist:\n",
        "      uniquelist.append(i)\n",
        "  return uniquelist\n",
        "\n",
        "print(\"Unique Values: \", unique_value_list(list15))"
      ],
      "metadata": {
        "colab": {
          "base_uri": "https://localhost:8080/"
        },
        "id": "zAzjr_Al87gX",
        "outputId": "45e96fdb-7d42-4a3e-a099-0babb6e37181"
      },
      "execution_count": null,
      "outputs": [
        {
          "output_type": "stream",
          "name": "stdout",
          "text": [
            "Unique Values:  [1, 2, 4, 6, 3]\n"
          ]
        }
      ]
    },
    {
      "cell_type": "markdown",
      "source": [
        "30. Write a Python program to get the frequency of elements in a list."
      ],
      "metadata": {
        "id": "XhYZZp_S9pbj"
      }
    },
    {
      "cell_type": "code",
      "source": [
        "import collections\n",
        "\n",
        "ctr = collections.Counter(list15)\n",
        "print(\"Frequency of elements: \", ctr)"
      ],
      "metadata": {
        "colab": {
          "base_uri": "https://localhost:8080/"
        },
        "id": "N4IEFJh09q2b",
        "outputId": "6a75aea5-68cd-4aba-9940-552b9cca000b"
      },
      "execution_count": null,
      "outputs": [
        {
          "output_type": "stream",
          "name": "stdout",
          "text": [
            "Frequency of elements:  Counter({2: 3, 1: 2, 4: 2, 6: 2, 3: 1})\n"
          ]
        }
      ]
    },
    {
      "cell_type": "markdown",
      "source": [
        "31. Write a Python program to count the number of elements in a list within a specified range."
      ],
      "metadata": {
        "id": "_48RAFyb8ZUa"
      }
    },
    {
      "cell_type": "code",
      "source": [
        "list16 = [10, 20, 30, 40, 40, 40, 70, 80, 99]\n",
        "\n",
        "def count_list(minvalue, maxvalue, list1):\n",
        "  ctr = 0\n",
        "  for i in list1:\n",
        "    if minvalue<=i<=maxvalue:\n",
        "      ctr += 1\n",
        "  return ctr\n",
        "\n",
        "print(\"Element count between 2 and 12 is: \", count_list(20, 80, list16))"
      ],
      "metadata": {
        "colab": {
          "base_uri": "https://localhost:8080/"
        },
        "id": "bt9Xg1Xr8aju",
        "outputId": "cea7f72a-65c3-48ca-ef6c-d523d7ee560b"
      },
      "execution_count": null,
      "outputs": [
        {
          "output_type": "stream",
          "name": "stdout",
          "text": [
            "Element count between 2 and 12 is:  7\n"
          ]
        }
      ]
    },
    {
      "cell_type": "markdown",
      "source": [
        "32. Write a Python program to check whether a list contains a sublist.\n",
        "\n",
        "What is Slicing?\n",
        "In Python, slicing is a way to access a part of a list. For example, main_list[1:4] gives you a section of main_list starting at index 1 and ending just before index 4.\n",
        "How Does the Code Work?\n",
        "Goal: We want to check if a smaller list (the sublist) is fully contained somewhere inside the bigger list (the main list).\n",
        "\n",
        "The Loop:\n",
        "\n",
        "We go through the main list and check every possible section of it that’s the same length as the sublist.\n",
        "At each position, we take a \"slice\" of the main list that’s the same size as the sublist and compare it to the sublist.\n",
        "Slicing:\n",
        "\n",
        "For example, let’s say main_list = [1, 2, 3, 4, 5] and sublist = [3, 4].\n",
        "The sublist has 2 elements. So we take slices of length 2 from the main list and compare:\n",
        "First, we check if [1, 2] (first two elements of the main list) matches [3, 4] (sublist). It doesn’t.\n",
        "Then we check if [2, 3] matches [3, 4]. It doesn’t.\n",
        "Then we check if [3, 4] matches [3, 4]. It does! So we return True.\n",
        "How the Slice Works:\n",
        "\n",
        "main_list[i:i+len(sublist)] means: \"Take a slice of main_list starting from index i, and grab len(sublist) elements from there.\"\n",
        "If that slice matches the sublist, we know the sublist is in the main list."
      ],
      "metadata": {
        "id": "yUkc-hCV-Vat"
      }
    },
    {
      "cell_type": "code",
      "source": [
        "list17 = [10,20,30, 44]\n",
        "\n",
        "def sublist_check(list1, list2):\n",
        "  for i in range(len(list1) - len(list2)):\n",
        "    if list1[i:i+len(list2)] == list2:\n",
        "      return True\n",
        "    return False\n",
        "\n",
        "print(\"Sublist Check: \", sublist_check(list16, list17))"
      ],
      "metadata": {
        "colab": {
          "base_uri": "https://localhost:8080/"
        },
        "id": "KPY3TIyQ-Wti",
        "outputId": "83789eb6-02eb-4513-f25e-08c745dc1de9"
      },
      "execution_count": null,
      "outputs": [
        {
          "output_type": "stream",
          "name": "stdout",
          "text": [
            "Sublist Check:  False\n"
          ]
        }
      ]
    },
    {
      "cell_type": "markdown",
      "source": [
        "33. Write a Python program to generate all sublists of a list.\n"
      ],
      "metadata": {
        "id": "ycTRnWFQ_lLh"
      }
    },
    {
      "cell_type": "code",
      "source": [
        "from itertools import combinations\n",
        "\n",
        "def generate_sublist(list_input):\n",
        "  sublists = []\n",
        "  for length in  range(len(list_input) + 1):\n",
        "    for sublist in combinations(list_input, length):\n",
        "      sublists.append(list(sublist))\n",
        "  return sublists\n",
        "\n",
        "input_list = [1,2,3]\n",
        "sublists = generate_sublist(input_list)\n",
        "print(\"All sublists are: \")\n",
        "for s in sublists:\n",
        "  print(s)\n",
        "\n"
      ],
      "metadata": {
        "colab": {
          "base_uri": "https://localhost:8080/"
        },
        "id": "ugyjXZgK_meH",
        "outputId": "6d7fb1c5-e33c-443a-a5e4-9e8b611fcc92"
      },
      "execution_count": null,
      "outputs": [
        {
          "output_type": "stream",
          "name": "stdout",
          "text": [
            "All sublists are: \n",
            "[]\n",
            "[1]\n",
            "[2]\n",
            "[3]\n",
            "[1, 2]\n",
            "[1, 3]\n",
            "[2, 3]\n",
            "[1, 2, 3]\n"
          ]
        }
      ]
    },
    {
      "cell_type": "markdown",
      "source": [
        "34. Write a Python program that uses the Sieve of Eratosthenes method to compute prime numbers up to a specified number."
      ],
      "metadata": {
        "id": "tdXcvsNjBBva"
      }
    },
    {
      "cell_type": "code",
      "source": [
        "def sieve_e(n):\n",
        "  prime = [True] * (n+1)\n",
        "  p = 2\n",
        "  while p * p <= n:\n",
        "    if prime[p]:\n",
        "      for i in range(p * p, n +1, p):\n",
        "        prime[i] = False\n",
        "    p += 1\n",
        "\n",
        "  primes = [p for p in range(2, n+1) if prime[p]]\n",
        "  return primes\n",
        "\n",
        "n = 30\n",
        "print(\"Primes: \", sieve_e(n))\n"
      ],
      "metadata": {
        "colab": {
          "base_uri": "https://localhost:8080/"
        },
        "id": "MYFXAfy8BGYh",
        "outputId": "05a6952a-4601-419b-845b-3a0e8aed14d6"
      },
      "execution_count": null,
      "outputs": [
        {
          "output_type": "stream",
          "name": "stdout",
          "text": [
            "Primes:  [2, 3, 5, 7, 11, 13, 17, 19, 23, 29]\n"
          ]
        }
      ]
    },
    {
      "cell_type": "markdown",
      "source": [
        "35. Write a Python program to create a list by concatenating a given list with a range from 1 to n.\n",
        "Sample list : ['p', 'q']\n",
        "n =5\n",
        "Sample Output : ['p1', 'q1', 'p2', 'q2', 'p3', 'q3', 'p4', 'q4', 'p5', 'q5']"
      ],
      "metadata": {
        "id": "i0Htm6XfCWIZ"
      }
    },
    {
      "cell_type": "code",
      "source": [
        "list18 = ['p', 'q']\n",
        "\n",
        "def list_con(list1, n):\n",
        "  list2 = []\n",
        "  for i in range(1, n+1):\n",
        "    for j in list1:\n",
        "      list2.append(j + str(i))\n",
        "  return list2\n",
        "\n",
        "print(\"List Concatenation: \",list_con(list18, 5))"
      ],
      "metadata": {
        "colab": {
          "base_uri": "https://localhost:8080/"
        },
        "id": "XvGpvYwICXWP",
        "outputId": "0a82ed64-9485-4099-af81-21f501fbd54a"
      },
      "execution_count": null,
      "outputs": [
        {
          "output_type": "stream",
          "name": "stdout",
          "text": [
            "List Concatenation:  ['p1', 'q1', 'p2', 'q2', 'p3', 'q3', 'p4', 'q4', 'p5', 'q5']\n"
          ]
        }
      ]
    },
    {
      "cell_type": "markdown",
      "source": [
        "36. Write a Python program to get a variable with an identification number or string."
      ],
      "metadata": {
        "id": "WoU_h5KzDtWn"
      }
    },
    {
      "cell_type": "code",
      "source": [
        "x = 100\n",
        "print(format(id(x), 'x'))"
      ],
      "metadata": {
        "colab": {
          "base_uri": "https://localhost:8080/"
        },
        "id": "1bKA8FoXD1d8",
        "outputId": "2b86e493-b2d2-420c-e851-cbbe3982b7c7"
      },
      "execution_count": null,
      "outputs": [
        {
          "output_type": "stream",
          "name": "stdout",
          "text": [
            "7f89fd730d50\n"
          ]
        }
      ]
    },
    {
      "cell_type": "markdown",
      "source": [
        "37. Write a Python program to find common items in two lists."
      ],
      "metadata": {
        "id": "n9GBpC5zEFfo"
      }
    },
    {
      "cell_type": "code",
      "source": [
        "def common_item(l1, l2):\n",
        "  common = []\n",
        "  for i in l1:\n",
        "    for j in l2:\n",
        "      if i == j:\n",
        "        common.append(i)\n",
        "  return common\n",
        "\n",
        "print(\"Common items: \", common_item(list16,list17))"
      ],
      "metadata": {
        "colab": {
          "base_uri": "https://localhost:8080/"
        },
        "id": "I9VAQoy6EG0n",
        "outputId": "06477a61-b47e-45fb-bb1f-ba0c8911bc47"
      },
      "execution_count": null,
      "outputs": [
        {
          "output_type": "stream",
          "name": "stdout",
          "text": [
            "Common items:  [10, 20, 30]\n"
          ]
        }
      ]
    },
    {
      "cell_type": "markdown",
      "source": [
        "38. Write a Python program to change the position of every n-th value to the (n+1)th in a list.\n",
        "Sample list: [0,1,2,3,4,5]\n",
        "Expected Output: [1, 0, 3, 2, 5, 4]"
      ],
      "metadata": {
        "id": "jj9sJDaDEtrI"
      }
    },
    {
      "cell_type": "code",
      "source": [
        "def pos_change(l1):\n",
        "  temp = ''\n",
        "  for i in range(0, len(l1) - 1, 2): #Loop through the list with a step of 2\n",
        "    temp = l1[i]\n",
        "    l1[i] = l1[i+1]\n",
        "    l1[i+1] = temp\n",
        "  return l1\n",
        "\n",
        "list19 = [0,1,2,3,4,5]\n",
        "print(\"Position change: \", pos_change(list19))"
      ],
      "metadata": {
        "colab": {
          "base_uri": "https://localhost:8080/"
        },
        "id": "-yvSdNnzEy3g",
        "outputId": "f9f3a2f5-e540-4849-e73e-0eab2f8a7db1"
      },
      "execution_count": null,
      "outputs": [
        {
          "output_type": "stream",
          "name": "stdout",
          "text": [
            "Position change:  [1, 0, 3, 2, 5, 4]\n"
          ]
        }
      ]
    },
    {
      "cell_type": "markdown",
      "source": [
        "39. Write a Python program to convert a list of multiple integers into a single integer.\n",
        "Sample list: [11, 33, 50]\n",
        "Expected Output: 113350"
      ],
      "metadata": {
        "id": "v_jszSTsGFpM"
      }
    },
    {
      "cell_type": "code",
      "source": [
        "def list_to_int(l):\n",
        "  int1 = ''\n",
        "  for i in l:\n",
        "    int1 += str(i)\n",
        "  return int(int1)\n",
        "\n",
        "print(\"List to integer: \", list_to_int(list19))"
      ],
      "metadata": {
        "colab": {
          "base_uri": "https://localhost:8080/"
        },
        "id": "j3qe6YoRFl0C",
        "outputId": "3c9dc8f5-b9b7-4169-cb27-17e5d0b6de3c"
      },
      "execution_count": null,
      "outputs": [
        {
          "output_type": "stream",
          "name": "stdout",
          "text": [
            "List to integer:  103254\n"
          ]
        }
      ]
    },
    {
      "cell_type": "markdown",
      "source": [
        "40. Write a Python program to split a list based on the first character of a word."
      ],
      "metadata": {
        "id": "hG2d4lrbGkgG"
      }
    },
    {
      "cell_type": "code",
      "source": [
        "# Import the 'groupby' function from the 'itertools' module and the 'itemgetter' function from the 'operator' module\n",
        "from itertools import groupby\n",
        "from operator import itemgetter\n",
        "\n",
        "# Define a list 'word_list' containing words\n",
        "word_list = ['be', 'have', 'do', 'say', 'get', 'make', 'go', 'know', 'take', 'see', 'come', 'think',\n",
        "             'look', 'want', 'give', 'use', 'find', 'tell', 'ask', 'work', 'seem', 'feel', 'leave', 'call']\n",
        "\n",
        "# Use 'groupby' to group and sort the words in 'word_list' based on the first letter of each word\n",
        "# Iterate through the groups and print the first letter and the words starting with that letter\n",
        "for letter, words in groupby(sorted(word_list), key=itemgetter(0)):\n",
        "    print(letter)\n",
        "    for word in words:\n",
        "        print(word)"
      ],
      "metadata": {
        "colab": {
          "base_uri": "https://localhost:8080/"
        },
        "id": "NbVfMUK4Gls2",
        "outputId": "f22698e0-d467-43c4-a60c-c34f0a6f1147"
      },
      "execution_count": null,
      "outputs": [
        {
          "output_type": "stream",
          "name": "stdout",
          "text": [
            "a\n",
            "ask\n",
            "b\n",
            "be\n",
            "c\n",
            "call\n",
            "come\n",
            "d\n",
            "do\n",
            "f\n",
            "feel\n",
            "find\n",
            "g\n",
            "get\n",
            "give\n",
            "go\n",
            "h\n",
            "have\n",
            "k\n",
            "know\n",
            "l\n",
            "leave\n",
            "look\n",
            "m\n",
            "make\n",
            "s\n",
            "say\n",
            "see\n",
            "seem\n",
            "t\n",
            "take\n",
            "tell\n",
            "think\n",
            "u\n",
            "use\n",
            "w\n",
            "want\n",
            "work\n"
          ]
        }
      ]
    },
    {
      "cell_type": "markdown",
      "source": [
        "42. Write a Python program to find missing and additional values in two lists.\n",
        "Sample data : Missing values in second list: b,a,c\n",
        "Additional values in second list: g,h"
      ],
      "metadata": {
        "id": "CGDSZRNtHRdd"
      }
    },
    {
      "cell_type": "code",
      "source": [
        "list20 = [1,2,3,4]\n",
        "list21 = [3,4,5,6]\n",
        "\n",
        "def add_miss_list(l1, l2):\n",
        "  missing = []\n",
        "  additional = []\n",
        "\n",
        "  for i in l1:\n",
        "    if i not in l2:\n",
        "      missing.append(i)\n",
        "  for j in l2:\n",
        "    if j not in l1:\n",
        "      additional.append(j)\n",
        "  return missing, additional\n",
        "\n",
        "print(\"Missing and additional Value in second list: \", add_miss_list(list20, list21))"
      ],
      "metadata": {
        "colab": {
          "base_uri": "https://localhost:8080/"
        },
        "id": "6rxDneRuHchD",
        "outputId": "916abc1b-e5a0-43fd-af10-9bd304fd3587"
      },
      "execution_count": null,
      "outputs": [
        {
          "output_type": "stream",
          "name": "stdout",
          "text": [
            "Missing and additional Value in second list:  ([1, 2], [5, 6])\n"
          ]
        }
      ]
    },
    {
      "cell_type": "markdown",
      "source": [
        "43. Write a Python program to split a list into different variables."
      ],
      "metadata": {
        "id": "Uan7yzOhIe2d"
      }
    },
    {
      "cell_type": "code",
      "source": [
        "list22 = ['a','b','c','d']\n",
        "\n",
        "var1, var2, var3, var4 = list22\n",
        "\n",
        "print(var1)\n",
        "print(var2)\n",
        "print(var3)\n",
        "print(var4)"
      ],
      "metadata": {
        "colab": {
          "base_uri": "https://localhost:8080/"
        },
        "id": "8G4oEcmfIiAP",
        "outputId": "6312146b-cb93-4adb-9cee-99499bd47d7e"
      },
      "execution_count": null,
      "outputs": [
        {
          "output_type": "stream",
          "name": "stdout",
          "text": [
            "a\n",
            "b\n",
            "c\n",
            "d\n"
          ]
        }
      ]
    },
    {
      "cell_type": "markdown",
      "source": [
        "44. Write a Python program to generate groups of five consecutive numbers in a list."
      ],
      "metadata": {
        "id": "wycp0LpNI96t"
      }
    },
    {
      "cell_type": "code",
      "source": [
        "l = [[5*i + j for j in range(1,6)] for i in range(5)]\n",
        "print(l)"
      ],
      "metadata": {
        "colab": {
          "base_uri": "https://localhost:8080/"
        },
        "id": "VRE606MbJBFJ",
        "outputId": "1e1160b3-2b13-49b5-ac67-ebb5ad4f43ad"
      },
      "execution_count": null,
      "outputs": [
        {
          "output_type": "stream",
          "name": "stdout",
          "text": [
            "[[1, 2, 3, 4, 5], [6, 7, 8, 9, 10], [11, 12, 13, 14, 15], [16, 17, 18, 19, 20], [21, 22, 23, 24, 25]]\n"
          ]
        }
      ]
    },
    {
      "cell_type": "markdown",
      "source": [
        "45. Write a Python program to convert a pair of values into a sorted unique array.\n"
      ],
      "metadata": {
        "id": "3qa9NnipLPNm"
      }
    },
    {
      "cell_type": "code",
      "source": [
        "# Define a list 'L' containing tuples with pairs of numbers\n",
        "L = [(1, 2), (3, 4), (1, 2), (5, 6), (7, 8), (1, 2), (3, 4), (3, 4), (7, 8), (9, 10)]\n",
        "\n",
        "# Print the original list 'L'\n",
        "print(\"Original List: \", L)\n",
        "\n",
        "# Use a set to remove duplicate pairs of numbers and the 'union' method to merge all unique pairs\n",
        "# Sort the resulting set and print the sorted unique data\n",
        "print(\"Sorted Unique Data:\", sorted(set().union(*L)))"
      ],
      "metadata": {
        "colab": {
          "base_uri": "https://localhost:8080/"
        },
        "id": "rAovpO6-LQao",
        "outputId": "61465ef8-fe57-48dc-c2af-820b3891d1d5"
      },
      "execution_count": null,
      "outputs": [
        {
          "output_type": "stream",
          "name": "stdout",
          "text": [
            "Original List:  [(1, 2), (3, 4), (1, 2), (5, 6), (7, 8), (1, 2), (3, 4), (3, 4), (7, 8), (9, 10)]\n",
            "Sorted Unique Data: [1, 2, 3, 4, 5, 6, 7, 8, 9, 10]\n"
          ]
        }
      ]
    },
    {
      "cell_type": "markdown",
      "source": [
        "46. Write a Python program to select the odd items from a list.\n"
      ],
      "metadata": {
        "id": "syb3xhSkLftn"
      }
    },
    {
      "cell_type": "code",
      "source": [
        "list23  = ['a', 'b', 'c', 'd', 'e', 'f']\n",
        "\n",
        "\n",
        "def odd_item(l1):\n",
        "  odd_list = []\n",
        "  for i in l1:\n",
        "    if l1.index(i) % 2 != 0:\n",
        "      odd_list.append(i)\n",
        "  return odd_list\n",
        "\n",
        "print(\"Odd items: \", odd_item(list23))\n"
      ],
      "metadata": {
        "colab": {
          "base_uri": "https://localhost:8080/"
        },
        "id": "NU4RAS8dLhRC",
        "outputId": "e022880a-047e-46f9-ef8f-9bee745fad1a"
      },
      "execution_count": null,
      "outputs": [
        {
          "output_type": "stream",
          "name": "stdout",
          "text": [
            "Odd items:  ['b', 'd', 'f']\n"
          ]
        }
      ]
    },
    {
      "cell_type": "markdown",
      "source": [
        "47. Write a  Python program to insert an element before each element of a list.\n"
      ],
      "metadata": {
        "id": "v-y_2kjzMVzH"
      }
    },
    {
      "cell_type": "code",
      "source": [
        "def insert_before_each(input_list, element):\n",
        "    result = []\n",
        "    for item in input_list:\n",
        "        result.append(element)\n",
        "        result.append(item)\n",
        "    return result\n",
        "\n",
        "sample_list = ['a', 'b', 'c', 'd']\n",
        "new_element = '*'\n",
        "output = insert_before_each(sample_list, new_element)\n",
        "print(\"Modified list:\", output)\n"
      ],
      "metadata": {
        "colab": {
          "base_uri": "https://localhost:8080/"
        },
        "id": "fLM3n2lYN_7L",
        "outputId": "50904eaa-05de-4af6-f2c0-f20599e58df5"
      },
      "execution_count": null,
      "outputs": [
        {
          "output_type": "stream",
          "name": "stdout",
          "text": [
            "Modified list: ['*', 'a', '*', 'b', '*', 'c', '*', 'd']\n"
          ]
        }
      ]
    },
    {
      "cell_type": "markdown",
      "source": [
        "48. Write a Python program to print nested lists (each list on a new line) using the print() function.\n"
      ],
      "metadata": {
        "id": "z7yplZh1OQys"
      }
    },
    {
      "cell_type": "code",
      "source": [
        "list24 = [['a','b'], ['c','d'],['e', 'f'],['g', 'h']]\n",
        "\n",
        "def print_nested(l1):\n",
        "  for i in l1:\n",
        "    print(i)\n",
        "\n",
        "print_nested(list24)"
      ],
      "metadata": {
        "colab": {
          "base_uri": "https://localhost:8080/"
        },
        "id": "rdVJM39mOSlV",
        "outputId": "2ea73fb8-36ae-42fd-bfe6-59e3024fd4a2"
      },
      "execution_count": null,
      "outputs": [
        {
          "output_type": "stream",
          "name": "stdout",
          "text": [
            "['a', 'b']\n",
            "['c', 'd']\n",
            "['e', 'f']\n",
            "['g', 'h']\n"
          ]
        }
      ]
    },
    {
      "cell_type": "markdown",
      "source": [
        "49. Write a Python program to convert a list to a list of dictionaries.\n",
        "Sample lists: [\"Black\", \"Red\", \"Maroon\", \"Yellow\"], [\"#000000\", \"#FF0000\", \"#800000\", \"#FFFF00\"]\n",
        "Expected Output: [{'color_name': 'Black', 'color_code': '#000000'}, {'color_name': 'Red', 'color_code': '#FF0000'}, {'color_name': 'Maroon', 'color_code': '#800000'}, {'color_name': 'Yellow', 'color_code': '#FFFF00'}]"
      ],
      "metadata": {
        "id": "I0oLYql3O2eS"
      }
    },
    {
      "cell_type": "code",
      "source": [
        "color_name = [\"Black\", \"Red\", \"Maroon\", \"Yellow\"]\n",
        "color_code = [\"#000000\", \"#FF0000\", \"#800000\", \"#FFFF00\"]\n",
        "\n",
        "def list_to_dict(color_name, color_code):\n",
        "  result = []\n",
        "  for i in range(len(color_name)):\n",
        "    color_dict = {'color_name': color_name[i], 'color_code': color_code[i]}\n",
        "    result.append(color_dict)\n",
        "  return result\n",
        "\n",
        "print(\"Dictionary: \", list_to_dict(color_name, color_code))\n"
      ],
      "metadata": {
        "colab": {
          "base_uri": "https://localhost:8080/"
        },
        "id": "Z9EXXoBDPD6a",
        "outputId": "789ec740-fb5d-4d50-9fc3-17fa68c79cf0"
      },
      "execution_count": null,
      "outputs": [
        {
          "output_type": "stream",
          "name": "stdout",
          "text": [
            "Dictionary:  [{'color_name': 'Black', 'color_code': '#000000'}, {'color_name': 'Red', 'color_code': '#FF0000'}, {'color_name': 'Maroon', 'color_code': '#800000'}, {'color_name': 'Yellow', 'color_code': '#FFFF00'}]\n"
          ]
        }
      ]
    },
    {
      "cell_type": "markdown",
      "source": [
        "50. Write a Python program to sort a list of nested dictionaries.\n"
      ],
      "metadata": {
        "id": "Bil_rZRYRHZT"
      }
    },
    {
      "cell_type": "code",
      "source": [
        "def sorted_dict(nested_dict, sort_key):\n",
        "    return sorted(nested_dicts, key=lambda x: x[sort_key])\n",
        "\n",
        "nested_dicts = [\n",
        "    {'name': 'John', 'age': 25, 'city': 'New York'},\n",
        "    {'name': 'Alice', 'age': 30, 'city': 'Los Angeles'},\n",
        "    {'name': 'Bob', 'age': 20, 'city': 'Chicago'}\n",
        "]\n",
        "\n",
        "sort_by_age = sorted_dict(nested_dicts, 'age')\n",
        "print(\"Sorted by age: \", sort_by_age)\n",
        "\n",
        "sort_by_name = sorted_dict(nested_dicts, 'name')\n",
        "print(\"Sorted by name: \", sort_by_name)"
      ],
      "metadata": {
        "colab": {
          "base_uri": "https://localhost:8080/"
        },
        "id": "Vg7IK-T3RJkM",
        "outputId": "abdb0c86-fc4e-4847-fcf7-819c3872e009"
      },
      "execution_count": null,
      "outputs": [
        {
          "output_type": "stream",
          "name": "stdout",
          "text": [
            "Sorted by age:  [{'name': 'Bob', 'age': 20, 'city': 'Chicago'}, {'name': 'John', 'age': 25, 'city': 'New York'}, {'name': 'Alice', 'age': 30, 'city': 'Los Angeles'}]\n",
            "Sorted by name:  [{'name': 'Alice', 'age': 30, 'city': 'Los Angeles'}, {'name': 'Bob', 'age': 20, 'city': 'Chicago'}, {'name': 'John', 'age': 25, 'city': 'New York'}]\n"
          ]
        }
      ]
    },
    {
      "cell_type": "markdown",
      "source": [
        "51. Write a Python program to split a list every Nth element.\n",
        "\n",
        "Sample list: ['a', 'b', 'c', 'd', 'e', 'f', 'g', 'h', 'i', 'j', 'k', 'l', 'm', 'n']\n",
        "\n",
        "Expected Output: [['a', 'd', 'g', 'j', 'm'], ['b', 'e', 'h', 'k', 'n'], ['c', 'f', 'i', 'l']]"
      ],
      "metadata": {
        "id": "BEpqOnARaBNj"
      }
    },
    {
      "cell_type": "code",
      "source": [
        "list25 = ['a', 'b', 'c', 'd', 'e', 'f', 'g', 'h', 'i', 'j', 'k', 'l', 'm', 'n']\n",
        "\n",
        "def list_split(l1, n):\n",
        "  for i in range(0, n):\n",
        "    result = [[] for _ in range(n)] #create empty list with sublists of length n\n",
        "    for i, item in enumerate(l1): #access both index and element using enumerate\n",
        "      result[i % n].append(item) #append each element to the sublist based on the remainder of its index when divided by n\n",
        "  return result\n",
        "\n",
        "print(\"Split list: \", list_split(list25, 3))"
      ],
      "metadata": {
        "colab": {
          "base_uri": "https://localhost:8080/"
        },
        "id": "GsAEKJ9-afua",
        "outputId": "364dd452-2131-492a-e735-8335c8cf4802"
      },
      "execution_count": 3,
      "outputs": [
        {
          "output_type": "stream",
          "name": "stdout",
          "text": [
            "Split list:  [['a', 'd', 'g', 'j', 'm'], ['b', 'e', 'h', 'k', 'n'], ['c', 'f', 'i', 'l']]\n"
          ]
        }
      ]
    },
    {
      "cell_type": "markdown",
      "source": [
        "52. Write a Python program to compute the difference between two lists.\n",
        "\n",
        "Sample data: [\"red\", \"orange\", \"green\", \"blue\", \"white\"], [\"black\", \"yellow\", \"green\", \"blue\"]\n",
        "\n",
        "Expected Output:\n",
        "\n",
        "Color1-Color2: ['white', 'orange', 'red']\n",
        "Color2-Color1: ['black', 'yellow']"
      ],
      "metadata": {
        "id": "PkovD3kIcITn"
      }
    },
    {
      "cell_type": "code",
      "source": [
        "list26 = [\"red\", \"orange\", \"green\", \"blue\", \"white\"]\n",
        "list27 = [\"black\", \"yellow\", \"green\", \"blue\"]\n",
        "\n",
        "def list_diff(l1, l2):\n",
        "  l1_l2 = []\n",
        "  l2_l1 = []\n",
        "  l1_l2 = set(l1) - set(l2)\n",
        "  l2_l1 = set(l2) - set(l1)\n",
        "  return l1_l2, l2_l1\n",
        "\n",
        "print(\"List Difference: \", list_diff(list26, list27))"
      ],
      "metadata": {
        "colab": {
          "base_uri": "https://localhost:8080/"
        },
        "id": "bguB5JmPcLWt",
        "outputId": "d4c2cf9b-4459-422a-c9e6-dfd1fac11b53"
      },
      "execution_count": 5,
      "outputs": [
        {
          "output_type": "stream",
          "name": "stdout",
          "text": [
            "List Difference:  ({'white', 'orange', 'red'}, {'yellow', 'black'})\n"
          ]
        }
      ]
    },
    {
      "cell_type": "markdown",
      "source": [
        "53. Write a Python program to create a list with infinite elements.\n"
      ],
      "metadata": {
        "id": "rBnPJxyKczzE"
      }
    },
    {
      "cell_type": "code",
      "source": [
        "import itertools\n",
        "\n",
        "infinite_list = itertools.count() #returns an iterator that generates consecutive numbers, starting from default 0 and increments by 1\n",
        "\n",
        "for _ in range(10):\n",
        "  print(next(infinite_list)) #using next() to access each number from the iterator list, one at a time."
      ],
      "metadata": {
        "colab": {
          "base_uri": "https://localhost:8080/"
        },
        "id": "UQhUIab5c5s7",
        "outputId": "48d7804c-3edf-42e7-95f6-95fd2458bcb7"
      },
      "execution_count": 6,
      "outputs": [
        {
          "output_type": "stream",
          "name": "stdout",
          "text": [
            "0\n",
            "1\n",
            "2\n",
            "3\n",
            "4\n",
            "5\n",
            "6\n",
            "7\n",
            "8\n",
            "9\n"
          ]
        }
      ]
    },
    {
      "cell_type": "markdown",
      "source": [
        "54. Write a Python program to concatenate elements of a list."
      ],
      "metadata": {
        "id": "730mg4JxfEoV"
      }
    },
    {
      "cell_type": "code",
      "source": [
        "def concate_list_ele(l1):\n",
        "  concatenated_string = ''\n",
        "\n",
        "  for i in l1:\n",
        "    concatenated_string += str(i)\n",
        "  return concatenated_string\n",
        "\n",
        "print(\"Concatenated String: \", concate_list_ele(list27))"
      ],
      "metadata": {
        "colab": {
          "base_uri": "https://localhost:8080/"
        },
        "id": "ERzGUw3wfF-O",
        "outputId": "afbfb6de-6c17-4ae6-9895-424551ac5ea2"
      },
      "execution_count": 8,
      "outputs": [
        {
          "output_type": "stream",
          "name": "stdout",
          "text": [
            "Concatenated String:  blackyellowgreenblue\n"
          ]
        }
      ]
    },
    {
      "cell_type": "markdown",
      "source": [
        "55. Write a Python program to remove key-value pairs from a list of dictionaries."
      ],
      "metadata": {
        "id": "7n9bX8WBfg_5"
      }
    },
    {
      "cell_type": "code",
      "source": [
        "list28 = [\n",
        "    {'name':'John', 'age':23},\n",
        "    {'name': 'Sarah', 'age': 34},\n",
        "    {'name': 'Mary', 'age':12}\n",
        "]\n",
        "\n",
        "def remove_dict(l1, key_to_remove):\n",
        "  for dictionary in l1:\n",
        "    if key_to_remove in dictionary:\n",
        "      del dictionary[key_to_remove]\n",
        "  return l1\n",
        "\n",
        "print(\"Removing Age: \", remove_dict(list28, 'age'))\n"
      ],
      "metadata": {
        "colab": {
          "base_uri": "https://localhost:8080/"
        },
        "id": "1aIKbssgfmAG",
        "outputId": "d91f8669-7c56-403c-c956-4db75965a29c"
      },
      "execution_count": 9,
      "outputs": [
        {
          "output_type": "stream",
          "name": "stdout",
          "text": [
            "Removing Age:  [{'name': 'John'}, {'name': 'Sarah'}, {'name': 'Mary'}]\n"
          ]
        }
      ]
    },
    {
      "cell_type": "markdown",
      "source": [
        "56. Write a Python program to convert a string to a list.\n"
      ],
      "metadata": {
        "id": "XeBvtB37guU8"
      }
    },
    {
      "cell_type": "code",
      "source": [
        "def string_to_list(string_vaalue):\n",
        "  l1 = []\n",
        "  for i in string_vaalue:\n",
        "    l1.append(i)\n",
        "  return l1\n",
        "\n",
        "print(\"String to list: \", string_to_list('abacus'))"
      ],
      "metadata": {
        "colab": {
          "base_uri": "https://localhost:8080/"
        },
        "id": "74_UREuPgvqY",
        "outputId": "4015508c-8634-49cc-e739-0dceaa90e51c"
      },
      "execution_count": 10,
      "outputs": [
        {
          "output_type": "stream",
          "name": "stdout",
          "text": [
            "String to list:  ['a', 'b', 'a', 'c', 'u', 's']\n"
          ]
        }
      ]
    },
    {
      "cell_type": "markdown",
      "source": [
        "57. Write a Python program to check if all items in a given list of strings are equal to a given string."
      ],
      "metadata": {
        "id": "9tCz9NI7hHQj"
      }
    },
    {
      "cell_type": "code",
      "source": [
        "list29 = ['k','r','i','s','h','u']\n",
        "string29 = 'krishu'\n",
        "\n",
        "def string_list_validate(l1, s1):\n",
        "  test_str = ''\n",
        "  for i in l1:\n",
        "    test_str += i\n",
        "  if test_str == s1:\n",
        "    return True\n",
        "  else:\n",
        "    return False\n",
        "\n",
        "print(\"Elements in String and list are equal: \", string_list_validate(list29, string29))"
      ],
      "metadata": {
        "colab": {
          "base_uri": "https://localhost:8080/"
        },
        "id": "WTjkWMkAhIu5",
        "outputId": "3b1784b6-528e-4418-eefa-992aabb862ef"
      },
      "execution_count": 14,
      "outputs": [
        {
          "output_type": "stream",
          "name": "stdout",
          "text": [
            "Elements in String and list are equal:  True\n"
          ]
        }
      ]
    },
    {
      "cell_type": "markdown",
      "source": [
        "58. Write a Python program to replace the last element in a list with another list.\n",
        "\n",
        "Sample data : [1, 3, 5, 7, 9, 10], [2, 4, 6, 8]\n",
        "\n",
        "Expected Output: [1, 3, 5, 7, 9, 2, 4, 6, 8]"
      ],
      "metadata": {
        "id": "cI5ZzxnFiJDU"
      }
    },
    {
      "cell_type": "code",
      "source": [
        "list30 = [1, 3, 5, 7, 9, 10]\n",
        "list31 = [2, 4, 6, 8]\n",
        "\n",
        "def last_ele_list(l1, l2):\n",
        "  del l1[-1]\n",
        "  for i in l2:\n",
        "    l1.append(i)\n",
        "  return l1\n",
        "\n",
        "print(\"Last element swap: \", last_ele_list(list30, list31))"
      ],
      "metadata": {
        "colab": {
          "base_uri": "https://localhost:8080/"
        },
        "id": "s0VW2Qq0iNzm",
        "outputId": "1ee27d71-63c2-4257-df6c-3d1ad1c20440"
      },
      "execution_count": 16,
      "outputs": [
        {
          "output_type": "stream",
          "name": "stdout",
          "text": [
            "Last element swap:  [1, 3, 5, 7, 9, 2, 4, 6, 8]\n"
          ]
        }
      ]
    },
    {
      "cell_type": "markdown",
      "source": [
        "59. Write a Python program to check whether the n-th element exists in a given list.\n"
      ],
      "metadata": {
        "id": "f9myVsVKi89c"
      }
    },
    {
      "cell_type": "code",
      "source": [
        "def ele_check(l1, n):\n",
        "  if n < len(l1):\n",
        "    return True\n",
        "  else:\n",
        "    return False\n",
        "\n",
        "print(\"19th element in list 31: \", ele_check(list31, 19))\n",
        "print(\"3rd element in list 31: \", ele_check(list31, 3))"
      ],
      "metadata": {
        "colab": {
          "base_uri": "https://localhost:8080/"
        },
        "id": "tROvPHGki-Lc",
        "outputId": "7c3ed965-2b21-4150-d18e-af486919dbd2"
      },
      "execution_count": 18,
      "outputs": [
        {
          "output_type": "stream",
          "name": "stdout",
          "text": [
            "19th element in list 31:  False\n",
            "3rd element in list 31:  True\n"
          ]
        }
      ]
    },
    {
      "cell_type": "markdown",
      "source": [
        "60. Write a Python program to find a tuple, the smallest second index value from a list of tuples."
      ],
      "metadata": {
        "id": "cmdtRLCykVei"
      }
    },
    {
      "cell_type": "code",
      "source": [
        "list32 = [(1,2), (3,4),(2,5), (9,2)]\n",
        "\n",
        "def smallest_tuple_in_list(l1):\n",
        "  return min(l1, key = lambda x:x[1])\n",
        "\n",
        "def smallest_tuple_in_list_2(l1):\n",
        "  smallest = l1[0] #assume first tuple has the smallest second element\n",
        "  for tup in l1[1:]: #iterate over rest of the tuples\n",
        "    if tup[1] < smallest [1]: #compare the second element of each tuple with the second element of smallest tuple\n",
        "      smallest = tup #update smallest if smaller found\n",
        "  return smallest\n",
        "\n",
        "print(\"Tuple with smallest index: \", smallest_tuple_in_list(list32))\n",
        "print(\"Tuple with smallest index: \", smallest_tuple_in_list_2(list32))"
      ],
      "metadata": {
        "colab": {
          "base_uri": "https://localhost:8080/"
        },
        "id": "cdBCNeAxkXqP",
        "outputId": "79c49ede-e9ea-4dfb-9bc2-827f17ad8d6b"
      },
      "execution_count": 23,
      "outputs": [
        {
          "output_type": "stream",
          "name": "stdout",
          "text": [
            "Tuple with smallest index:  (1, 2)\n",
            "Tuple with smallest index:  (1, 2)\n"
          ]
        }
      ]
    }
  ]
}