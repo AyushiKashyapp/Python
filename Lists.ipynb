{
  "nbformat": 4,
  "nbformat_minor": 0,
  "metadata": {
    "colab": {
      "provenance": [],
      "authorship_tag": "ABX9TyP7HMs/1Keo8fjMyMieDxyp",
      "include_colab_link": true
    },
    "kernelspec": {
      "name": "python3",
      "display_name": "Python 3"
    },
    "language_info": {
      "name": "python"
    }
  },
  "cells": [
    {
      "cell_type": "markdown",
      "metadata": {
        "id": "view-in-github",
        "colab_type": "text"
      },
      "source": [
        "<a href=\"https://colab.research.google.com/github/AyushiKashyapp/Python/blob/main/Lists.ipynb\" target=\"_parent\"><img src=\"https://colab.research.google.com/assets/colab-badge.svg\" alt=\"Open In Colab\"/></a>"
      ]
    },
    {
      "cell_type": "markdown",
      "source": [
        "# Lists\n",
        "\n",
        "Lists are used to store multiple items in a single variable.\n",
        "\n",
        "Items are ordered, unchangeable and allow duplicate values."
      ],
      "metadata": {
        "id": "HbAXJduNxiU-"
      }
    },
    {
      "cell_type": "code",
      "source": [
        "# Creating lists\n",
        "fruits = ['banana', 'apple', 'cherry', 'apple', 4, 5, True]\n",
        "veggies = list(('carrots', 'onions', 'capsicum', 'beans', 'tomato'))\n",
        "\n",
        "# Accessing lists\n",
        "print(\"The list has elements: \",fruits)\n",
        "print(\"Length of the list is:\", len(fruits))\n",
        "print(\"Fruits is of type:\", type(fruits))"
      ],
      "metadata": {
        "colab": {
          "base_uri": "https://localhost:8080/"
        },
        "id": "SOIoE8GhxzWZ",
        "outputId": "839cb3e7-b534-48e3-d47d-1848073c5b6e"
      },
      "execution_count": null,
      "outputs": [
        {
          "output_type": "stream",
          "name": "stdout",
          "text": [
            "The list has elements:  ['banana', 'apple', 'cherry', 'apple', 4, 5, True]\n",
            "Length of the list is: 7\n",
            "Fruits is of type: <class 'list'>\n"
          ]
        }
      ]
    },
    {
      "cell_type": "markdown",
      "source": [
        "2. Accessing list items."
      ],
      "metadata": {
        "id": "LiaLqoFLy14A"
      }
    },
    {
      "cell_type": "code",
      "source": [
        "print(\"Second vegetable is:\", veggies[1])\n",
        "print(\"Second Last vegetable is: \", veggies[-2])\n",
        "print(\"Vegetables in range 2:4 are: \", veggies[2:4])\n",
        "print(\"Vegetables in range :4 are: \", veggies[:4]) # Include from Start till 4\n",
        "print(\"Vegetables in range 2: are: \", veggies[2:]) # Include from 2 till last\n",
        "print(\"Vegetables in range -4:-2 are: \", veggies[-4:-2]) # Search from end of list\n",
        "\n",
        "if(\"beans\" in veggies):\n",
        "  print(\"Beans is available in the veggies.\")"
      ],
      "metadata": {
        "colab": {
          "base_uri": "https://localhost:8080/"
        },
        "id": "_IiC7mhlyis6",
        "outputId": "02a2275f-0272-49ce-ec39-251fb2d3eb94"
      },
      "execution_count": null,
      "outputs": [
        {
          "output_type": "stream",
          "name": "stdout",
          "text": [
            "Second vegetable is: onions\n",
            "Second Last vegetable is:  beans\n",
            "Vegetables in range 2:4 are:  ['capsicum', 'beans']\n",
            "Vegetables in range :4 are:  ['carrots', 'onions', 'capsicum', 'beans']\n",
            "Vegetables in range 2: are:  ['capsicum', 'beans', 'tomato']\n",
            "Vegetables in range -4:-2 are:  ['onions', 'capsicum']\n",
            "Beans is available in the veggies.\n"
          ]
        }
      ]
    },
    {
      "cell_type": "markdown",
      "source": [
        "3. Change list item."
      ],
      "metadata": {
        "id": "YDx7vVHo0VNz"
      }
    },
    {
      "cell_type": "code",
      "source": [
        "fruits[2] = 'orange' # Change a single item\n",
        "print(\"Second fruit changed to: \", fruits[2])\n",
        "\n",
        "fruits[1:2] = ['pears', 'berries'] # Change a range of items\n",
        "print(fruits)\n",
        "print(\"Range of fruits 1:2 is changed to: \", fruits[1:3])\n",
        "\n",
        "fruits[1:2] = ['melon'] # Chnging only one value while specifying 2 in the range\n",
        "print(fruits)\n",
        "print(\"Range of fruits 1:2 is changed to: \", fruits[1:3])\n",
        "\n",
        "fruits.insert(4, 'kinu')\n",
        "print(\"Newly inserted fruit is: \", fruits[4])"
      ],
      "metadata": {
        "colab": {
          "base_uri": "https://localhost:8080/"
        },
        "id": "0owEzJDP0a5z",
        "outputId": "abe1e5fc-c657-4cf1-a8bb-02b9b3342a33"
      },
      "execution_count": null,
      "outputs": [
        {
          "output_type": "stream",
          "name": "stdout",
          "text": [
            "Second fruit changed to:  orange\n",
            "['banana', 'pears', 'berries', 'orange', 'apple', 4, 5, True]\n",
            "Range of fruits 1:2 is changed to:  ['pears', 'berries']\n",
            "['banana', 'melon', 'berries', 'orange', 'apple', 4, 5, True]\n",
            "Range of fruits 1:2 is changed to:  ['melon', 'berries']\n",
            "Newly inserted fruit is:  kinu\n"
          ]
        }
      ]
    },
    {
      "cell_type": "markdown",
      "source": [
        "4. Add list items"
      ],
      "metadata": {
        "id": "w9oq74443M3W"
      }
    },
    {
      "cell_type": "code",
      "source": [
        "fruits.append('grapes') # Append item to fruits list\n",
        "print(\"Appended fruit to fruits list: \",fruits[-1])\n",
        "\n",
        "fruits.insert(5, 'peaches') # Insert at a particular index in the list\n",
        "print(\"Inserted fruit to fruits list: \", fruits[5])\n",
        "\n",
        "meal = fruits\n",
        "meal.extend(veggies) # Append items of other list to the current list\n",
        "print(\"Fruits + Veggies: \", meal)\n",
        "\n",
        "fruit_tuple = ('watermelon', 'green apple')\n",
        "meal.extend(fruit_tuple) # .extend() can append any iterable: tuple, dictionary, list, sets, etc.\n",
        "print(\"List Meal + Tuple fruit_tuple :\", meal)"
      ],
      "metadata": {
        "colab": {
          "base_uri": "https://localhost:8080/"
        },
        "id": "6ti8jiMCX39D",
        "outputId": "9f414755-75a6-4875-decf-d8b9fab1d405"
      },
      "execution_count": null,
      "outputs": [
        {
          "output_type": "stream",
          "name": "stdout",
          "text": [
            "Appended fruit to fruits list:  grapes\n",
            "Inserted fruit to fruits list:  peaches\n",
            "Fruits + Veggies:  ['banana', 'melon', 'berries', 'orange', 'kinu', 'peaches', 'peaches', 'peaches', 'peaches', 'peaches', 'peaches', 'apple', 4, 5, True, 'grapes', 'grapes', 'grapes', 'carrots', 'onions', 'capsicum', 'beans', 'tomato', 'grapes', 'carrots', 'onions', 'capsicum', 'beans', 'tomato', 'grapes', 'carrots', 'onions', 'capsicum', 'beans', 'tomato', 'grapes', 'carrots', 'onions', 'capsicum', 'beans', 'tomato', 'grapes', 'carrots', 'onions', 'capsicum', 'beans', 'tomato']\n",
            "List Meal + Tuple fruit_tuple : ['banana', 'melon', 'berries', 'orange', 'kinu', 'peaches', 'peaches', 'peaches', 'peaches', 'peaches', 'peaches', 'apple', 4, 5, True, 'grapes', 'grapes', 'grapes', 'carrots', 'onions', 'capsicum', 'beans', 'tomato', 'grapes', 'carrots', 'onions', 'capsicum', 'beans', 'tomato', 'grapes', 'carrots', 'onions', 'capsicum', 'beans', 'tomato', 'grapes', 'carrots', 'onions', 'capsicum', 'beans', 'tomato', 'grapes', 'carrots', 'onions', 'capsicum', 'beans', 'tomato', 'watermelon', 'green apple']\n"
          ]
        }
      ]
    },
    {
      "cell_type": "markdown",
      "source": [
        "5. Remove list item"
      ],
      "metadata": {
        "id": "QuIL-Xj_Zq-t"
      }
    },
    {
      "cell_type": "code",
      "source": [
        "fruits.remove('melon') # If more than one occurance are there, then .remove() will remove the first occurance\n",
        "fruits.pop(4) # If no index is specified, .pop() will remove the last element\n",
        "del fruits[8] # Remove element at a specific index\n",
        "del meal # Delete the list entirely\n",
        "fruits.clear() # Empties the list"
      ],
      "metadata": {
        "id": "I54jszu2a_DO"
      },
      "execution_count": null,
      "outputs": []
    },
    {
      "cell_type": "markdown",
      "source": [
        "6. Loop through a list"
      ],
      "metadata": {
        "id": "-Qxw7nbJbynm"
      }
    },
    {
      "cell_type": "code",
      "source": [
        "for i in veggies: # Loop though the element\n",
        "  print (i)"
      ],
      "metadata": {
        "colab": {
          "base_uri": "https://localhost:8080/"
        },
        "id": "SEEkBfMLb2IM",
        "outputId": "0f257e48-8d11-45a1-af30-3b85228b0e1d"
      },
      "execution_count": null,
      "outputs": [
        {
          "output_type": "stream",
          "name": "stdout",
          "text": [
            "carrots\n",
            "onions\n",
            "capsicum\n",
            "beans\n",
            "tomato\n"
          ]
        }
      ]
    },
    {
      "cell_type": "code",
      "source": [
        "for i in range(len(veggies)): # Loop through with index numbers\n",
        "  print(veggies[i])"
      ],
      "metadata": {
        "colab": {
          "base_uri": "https://localhost:8080/"
        },
        "id": "F_N_czxMcMl-",
        "outputId": "7408f028-8a8f-46fb-95fb-c38c55e7f9c2"
      },
      "execution_count": null,
      "outputs": [
        {
          "output_type": "stream",
          "name": "stdout",
          "text": [
            "carrots\n",
            "onions\n",
            "capsicum\n",
            "beans\n",
            "tomato\n"
          ]
        }
      ]
    },
    {
      "cell_type": "code",
      "source": [
        "i = 0\n",
        "while i < len(veggies):\n",
        "  print(veggies[i])\n",
        "  i = i+1"
      ],
      "metadata": {
        "colab": {
          "base_uri": "https://localhost:8080/"
        },
        "id": "4jgc8PRlckZN",
        "outputId": "0991ce7f-0e7b-4336-818b-ebbf0da149bf"
      },
      "execution_count": null,
      "outputs": [
        {
          "output_type": "stream",
          "name": "stdout",
          "text": [
            "carrots\n",
            "onions\n",
            "capsicum\n",
            "beans\n",
            "tomato\n"
          ]
        }
      ]
    },
    {
      "cell_type": "markdown",
      "source": [
        "7. List Comprehension\n",
        "\n",
        "***expression* for *item* in *iterable* if *condition* == True**"
      ],
      "metadata": {
        "id": "mmwDPSkGc3zV"
      }
    },
    {
      "cell_type": "code",
      "source": [
        "[print(i) for i in veggies]"
      ],
      "metadata": {
        "colab": {
          "base_uri": "https://localhost:8080/"
        },
        "id": "Zc9fTAiPc3ZU",
        "outputId": "083a6073-e3b2-4f3e-cc88-d0439c21cb93"
      },
      "execution_count": null,
      "outputs": [
        {
          "output_type": "stream",
          "name": "stdout",
          "text": [
            "carrots\n",
            "onions\n",
            "capsicum\n",
            "beans\n",
            "tomato\n"
          ]
        },
        {
          "output_type": "execute_result",
          "data": {
            "text/plain": [
              "[None, None, None, None, None]"
            ]
          },
          "metadata": {},
          "execution_count": 18
        }
      ]
    },
    {
      "cell_type": "code",
      "source": [
        "# Creating a new list based on the values of an old list\n",
        "\n",
        "new_list = []\n",
        "for i in veggies:\n",
        "  if \"a\" in i:\n",
        "    new_list.append(i)\n",
        "print(\"New list using for loop: \",new_list)\n",
        "\n",
        "# Using List Comprehension to create a new list based on the element of an old list\n",
        "new_list_2 = [i for i in veggies if \"a\" in i]\n",
        "print(\"New list using List Comprehension: \",new_list_2)\n",
        "\n",
        "# Condition ------ A filter which holds when the condition is True\n",
        "new_list3 = [x for x in veggies if x != \"beans\"]\n",
        "print(\"Condition when veggies is not beans: \", new_list3)\n",
        "\n",
        "# Iterable ------- Can be any iterable object like a list, tuple, set, dictionary,...\n",
        "new_list4 = [x for x in veggies]\n",
        "print(\"Iterating over veggies list: \", new_list4)\n",
        "\n",
        "# Expression is the current item in the list, which can be manipulated before adding to the new list\n",
        "new_list5 = [x.upper() for x in veggies]\n",
        "print(\"Expression to add veggies in upper cases: \", new_list5)\n",
        "\n",
        "# The expression can also contain conditions, not like a filter, but as a way to manipulate the outcome: Return Spring Onion instead of Onion\n",
        "new_list6 = [x if x != \"onions\" else \"spring onion\" for x in veggies]\n",
        "print(\"Expression defining Spring Onion instead of Onion: \", new_list6)"
      ],
      "metadata": {
        "colab": {
          "base_uri": "https://localhost:8080/"
        },
        "id": "_E7sC1jZdX6_",
        "outputId": "71cb48fa-4ce5-4b57-e359-71ea9586ea12"
      },
      "execution_count": null,
      "outputs": [
        {
          "output_type": "stream",
          "name": "stdout",
          "text": [
            "New list using for loop:  ['carrots', 'capsicum', 'beans', 'tomato']\n",
            "New list using List Comprehension:  ['carrots', 'capsicum', 'beans', 'tomato']\n",
            "Condition when veggies is not beans:  ['carrots', 'onions', 'capsicum', 'tomato']\n",
            "Iterating over veggies list:  ['carrots', 'onions', 'capsicum', 'beans', 'tomato']\n",
            "Expression to add veggies in upper cases:  ['CARROTS', 'ONIONS', 'CAPSICUM', 'BEANS', 'TOMATO']\n",
            "Expression defining Spring Onion instead of Onion:  ['carrots', 'spring onion', 'capsicum', 'beans', 'tomato']\n"
          ]
        }
      ]
    },
    {
      "cell_type": "markdown",
      "source": [
        "8. Sort List"
      ],
      "metadata": {
        "id": "aAku9ibeiBTp"
      }
    },
    {
      "cell_type": "code",
      "source": [
        "veggies.sort() # Sort Ascending\n",
        "print(\"Alphanumerically sorted list, Ascending: \", veggies)\n",
        "\n",
        "veggies.sort(reverse= True) # Sort Descending\n",
        "print(\"Alphanumerically sorted list, Descending: \", veggies)\n",
        "\n",
        "veggies.reverse() # Reverse the order of the list regardless of the alphabets of the elements\n",
        "print(\"Reversed order of the list: \", veggies)"
      ],
      "metadata": {
        "colab": {
          "base_uri": "https://localhost:8080/"
        },
        "id": "f5l_rF4XiEaT",
        "outputId": "0aa74246-2be7-4cb1-de24-60526e7c5ffe"
      },
      "execution_count": null,
      "outputs": [
        {
          "output_type": "stream",
          "name": "stdout",
          "text": [
            "Alphanumerically sorted list, Ascending:  ['beans', 'capsicum', 'carrots', 'onions', 'tomato']\n",
            "Alphanumerically sorted list, Descending:  ['tomato', 'onions', 'carrots', 'capsicum', 'beans']\n",
            "Reversed order of the list:  ['beans', 'capsicum', 'carrots', 'onions', 'tomato']\n"
          ]
        }
      ]
    },
    {
      "cell_type": "markdown",
      "source": [
        "9. Copy list\n",
        "\n",
        "**You cannot copy a list simply by typing list2 = list1, because: list2 will only be a reference to list1, and changes made in list1 will automatically also be made in list2.**"
      ],
      "metadata": {
        "id": "PG7lD34rmJFf"
      }
    },
    {
      "cell_type": "code",
      "source": [
        "meal1 = veggies.copy() # Using .copy() method\n",
        "print(\"List Veggies copied to list Meal: \", meal)\n",
        "\n",
        "meal2 = list(veggies) # Using list()\n",
        "print(\"Creating new list Meal 2 using elements of list Veggies: \", meal2)\n",
        "\n",
        "meal3 = veggies[:]\n",
        "print(\"Creating new list Meal 3 using slice (:) operator: \", meal3)"
      ],
      "metadata": {
        "colab": {
          "base_uri": "https://localhost:8080/"
        },
        "id": "LLNqLu3HmRZL",
        "outputId": "c4181025-6cfd-4afc-94e0-750e49cbf374"
      },
      "execution_count": null,
      "outputs": [
        {
          "output_type": "stream",
          "name": "stdout",
          "text": [
            "List Veggies copied to list Meal:  ['beans', 'capsicum', 'carrots', 'onions', 'tomato']\n",
            "Creating new list Meal 2 using elements of list Veggies:  ['beans', 'capsicum', 'carrots', 'onions', 'tomato']\n",
            "Creating new list Meal 3 using slice (:) operator:  ['beans', 'capsicum', 'carrots', 'onions', 'tomato']\n"
          ]
        }
      ]
    },
    {
      "cell_type": "markdown",
      "source": [
        "10. Join Lists"
      ],
      "metadata": {
        "id": "gxw9WpienNnY"
      }
    },
    {
      "cell_type": "code",
      "source": [
        "new_list7 = veggies + meal3 # Using + Operator\n",
        "print(\"Concatenating two lists using + operator: \", new_list7)\n",
        "\n",
        "for i in meal: # Append each element from the old list to the new list\n",
        "  new_list7.append(i)\n",
        "print(\"Append each element from the old list to the new list: \", new_list7)\n",
        "\n",
        "meal.extend(new_list7) # Using .extend()\n",
        "print(\"Extending the list with another list using .extend() :\", meal)"
      ],
      "metadata": {
        "colab": {
          "base_uri": "https://localhost:8080/"
        },
        "id": "JpgvjNbQnRl_",
        "outputId": "e9181d9f-9f57-4ee0-adb4-8650e4be7f92"
      },
      "execution_count": null,
      "outputs": [
        {
          "output_type": "stream",
          "name": "stdout",
          "text": [
            "Concatenating two lists using + operator:  ['beans', 'capsicum', 'carrots', 'onions', 'tomato', 'beans', 'capsicum', 'carrots', 'onions', 'tomato']\n",
            "Append each element from the old list to the new list:  ['beans', 'capsicum', 'carrots', 'onions', 'tomato', 'beans', 'capsicum', 'carrots', 'onions', 'tomato', 'beans', 'capsicum', 'carrots', 'onions', 'tomato']\n",
            "Extending the list with another list using .extend() : ['beans', 'capsicum', 'carrots', 'onions', 'tomato', 'beans', 'capsicum', 'carrots', 'onions', 'tomato', 'beans', 'capsicum', 'carrots', 'onions', 'tomato', 'beans', 'capsicum', 'carrots', 'onions', 'tomato']\n"
          ]
        }
      ]
    },
    {
      "cell_type": "markdown",
      "source": [
        "# Exercises"
      ],
      "metadata": {
        "id": "3xGbelpJghGN"
      }
    },
    {
      "cell_type": "markdown",
      "source": [
        "1. Write a Python program to sum all the items in a list."
      ],
      "metadata": {
        "id": "pRW6X5IHgcsA"
      }
    },
    {
      "cell_type": "code",
      "source": [
        "list1 = [1,2,3,4,5]\n",
        "sum1 = 0\n",
        "\n",
        "# for loop\n",
        "for l in list1:\n",
        "  sum1 += l\n",
        "print(\"For loop: \",sum1)\n",
        "\n",
        "# list comprehension\n",
        "sum_value = sum([l for l in list1])\n",
        "print(\"List Comprehension: \",sum_value)\n",
        "\n",
        "# sum function\n",
        "print(\"Simplified sum function: \", sum(list1))"
      ],
      "metadata": {
        "colab": {
          "base_uri": "https://localhost:8080/"
        },
        "id": "3tSotSS1gb4g",
        "outputId": "e0a998ac-c589-4c73-ba49-1799d2d84402"
      },
      "execution_count": 2,
      "outputs": [
        {
          "output_type": "stream",
          "name": "stdout",
          "text": [
            "For loop:  15\n",
            "List Comprehension:  15\n",
            "Simplified sum function:  15\n"
          ]
        }
      ]
    },
    {
      "cell_type": "markdown",
      "source": [
        "2. Write a Python program to multiply all the items in a list."
      ],
      "metadata": {
        "id": "evyO7ryHivpU"
      }
    },
    {
      "cell_type": "code",
      "source": [
        "# for loop\n",
        "\n",
        "product1 = 1\n",
        "for l in list1:\n",
        "  product1 = product1 * l\n",
        "print(\"For loop: \", product1)\n",
        "\n",
        "# List comprehension / Simplified\n",
        "import math\n",
        "product2 = math.prod(list1)\n",
        "print(\"List Comprehension/ Simplified: \", product2)"
      ],
      "metadata": {
        "colab": {
          "base_uri": "https://localhost:8080/"
        },
        "id": "XnK1zd4Xiu0r",
        "outputId": "0b704e85-f1ae-4296-c2a6-4352e1bcd838"
      },
      "execution_count": 5,
      "outputs": [
        {
          "output_type": "stream",
          "name": "stdout",
          "text": [
            "For loop:  120\n",
            "List Comprehension/ Simplified:  120\n"
          ]
        }
      ]
    },
    {
      "cell_type": "markdown",
      "source": [
        "3. Write a Python program to get the largest number from a list."
      ],
      "metadata": {
        "id": "7Fpjh-aHjkiT"
      }
    },
    {
      "cell_type": "code",
      "source": [
        "list2 = [45,73,98,54,12]\n",
        "\n",
        "#Using sort\n",
        "list2.sort()\n",
        "list2.reverse()\n",
        "print(\"Largest Number: \", list2[0])\n",
        "\n",
        "#Using loop\n",
        "def max_list(list):\n",
        "  max = list2[0]\n",
        "  for a in list2:\n",
        "    if a > max:\n",
        "      max = a\n",
        "  return max\n",
        "\n",
        "print(\"Using loop: \", max_list(list2))\n"
      ],
      "metadata": {
        "colab": {
          "base_uri": "https://localhost:8080/"
        },
        "id": "pG8yZqwZjkNe",
        "outputId": "d86c773b-3780-4dec-d465-c586c01f39dd"
      },
      "execution_count": 10,
      "outputs": [
        {
          "output_type": "stream",
          "name": "stdout",
          "text": [
            "Largest Number:  98\n",
            "Using loop:  98\n"
          ]
        }
      ]
    },
    {
      "cell_type": "markdown",
      "source": [
        "4. Write a Python program to get the smallest number from a list."
      ],
      "metadata": {
        "id": "GN4QK8rTkJLI"
      }
    },
    {
      "cell_type": "code",
      "source": [
        "list3 = [34,12,5,89,20]\n",
        "\n",
        "#Using sort\n",
        "list3.sort()\n",
        "print(\"Smallest Number: \", list3[0])\n",
        "\n",
        "#Using loop\n",
        "\n",
        "def min_list(list):\n",
        "  min = list3[0]\n",
        "  for a in list3:\n",
        "    if a < min:\n",
        "      min = a\n",
        "  return min\n",
        "print(\"Min using loop: \", min_list(list3))"
      ],
      "metadata": {
        "colab": {
          "base_uri": "https://localhost:8080/"
        },
        "id": "CGAgQkV2kMWl",
        "outputId": "fdf85d75-706c-4fa9-8fe9-43e970ac3088"
      },
      "execution_count": 11,
      "outputs": [
        {
          "output_type": "stream",
          "name": "stdout",
          "text": [
            "Smallest Number:  5\n",
            "Min using loop:  5\n"
          ]
        }
      ]
    },
    {
      "cell_type": "markdown",
      "source": [
        "5. Write a Python program to count the number of strings from a given list of strings. The string length is 2 or more and the first and last characters are the same.\n",
        "Sample List : ['abc', 'xyz', 'aba', '1221']\n",
        "Expected Result : 2"
      ],
      "metadata": {
        "id": "uup1eqJGlk-2"
      }
    },
    {
      "cell_type": "code",
      "source": [
        "Sample_list = ['abc', 'xyz', 'aba', '1221']\n",
        "\n",
        "score = 0\n",
        "\n",
        "for l in Sample_list:\n",
        "   if len(l)>1 and l[0] == l[-1]:\n",
        "      score += 1\n",
        "\n",
        "print(score)\n"
      ],
      "metadata": {
        "colab": {
          "base_uri": "https://localhost:8080/"
        },
        "id": "atbmgdrkm9Sx",
        "outputId": "acd81a83-25a2-4984-9b4c-e8bbaeae2e8c"
      },
      "execution_count": 16,
      "outputs": [
        {
          "output_type": "stream",
          "name": "stdout",
          "text": [
            "2\n"
          ]
        }
      ]
    },
    {
      "cell_type": "markdown",
      "source": [
        "6. Write a Python program to get a list, sorted in increasing order by the last element in each tuple from a given list of non-empty tuples.\n",
        "Sample List : [(2, 5), (1, 2), (4, 4), (2, 3), (2, 1)]\n",
        "Expected Result : [(2, 1), (1, 2), (2, 3), (4, 4), (2, 5)]\n",
        "\n"
      ],
      "metadata": {
        "id": "y6kv_0aSnyNN"
      }
    },
    {
      "cell_type": "code",
      "source": [
        "Sample_list1 = [(2, 5), (1, 2), (4, 4), (2, 3), (2, 1)]\n",
        "\n",
        "sorted_list = sorted(Sample_list1, key = lambda x:x[-1])\n",
        "\n",
        "print(sorted_list)"
      ],
      "metadata": {
        "colab": {
          "base_uri": "https://localhost:8080/"
        },
        "id": "cWF_CRaWnzab",
        "outputId": "fa47a537-142c-4c34-ec89-47c6e57063d4"
      },
      "execution_count": 22,
      "outputs": [
        {
          "output_type": "stream",
          "name": "stdout",
          "text": [
            "[(2, 1), (1, 2), (2, 3), (4, 4), (2, 5)]\n"
          ]
        }
      ]
    },
    {
      "cell_type": "markdown",
      "source": [
        "7. Write a Python program to remove duplicates from a list."
      ],
      "metadata": {
        "id": "v-dE4yA4p4Uc"
      }
    },
    {
      "cell_type": "code",
      "source": [
        "list4 = [2,5,3,6,2,6,2,5,3,6]\n",
        "unique_list = []\n",
        "\n",
        "for l in list4:\n",
        "  if l not in unique_list:\n",
        "    unique_list.append(l)\n",
        "print(unique_list)"
      ],
      "metadata": {
        "colab": {
          "base_uri": "https://localhost:8080/"
        },
        "id": "XtBGxnXbp6BG",
        "outputId": "96ac06e9-679c-452f-fc15-0704f546ce28"
      },
      "execution_count": 24,
      "outputs": [
        {
          "output_type": "stream",
          "name": "stdout",
          "text": [
            "[2, 5, 3, 6]\n"
          ]
        }
      ]
    },
    {
      "cell_type": "markdown",
      "source": [
        "8. Write a Python program to check if a list is empty or not."
      ],
      "metadata": {
        "id": "cCbnkCuerQYZ"
      }
    },
    {
      "cell_type": "code",
      "source": [
        "def empty_check(list):\n",
        "  if len(list) == 0:\n",
        "    print(\"Empty\")\n",
        "  else:\n",
        "    print(\"Not Empty\")\n",
        "em = []\n",
        "empty_check(list4)\n",
        "empty_check(em)"
      ],
      "metadata": {
        "colab": {
          "base_uri": "https://localhost:8080/"
        },
        "id": "grHcztthrRvr",
        "outputId": "66cdbae0-e942-4d3e-e3ff-c5bca11a70cc"
      },
      "execution_count": 25,
      "outputs": [
        {
          "output_type": "stream",
          "name": "stdout",
          "text": [
            "Not Empty\n",
            "Empty\n"
          ]
        }
      ]
    },
    {
      "cell_type": "markdown",
      "source": [
        "9. Write a Python program to clone or copy a list."
      ],
      "metadata": {
        "id": "m63qcjBcr4J9"
      }
    },
    {
      "cell_type": "code",
      "source": [
        "def clone_list(list):\n",
        "  clone = []\n",
        "  for l in list:\n",
        "    clone.append(l)\n",
        "  return clone\n",
        "\n",
        "print(\"Cloned List: \", clone_list(list3))"
      ],
      "metadata": {
        "colab": {
          "base_uri": "https://localhost:8080/"
        },
        "id": "L1-USghGr5fp",
        "outputId": "5dc5852a-1392-4057-b02d-34321e48650f"
      },
      "execution_count": 27,
      "outputs": [
        {
          "output_type": "stream",
          "name": "stdout",
          "text": [
            "Cloned List:  [5, 12, 20, 34, 89]\n"
          ]
        }
      ]
    },
    {
      "cell_type": "markdown",
      "source": [
        "10. Write a Python program to find the list of words that are longer than n from a given list of words."
      ],
      "metadata": {
        "id": "7W6Bq1gMsQmL"
      }
    },
    {
      "cell_type": "code",
      "source": [
        "words1 = ['abc', 'xyxz', 'ad', 'a', 'ghsgj']\n",
        "word2 = []\n",
        "def wcount(list, n):\n",
        "  word2 = []\n",
        "  for l in list:\n",
        "    if len(l) < n:\n",
        "      word2.append(l)\n",
        "  return word2\n",
        "\n",
        "print(\"Count list: \", wcount(words1, 4))\n",
        "\n"
      ],
      "metadata": {
        "colab": {
          "base_uri": "https://localhost:8080/"
        },
        "id": "vpfKMW9SsWOz",
        "outputId": "23d7dbe6-794c-4fd8-f1de-a49e1843fe4f"
      },
      "execution_count": 29,
      "outputs": [
        {
          "output_type": "stream",
          "name": "stdout",
          "text": [
            "Count list:  ['abc', 'ad', 'a']\n"
          ]
        }
      ]
    }
  ]
}