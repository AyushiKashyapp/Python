{
  "nbformat": 4,
  "nbformat_minor": 0,
  "metadata": {
    "colab": {
      "provenance": [],
      "authorship_tag": "ABX9TyMWlxZsxiSDIRza1QfjPM8C",
      "include_colab_link": true
    },
    "kernelspec": {
      "name": "python3",
      "display_name": "Python 3"
    },
    "language_info": {
      "name": "python"
    }
  },
  "cells": [
    {
      "cell_type": "markdown",
      "metadata": {
        "id": "view-in-github",
        "colab_type": "text"
      },
      "source": [
        "<a href=\"https://colab.research.google.com/github/AyushiKashyapp/Python/blob/main/Lists.ipynb\" target=\"_parent\"><img src=\"https://colab.research.google.com/assets/colab-badge.svg\" alt=\"Open In Colab\"/></a>"
      ]
    },
    {
      "cell_type": "markdown",
      "source": [
        "# Lists\n",
        "\n",
        "Lists are used to store multiple items in a single variable.\n",
        "\n",
        "Items are ordered, unchangeable and allow duplicate values."
      ],
      "metadata": {
        "id": "HbAXJduNxiU-"
      }
    },
    {
      "cell_type": "code",
      "source": [
        "# Creating lists\n",
        "fruits = ['banana', 'apple', 'cherry', 'apple', 4, 5, True]\n",
        "veggies = list(('carrots', 'onions', 'capsicum', 'beans', 'tomato'))\n",
        "\n",
        "# Accessing lists\n",
        "print(\"The list has elements: \",fruits)\n",
        "print(\"Length of the list is:\", len(fruits))\n",
        "print(\"Fruits is of type:\", type(fruits))"
      ],
      "metadata": {
        "colab": {
          "base_uri": "https://localhost:8080/"
        },
        "id": "SOIoE8GhxzWZ",
        "outputId": "839cb3e7-b534-48e3-d47d-1848073c5b6e"
      },
      "execution_count": null,
      "outputs": [
        {
          "output_type": "stream",
          "name": "stdout",
          "text": [
            "The list has elements:  ['banana', 'apple', 'cherry', 'apple', 4, 5, True]\n",
            "Length of the list is: 7\n",
            "Fruits is of type: <class 'list'>\n"
          ]
        }
      ]
    },
    {
      "cell_type": "markdown",
      "source": [
        "2. Accessing list items."
      ],
      "metadata": {
        "id": "LiaLqoFLy14A"
      }
    },
    {
      "cell_type": "code",
      "source": [
        "print(\"Second vegetable is:\", veggies[1])\n",
        "print(\"Second Last vegetable is: \", veggies[-2])\n",
        "print(\"Vegetables in range 2:4 are: \", veggies[2:4])\n",
        "print(\"Vegetables in range :4 are: \", veggies[:4]) # Include from Start till 4\n",
        "print(\"Vegetables in range 2: are: \", veggies[2:]) # Include from 2 till last\n",
        "print(\"Vegetables in range -4:-2 are: \", veggies[-4:-2]) # Search from end of list\n",
        "\n",
        "if(\"beans\" in veggies):\n",
        "  print(\"Beans is available in the veggies.\")"
      ],
      "metadata": {
        "colab": {
          "base_uri": "https://localhost:8080/"
        },
        "id": "_IiC7mhlyis6",
        "outputId": "02a2275f-0272-49ce-ec39-251fb2d3eb94"
      },
      "execution_count": null,
      "outputs": [
        {
          "output_type": "stream",
          "name": "stdout",
          "text": [
            "Second vegetable is: onions\n",
            "Second Last vegetable is:  beans\n",
            "Vegetables in range 2:4 are:  ['capsicum', 'beans']\n",
            "Vegetables in range :4 are:  ['carrots', 'onions', 'capsicum', 'beans']\n",
            "Vegetables in range 2: are:  ['capsicum', 'beans', 'tomato']\n",
            "Vegetables in range -4:-2 are:  ['onions', 'capsicum']\n",
            "Beans is available in the veggies.\n"
          ]
        }
      ]
    },
    {
      "cell_type": "markdown",
      "source": [
        "3. Change list item."
      ],
      "metadata": {
        "id": "YDx7vVHo0VNz"
      }
    },
    {
      "cell_type": "code",
      "source": [
        "fruits[2] = 'orange' # Change a single item\n",
        "print(\"Second fruit changed to: \", fruits[2])\n",
        "\n",
        "fruits[1:2] = ['pears', 'berries'] # Change a range of items\n",
        "print(fruits)\n",
        "print(\"Range of fruits 1:2 is changed to: \", fruits[1:3])\n",
        "\n",
        "fruits[1:2] = ['melon'] # Chnging only one value while specifying 2 in the range\n",
        "print(fruits)\n",
        "print(\"Range of fruits 1:2 is changed to: \", fruits[1:3])\n",
        "\n",
        "fruits.insert(4, 'kinu')\n",
        "print(\"Newly inserted fruit is: \", fruits[4])"
      ],
      "metadata": {
        "colab": {
          "base_uri": "https://localhost:8080/"
        },
        "id": "0owEzJDP0a5z",
        "outputId": "abe1e5fc-c657-4cf1-a8bb-02b9b3342a33"
      },
      "execution_count": null,
      "outputs": [
        {
          "output_type": "stream",
          "name": "stdout",
          "text": [
            "Second fruit changed to:  orange\n",
            "['banana', 'pears', 'berries', 'orange', 'apple', 4, 5, True]\n",
            "Range of fruits 1:2 is changed to:  ['pears', 'berries']\n",
            "['banana', 'melon', 'berries', 'orange', 'apple', 4, 5, True]\n",
            "Range of fruits 1:2 is changed to:  ['melon', 'berries']\n",
            "Newly inserted fruit is:  kinu\n"
          ]
        }
      ]
    },
    {
      "cell_type": "markdown",
      "source": [
        "4. Add list items"
      ],
      "metadata": {
        "id": "w9oq74443M3W"
      }
    },
    {
      "cell_type": "code",
      "source": [
        "fruits.append('grapes') # Append item to fruits list\n",
        "print(\"Appended fruit to fruits list: \",fruits[-1])\n",
        "\n",
        "fruits.insert(5, 'peaches') # Insert at a particular index in the list\n",
        "print(\"Inserted fruit to fruits list: \", fruits[5])\n",
        "\n",
        "meal = fruits\n",
        "meal.extend(veggies) # Append items of other list to the current list\n",
        "print(\"Fruits + Veggies: \", meal)\n",
        "\n",
        "fruit_tuple = ('watermelon', 'green apple')\n",
        "meal.extend(fruit_tuple) # .extend() can append any iterable: tuple, dictionary, list, sets, etc.\n",
        "print(\"List Meal + Tuple fruit_tuple :\", meal)"
      ],
      "metadata": {
        "colab": {
          "base_uri": "https://localhost:8080/"
        },
        "id": "6ti8jiMCX39D",
        "outputId": "9f414755-75a6-4875-decf-d8b9fab1d405"
      },
      "execution_count": null,
      "outputs": [
        {
          "output_type": "stream",
          "name": "stdout",
          "text": [
            "Appended fruit to fruits list:  grapes\n",
            "Inserted fruit to fruits list:  peaches\n",
            "Fruits + Veggies:  ['banana', 'melon', 'berries', 'orange', 'kinu', 'peaches', 'peaches', 'peaches', 'peaches', 'peaches', 'peaches', 'apple', 4, 5, True, 'grapes', 'grapes', 'grapes', 'carrots', 'onions', 'capsicum', 'beans', 'tomato', 'grapes', 'carrots', 'onions', 'capsicum', 'beans', 'tomato', 'grapes', 'carrots', 'onions', 'capsicum', 'beans', 'tomato', 'grapes', 'carrots', 'onions', 'capsicum', 'beans', 'tomato', 'grapes', 'carrots', 'onions', 'capsicum', 'beans', 'tomato']\n",
            "List Meal + Tuple fruit_tuple : ['banana', 'melon', 'berries', 'orange', 'kinu', 'peaches', 'peaches', 'peaches', 'peaches', 'peaches', 'peaches', 'apple', 4, 5, True, 'grapes', 'grapes', 'grapes', 'carrots', 'onions', 'capsicum', 'beans', 'tomato', 'grapes', 'carrots', 'onions', 'capsicum', 'beans', 'tomato', 'grapes', 'carrots', 'onions', 'capsicum', 'beans', 'tomato', 'grapes', 'carrots', 'onions', 'capsicum', 'beans', 'tomato', 'grapes', 'carrots', 'onions', 'capsicum', 'beans', 'tomato', 'watermelon', 'green apple']\n"
          ]
        }
      ]
    },
    {
      "cell_type": "markdown",
      "source": [
        "5. Remove list item"
      ],
      "metadata": {
        "id": "QuIL-Xj_Zq-t"
      }
    },
    {
      "cell_type": "code",
      "source": [
        "fruits.remove('melon') # If more than one occurance are there, then .remove() will remove the first occurance\n",
        "fruits.pop(4) # If no index is specified, .pop() will remove the last element\n",
        "del fruits[8] # Remove element at a specific index\n",
        "del meal # Delete the list entirely\n",
        "fruits.clear() # Empties the list"
      ],
      "metadata": {
        "id": "I54jszu2a_DO"
      },
      "execution_count": null,
      "outputs": []
    },
    {
      "cell_type": "markdown",
      "source": [
        "6. Loop through a list"
      ],
      "metadata": {
        "id": "-Qxw7nbJbynm"
      }
    },
    {
      "cell_type": "code",
      "source": [
        "for i in veggies: # Loop though the element\n",
        "  print (i)"
      ],
      "metadata": {
        "colab": {
          "base_uri": "https://localhost:8080/"
        },
        "id": "SEEkBfMLb2IM",
        "outputId": "0f257e48-8d11-45a1-af30-3b85228b0e1d"
      },
      "execution_count": null,
      "outputs": [
        {
          "output_type": "stream",
          "name": "stdout",
          "text": [
            "carrots\n",
            "onions\n",
            "capsicum\n",
            "beans\n",
            "tomato\n"
          ]
        }
      ]
    },
    {
      "cell_type": "code",
      "source": [
        "for i in range(len(veggies)): # Loop through with index numbers\n",
        "  print(veggies[i])"
      ],
      "metadata": {
        "colab": {
          "base_uri": "https://localhost:8080/"
        },
        "id": "F_N_czxMcMl-",
        "outputId": "7408f028-8a8f-46fb-95fb-c38c55e7f9c2"
      },
      "execution_count": null,
      "outputs": [
        {
          "output_type": "stream",
          "name": "stdout",
          "text": [
            "carrots\n",
            "onions\n",
            "capsicum\n",
            "beans\n",
            "tomato\n"
          ]
        }
      ]
    },
    {
      "cell_type": "code",
      "source": [
        "i = 0\n",
        "while i < len(veggies):\n",
        "  print(veggies[i])\n",
        "  i = i+1"
      ],
      "metadata": {
        "colab": {
          "base_uri": "https://localhost:8080/"
        },
        "id": "4jgc8PRlckZN",
        "outputId": "0991ce7f-0e7b-4336-818b-ebbf0da149bf"
      },
      "execution_count": null,
      "outputs": [
        {
          "output_type": "stream",
          "name": "stdout",
          "text": [
            "carrots\n",
            "onions\n",
            "capsicum\n",
            "beans\n",
            "tomato\n"
          ]
        }
      ]
    },
    {
      "cell_type": "markdown",
      "source": [
        "7. List Comprehension\n",
        "\n",
        "***expression* for *item* in *iterable* if *condition* == True**"
      ],
      "metadata": {
        "id": "mmwDPSkGc3zV"
      }
    },
    {
      "cell_type": "code",
      "source": [
        "[print(i) for i in veggies]"
      ],
      "metadata": {
        "colab": {
          "base_uri": "https://localhost:8080/"
        },
        "id": "Zc9fTAiPc3ZU",
        "outputId": "083a6073-e3b2-4f3e-cc88-d0439c21cb93"
      },
      "execution_count": null,
      "outputs": [
        {
          "output_type": "stream",
          "name": "stdout",
          "text": [
            "carrots\n",
            "onions\n",
            "capsicum\n",
            "beans\n",
            "tomato\n"
          ]
        },
        {
          "output_type": "execute_result",
          "data": {
            "text/plain": [
              "[None, None, None, None, None]"
            ]
          },
          "metadata": {},
          "execution_count": 18
        }
      ]
    },
    {
      "cell_type": "code",
      "source": [
        "# Creating a new list based on the values of an old list\n",
        "\n",
        "new_list = []\n",
        "for i in veggies:\n",
        "  if \"a\" in i:\n",
        "    new_list.append(i)\n",
        "print(\"New list using for loop: \",new_list)\n",
        "\n",
        "# Using List Comprehension to create a new list based on the element of an old list\n",
        "new_list_2 = [i for i in veggies if \"a\" in i]\n",
        "print(\"New list using List Comprehension: \",new_list_2)\n",
        "\n",
        "# Condition ------ A filter which holds when the condition is True\n",
        "new_list3 = [x for x in veggies if x != \"beans\"]\n",
        "print(\"Condition when veggies is not beans: \", new_list3)\n",
        "\n",
        "# Iterable ------- Can be any iterable object like a list, tuple, set, dictionary,...\n",
        "new_list4 = [x for x in veggies]\n",
        "print(\"Iterating over veggies list: \", new_list4)\n",
        "\n",
        "# Expression is the current item in the list, which can be manipulated before adding to the new list\n",
        "new_list5 = [x.upper() for x in veggies]\n",
        "print(\"Expression to add veggies in upper cases: \", new_list5)\n",
        "\n",
        "# The expression can also contain conditions, not like a filter, but as a way to manipulate the outcome: Return Spring Onion instead of Onion\n",
        "new_list6 = [x if x != \"onions\" else \"spring onion\" for x in veggies]\n",
        "print(\"Expression defining Spring Onion instead of Onion: \", new_list6)"
      ],
      "metadata": {
        "colab": {
          "base_uri": "https://localhost:8080/"
        },
        "id": "_E7sC1jZdX6_",
        "outputId": "71cb48fa-4ce5-4b57-e359-71ea9586ea12"
      },
      "execution_count": null,
      "outputs": [
        {
          "output_type": "stream",
          "name": "stdout",
          "text": [
            "New list using for loop:  ['carrots', 'capsicum', 'beans', 'tomato']\n",
            "New list using List Comprehension:  ['carrots', 'capsicum', 'beans', 'tomato']\n",
            "Condition when veggies is not beans:  ['carrots', 'onions', 'capsicum', 'tomato']\n",
            "Iterating over veggies list:  ['carrots', 'onions', 'capsicum', 'beans', 'tomato']\n",
            "Expression to add veggies in upper cases:  ['CARROTS', 'ONIONS', 'CAPSICUM', 'BEANS', 'TOMATO']\n",
            "Expression defining Spring Onion instead of Onion:  ['carrots', 'spring onion', 'capsicum', 'beans', 'tomato']\n"
          ]
        }
      ]
    },
    {
      "cell_type": "markdown",
      "source": [
        "8. Sort List"
      ],
      "metadata": {
        "id": "aAku9ibeiBTp"
      }
    },
    {
      "cell_type": "code",
      "source": [
        "veggies.sort() # Sort Ascending\n",
        "print(\"Alphanumerically sorted list, Ascending: \", veggies)\n",
        "\n",
        "veggies.sort(reverse= True) # Sort Descending\n",
        "print(\"Alphanumerically sorted list, Descending: \", veggies)\n",
        "\n",
        "veggies.reverse() # Reverse the order of the list regardless of the alphabets of the elements\n",
        "print(\"Reversed order of the list: \", veggies)"
      ],
      "metadata": {
        "colab": {
          "base_uri": "https://localhost:8080/"
        },
        "id": "f5l_rF4XiEaT",
        "outputId": "0aa74246-2be7-4cb1-de24-60526e7c5ffe"
      },
      "execution_count": null,
      "outputs": [
        {
          "output_type": "stream",
          "name": "stdout",
          "text": [
            "Alphanumerically sorted list, Ascending:  ['beans', 'capsicum', 'carrots', 'onions', 'tomato']\n",
            "Alphanumerically sorted list, Descending:  ['tomato', 'onions', 'carrots', 'capsicum', 'beans']\n",
            "Reversed order of the list:  ['beans', 'capsicum', 'carrots', 'onions', 'tomato']\n"
          ]
        }
      ]
    },
    {
      "cell_type": "markdown",
      "source": [
        "9. Copy list\n",
        "\n",
        "**You cannot copy a list simply by typing list2 = list1, because: list2 will only be a reference to list1, and changes made in list1 will automatically also be made in list2.**"
      ],
      "metadata": {
        "id": "PG7lD34rmJFf"
      }
    },
    {
      "cell_type": "code",
      "source": [
        "meal1 = veggies.copy() # Using .copy() method\n",
        "print(\"List Veggies copied to list Meal: \", meal)\n",
        "\n",
        "meal2 = list(veggies) # Using list()\n",
        "print(\"Creating new list Meal 2 using elements of list Veggies: \", meal2)\n",
        "\n",
        "meal3 = veggies[:]\n",
        "print(\"Creating new list Meal 3 using slice (:) operator: \", meal3)"
      ],
      "metadata": {
        "colab": {
          "base_uri": "https://localhost:8080/"
        },
        "id": "LLNqLu3HmRZL",
        "outputId": "c4181025-6cfd-4afc-94e0-750e49cbf374"
      },
      "execution_count": null,
      "outputs": [
        {
          "output_type": "stream",
          "name": "stdout",
          "text": [
            "List Veggies copied to list Meal:  ['beans', 'capsicum', 'carrots', 'onions', 'tomato']\n",
            "Creating new list Meal 2 using elements of list Veggies:  ['beans', 'capsicum', 'carrots', 'onions', 'tomato']\n",
            "Creating new list Meal 3 using slice (:) operator:  ['beans', 'capsicum', 'carrots', 'onions', 'tomato']\n"
          ]
        }
      ]
    },
    {
      "cell_type": "markdown",
      "source": [
        "10. Join Lists"
      ],
      "metadata": {
        "id": "gxw9WpienNnY"
      }
    },
    {
      "cell_type": "code",
      "source": [
        "new_list7 = veggies + meal3 # Using + Operator\n",
        "print(\"Concatenating two lists using + operator: \", new_list7)\n",
        "\n",
        "for i in meal: # Append each element from the old list to the new list\n",
        "  new_list7.append(i)\n",
        "print(\"Append each element from the old list to the new list: \", new_list7)\n",
        "\n",
        "meal.extend(new_list7) # Using .extend()\n",
        "print(\"Extending the list with another list using .extend() :\", meal)"
      ],
      "metadata": {
        "colab": {
          "base_uri": "https://localhost:8080/"
        },
        "id": "JpgvjNbQnRl_",
        "outputId": "e9181d9f-9f57-4ee0-adb4-8650e4be7f92"
      },
      "execution_count": null,
      "outputs": [
        {
          "output_type": "stream",
          "name": "stdout",
          "text": [
            "Concatenating two lists using + operator:  ['beans', 'capsicum', 'carrots', 'onions', 'tomato', 'beans', 'capsicum', 'carrots', 'onions', 'tomato']\n",
            "Append each element from the old list to the new list:  ['beans', 'capsicum', 'carrots', 'onions', 'tomato', 'beans', 'capsicum', 'carrots', 'onions', 'tomato', 'beans', 'capsicum', 'carrots', 'onions', 'tomato']\n",
            "Extending the list with another list using .extend() : ['beans', 'capsicum', 'carrots', 'onions', 'tomato', 'beans', 'capsicum', 'carrots', 'onions', 'tomato', 'beans', 'capsicum', 'carrots', 'onions', 'tomato', 'beans', 'capsicum', 'carrots', 'onions', 'tomato']\n"
          ]
        }
      ]
    },
    {
      "cell_type": "markdown",
      "source": [
        "# Exercises"
      ],
      "metadata": {
        "id": "3xGbelpJghGN"
      }
    },
    {
      "cell_type": "markdown",
      "source": [
        "1. Write a Python program to sum all the items in a list."
      ],
      "metadata": {
        "id": "pRW6X5IHgcsA"
      }
    },
    {
      "cell_type": "code",
      "source": [
        "list1 = [1,2,3,4,5]\n",
        "sum1 = 0\n",
        "\n",
        "# for loop\n",
        "for l in list1:\n",
        "  sum1 += l\n",
        "print(\"For loop: \",sum1)\n",
        "\n",
        "# list comprehension\n",
        "sum_value = sum([l for l in list1])\n",
        "print(\"List Comprehension: \",sum_value)\n",
        "\n",
        "# sum function\n",
        "print(\"Simplified sum function: \", sum(list1))"
      ],
      "metadata": {
        "colab": {
          "base_uri": "https://localhost:8080/"
        },
        "id": "3tSotSS1gb4g",
        "outputId": "e0a998ac-c589-4c73-ba49-1799d2d84402"
      },
      "execution_count": null,
      "outputs": [
        {
          "output_type": "stream",
          "name": "stdout",
          "text": [
            "For loop:  15\n",
            "List Comprehension:  15\n",
            "Simplified sum function:  15\n"
          ]
        }
      ]
    },
    {
      "cell_type": "markdown",
      "source": [
        "2. Write a Python program to multiply all the items in a list."
      ],
      "metadata": {
        "id": "evyO7ryHivpU"
      }
    },
    {
      "cell_type": "code",
      "source": [
        "# for loop\n",
        "\n",
        "product1 = 1\n",
        "for l in list1:\n",
        "  product1 = product1 * l\n",
        "print(\"For loop: \", product1)\n",
        "\n",
        "# List comprehension / Simplified\n",
        "import math\n",
        "product2 = math.prod(list1)\n",
        "print(\"List Comprehension/ Simplified: \", product2)"
      ],
      "metadata": {
        "colab": {
          "base_uri": "https://localhost:8080/"
        },
        "id": "XnK1zd4Xiu0r",
        "outputId": "0b704e85-f1ae-4296-c2a6-4352e1bcd838"
      },
      "execution_count": null,
      "outputs": [
        {
          "output_type": "stream",
          "name": "stdout",
          "text": [
            "For loop:  120\n",
            "List Comprehension/ Simplified:  120\n"
          ]
        }
      ]
    },
    {
      "cell_type": "markdown",
      "source": [
        "3. Write a Python program to get the largest number from a list."
      ],
      "metadata": {
        "id": "7Fpjh-aHjkiT"
      }
    },
    {
      "cell_type": "code",
      "source": [
        "list2 = [45,73,98,54,12]\n",
        "\n",
        "#Using sort\n",
        "list2.sort()\n",
        "list2.reverse()\n",
        "print(\"Largest Number: \", list2[0])\n",
        "\n",
        "#Using loop\n",
        "def max_list(list):\n",
        "  max = list2[0]\n",
        "  for a in list2:\n",
        "    if a > max:\n",
        "      max = a\n",
        "  return max\n",
        "\n",
        "print(\"Using loop: \", max_list(list2))\n"
      ],
      "metadata": {
        "colab": {
          "base_uri": "https://localhost:8080/"
        },
        "id": "pG8yZqwZjkNe",
        "outputId": "d86c773b-3780-4dec-d465-c586c01f39dd"
      },
      "execution_count": null,
      "outputs": [
        {
          "output_type": "stream",
          "name": "stdout",
          "text": [
            "Largest Number:  98\n",
            "Using loop:  98\n"
          ]
        }
      ]
    },
    {
      "cell_type": "markdown",
      "source": [
        "4. Write a Python program to get the smallest number from a list."
      ],
      "metadata": {
        "id": "GN4QK8rTkJLI"
      }
    },
    {
      "cell_type": "code",
      "source": [
        "list3 = [34,12,5,89,20]\n",
        "\n",
        "#Using sort\n",
        "list3.sort()\n",
        "print(\"Smallest Number: \", list3[0])\n",
        "\n",
        "#Using loop\n",
        "\n",
        "def min_list(list):\n",
        "  min = list3[0]\n",
        "  for a in list3:\n",
        "    if a < min:\n",
        "      min = a\n",
        "  return min\n",
        "print(\"Min using loop: \", min_list(list3))"
      ],
      "metadata": {
        "colab": {
          "base_uri": "https://localhost:8080/"
        },
        "id": "CGAgQkV2kMWl",
        "outputId": "fdf85d75-706c-4fa9-8fe9-43e970ac3088"
      },
      "execution_count": null,
      "outputs": [
        {
          "output_type": "stream",
          "name": "stdout",
          "text": [
            "Smallest Number:  5\n",
            "Min using loop:  5\n"
          ]
        }
      ]
    },
    {
      "cell_type": "markdown",
      "source": [
        "5. Write a Python program to count the number of strings from a given list of strings. The string length is 2 or more and the first and last characters are the same.\n",
        "Sample List : ['abc', 'xyz', 'aba', '1221']\n",
        "Expected Result : 2"
      ],
      "metadata": {
        "id": "uup1eqJGlk-2"
      }
    },
    {
      "cell_type": "code",
      "source": [
        "Sample_list = ['abc', 'xyz', 'aba', '1221']\n",
        "\n",
        "score = 0\n",
        "\n",
        "for l in Sample_list:\n",
        "   if len(l)>1 and l[0] == l[-1]:\n",
        "      score += 1\n",
        "\n",
        "print(score)\n"
      ],
      "metadata": {
        "colab": {
          "base_uri": "https://localhost:8080/"
        },
        "id": "atbmgdrkm9Sx",
        "outputId": "acd81a83-25a2-4984-9b4c-e8bbaeae2e8c"
      },
      "execution_count": null,
      "outputs": [
        {
          "output_type": "stream",
          "name": "stdout",
          "text": [
            "2\n"
          ]
        }
      ]
    },
    {
      "cell_type": "markdown",
      "source": [
        "6. Write a Python program to get a list, sorted in increasing order by the last element in each tuple from a given list of non-empty tuples.\n",
        "Sample List : [(2, 5), (1, 2), (4, 4), (2, 3), (2, 1)]\n",
        "Expected Result : [(2, 1), (1, 2), (2, 3), (4, 4), (2, 5)]\n",
        "\n"
      ],
      "metadata": {
        "id": "y6kv_0aSnyNN"
      }
    },
    {
      "cell_type": "code",
      "source": [
        "Sample_list1 = [(2, 5), (1, 2), (4, 4), (2, 3), (2, 1)]\n",
        "\n",
        "sorted_list = sorted(Sample_list1, key = lambda x:x[-1])\n",
        "\n",
        "print(sorted_list)"
      ],
      "metadata": {
        "colab": {
          "base_uri": "https://localhost:8080/"
        },
        "id": "cWF_CRaWnzab",
        "outputId": "fa47a537-142c-4c34-ec89-47c6e57063d4"
      },
      "execution_count": null,
      "outputs": [
        {
          "output_type": "stream",
          "name": "stdout",
          "text": [
            "[(2, 1), (1, 2), (2, 3), (4, 4), (2, 5)]\n"
          ]
        }
      ]
    },
    {
      "cell_type": "markdown",
      "source": [
        "7. Write a Python program to remove duplicates from a list."
      ],
      "metadata": {
        "id": "v-dE4yA4p4Uc"
      }
    },
    {
      "cell_type": "code",
      "source": [
        "list4 = [2,5,3,6,2,6,2,5,3,6]\n",
        "unique_list = []\n",
        "\n",
        "for l in list4:\n",
        "  if l not in unique_list:\n",
        "    unique_list.append(l)\n",
        "print(unique_list)"
      ],
      "metadata": {
        "colab": {
          "base_uri": "https://localhost:8080/"
        },
        "id": "XtBGxnXbp6BG",
        "outputId": "96ac06e9-679c-452f-fc15-0704f546ce28"
      },
      "execution_count": null,
      "outputs": [
        {
          "output_type": "stream",
          "name": "stdout",
          "text": [
            "[2, 5, 3, 6]\n"
          ]
        }
      ]
    },
    {
      "cell_type": "markdown",
      "source": [
        "8. Write a Python program to check if a list is empty or not."
      ],
      "metadata": {
        "id": "cCbnkCuerQYZ"
      }
    },
    {
      "cell_type": "code",
      "source": [
        "def empty_check(list):\n",
        "  if len(list) == 0:\n",
        "    print(\"Empty\")\n",
        "  else:\n",
        "    print(\"Not Empty\")\n",
        "em = []\n",
        "empty_check(list4)\n",
        "empty_check(em)"
      ],
      "metadata": {
        "colab": {
          "base_uri": "https://localhost:8080/"
        },
        "id": "grHcztthrRvr",
        "outputId": "66cdbae0-e942-4d3e-e3ff-c5bca11a70cc"
      },
      "execution_count": null,
      "outputs": [
        {
          "output_type": "stream",
          "name": "stdout",
          "text": [
            "Not Empty\n",
            "Empty\n"
          ]
        }
      ]
    },
    {
      "cell_type": "markdown",
      "source": [
        "9. Write a Python program to clone or copy a list."
      ],
      "metadata": {
        "id": "m63qcjBcr4J9"
      }
    },
    {
      "cell_type": "code",
      "source": [
        "def clone_list(list):\n",
        "  clone = []\n",
        "  for l in list:\n",
        "    clone.append(l)\n",
        "  return clone\n",
        "\n",
        "print(\"Cloned List: \", clone_list(list3))"
      ],
      "metadata": {
        "colab": {
          "base_uri": "https://localhost:8080/"
        },
        "id": "L1-USghGr5fp",
        "outputId": "5dc5852a-1392-4057-b02d-34321e48650f"
      },
      "execution_count": null,
      "outputs": [
        {
          "output_type": "stream",
          "name": "stdout",
          "text": [
            "Cloned List:  [5, 12, 20, 34, 89]\n"
          ]
        }
      ]
    },
    {
      "cell_type": "markdown",
      "source": [
        "10. Write a Python program to find the list of words that are longer than n from a given list of words."
      ],
      "metadata": {
        "id": "7W6Bq1gMsQmL"
      }
    },
    {
      "cell_type": "code",
      "source": [
        "words1 = ['abc', 'xyxz', 'ad', 'a', 'ghsgj']\n",
        "\n",
        "def wcount(list, n):\n",
        "  word2 = []\n",
        "  for l in list:\n",
        "    if len(l) < n:\n",
        "      word2.append(l)\n",
        "  return word2\n",
        "\n",
        "print(\"Count list: \", wcount(words1, 4))"
      ],
      "metadata": {
        "colab": {
          "base_uri": "https://localhost:8080/"
        },
        "id": "vpfKMW9SsWOz",
        "outputId": "23d7dbe6-794c-4fd8-f1de-a49e1843fe4f"
      },
      "execution_count": null,
      "outputs": [
        {
          "output_type": "stream",
          "name": "stdout",
          "text": [
            "Count list:  ['abc', 'ad', 'a']\n"
          ]
        }
      ]
    },
    {
      "cell_type": "markdown",
      "source": [
        "11. Write a Python function that takes two lists and returns True if they have at least one common member.\n"
      ],
      "metadata": {
        "id": "J1LZHNjgkozb"
      }
    },
    {
      "cell_type": "code",
      "source": [
        "def common_list(list1 = [],list2 = []):\n",
        "  for l in list1:\n",
        "    if l in list2:\n",
        "        return True\n",
        "    else:\n",
        "        return False\n",
        "\n",
        "l1 = [3,4,2,4,3]\n",
        "l2 = [9,8,5,0,3]\n",
        "\n",
        "print(\"List Common: \", common_list(l1, l2))"
      ],
      "metadata": {
        "colab": {
          "base_uri": "https://localhost:8080/"
        },
        "id": "PmVtcDMhkp6A",
        "outputId": "d3b5f771-d920-4df0-d3d9-a2b0d7234ff2"
      },
      "execution_count": null,
      "outputs": [
        {
          "output_type": "stream",
          "name": "stdout",
          "text": [
            "List Common:  True\n"
          ]
        }
      ]
    },
    {
      "cell_type": "markdown",
      "source": [
        "12. Write a Python program to print a specified list after removing the 0th, 4th and 5th elements.\n",
        "Sample List : ['Red', 'Green', 'White', 'Black', 'Pink', 'Yellow']\n",
        "Expected Output : ['Green', 'White', 'Black']"
      ],
      "metadata": {
        "id": "IwSityXBmOOP"
      }
    },
    {
      "cell_type": "code",
      "source": [
        "Sample_List = ['Red', 'Green', 'White', 'Black', 'Pink', 'Yellow']\n",
        "\n",
        "def remove_ele(list1 = []):\n",
        "  del list1[5]\n",
        "  del list1[4]\n",
        "  del list1[0]\n",
        "  return list1\n",
        "\n",
        "print(\"List after removal: \", remove_ele(Sample_List))"
      ],
      "metadata": {
        "colab": {
          "base_uri": "https://localhost:8080/"
        },
        "id": "vDUUbwCimNw2",
        "outputId": "03b4450b-d72f-4695-b239-042199ada7af"
      },
      "execution_count": null,
      "outputs": [
        {
          "output_type": "stream",
          "name": "stdout",
          "text": [
            "List after removal:  ['Green', 'White', 'Black']\n"
          ]
        }
      ]
    },
    {
      "cell_type": "markdown",
      "source": [
        "13. Write a Python program to generate a 3 x 4 x 6 3D array whose each element is *."
      ],
      "metadata": {
        "id": "6K173u53npX0"
      }
    },
    {
      "cell_type": "code",
      "source": [
        "array3d = [[['*' for _ in range(6)] for _ in range(4)] for _ in range(3)]\n",
        "\n",
        "for l in array3d:\n",
        "  print(l)"
      ],
      "metadata": {
        "colab": {
          "base_uri": "https://localhost:8080/"
        },
        "id": "A6JeX3cZnpFh",
        "outputId": "faa1f69b-5484-4518-b6b3-24d451a65969"
      },
      "execution_count": null,
      "outputs": [
        {
          "output_type": "stream",
          "name": "stdout",
          "text": [
            "[['*', '*', '*', '*', '*', '*'], ['*', '*', '*', '*', '*', '*'], ['*', '*', '*', '*', '*', '*'], ['*', '*', '*', '*', '*', '*']]\n",
            "[['*', '*', '*', '*', '*', '*'], ['*', '*', '*', '*', '*', '*'], ['*', '*', '*', '*', '*', '*'], ['*', '*', '*', '*', '*', '*']]\n",
            "[['*', '*', '*', '*', '*', '*'], ['*', '*', '*', '*', '*', '*'], ['*', '*', '*', '*', '*', '*'], ['*', '*', '*', '*', '*', '*']]\n"
          ]
        }
      ]
    },
    {
      "cell_type": "markdown",
      "source": [
        "14. Write a Python program to print the numbers of a specified list after removing even numbers from it.\n"
      ],
      "metadata": {
        "id": "BUkCS6Jdq5CR"
      }
    },
    {
      "cell_type": "code",
      "source": [
        "def remove_even(list1 = []):\n",
        "  odd_list = []\n",
        "  for l in list1:\n",
        "    if l % 2 != 0:\n",
        "      odd_list.append(l)\n",
        "  return odd_list\n",
        "\n",
        "list5 = [3,2,5,4,7,6]\n",
        "\n",
        "print(\"List after removing even: \", remove_even(list5))\n"
      ],
      "metadata": {
        "colab": {
          "base_uri": "https://localhost:8080/"
        },
        "id": "62eZE7pBq6IU",
        "outputId": "7de060ea-d642-4f64-94eb-b35895a5bf1b"
      },
      "execution_count": null,
      "outputs": [
        {
          "output_type": "stream",
          "name": "stdout",
          "text": [
            "List after removing even:  [3, 5, 7]\n"
          ]
        }
      ]
    },
    {
      "cell_type": "markdown",
      "source": [
        "15. Write a Python program to shuffle and print a specified list."
      ],
      "metadata": {
        "id": "YYG_R_SdrnmK"
      }
    },
    {
      "cell_type": "code",
      "source": [
        "import random\n",
        "\n",
        "list6 = [4,5,3,5,2,8,6]\n",
        "random.shuffle(list6)\n",
        "print(\"Shuffled List: \",list6)"
      ],
      "metadata": {
        "colab": {
          "base_uri": "https://localhost:8080/"
        },
        "id": "atZyrYqVrpN_",
        "outputId": "4dce2774-e985-457d-ad89-eff3e4ae67d7"
      },
      "execution_count": null,
      "outputs": [
        {
          "output_type": "stream",
          "name": "stdout",
          "text": [
            "Shuffled List:  [8, 3, 5, 4, 5, 6, 2]\n"
          ]
        }
      ]
    },
    {
      "cell_type": "markdown",
      "source": [
        "16. Write a Python program to generate and print a list of the first and last 5 elements where the values are square numbers between 1 and 30 (both included)."
      ],
      "metadata": {
        "id": "UR4Sqg5rsTEw"
      }
    },
    {
      "cell_type": "code",
      "source": [
        "square_list = []\n",
        "i = 0\n",
        "\n",
        "for i in range(30):\n",
        "  square_list.append(i*i)\n",
        "\n",
        "five_list = square_list[:5] + square_list[-5:]\n",
        "\n",
        "print(\"First and Last five elements list: \", five_list)"
      ],
      "metadata": {
        "colab": {
          "base_uri": "https://localhost:8080/"
        },
        "id": "H4zsJqWKsXpw",
        "outputId": "26f0d64d-f425-4be2-e72b-0a190feffa7d"
      },
      "execution_count": null,
      "outputs": [
        {
          "output_type": "stream",
          "name": "stdout",
          "text": [
            "First and Last five elements list:  [0, 1, 4, 9, 16, 625, 676, 729, 784, 841]\n"
          ]
        }
      ]
    },
    {
      "cell_type": "markdown",
      "source": [
        "17. Write a Python program to check if each number is prime in a given list of numbers. Return True if all numbers are prime otherwise False.\n",
        "Sample Data:\n",
        "([0, 3, 4, 7, 9]) -> False\n",
        "([3, 5, 7, 13]) -> True\n",
        "([1, 5, 3]) -> False"
      ],
      "metadata": {
        "id": "0Gir6AKGt9uz"
      }
    },
    {
      "cell_type": "code",
      "source": [
        "from pickle import FALSE\n",
        "def is_prime(n):\n",
        "  if n < 2:\n",
        "    return False\n",
        "  for i in range(2, int(n**0.5)+1):\n",
        "    if n % i == 0:\n",
        "      return False\n",
        "  return True\n",
        "\n",
        "def prime_list(numbers):\n",
        "  return all(is_prime(num) for num in numbers)\n",
        "\n",
        "print(prime_list([0, 3, 4, 7, 9]))\n",
        "print(prime_list([3, 5, 7, 13]))\n",
        "print(prime_list([1, 5, 3]))\n"
      ],
      "metadata": {
        "colab": {
          "base_uri": "https://localhost:8080/"
        },
        "id": "QAEJGQswt9DQ",
        "outputId": "2885c641-2c4b-4afe-c114-540442185c81"
      },
      "execution_count": null,
      "outputs": [
        {
          "output_type": "stream",
          "name": "stdout",
          "text": [
            "False\n",
            "True\n",
            "False\n"
          ]
        }
      ]
    },
    {
      "cell_type": "markdown",
      "source": [
        " 18. Write a  Python program to generate all permutations of a list in Python."
      ],
      "metadata": {
        "id": "Kr14AyxQxbeg"
      }
    },
    {
      "cell_type": "code",
      "source": [
        "import itertools\n",
        "\n",
        "list7 = [3,5,2,7,2,9]\n",
        "\n",
        "perm_list = list(itertools.permutations(list7))\n",
        "\n",
        "for perm in perm_list:\n",
        "  print(perm)"
      ],
      "metadata": {
        "colab": {
          "base_uri": "https://localhost:8080/"
        },
        "collapsed": true,
        "id": "jSx7y3RmxeLP",
        "outputId": "c4f48c78-7001-4927-cfbe-2eca3b73ae9e"
      },
      "execution_count": null,
      "outputs": [
        {
          "output_type": "stream",
          "name": "stdout",
          "text": [
            "(3, 5, 2, 7, 2, 9)\n",
            "(3, 5, 2, 7, 9, 2)\n",
            "(3, 5, 2, 2, 7, 9)\n",
            "(3, 5, 2, 2, 9, 7)\n",
            "(3, 5, 2, 9, 7, 2)\n",
            "(3, 5, 2, 9, 2, 7)\n",
            "(3, 5, 7, 2, 2, 9)\n",
            "(3, 5, 7, 2, 9, 2)\n",
            "(3, 5, 7, 2, 2, 9)\n",
            "(3, 5, 7, 2, 9, 2)\n",
            "(3, 5, 7, 9, 2, 2)\n",
            "(3, 5, 7, 9, 2, 2)\n",
            "(3, 5, 2, 2, 7, 9)\n",
            "(3, 5, 2, 2, 9, 7)\n",
            "(3, 5, 2, 7, 2, 9)\n",
            "(3, 5, 2, 7, 9, 2)\n",
            "(3, 5, 2, 9, 2, 7)\n",
            "(3, 5, 2, 9, 7, 2)\n",
            "(3, 5, 9, 2, 7, 2)\n",
            "(3, 5, 9, 2, 2, 7)\n",
            "(3, 5, 9, 7, 2, 2)\n",
            "(3, 5, 9, 7, 2, 2)\n",
            "(3, 5, 9, 2, 2, 7)\n",
            "(3, 5, 9, 2, 7, 2)\n",
            "(3, 2, 5, 7, 2, 9)\n",
            "(3, 2, 5, 7, 9, 2)\n",
            "(3, 2, 5, 2, 7, 9)\n",
            "(3, 2, 5, 2, 9, 7)\n",
            "(3, 2, 5, 9, 7, 2)\n",
            "(3, 2, 5, 9, 2, 7)\n",
            "(3, 2, 7, 5, 2, 9)\n",
            "(3, 2, 7, 5, 9, 2)\n",
            "(3, 2, 7, 2, 5, 9)\n",
            "(3, 2, 7, 2, 9, 5)\n",
            "(3, 2, 7, 9, 5, 2)\n",
            "(3, 2, 7, 9, 2, 5)\n",
            "(3, 2, 2, 5, 7, 9)\n",
            "(3, 2, 2, 5, 9, 7)\n",
            "(3, 2, 2, 7, 5, 9)\n",
            "(3, 2, 2, 7, 9, 5)\n",
            "(3, 2, 2, 9, 5, 7)\n",
            "(3, 2, 2, 9, 7, 5)\n",
            "(3, 2, 9, 5, 7, 2)\n",
            "(3, 2, 9, 5, 2, 7)\n",
            "(3, 2, 9, 7, 5, 2)\n",
            "(3, 2, 9, 7, 2, 5)\n",
            "(3, 2, 9, 2, 5, 7)\n",
            "(3, 2, 9, 2, 7, 5)\n",
            "(3, 7, 5, 2, 2, 9)\n",
            "(3, 7, 5, 2, 9, 2)\n",
            "(3, 7, 5, 2, 2, 9)\n",
            "(3, 7, 5, 2, 9, 2)\n",
            "(3, 7, 5, 9, 2, 2)\n",
            "(3, 7, 5, 9, 2, 2)\n",
            "(3, 7, 2, 5, 2, 9)\n",
            "(3, 7, 2, 5, 9, 2)\n",
            "(3, 7, 2, 2, 5, 9)\n",
            "(3, 7, 2, 2, 9, 5)\n",
            "(3, 7, 2, 9, 5, 2)\n",
            "(3, 7, 2, 9, 2, 5)\n",
            "(3, 7, 2, 5, 2, 9)\n",
            "(3, 7, 2, 5, 9, 2)\n",
            "(3, 7, 2, 2, 5, 9)\n",
            "(3, 7, 2, 2, 9, 5)\n",
            "(3, 7, 2, 9, 5, 2)\n",
            "(3, 7, 2, 9, 2, 5)\n",
            "(3, 7, 9, 5, 2, 2)\n",
            "(3, 7, 9, 5, 2, 2)\n",
            "(3, 7, 9, 2, 5, 2)\n",
            "(3, 7, 9, 2, 2, 5)\n",
            "(3, 7, 9, 2, 5, 2)\n",
            "(3, 7, 9, 2, 2, 5)\n",
            "(3, 2, 5, 2, 7, 9)\n",
            "(3, 2, 5, 2, 9, 7)\n",
            "(3, 2, 5, 7, 2, 9)\n",
            "(3, 2, 5, 7, 9, 2)\n",
            "(3, 2, 5, 9, 2, 7)\n",
            "(3, 2, 5, 9, 7, 2)\n",
            "(3, 2, 2, 5, 7, 9)\n",
            "(3, 2, 2, 5, 9, 7)\n",
            "(3, 2, 2, 7, 5, 9)\n",
            "(3, 2, 2, 7, 9, 5)\n",
            "(3, 2, 2, 9, 5, 7)\n",
            "(3, 2, 2, 9, 7, 5)\n",
            "(3, 2, 7, 5, 2, 9)\n",
            "(3, 2, 7, 5, 9, 2)\n",
            "(3, 2, 7, 2, 5, 9)\n",
            "(3, 2, 7, 2, 9, 5)\n",
            "(3, 2, 7, 9, 5, 2)\n",
            "(3, 2, 7, 9, 2, 5)\n",
            "(3, 2, 9, 5, 2, 7)\n",
            "(3, 2, 9, 5, 7, 2)\n",
            "(3, 2, 9, 2, 5, 7)\n",
            "(3, 2, 9, 2, 7, 5)\n",
            "(3, 2, 9, 7, 5, 2)\n",
            "(3, 2, 9, 7, 2, 5)\n",
            "(3, 9, 5, 2, 7, 2)\n",
            "(3, 9, 5, 2, 2, 7)\n",
            "(3, 9, 5, 7, 2, 2)\n",
            "(3, 9, 5, 7, 2, 2)\n",
            "(3, 9, 5, 2, 2, 7)\n",
            "(3, 9, 5, 2, 7, 2)\n",
            "(3, 9, 2, 5, 7, 2)\n",
            "(3, 9, 2, 5, 2, 7)\n",
            "(3, 9, 2, 7, 5, 2)\n",
            "(3, 9, 2, 7, 2, 5)\n",
            "(3, 9, 2, 2, 5, 7)\n",
            "(3, 9, 2, 2, 7, 5)\n",
            "(3, 9, 7, 5, 2, 2)\n",
            "(3, 9, 7, 5, 2, 2)\n",
            "(3, 9, 7, 2, 5, 2)\n",
            "(3, 9, 7, 2, 2, 5)\n",
            "(3, 9, 7, 2, 5, 2)\n",
            "(3, 9, 7, 2, 2, 5)\n",
            "(3, 9, 2, 5, 2, 7)\n",
            "(3, 9, 2, 5, 7, 2)\n",
            "(3, 9, 2, 2, 5, 7)\n",
            "(3, 9, 2, 2, 7, 5)\n",
            "(3, 9, 2, 7, 5, 2)\n",
            "(3, 9, 2, 7, 2, 5)\n",
            "(5, 3, 2, 7, 2, 9)\n",
            "(5, 3, 2, 7, 9, 2)\n",
            "(5, 3, 2, 2, 7, 9)\n",
            "(5, 3, 2, 2, 9, 7)\n",
            "(5, 3, 2, 9, 7, 2)\n",
            "(5, 3, 2, 9, 2, 7)\n",
            "(5, 3, 7, 2, 2, 9)\n",
            "(5, 3, 7, 2, 9, 2)\n",
            "(5, 3, 7, 2, 2, 9)\n",
            "(5, 3, 7, 2, 9, 2)\n",
            "(5, 3, 7, 9, 2, 2)\n",
            "(5, 3, 7, 9, 2, 2)\n",
            "(5, 3, 2, 2, 7, 9)\n",
            "(5, 3, 2, 2, 9, 7)\n",
            "(5, 3, 2, 7, 2, 9)\n",
            "(5, 3, 2, 7, 9, 2)\n",
            "(5, 3, 2, 9, 2, 7)\n",
            "(5, 3, 2, 9, 7, 2)\n",
            "(5, 3, 9, 2, 7, 2)\n",
            "(5, 3, 9, 2, 2, 7)\n",
            "(5, 3, 9, 7, 2, 2)\n",
            "(5, 3, 9, 7, 2, 2)\n",
            "(5, 3, 9, 2, 2, 7)\n",
            "(5, 3, 9, 2, 7, 2)\n",
            "(5, 2, 3, 7, 2, 9)\n",
            "(5, 2, 3, 7, 9, 2)\n",
            "(5, 2, 3, 2, 7, 9)\n",
            "(5, 2, 3, 2, 9, 7)\n",
            "(5, 2, 3, 9, 7, 2)\n",
            "(5, 2, 3, 9, 2, 7)\n",
            "(5, 2, 7, 3, 2, 9)\n",
            "(5, 2, 7, 3, 9, 2)\n",
            "(5, 2, 7, 2, 3, 9)\n",
            "(5, 2, 7, 2, 9, 3)\n",
            "(5, 2, 7, 9, 3, 2)\n",
            "(5, 2, 7, 9, 2, 3)\n",
            "(5, 2, 2, 3, 7, 9)\n",
            "(5, 2, 2, 3, 9, 7)\n",
            "(5, 2, 2, 7, 3, 9)\n",
            "(5, 2, 2, 7, 9, 3)\n",
            "(5, 2, 2, 9, 3, 7)\n",
            "(5, 2, 2, 9, 7, 3)\n",
            "(5, 2, 9, 3, 7, 2)\n",
            "(5, 2, 9, 3, 2, 7)\n",
            "(5, 2, 9, 7, 3, 2)\n",
            "(5, 2, 9, 7, 2, 3)\n",
            "(5, 2, 9, 2, 3, 7)\n",
            "(5, 2, 9, 2, 7, 3)\n",
            "(5, 7, 3, 2, 2, 9)\n",
            "(5, 7, 3, 2, 9, 2)\n",
            "(5, 7, 3, 2, 2, 9)\n",
            "(5, 7, 3, 2, 9, 2)\n",
            "(5, 7, 3, 9, 2, 2)\n",
            "(5, 7, 3, 9, 2, 2)\n",
            "(5, 7, 2, 3, 2, 9)\n",
            "(5, 7, 2, 3, 9, 2)\n",
            "(5, 7, 2, 2, 3, 9)\n",
            "(5, 7, 2, 2, 9, 3)\n",
            "(5, 7, 2, 9, 3, 2)\n",
            "(5, 7, 2, 9, 2, 3)\n",
            "(5, 7, 2, 3, 2, 9)\n",
            "(5, 7, 2, 3, 9, 2)\n",
            "(5, 7, 2, 2, 3, 9)\n",
            "(5, 7, 2, 2, 9, 3)\n",
            "(5, 7, 2, 9, 3, 2)\n",
            "(5, 7, 2, 9, 2, 3)\n",
            "(5, 7, 9, 3, 2, 2)\n",
            "(5, 7, 9, 3, 2, 2)\n",
            "(5, 7, 9, 2, 3, 2)\n",
            "(5, 7, 9, 2, 2, 3)\n",
            "(5, 7, 9, 2, 3, 2)\n",
            "(5, 7, 9, 2, 2, 3)\n",
            "(5, 2, 3, 2, 7, 9)\n",
            "(5, 2, 3, 2, 9, 7)\n",
            "(5, 2, 3, 7, 2, 9)\n",
            "(5, 2, 3, 7, 9, 2)\n",
            "(5, 2, 3, 9, 2, 7)\n",
            "(5, 2, 3, 9, 7, 2)\n",
            "(5, 2, 2, 3, 7, 9)\n",
            "(5, 2, 2, 3, 9, 7)\n",
            "(5, 2, 2, 7, 3, 9)\n",
            "(5, 2, 2, 7, 9, 3)\n",
            "(5, 2, 2, 9, 3, 7)\n",
            "(5, 2, 2, 9, 7, 3)\n",
            "(5, 2, 7, 3, 2, 9)\n",
            "(5, 2, 7, 3, 9, 2)\n",
            "(5, 2, 7, 2, 3, 9)\n",
            "(5, 2, 7, 2, 9, 3)\n",
            "(5, 2, 7, 9, 3, 2)\n",
            "(5, 2, 7, 9, 2, 3)\n",
            "(5, 2, 9, 3, 2, 7)\n",
            "(5, 2, 9, 3, 7, 2)\n",
            "(5, 2, 9, 2, 3, 7)\n",
            "(5, 2, 9, 2, 7, 3)\n",
            "(5, 2, 9, 7, 3, 2)\n",
            "(5, 2, 9, 7, 2, 3)\n",
            "(5, 9, 3, 2, 7, 2)\n",
            "(5, 9, 3, 2, 2, 7)\n",
            "(5, 9, 3, 7, 2, 2)\n",
            "(5, 9, 3, 7, 2, 2)\n",
            "(5, 9, 3, 2, 2, 7)\n",
            "(5, 9, 3, 2, 7, 2)\n",
            "(5, 9, 2, 3, 7, 2)\n",
            "(5, 9, 2, 3, 2, 7)\n",
            "(5, 9, 2, 7, 3, 2)\n",
            "(5, 9, 2, 7, 2, 3)\n",
            "(5, 9, 2, 2, 3, 7)\n",
            "(5, 9, 2, 2, 7, 3)\n",
            "(5, 9, 7, 3, 2, 2)\n",
            "(5, 9, 7, 3, 2, 2)\n",
            "(5, 9, 7, 2, 3, 2)\n",
            "(5, 9, 7, 2, 2, 3)\n",
            "(5, 9, 7, 2, 3, 2)\n",
            "(5, 9, 7, 2, 2, 3)\n",
            "(5, 9, 2, 3, 2, 7)\n",
            "(5, 9, 2, 3, 7, 2)\n",
            "(5, 9, 2, 2, 3, 7)\n",
            "(5, 9, 2, 2, 7, 3)\n",
            "(5, 9, 2, 7, 3, 2)\n",
            "(5, 9, 2, 7, 2, 3)\n",
            "(2, 3, 5, 7, 2, 9)\n",
            "(2, 3, 5, 7, 9, 2)\n",
            "(2, 3, 5, 2, 7, 9)\n",
            "(2, 3, 5, 2, 9, 7)\n",
            "(2, 3, 5, 9, 7, 2)\n",
            "(2, 3, 5, 9, 2, 7)\n",
            "(2, 3, 7, 5, 2, 9)\n",
            "(2, 3, 7, 5, 9, 2)\n",
            "(2, 3, 7, 2, 5, 9)\n",
            "(2, 3, 7, 2, 9, 5)\n",
            "(2, 3, 7, 9, 5, 2)\n",
            "(2, 3, 7, 9, 2, 5)\n",
            "(2, 3, 2, 5, 7, 9)\n",
            "(2, 3, 2, 5, 9, 7)\n",
            "(2, 3, 2, 7, 5, 9)\n",
            "(2, 3, 2, 7, 9, 5)\n",
            "(2, 3, 2, 9, 5, 7)\n",
            "(2, 3, 2, 9, 7, 5)\n",
            "(2, 3, 9, 5, 7, 2)\n",
            "(2, 3, 9, 5, 2, 7)\n",
            "(2, 3, 9, 7, 5, 2)\n",
            "(2, 3, 9, 7, 2, 5)\n",
            "(2, 3, 9, 2, 5, 7)\n",
            "(2, 3, 9, 2, 7, 5)\n",
            "(2, 5, 3, 7, 2, 9)\n",
            "(2, 5, 3, 7, 9, 2)\n",
            "(2, 5, 3, 2, 7, 9)\n",
            "(2, 5, 3, 2, 9, 7)\n",
            "(2, 5, 3, 9, 7, 2)\n",
            "(2, 5, 3, 9, 2, 7)\n",
            "(2, 5, 7, 3, 2, 9)\n",
            "(2, 5, 7, 3, 9, 2)\n",
            "(2, 5, 7, 2, 3, 9)\n",
            "(2, 5, 7, 2, 9, 3)\n",
            "(2, 5, 7, 9, 3, 2)\n",
            "(2, 5, 7, 9, 2, 3)\n",
            "(2, 5, 2, 3, 7, 9)\n",
            "(2, 5, 2, 3, 9, 7)\n",
            "(2, 5, 2, 7, 3, 9)\n",
            "(2, 5, 2, 7, 9, 3)\n",
            "(2, 5, 2, 9, 3, 7)\n",
            "(2, 5, 2, 9, 7, 3)\n",
            "(2, 5, 9, 3, 7, 2)\n",
            "(2, 5, 9, 3, 2, 7)\n",
            "(2, 5, 9, 7, 3, 2)\n",
            "(2, 5, 9, 7, 2, 3)\n",
            "(2, 5, 9, 2, 3, 7)\n",
            "(2, 5, 9, 2, 7, 3)\n",
            "(2, 7, 3, 5, 2, 9)\n",
            "(2, 7, 3, 5, 9, 2)\n",
            "(2, 7, 3, 2, 5, 9)\n",
            "(2, 7, 3, 2, 9, 5)\n",
            "(2, 7, 3, 9, 5, 2)\n",
            "(2, 7, 3, 9, 2, 5)\n",
            "(2, 7, 5, 3, 2, 9)\n",
            "(2, 7, 5, 3, 9, 2)\n",
            "(2, 7, 5, 2, 3, 9)\n",
            "(2, 7, 5, 2, 9, 3)\n",
            "(2, 7, 5, 9, 3, 2)\n",
            "(2, 7, 5, 9, 2, 3)\n",
            "(2, 7, 2, 3, 5, 9)\n",
            "(2, 7, 2, 3, 9, 5)\n",
            "(2, 7, 2, 5, 3, 9)\n",
            "(2, 7, 2, 5, 9, 3)\n",
            "(2, 7, 2, 9, 3, 5)\n",
            "(2, 7, 2, 9, 5, 3)\n",
            "(2, 7, 9, 3, 5, 2)\n",
            "(2, 7, 9, 3, 2, 5)\n",
            "(2, 7, 9, 5, 3, 2)\n",
            "(2, 7, 9, 5, 2, 3)\n",
            "(2, 7, 9, 2, 3, 5)\n",
            "(2, 7, 9, 2, 5, 3)\n",
            "(2, 2, 3, 5, 7, 9)\n",
            "(2, 2, 3, 5, 9, 7)\n",
            "(2, 2, 3, 7, 5, 9)\n",
            "(2, 2, 3, 7, 9, 5)\n",
            "(2, 2, 3, 9, 5, 7)\n",
            "(2, 2, 3, 9, 7, 5)\n",
            "(2, 2, 5, 3, 7, 9)\n",
            "(2, 2, 5, 3, 9, 7)\n",
            "(2, 2, 5, 7, 3, 9)\n",
            "(2, 2, 5, 7, 9, 3)\n",
            "(2, 2, 5, 9, 3, 7)\n",
            "(2, 2, 5, 9, 7, 3)\n",
            "(2, 2, 7, 3, 5, 9)\n",
            "(2, 2, 7, 3, 9, 5)\n",
            "(2, 2, 7, 5, 3, 9)\n",
            "(2, 2, 7, 5, 9, 3)\n",
            "(2, 2, 7, 9, 3, 5)\n",
            "(2, 2, 7, 9, 5, 3)\n",
            "(2, 2, 9, 3, 5, 7)\n",
            "(2, 2, 9, 3, 7, 5)\n",
            "(2, 2, 9, 5, 3, 7)\n",
            "(2, 2, 9, 5, 7, 3)\n",
            "(2, 2, 9, 7, 3, 5)\n",
            "(2, 2, 9, 7, 5, 3)\n",
            "(2, 9, 3, 5, 7, 2)\n",
            "(2, 9, 3, 5, 2, 7)\n",
            "(2, 9, 3, 7, 5, 2)\n",
            "(2, 9, 3, 7, 2, 5)\n",
            "(2, 9, 3, 2, 5, 7)\n",
            "(2, 9, 3, 2, 7, 5)\n",
            "(2, 9, 5, 3, 7, 2)\n",
            "(2, 9, 5, 3, 2, 7)\n",
            "(2, 9, 5, 7, 3, 2)\n",
            "(2, 9, 5, 7, 2, 3)\n",
            "(2, 9, 5, 2, 3, 7)\n",
            "(2, 9, 5, 2, 7, 3)\n",
            "(2, 9, 7, 3, 5, 2)\n",
            "(2, 9, 7, 3, 2, 5)\n",
            "(2, 9, 7, 5, 3, 2)\n",
            "(2, 9, 7, 5, 2, 3)\n",
            "(2, 9, 7, 2, 3, 5)\n",
            "(2, 9, 7, 2, 5, 3)\n",
            "(2, 9, 2, 3, 5, 7)\n",
            "(2, 9, 2, 3, 7, 5)\n",
            "(2, 9, 2, 5, 3, 7)\n",
            "(2, 9, 2, 5, 7, 3)\n",
            "(2, 9, 2, 7, 3, 5)\n",
            "(2, 9, 2, 7, 5, 3)\n",
            "(7, 3, 5, 2, 2, 9)\n",
            "(7, 3, 5, 2, 9, 2)\n",
            "(7, 3, 5, 2, 2, 9)\n",
            "(7, 3, 5, 2, 9, 2)\n",
            "(7, 3, 5, 9, 2, 2)\n",
            "(7, 3, 5, 9, 2, 2)\n",
            "(7, 3, 2, 5, 2, 9)\n",
            "(7, 3, 2, 5, 9, 2)\n",
            "(7, 3, 2, 2, 5, 9)\n",
            "(7, 3, 2, 2, 9, 5)\n",
            "(7, 3, 2, 9, 5, 2)\n",
            "(7, 3, 2, 9, 2, 5)\n",
            "(7, 3, 2, 5, 2, 9)\n",
            "(7, 3, 2, 5, 9, 2)\n",
            "(7, 3, 2, 2, 5, 9)\n",
            "(7, 3, 2, 2, 9, 5)\n",
            "(7, 3, 2, 9, 5, 2)\n",
            "(7, 3, 2, 9, 2, 5)\n",
            "(7, 3, 9, 5, 2, 2)\n",
            "(7, 3, 9, 5, 2, 2)\n",
            "(7, 3, 9, 2, 5, 2)\n",
            "(7, 3, 9, 2, 2, 5)\n",
            "(7, 3, 9, 2, 5, 2)\n",
            "(7, 3, 9, 2, 2, 5)\n",
            "(7, 5, 3, 2, 2, 9)\n",
            "(7, 5, 3, 2, 9, 2)\n",
            "(7, 5, 3, 2, 2, 9)\n",
            "(7, 5, 3, 2, 9, 2)\n",
            "(7, 5, 3, 9, 2, 2)\n",
            "(7, 5, 3, 9, 2, 2)\n",
            "(7, 5, 2, 3, 2, 9)\n",
            "(7, 5, 2, 3, 9, 2)\n",
            "(7, 5, 2, 2, 3, 9)\n",
            "(7, 5, 2, 2, 9, 3)\n",
            "(7, 5, 2, 9, 3, 2)\n",
            "(7, 5, 2, 9, 2, 3)\n",
            "(7, 5, 2, 3, 2, 9)\n",
            "(7, 5, 2, 3, 9, 2)\n",
            "(7, 5, 2, 2, 3, 9)\n",
            "(7, 5, 2, 2, 9, 3)\n",
            "(7, 5, 2, 9, 3, 2)\n",
            "(7, 5, 2, 9, 2, 3)\n",
            "(7, 5, 9, 3, 2, 2)\n",
            "(7, 5, 9, 3, 2, 2)\n",
            "(7, 5, 9, 2, 3, 2)\n",
            "(7, 5, 9, 2, 2, 3)\n",
            "(7, 5, 9, 2, 3, 2)\n",
            "(7, 5, 9, 2, 2, 3)\n",
            "(7, 2, 3, 5, 2, 9)\n",
            "(7, 2, 3, 5, 9, 2)\n",
            "(7, 2, 3, 2, 5, 9)\n",
            "(7, 2, 3, 2, 9, 5)\n",
            "(7, 2, 3, 9, 5, 2)\n",
            "(7, 2, 3, 9, 2, 5)\n",
            "(7, 2, 5, 3, 2, 9)\n",
            "(7, 2, 5, 3, 9, 2)\n",
            "(7, 2, 5, 2, 3, 9)\n",
            "(7, 2, 5, 2, 9, 3)\n",
            "(7, 2, 5, 9, 3, 2)\n",
            "(7, 2, 5, 9, 2, 3)\n",
            "(7, 2, 2, 3, 5, 9)\n",
            "(7, 2, 2, 3, 9, 5)\n",
            "(7, 2, 2, 5, 3, 9)\n",
            "(7, 2, 2, 5, 9, 3)\n",
            "(7, 2, 2, 9, 3, 5)\n",
            "(7, 2, 2, 9, 5, 3)\n",
            "(7, 2, 9, 3, 5, 2)\n",
            "(7, 2, 9, 3, 2, 5)\n",
            "(7, 2, 9, 5, 3, 2)\n",
            "(7, 2, 9, 5, 2, 3)\n",
            "(7, 2, 9, 2, 3, 5)\n",
            "(7, 2, 9, 2, 5, 3)\n",
            "(7, 2, 3, 5, 2, 9)\n",
            "(7, 2, 3, 5, 9, 2)\n",
            "(7, 2, 3, 2, 5, 9)\n",
            "(7, 2, 3, 2, 9, 5)\n",
            "(7, 2, 3, 9, 5, 2)\n",
            "(7, 2, 3, 9, 2, 5)\n",
            "(7, 2, 5, 3, 2, 9)\n",
            "(7, 2, 5, 3, 9, 2)\n",
            "(7, 2, 5, 2, 3, 9)\n",
            "(7, 2, 5, 2, 9, 3)\n",
            "(7, 2, 5, 9, 3, 2)\n",
            "(7, 2, 5, 9, 2, 3)\n",
            "(7, 2, 2, 3, 5, 9)\n",
            "(7, 2, 2, 3, 9, 5)\n",
            "(7, 2, 2, 5, 3, 9)\n",
            "(7, 2, 2, 5, 9, 3)\n",
            "(7, 2, 2, 9, 3, 5)\n",
            "(7, 2, 2, 9, 5, 3)\n",
            "(7, 2, 9, 3, 5, 2)\n",
            "(7, 2, 9, 3, 2, 5)\n",
            "(7, 2, 9, 5, 3, 2)\n",
            "(7, 2, 9, 5, 2, 3)\n",
            "(7, 2, 9, 2, 3, 5)\n",
            "(7, 2, 9, 2, 5, 3)\n",
            "(7, 9, 3, 5, 2, 2)\n",
            "(7, 9, 3, 5, 2, 2)\n",
            "(7, 9, 3, 2, 5, 2)\n",
            "(7, 9, 3, 2, 2, 5)\n",
            "(7, 9, 3, 2, 5, 2)\n",
            "(7, 9, 3, 2, 2, 5)\n",
            "(7, 9, 5, 3, 2, 2)\n",
            "(7, 9, 5, 3, 2, 2)\n",
            "(7, 9, 5, 2, 3, 2)\n",
            "(7, 9, 5, 2, 2, 3)\n",
            "(7, 9, 5, 2, 3, 2)\n",
            "(7, 9, 5, 2, 2, 3)\n",
            "(7, 9, 2, 3, 5, 2)\n",
            "(7, 9, 2, 3, 2, 5)\n",
            "(7, 9, 2, 5, 3, 2)\n",
            "(7, 9, 2, 5, 2, 3)\n",
            "(7, 9, 2, 2, 3, 5)\n",
            "(7, 9, 2, 2, 5, 3)\n",
            "(7, 9, 2, 3, 5, 2)\n",
            "(7, 9, 2, 3, 2, 5)\n",
            "(7, 9, 2, 5, 3, 2)\n",
            "(7, 9, 2, 5, 2, 3)\n",
            "(7, 9, 2, 2, 3, 5)\n",
            "(7, 9, 2, 2, 5, 3)\n",
            "(2, 3, 5, 2, 7, 9)\n",
            "(2, 3, 5, 2, 9, 7)\n",
            "(2, 3, 5, 7, 2, 9)\n",
            "(2, 3, 5, 7, 9, 2)\n",
            "(2, 3, 5, 9, 2, 7)\n",
            "(2, 3, 5, 9, 7, 2)\n",
            "(2, 3, 2, 5, 7, 9)\n",
            "(2, 3, 2, 5, 9, 7)\n",
            "(2, 3, 2, 7, 5, 9)\n",
            "(2, 3, 2, 7, 9, 5)\n",
            "(2, 3, 2, 9, 5, 7)\n",
            "(2, 3, 2, 9, 7, 5)\n",
            "(2, 3, 7, 5, 2, 9)\n",
            "(2, 3, 7, 5, 9, 2)\n",
            "(2, 3, 7, 2, 5, 9)\n",
            "(2, 3, 7, 2, 9, 5)\n",
            "(2, 3, 7, 9, 5, 2)\n",
            "(2, 3, 7, 9, 2, 5)\n",
            "(2, 3, 9, 5, 2, 7)\n",
            "(2, 3, 9, 5, 7, 2)\n",
            "(2, 3, 9, 2, 5, 7)\n",
            "(2, 3, 9, 2, 7, 5)\n",
            "(2, 3, 9, 7, 5, 2)\n",
            "(2, 3, 9, 7, 2, 5)\n",
            "(2, 5, 3, 2, 7, 9)\n",
            "(2, 5, 3, 2, 9, 7)\n",
            "(2, 5, 3, 7, 2, 9)\n",
            "(2, 5, 3, 7, 9, 2)\n",
            "(2, 5, 3, 9, 2, 7)\n",
            "(2, 5, 3, 9, 7, 2)\n",
            "(2, 5, 2, 3, 7, 9)\n",
            "(2, 5, 2, 3, 9, 7)\n",
            "(2, 5, 2, 7, 3, 9)\n",
            "(2, 5, 2, 7, 9, 3)\n",
            "(2, 5, 2, 9, 3, 7)\n",
            "(2, 5, 2, 9, 7, 3)\n",
            "(2, 5, 7, 3, 2, 9)\n",
            "(2, 5, 7, 3, 9, 2)\n",
            "(2, 5, 7, 2, 3, 9)\n",
            "(2, 5, 7, 2, 9, 3)\n",
            "(2, 5, 7, 9, 3, 2)\n",
            "(2, 5, 7, 9, 2, 3)\n",
            "(2, 5, 9, 3, 2, 7)\n",
            "(2, 5, 9, 3, 7, 2)\n",
            "(2, 5, 9, 2, 3, 7)\n",
            "(2, 5, 9, 2, 7, 3)\n",
            "(2, 5, 9, 7, 3, 2)\n",
            "(2, 5, 9, 7, 2, 3)\n",
            "(2, 2, 3, 5, 7, 9)\n",
            "(2, 2, 3, 5, 9, 7)\n",
            "(2, 2, 3, 7, 5, 9)\n",
            "(2, 2, 3, 7, 9, 5)\n",
            "(2, 2, 3, 9, 5, 7)\n",
            "(2, 2, 3, 9, 7, 5)\n",
            "(2, 2, 5, 3, 7, 9)\n",
            "(2, 2, 5, 3, 9, 7)\n",
            "(2, 2, 5, 7, 3, 9)\n",
            "(2, 2, 5, 7, 9, 3)\n",
            "(2, 2, 5, 9, 3, 7)\n",
            "(2, 2, 5, 9, 7, 3)\n",
            "(2, 2, 7, 3, 5, 9)\n",
            "(2, 2, 7, 3, 9, 5)\n",
            "(2, 2, 7, 5, 3, 9)\n",
            "(2, 2, 7, 5, 9, 3)\n",
            "(2, 2, 7, 9, 3, 5)\n",
            "(2, 2, 7, 9, 5, 3)\n",
            "(2, 2, 9, 3, 5, 7)\n",
            "(2, 2, 9, 3, 7, 5)\n",
            "(2, 2, 9, 5, 3, 7)\n",
            "(2, 2, 9, 5, 7, 3)\n",
            "(2, 2, 9, 7, 3, 5)\n",
            "(2, 2, 9, 7, 5, 3)\n",
            "(2, 7, 3, 5, 2, 9)\n",
            "(2, 7, 3, 5, 9, 2)\n",
            "(2, 7, 3, 2, 5, 9)\n",
            "(2, 7, 3, 2, 9, 5)\n",
            "(2, 7, 3, 9, 5, 2)\n",
            "(2, 7, 3, 9, 2, 5)\n",
            "(2, 7, 5, 3, 2, 9)\n",
            "(2, 7, 5, 3, 9, 2)\n",
            "(2, 7, 5, 2, 3, 9)\n",
            "(2, 7, 5, 2, 9, 3)\n",
            "(2, 7, 5, 9, 3, 2)\n",
            "(2, 7, 5, 9, 2, 3)\n",
            "(2, 7, 2, 3, 5, 9)\n",
            "(2, 7, 2, 3, 9, 5)\n",
            "(2, 7, 2, 5, 3, 9)\n",
            "(2, 7, 2, 5, 9, 3)\n",
            "(2, 7, 2, 9, 3, 5)\n",
            "(2, 7, 2, 9, 5, 3)\n",
            "(2, 7, 9, 3, 5, 2)\n",
            "(2, 7, 9, 3, 2, 5)\n",
            "(2, 7, 9, 5, 3, 2)\n",
            "(2, 7, 9, 5, 2, 3)\n",
            "(2, 7, 9, 2, 3, 5)\n",
            "(2, 7, 9, 2, 5, 3)\n",
            "(2, 9, 3, 5, 2, 7)\n",
            "(2, 9, 3, 5, 7, 2)\n",
            "(2, 9, 3, 2, 5, 7)\n",
            "(2, 9, 3, 2, 7, 5)\n",
            "(2, 9, 3, 7, 5, 2)\n",
            "(2, 9, 3, 7, 2, 5)\n",
            "(2, 9, 5, 3, 2, 7)\n",
            "(2, 9, 5, 3, 7, 2)\n",
            "(2, 9, 5, 2, 3, 7)\n",
            "(2, 9, 5, 2, 7, 3)\n",
            "(2, 9, 5, 7, 3, 2)\n",
            "(2, 9, 5, 7, 2, 3)\n",
            "(2, 9, 2, 3, 5, 7)\n",
            "(2, 9, 2, 3, 7, 5)\n",
            "(2, 9, 2, 5, 3, 7)\n",
            "(2, 9, 2, 5, 7, 3)\n",
            "(2, 9, 2, 7, 3, 5)\n",
            "(2, 9, 2, 7, 5, 3)\n",
            "(2, 9, 7, 3, 5, 2)\n",
            "(2, 9, 7, 3, 2, 5)\n",
            "(2, 9, 7, 5, 3, 2)\n",
            "(2, 9, 7, 5, 2, 3)\n",
            "(2, 9, 7, 2, 3, 5)\n",
            "(2, 9, 7, 2, 5, 3)\n",
            "(9, 3, 5, 2, 7, 2)\n",
            "(9, 3, 5, 2, 2, 7)\n",
            "(9, 3, 5, 7, 2, 2)\n",
            "(9, 3, 5, 7, 2, 2)\n",
            "(9, 3, 5, 2, 2, 7)\n",
            "(9, 3, 5, 2, 7, 2)\n",
            "(9, 3, 2, 5, 7, 2)\n",
            "(9, 3, 2, 5, 2, 7)\n",
            "(9, 3, 2, 7, 5, 2)\n",
            "(9, 3, 2, 7, 2, 5)\n",
            "(9, 3, 2, 2, 5, 7)\n",
            "(9, 3, 2, 2, 7, 5)\n",
            "(9, 3, 7, 5, 2, 2)\n",
            "(9, 3, 7, 5, 2, 2)\n",
            "(9, 3, 7, 2, 5, 2)\n",
            "(9, 3, 7, 2, 2, 5)\n",
            "(9, 3, 7, 2, 5, 2)\n",
            "(9, 3, 7, 2, 2, 5)\n",
            "(9, 3, 2, 5, 2, 7)\n",
            "(9, 3, 2, 5, 7, 2)\n",
            "(9, 3, 2, 2, 5, 7)\n",
            "(9, 3, 2, 2, 7, 5)\n",
            "(9, 3, 2, 7, 5, 2)\n",
            "(9, 3, 2, 7, 2, 5)\n",
            "(9, 5, 3, 2, 7, 2)\n",
            "(9, 5, 3, 2, 2, 7)\n",
            "(9, 5, 3, 7, 2, 2)\n",
            "(9, 5, 3, 7, 2, 2)\n",
            "(9, 5, 3, 2, 2, 7)\n",
            "(9, 5, 3, 2, 7, 2)\n",
            "(9, 5, 2, 3, 7, 2)\n",
            "(9, 5, 2, 3, 2, 7)\n",
            "(9, 5, 2, 7, 3, 2)\n",
            "(9, 5, 2, 7, 2, 3)\n",
            "(9, 5, 2, 2, 3, 7)\n",
            "(9, 5, 2, 2, 7, 3)\n",
            "(9, 5, 7, 3, 2, 2)\n",
            "(9, 5, 7, 3, 2, 2)\n",
            "(9, 5, 7, 2, 3, 2)\n",
            "(9, 5, 7, 2, 2, 3)\n",
            "(9, 5, 7, 2, 3, 2)\n",
            "(9, 5, 7, 2, 2, 3)\n",
            "(9, 5, 2, 3, 2, 7)\n",
            "(9, 5, 2, 3, 7, 2)\n",
            "(9, 5, 2, 2, 3, 7)\n",
            "(9, 5, 2, 2, 7, 3)\n",
            "(9, 5, 2, 7, 3, 2)\n",
            "(9, 5, 2, 7, 2, 3)\n",
            "(9, 2, 3, 5, 7, 2)\n",
            "(9, 2, 3, 5, 2, 7)\n",
            "(9, 2, 3, 7, 5, 2)\n",
            "(9, 2, 3, 7, 2, 5)\n",
            "(9, 2, 3, 2, 5, 7)\n",
            "(9, 2, 3, 2, 7, 5)\n",
            "(9, 2, 5, 3, 7, 2)\n",
            "(9, 2, 5, 3, 2, 7)\n",
            "(9, 2, 5, 7, 3, 2)\n",
            "(9, 2, 5, 7, 2, 3)\n",
            "(9, 2, 5, 2, 3, 7)\n",
            "(9, 2, 5, 2, 7, 3)\n",
            "(9, 2, 7, 3, 5, 2)\n",
            "(9, 2, 7, 3, 2, 5)\n",
            "(9, 2, 7, 5, 3, 2)\n",
            "(9, 2, 7, 5, 2, 3)\n",
            "(9, 2, 7, 2, 3, 5)\n",
            "(9, 2, 7, 2, 5, 3)\n",
            "(9, 2, 2, 3, 5, 7)\n",
            "(9, 2, 2, 3, 7, 5)\n",
            "(9, 2, 2, 5, 3, 7)\n",
            "(9, 2, 2, 5, 7, 3)\n",
            "(9, 2, 2, 7, 3, 5)\n",
            "(9, 2, 2, 7, 5, 3)\n",
            "(9, 7, 3, 5, 2, 2)\n",
            "(9, 7, 3, 5, 2, 2)\n",
            "(9, 7, 3, 2, 5, 2)\n",
            "(9, 7, 3, 2, 2, 5)\n",
            "(9, 7, 3, 2, 5, 2)\n",
            "(9, 7, 3, 2, 2, 5)\n",
            "(9, 7, 5, 3, 2, 2)\n",
            "(9, 7, 5, 3, 2, 2)\n",
            "(9, 7, 5, 2, 3, 2)\n",
            "(9, 7, 5, 2, 2, 3)\n",
            "(9, 7, 5, 2, 3, 2)\n",
            "(9, 7, 5, 2, 2, 3)\n",
            "(9, 7, 2, 3, 5, 2)\n",
            "(9, 7, 2, 3, 2, 5)\n",
            "(9, 7, 2, 5, 3, 2)\n",
            "(9, 7, 2, 5, 2, 3)\n",
            "(9, 7, 2, 2, 3, 5)\n",
            "(9, 7, 2, 2, 5, 3)\n",
            "(9, 7, 2, 3, 5, 2)\n",
            "(9, 7, 2, 3, 2, 5)\n",
            "(9, 7, 2, 5, 3, 2)\n",
            "(9, 7, 2, 5, 2, 3)\n",
            "(9, 7, 2, 2, 3, 5)\n",
            "(9, 7, 2, 2, 5, 3)\n",
            "(9, 2, 3, 5, 2, 7)\n",
            "(9, 2, 3, 5, 7, 2)\n",
            "(9, 2, 3, 2, 5, 7)\n",
            "(9, 2, 3, 2, 7, 5)\n",
            "(9, 2, 3, 7, 5, 2)\n",
            "(9, 2, 3, 7, 2, 5)\n",
            "(9, 2, 5, 3, 2, 7)\n",
            "(9, 2, 5, 3, 7, 2)\n",
            "(9, 2, 5, 2, 3, 7)\n",
            "(9, 2, 5, 2, 7, 3)\n",
            "(9, 2, 5, 7, 3, 2)\n",
            "(9, 2, 5, 7, 2, 3)\n",
            "(9, 2, 2, 3, 5, 7)\n",
            "(9, 2, 2, 3, 7, 5)\n",
            "(9, 2, 2, 5, 3, 7)\n",
            "(9, 2, 2, 5, 7, 3)\n",
            "(9, 2, 2, 7, 3, 5)\n",
            "(9, 2, 2, 7, 5, 3)\n",
            "(9, 2, 7, 3, 5, 2)\n",
            "(9, 2, 7, 3, 2, 5)\n",
            "(9, 2, 7, 5, 3, 2)\n",
            "(9, 2, 7, 5, 2, 3)\n",
            "(9, 2, 7, 2, 3, 5)\n",
            "(9, 2, 7, 2, 5, 3)\n"
          ]
        }
      ]
    },
    {
      "cell_type": "markdown",
      "source": [
        "19. Write a Python program to calculate the difference between the two lists."
      ],
      "metadata": {
        "id": "MrSL4F5EyX97"
      }
    },
    {
      "cell_type": "code",
      "source": [
        "list9 = [4,5,6,7,9,12,14]\n",
        "list10 = [7,9,10,4,6,12,15]\n",
        "\n",
        "diff_list9_list10 = list(set(list9) - set(list10))\n",
        "diff_list10_list9 = list(set(list10) - set(list9))\n",
        "\n",
        "diff_list = diff_list9_list10 + diff_list10_list9\n",
        "\n",
        "print(\"Difference in list is: \", diff_list)"
      ],
      "metadata": {
        "colab": {
          "base_uri": "https://localhost:8080/"
        },
        "id": "ayu_6ZjFyZc5",
        "outputId": "3c4f44bd-c595-47be-fae2-d964b17257c7"
      },
      "execution_count": null,
      "outputs": [
        {
          "output_type": "stream",
          "name": "stdout",
          "text": [
            "Difference in list is:  [5, 14, 10, 15]\n"
          ]
        }
      ]
    },
    {
      "cell_type": "markdown",
      "source": [
        "20. Write a Python program to access the index of a list."
      ],
      "metadata": {
        "id": "FS8GG_Ybz8PL"
      }
    },
    {
      "cell_type": "code",
      "source": [
        "list11 = ['apple', 'banana', 'guava', 'grapes', 'pineapple']\n",
        "\n",
        "for index, element in enumerate(list11):\n",
        "  print(f\"Index: {index}, Element: {element}\")"
      ],
      "metadata": {
        "colab": {
          "base_uri": "https://localhost:8080/"
        },
        "id": "h2cS5vDmz7n7",
        "outputId": "39fb0948-2469-4e64-b62f-4ae2454dc052"
      },
      "execution_count": null,
      "outputs": [
        {
          "output_type": "stream",
          "name": "stdout",
          "text": [
            "Index: 0, Element: apple\n",
            "Index: 1, Element: banana\n",
            "Index: 2, Element: guava\n",
            "Index: 3, Element: grapes\n",
            "Index: 4, Element: pineapple\n"
          ]
        }
      ]
    },
    {
      "cell_type": "markdown",
      "source": [
        "21. Write a Python program to convert a list of characters into a string."
      ],
      "metadata": {
        "id": "25tJU9cZvRPQ"
      }
    },
    {
      "cell_type": "code",
      "source": [
        "char_list = ['k','r','i','s','h','u']\n",
        "s1 =''\n",
        "for c in char_list:\n",
        "  s1 += c\n",
        "\n",
        "print(\"The string is :\", s1)"
      ],
      "metadata": {
        "colab": {
          "base_uri": "https://localhost:8080/"
        },
        "id": "A5IDoAsGvT6z",
        "outputId": "dbf75686-bf60-4828-df33-313dcc9f539e"
      },
      "execution_count": null,
      "outputs": [
        {
          "output_type": "stream",
          "name": "stdout",
          "text": [
            "The string is : krishu\n"
          ]
        }
      ]
    },
    {
      "cell_type": "markdown",
      "source": [
        "22. Write a Python program to find the index of an item in a specified list."
      ],
      "metadata": {
        "id": "9Y0dZ0-QwA16"
      }
    },
    {
      "cell_type": "code",
      "source": [
        "list13 = [2,5,1,8,3]\n",
        "def find_ind(item, list1 = []):\n",
        "  for l in list1:\n",
        "    if l == item:\n",
        "      return list1.index(l)\n",
        "\n",
        "print(\"Index of element 5 is: \", find_ind(8, list13))\n",
        "\n"
      ],
      "metadata": {
        "colab": {
          "base_uri": "https://localhost:8080/"
        },
        "id": "tjbROMg6wCKW",
        "outputId": "946d43b0-bb9f-4913-f8b4-49682c5b98aa"
      },
      "execution_count": null,
      "outputs": [
        {
          "output_type": "stream",
          "name": "stdout",
          "text": [
            "Index of element 5 is:  3\n"
          ]
        }
      ]
    },
    {
      "cell_type": "markdown",
      "source": [
        "23. Write a Python program to flatten a shallow list."
      ],
      "metadata": {
        "id": "cGnJmRwYxYLG"
      }
    },
    {
      "cell_type": "code",
      "source": [
        "import itertools\n",
        "\n",
        "original_list = [[1,2,3],[4,5],[7,8,9]]\n",
        "new_list = list(itertools.chain(*original_list))\n",
        "print(new_list)"
      ],
      "metadata": {
        "colab": {
          "base_uri": "https://localhost:8080/"
        },
        "id": "2m4oFdFKxZ-3",
        "outputId": "9a653700-633e-47c7-f25e-bea9606b085b"
      },
      "execution_count": null,
      "outputs": [
        {
          "output_type": "stream",
          "name": "stdout",
          "text": [
            "[1, 2, 3, 4, 5, 7, 8, 9]\n"
          ]
        }
      ]
    },
    {
      "cell_type": "markdown",
      "source": [
        "24. Write a Python program to append a list to the second list."
      ],
      "metadata": {
        "id": "5HWgxNvuyFh7"
      }
    },
    {
      "cell_type": "code",
      "source": [
        "def append_list(list1 = [], list2 = []):\n",
        "  return list1 + list2\n",
        "\n",
        "l1 = [1,2,3,4]\n",
        "l2 = [6,7,8,9]\n",
        "\n",
        "print(\"Appended list: \", append_list(l1,l2))"
      ],
      "metadata": {
        "colab": {
          "base_uri": "https://localhost:8080/"
        },
        "id": "MlT_bqrNyHBl",
        "outputId": "766f14ac-bae5-44bc-b3b5-7b5be0cf5c21"
      },
      "execution_count": null,
      "outputs": [
        {
          "output_type": "stream",
          "name": "stdout",
          "text": [
            "Appended list:  [1, 2, 3, 4, 6, 7, 8, 9]\n"
          ]
        }
      ]
    },
    {
      "cell_type": "markdown",
      "source": [
        "25. Write a Python program to select an item randomly from a list."
      ],
      "metadata": {
        "id": "-MKKPzC0ywGg"
      }
    },
    {
      "cell_type": "code",
      "source": [
        "import random\n",
        "\n",
        "def random_pick(list1 = []):\n",
        "  i = random.randint(0, len(list1))\n",
        "  return list1[i]\n",
        "\n",
        "l3 = [3,5,6,2,7,5]\n",
        "print(\"Randomly picked item: \", random_pick(l3))"
      ],
      "metadata": {
        "colab": {
          "base_uri": "https://localhost:8080/"
        },
        "id": "B-qvpCiUyx2l",
        "outputId": "b13bb9bc-d974-46a3-dea4-4259a85a739b"
      },
      "execution_count": null,
      "outputs": [
        {
          "output_type": "stream",
          "name": "stdout",
          "text": [
            "Randomly picked item:  2\n"
          ]
        }
      ]
    },
    {
      "cell_type": "markdown",
      "source": [
        "26. Write a Python program to check whether two lists are circularly identical."
      ],
      "metadata": {
        "id": "vTYldXRR0INg"
      }
    },
    {
      "cell_type": "code",
      "source": [
        "def are_circularly_identical(list1, list2):\n",
        "    if len(list1) != len(list2):\n",
        "        return False\n",
        "\n",
        "    concatenated_list1 = list1 + list1\n",
        "    return any(list2 == concatenated_list1[i:i+len(list2)] for i in range(len(list1)))\n",
        "\n",
        "list1 = [1, 2, 3, 4]\n",
        "list2 = [3, 4, 1, 2]\n",
        "list3 = [4, 3, 2, 1]\n",
        "\n",
        "print(are_circularly_identical(list1, list2))  # Output: True\n",
        "print(are_circularly_identical(list1, list3))  # Output: False\n"
      ],
      "metadata": {
        "colab": {
          "base_uri": "https://localhost:8080/"
        },
        "id": "VDr9m2bY0pPW",
        "outputId": "9cdcc304-35c6-4352-a41c-7163589fb919"
      },
      "execution_count": null,
      "outputs": [
        {
          "output_type": "stream",
          "name": "stdout",
          "text": [
            "True\n",
            "False\n"
          ]
        }
      ]
    },
    {
      "cell_type": "markdown",
      "source": [
        "27. Write a Python program to find the second smallest number in a list."
      ],
      "metadata": {
        "id": "KFAsI96M7_md"
      }
    },
    {
      "cell_type": "code",
      "source": [
        "list14 = [3,5,9,7,8,1]\n",
        "\n",
        "def second_smallest(list1 = []):\n",
        "  list1.sort()\n",
        "  return list1[1]\n",
        "\n",
        "print(\"Second Smallest element: \", second_smallest(list14))"
      ],
      "metadata": {
        "colab": {
          "base_uri": "https://localhost:8080/"
        },
        "id": "veoZDO-H8BUB",
        "outputId": "1c5dfdc0-9562-436f-97b9-b8121580fc01"
      },
      "execution_count": null,
      "outputs": [
        {
          "output_type": "stream",
          "name": "stdout",
          "text": [
            "Second Smallest element:  3\n"
          ]
        }
      ]
    },
    {
      "cell_type": "markdown",
      "source": [
        "28. Write a Python program to find the second largest number in a list."
      ],
      "metadata": {
        "id": "hjUQSI-W8lCO"
      }
    },
    {
      "cell_type": "code",
      "source": [
        "def second_largest(list1 = []):\n",
        "  list1.sort()\n",
        "  return list1[-2]\n",
        "\n",
        "print(\"Second Largest element: \", second_largest(list14))"
      ],
      "metadata": {
        "colab": {
          "base_uri": "https://localhost:8080/"
        },
        "id": "E0sBHwnE8n4Y",
        "outputId": "aca8e121-4aab-47b8-99e2-c417586fc45e"
      },
      "execution_count": null,
      "outputs": [
        {
          "output_type": "stream",
          "name": "stdout",
          "text": [
            "Second Largest element:  8\n"
          ]
        }
      ]
    },
    {
      "cell_type": "markdown",
      "source": [
        "29. Write a Python program to get unique values from a list."
      ],
      "metadata": {
        "id": "8S7bngTe88th"
      }
    },
    {
      "cell_type": "code",
      "source": [
        "list15 = [1,2,2,4,6,2,4,1,6,3]\n",
        "\n",
        "def unique_value_list(list1 = []):\n",
        "  uniquelist = []\n",
        "  for i in list1:\n",
        "    if i not in uniquelist:\n",
        "      uniquelist.append(i)\n",
        "  return uniquelist\n",
        "\n",
        "print(\"Unique Values: \", unique_value_list(list15))"
      ],
      "metadata": {
        "colab": {
          "base_uri": "https://localhost:8080/"
        },
        "id": "zAzjr_Al87gX",
        "outputId": "45e96fdb-7d42-4a3e-a099-0babb6e37181"
      },
      "execution_count": null,
      "outputs": [
        {
          "output_type": "stream",
          "name": "stdout",
          "text": [
            "Unique Values:  [1, 2, 4, 6, 3]\n"
          ]
        }
      ]
    },
    {
      "cell_type": "markdown",
      "source": [
        "30. Write a Python program to get the frequency of elements in a list."
      ],
      "metadata": {
        "id": "XhYZZp_S9pbj"
      }
    },
    {
      "cell_type": "code",
      "source": [
        "import collections\n",
        "\n",
        "ctr = collections.Counter(list15)\n",
        "print(\"Frequency of elements: \", ctr)"
      ],
      "metadata": {
        "colab": {
          "base_uri": "https://localhost:8080/"
        },
        "id": "N4IEFJh09q2b",
        "outputId": "6a75aea5-68cd-4aba-9940-552b9cca000b"
      },
      "execution_count": null,
      "outputs": [
        {
          "output_type": "stream",
          "name": "stdout",
          "text": [
            "Frequency of elements:  Counter({2: 3, 1: 2, 4: 2, 6: 2, 3: 1})\n"
          ]
        }
      ]
    },
    {
      "cell_type": "markdown",
      "source": [
        "31. Write a Python program to count the number of elements in a list within a specified range."
      ],
      "metadata": {
        "id": "_48RAFyb8ZUa"
      }
    },
    {
      "cell_type": "code",
      "source": [
        "list16 = [10, 20, 30, 40, 40, 40, 70, 80, 99]\n",
        "\n",
        "def count_list(minvalue, maxvalue, list1):\n",
        "  ctr = 0\n",
        "  for i in list1:\n",
        "    if minvalue<=i<=maxvalue:\n",
        "      ctr += 1\n",
        "  return ctr\n",
        "\n",
        "print(\"Element count between 2 and 12 is: \", count_list(20, 80, list16))"
      ],
      "metadata": {
        "colab": {
          "base_uri": "https://localhost:8080/"
        },
        "id": "bt9Xg1Xr8aju",
        "outputId": "cea7f72a-65c3-48ca-ef6c-d523d7ee560b"
      },
      "execution_count": null,
      "outputs": [
        {
          "output_type": "stream",
          "name": "stdout",
          "text": [
            "Element count between 2 and 12 is:  7\n"
          ]
        }
      ]
    },
    {
      "cell_type": "markdown",
      "source": [
        "32. Write a Python program to check whether a list contains a sublist.\n",
        "\n",
        "What is Slicing?\n",
        "In Python, slicing is a way to access a part of a list. For example, main_list[1:4] gives you a section of main_list starting at index 1 and ending just before index 4.\n",
        "How Does the Code Work?\n",
        "Goal: We want to check if a smaller list (the sublist) is fully contained somewhere inside the bigger list (the main list).\n",
        "\n",
        "The Loop:\n",
        "\n",
        "We go through the main list and check every possible section of it that’s the same length as the sublist.\n",
        "At each position, we take a \"slice\" of the main list that’s the same size as the sublist and compare it to the sublist.\n",
        "Slicing:\n",
        "\n",
        "For example, let’s say main_list = [1, 2, 3, 4, 5] and sublist = [3, 4].\n",
        "The sublist has 2 elements. So we take slices of length 2 from the main list and compare:\n",
        "First, we check if [1, 2] (first two elements of the main list) matches [3, 4] (sublist). It doesn’t.\n",
        "Then we check if [2, 3] matches [3, 4]. It doesn’t.\n",
        "Then we check if [3, 4] matches [3, 4]. It does! So we return True.\n",
        "How the Slice Works:\n",
        "\n",
        "main_list[i:i+len(sublist)] means: \"Take a slice of main_list starting from index i, and grab len(sublist) elements from there.\"\n",
        "If that slice matches the sublist, we know the sublist is in the main list."
      ],
      "metadata": {
        "id": "yUkc-hCV-Vat"
      }
    },
    {
      "cell_type": "code",
      "source": [
        "list17 = [10,20,30, 44]\n",
        "\n",
        "def sublist_check(list1, list2):\n",
        "  for i in range(len(list1) - len(list2)):\n",
        "    if list1[i:i+len(list2)] == list2:\n",
        "      return True\n",
        "    return False\n",
        "\n",
        "print(\"Sublist Check: \", sublist_check(list16, list17))"
      ],
      "metadata": {
        "colab": {
          "base_uri": "https://localhost:8080/"
        },
        "id": "KPY3TIyQ-Wti",
        "outputId": "83789eb6-02eb-4513-f25e-08c745dc1de9"
      },
      "execution_count": null,
      "outputs": [
        {
          "output_type": "stream",
          "name": "stdout",
          "text": [
            "Sublist Check:  False\n"
          ]
        }
      ]
    },
    {
      "cell_type": "markdown",
      "source": [
        "33. Write a Python program to generate all sublists of a list.\n"
      ],
      "metadata": {
        "id": "ycTRnWFQ_lLh"
      }
    },
    {
      "cell_type": "code",
      "source": [
        "from itertools import combinations\n",
        "\n",
        "def generate_sublist(list_input):\n",
        "  sublists = []\n",
        "  for length in  range(len(list_input) + 1):\n",
        "    for sublist in combinations(list_input, length):\n",
        "      sublists.append(list(sublist))\n",
        "  return sublists\n",
        "\n",
        "input_list = [1,2,3]\n",
        "sublists = generate_sublist(input_list)\n",
        "print(\"All sublists are: \")\n",
        "for s in sublists:\n",
        "  print(s)\n",
        "\n"
      ],
      "metadata": {
        "colab": {
          "base_uri": "https://localhost:8080/"
        },
        "id": "ugyjXZgK_meH",
        "outputId": "6d7fb1c5-e33c-443a-a5e4-9e8b611fcc92"
      },
      "execution_count": null,
      "outputs": [
        {
          "output_type": "stream",
          "name": "stdout",
          "text": [
            "All sublists are: \n",
            "[]\n",
            "[1]\n",
            "[2]\n",
            "[3]\n",
            "[1, 2]\n",
            "[1, 3]\n",
            "[2, 3]\n",
            "[1, 2, 3]\n"
          ]
        }
      ]
    },
    {
      "cell_type": "markdown",
      "source": [
        "34. Write a Python program that uses the Sieve of Eratosthenes method to compute prime numbers up to a specified number."
      ],
      "metadata": {
        "id": "tdXcvsNjBBva"
      }
    },
    {
      "cell_type": "code",
      "source": [
        "def sieve_e(n):\n",
        "  prime = [True] * (n+1)\n",
        "  p = 2\n",
        "  while p * p <= n:\n",
        "    if prime[p]:\n",
        "      for i in range(p * p, n +1, p):\n",
        "        prime[i] = False\n",
        "    p += 1\n",
        "\n",
        "  primes = [p for p in range(2, n+1) if prime[p]]\n",
        "  return primes\n",
        "\n",
        "n = 30\n",
        "print(\"Primes: \", sieve_e(n))\n"
      ],
      "metadata": {
        "colab": {
          "base_uri": "https://localhost:8080/"
        },
        "id": "MYFXAfy8BGYh",
        "outputId": "05a6952a-4601-419b-845b-3a0e8aed14d6"
      },
      "execution_count": null,
      "outputs": [
        {
          "output_type": "stream",
          "name": "stdout",
          "text": [
            "Primes:  [2, 3, 5, 7, 11, 13, 17, 19, 23, 29]\n"
          ]
        }
      ]
    },
    {
      "cell_type": "markdown",
      "source": [
        "35. Write a Python program to create a list by concatenating a given list with a range from 1 to n.\n",
        "Sample list : ['p', 'q']\n",
        "n =5\n",
        "Sample Output : ['p1', 'q1', 'p2', 'q2', 'p3', 'q3', 'p4', 'q4', 'p5', 'q5']"
      ],
      "metadata": {
        "id": "i0Htm6XfCWIZ"
      }
    },
    {
      "cell_type": "code",
      "source": [
        "list18 = ['p', 'q']\n",
        "\n",
        "def list_con(list1, n):\n",
        "  list2 = []\n",
        "  for i in range(1, n+1):\n",
        "    for j in list1:\n",
        "      list2.append(j + str(i))\n",
        "  return list2\n",
        "\n",
        "print(\"List Concatenation: \",list_con(list18, 5))"
      ],
      "metadata": {
        "colab": {
          "base_uri": "https://localhost:8080/"
        },
        "id": "XvGpvYwICXWP",
        "outputId": "0a82ed64-9485-4099-af81-21f501fbd54a"
      },
      "execution_count": null,
      "outputs": [
        {
          "output_type": "stream",
          "name": "stdout",
          "text": [
            "List Concatenation:  ['p1', 'q1', 'p2', 'q2', 'p3', 'q3', 'p4', 'q4', 'p5', 'q5']\n"
          ]
        }
      ]
    },
    {
      "cell_type": "markdown",
      "source": [
        "36. Write a Python program to get a variable with an identification number or string."
      ],
      "metadata": {
        "id": "WoU_h5KzDtWn"
      }
    },
    {
      "cell_type": "code",
      "source": [
        "x = 100\n",
        "print(format(id(x), 'x'))"
      ],
      "metadata": {
        "colab": {
          "base_uri": "https://localhost:8080/"
        },
        "id": "1bKA8FoXD1d8",
        "outputId": "2b86e493-b2d2-420c-e851-cbbe3982b7c7"
      },
      "execution_count": null,
      "outputs": [
        {
          "output_type": "stream",
          "name": "stdout",
          "text": [
            "7f89fd730d50\n"
          ]
        }
      ]
    },
    {
      "cell_type": "markdown",
      "source": [
        "37. Write a Python program to find common items in two lists."
      ],
      "metadata": {
        "id": "n9GBpC5zEFfo"
      }
    },
    {
      "cell_type": "code",
      "source": [
        "def common_item(l1, l2):\n",
        "  common = []\n",
        "  for i in l1:\n",
        "    for j in l2:\n",
        "      if i == j:\n",
        "        common.append(i)\n",
        "  return common\n",
        "\n",
        "print(\"Common items: \", common_item(list16,list17))"
      ],
      "metadata": {
        "colab": {
          "base_uri": "https://localhost:8080/"
        },
        "id": "I9VAQoy6EG0n",
        "outputId": "06477a61-b47e-45fb-bb1f-ba0c8911bc47"
      },
      "execution_count": null,
      "outputs": [
        {
          "output_type": "stream",
          "name": "stdout",
          "text": [
            "Common items:  [10, 20, 30]\n"
          ]
        }
      ]
    },
    {
      "cell_type": "markdown",
      "source": [
        "38. Write a Python program to change the position of every n-th value to the (n+1)th in a list.\n",
        "Sample list: [0,1,2,3,4,5]\n",
        "Expected Output: [1, 0, 3, 2, 5, 4]"
      ],
      "metadata": {
        "id": "jj9sJDaDEtrI"
      }
    },
    {
      "cell_type": "code",
      "source": [
        "def pos_change(l1):\n",
        "  temp = ''\n",
        "  for i in range(0, len(l1) - 1, 2): #Loop through the list with a step of 2\n",
        "    temp = l1[i]\n",
        "    l1[i] = l1[i+1]\n",
        "    l1[i+1] = temp\n",
        "  return l1\n",
        "\n",
        "list19 = [0,1,2,3,4,5]\n",
        "print(\"Position change: \", pos_change(list19))"
      ],
      "metadata": {
        "colab": {
          "base_uri": "https://localhost:8080/"
        },
        "id": "-yvSdNnzEy3g",
        "outputId": "f9f3a2f5-e540-4849-e73e-0eab2f8a7db1"
      },
      "execution_count": null,
      "outputs": [
        {
          "output_type": "stream",
          "name": "stdout",
          "text": [
            "Position change:  [1, 0, 3, 2, 5, 4]\n"
          ]
        }
      ]
    },
    {
      "cell_type": "markdown",
      "source": [
        "39. Write a Python program to convert a list of multiple integers into a single integer.\n",
        "Sample list: [11, 33, 50]\n",
        "Expected Output: 113350"
      ],
      "metadata": {
        "id": "v_jszSTsGFpM"
      }
    },
    {
      "cell_type": "code",
      "source": [
        "def list_to_int(l):\n",
        "  int1 = ''\n",
        "  for i in l:\n",
        "    int1 += str(i)\n",
        "  return int(int1)\n",
        "\n",
        "print(\"List to integer: \", list_to_int(list19))"
      ],
      "metadata": {
        "colab": {
          "base_uri": "https://localhost:8080/"
        },
        "id": "j3qe6YoRFl0C",
        "outputId": "3c9dc8f5-b9b7-4169-cb27-17e5d0b6de3c"
      },
      "execution_count": null,
      "outputs": [
        {
          "output_type": "stream",
          "name": "stdout",
          "text": [
            "List to integer:  103254\n"
          ]
        }
      ]
    },
    {
      "cell_type": "markdown",
      "source": [
        "40. Write a Python program to split a list based on the first character of a word."
      ],
      "metadata": {
        "id": "hG2d4lrbGkgG"
      }
    },
    {
      "cell_type": "code",
      "source": [
        "# Import the 'groupby' function from the 'itertools' module and the 'itemgetter' function from the 'operator' module\n",
        "from itertools import groupby\n",
        "from operator import itemgetter\n",
        "\n",
        "# Define a list 'word_list' containing words\n",
        "word_list = ['be', 'have', 'do', 'say', 'get', 'make', 'go', 'know', 'take', 'see', 'come', 'think',\n",
        "             'look', 'want', 'give', 'use', 'find', 'tell', 'ask', 'work', 'seem', 'feel', 'leave', 'call']\n",
        "\n",
        "# Use 'groupby' to group and sort the words in 'word_list' based on the first letter of each word\n",
        "# Iterate through the groups and print the first letter and the words starting with that letter\n",
        "for letter, words in groupby(sorted(word_list), key=itemgetter(0)):\n",
        "    print(letter)\n",
        "    for word in words:\n",
        "        print(word)"
      ],
      "metadata": {
        "colab": {
          "base_uri": "https://localhost:8080/"
        },
        "id": "NbVfMUK4Gls2",
        "outputId": "f22698e0-d467-43c4-a60c-c34f0a6f1147"
      },
      "execution_count": null,
      "outputs": [
        {
          "output_type": "stream",
          "name": "stdout",
          "text": [
            "a\n",
            "ask\n",
            "b\n",
            "be\n",
            "c\n",
            "call\n",
            "come\n",
            "d\n",
            "do\n",
            "f\n",
            "feel\n",
            "find\n",
            "g\n",
            "get\n",
            "give\n",
            "go\n",
            "h\n",
            "have\n",
            "k\n",
            "know\n",
            "l\n",
            "leave\n",
            "look\n",
            "m\n",
            "make\n",
            "s\n",
            "say\n",
            "see\n",
            "seem\n",
            "t\n",
            "take\n",
            "tell\n",
            "think\n",
            "u\n",
            "use\n",
            "w\n",
            "want\n",
            "work\n"
          ]
        }
      ]
    },
    {
      "cell_type": "markdown",
      "source": [
        "42. Write a Python program to find missing and additional values in two lists.\n",
        "Sample data : Missing values in second list: b,a,c\n",
        "Additional values in second list: g,h"
      ],
      "metadata": {
        "id": "CGDSZRNtHRdd"
      }
    },
    {
      "cell_type": "code",
      "source": [
        "list20 = [1,2,3,4]\n",
        "list21 = [3,4,5,6]\n",
        "\n",
        "def add_miss_list(l1, l2):\n",
        "  missing = []\n",
        "  additional = []\n",
        "\n",
        "  for i in l1:\n",
        "    if i not in l2:\n",
        "      missing.append(i)\n",
        "  for j in l2:\n",
        "    if j not in l1:\n",
        "      additional.append(j)\n",
        "  return missing, additional\n",
        "\n",
        "print(\"Missing and additional Value in second list: \", add_miss_list(list20, list21))"
      ],
      "metadata": {
        "colab": {
          "base_uri": "https://localhost:8080/"
        },
        "id": "6rxDneRuHchD",
        "outputId": "916abc1b-e5a0-43fd-af10-9bd304fd3587"
      },
      "execution_count": null,
      "outputs": [
        {
          "output_type": "stream",
          "name": "stdout",
          "text": [
            "Missing and additional Value in second list:  ([1, 2], [5, 6])\n"
          ]
        }
      ]
    },
    {
      "cell_type": "markdown",
      "source": [
        "43. Write a Python program to split a list into different variables."
      ],
      "metadata": {
        "id": "Uan7yzOhIe2d"
      }
    },
    {
      "cell_type": "code",
      "source": [
        "list22 = ['a','b','c','d']\n",
        "\n",
        "var1, var2, var3, var4 = list22\n",
        "\n",
        "print(var1)\n",
        "print(var2)\n",
        "print(var3)\n",
        "print(var4)"
      ],
      "metadata": {
        "colab": {
          "base_uri": "https://localhost:8080/"
        },
        "id": "8G4oEcmfIiAP",
        "outputId": "6312146b-cb93-4adb-9cee-99499bd47d7e"
      },
      "execution_count": null,
      "outputs": [
        {
          "output_type": "stream",
          "name": "stdout",
          "text": [
            "a\n",
            "b\n",
            "c\n",
            "d\n"
          ]
        }
      ]
    },
    {
      "cell_type": "markdown",
      "source": [
        "44. Write a Python program to generate groups of five consecutive numbers in a list."
      ],
      "metadata": {
        "id": "wycp0LpNI96t"
      }
    },
    {
      "cell_type": "code",
      "source": [
        "l = [[5*i + j for j in range(1,6)] for i in range(5)]\n",
        "print(l)"
      ],
      "metadata": {
        "colab": {
          "base_uri": "https://localhost:8080/"
        },
        "id": "VRE606MbJBFJ",
        "outputId": "1e1160b3-2b13-49b5-ac67-ebb5ad4f43ad"
      },
      "execution_count": null,
      "outputs": [
        {
          "output_type": "stream",
          "name": "stdout",
          "text": [
            "[[1, 2, 3, 4, 5], [6, 7, 8, 9, 10], [11, 12, 13, 14, 15], [16, 17, 18, 19, 20], [21, 22, 23, 24, 25]]\n"
          ]
        }
      ]
    },
    {
      "cell_type": "markdown",
      "source": [
        "45. Write a Python program to convert a pair of values into a sorted unique array.\n"
      ],
      "metadata": {
        "id": "3qa9NnipLPNm"
      }
    },
    {
      "cell_type": "code",
      "source": [
        "# Define a list 'L' containing tuples with pairs of numbers\n",
        "L = [(1, 2), (3, 4), (1, 2), (5, 6), (7, 8), (1, 2), (3, 4), (3, 4), (7, 8), (9, 10)]\n",
        "\n",
        "# Print the original list 'L'\n",
        "print(\"Original List: \", L)\n",
        "\n",
        "# Use a set to remove duplicate pairs of numbers and the 'union' method to merge all unique pairs\n",
        "# Sort the resulting set and print the sorted unique data\n",
        "print(\"Sorted Unique Data:\", sorted(set().union(*L)))"
      ],
      "metadata": {
        "colab": {
          "base_uri": "https://localhost:8080/"
        },
        "id": "rAovpO6-LQao",
        "outputId": "61465ef8-fe57-48dc-c2af-820b3891d1d5"
      },
      "execution_count": null,
      "outputs": [
        {
          "output_type": "stream",
          "name": "stdout",
          "text": [
            "Original List:  [(1, 2), (3, 4), (1, 2), (5, 6), (7, 8), (1, 2), (3, 4), (3, 4), (7, 8), (9, 10)]\n",
            "Sorted Unique Data: [1, 2, 3, 4, 5, 6, 7, 8, 9, 10]\n"
          ]
        }
      ]
    },
    {
      "cell_type": "markdown",
      "source": [
        "46. Write a Python program to select the odd items from a list.\n"
      ],
      "metadata": {
        "id": "syb3xhSkLftn"
      }
    },
    {
      "cell_type": "code",
      "source": [
        "list23  = ['a', 'b', 'c', 'd', 'e', 'f']\n",
        "\n",
        "\n",
        "def odd_item(l1):\n",
        "  odd_list = []\n",
        "  for i in l1:\n",
        "    if l1.index(i) % 2 != 0:\n",
        "      odd_list.append(i)\n",
        "  return odd_list\n",
        "\n",
        "print(\"Odd items: \", odd_item(list23))\n"
      ],
      "metadata": {
        "colab": {
          "base_uri": "https://localhost:8080/"
        },
        "id": "NU4RAS8dLhRC",
        "outputId": "e022880a-047e-46f9-ef8f-9bee745fad1a"
      },
      "execution_count": null,
      "outputs": [
        {
          "output_type": "stream",
          "name": "stdout",
          "text": [
            "Odd items:  ['b', 'd', 'f']\n"
          ]
        }
      ]
    },
    {
      "cell_type": "markdown",
      "source": [
        "47. Write a  Python program to insert an element before each element of a list.\n"
      ],
      "metadata": {
        "id": "v-y_2kjzMVzH"
      }
    },
    {
      "cell_type": "code",
      "source": [
        "def insert_before_each(input_list, element):\n",
        "    result = []\n",
        "    for item in input_list:\n",
        "        result.append(element)\n",
        "        result.append(item)\n",
        "    return result\n",
        "\n",
        "sample_list = ['a', 'b', 'c', 'd']\n",
        "new_element = '*'\n",
        "output = insert_before_each(sample_list, new_element)\n",
        "print(\"Modified list:\", output)\n"
      ],
      "metadata": {
        "colab": {
          "base_uri": "https://localhost:8080/"
        },
        "id": "fLM3n2lYN_7L",
        "outputId": "50904eaa-05de-4af6-f2c0-f20599e58df5"
      },
      "execution_count": null,
      "outputs": [
        {
          "output_type": "stream",
          "name": "stdout",
          "text": [
            "Modified list: ['*', 'a', '*', 'b', '*', 'c', '*', 'd']\n"
          ]
        }
      ]
    },
    {
      "cell_type": "markdown",
      "source": [
        "48. Write a Python program to print nested lists (each list on a new line) using the print() function.\n"
      ],
      "metadata": {
        "id": "z7yplZh1OQys"
      }
    },
    {
      "cell_type": "code",
      "source": [
        "list24 = [['a','b'], ['c','d'],['e', 'f'],['g', 'h']]\n",
        "\n",
        "def print_nested(l1):\n",
        "  for i in l1:\n",
        "    print(i)\n",
        "\n",
        "print_nested(list24)"
      ],
      "metadata": {
        "colab": {
          "base_uri": "https://localhost:8080/"
        },
        "id": "rdVJM39mOSlV",
        "outputId": "2ea73fb8-36ae-42fd-bfe6-59e3024fd4a2"
      },
      "execution_count": null,
      "outputs": [
        {
          "output_type": "stream",
          "name": "stdout",
          "text": [
            "['a', 'b']\n",
            "['c', 'd']\n",
            "['e', 'f']\n",
            "['g', 'h']\n"
          ]
        }
      ]
    },
    {
      "cell_type": "markdown",
      "source": [
        "49. Write a Python program to convert a list to a list of dictionaries.\n",
        "Sample lists: [\"Black\", \"Red\", \"Maroon\", \"Yellow\"], [\"#000000\", \"#FF0000\", \"#800000\", \"#FFFF00\"]\n",
        "Expected Output: [{'color_name': 'Black', 'color_code': '#000000'}, {'color_name': 'Red', 'color_code': '#FF0000'}, {'color_name': 'Maroon', 'color_code': '#800000'}, {'color_name': 'Yellow', 'color_code': '#FFFF00'}]"
      ],
      "metadata": {
        "id": "I0oLYql3O2eS"
      }
    },
    {
      "cell_type": "code",
      "source": [
        "color_name = [\"Black\", \"Red\", \"Maroon\", \"Yellow\"]\n",
        "color_code = [\"#000000\", \"#FF0000\", \"#800000\", \"#FFFF00\"]\n",
        "\n",
        "def list_to_dict(color_name, color_code):\n",
        "  result = []\n",
        "  for i in range(len(color_name)):\n",
        "    color_dict = {'color_name': color_name[i], 'color_code': color_code[i]}\n",
        "    result.append(color_dict)\n",
        "  return result\n",
        "\n",
        "print(\"Dictionary: \", list_to_dict(color_name, color_code))\n"
      ],
      "metadata": {
        "colab": {
          "base_uri": "https://localhost:8080/"
        },
        "id": "Z9EXXoBDPD6a",
        "outputId": "789ec740-fb5d-4d50-9fc3-17fa68c79cf0"
      },
      "execution_count": null,
      "outputs": [
        {
          "output_type": "stream",
          "name": "stdout",
          "text": [
            "Dictionary:  [{'color_name': 'Black', 'color_code': '#000000'}, {'color_name': 'Red', 'color_code': '#FF0000'}, {'color_name': 'Maroon', 'color_code': '#800000'}, {'color_name': 'Yellow', 'color_code': '#FFFF00'}]\n"
          ]
        }
      ]
    },
    {
      "cell_type": "markdown",
      "source": [
        "50. Write a Python program to sort a list of nested dictionaries.\n"
      ],
      "metadata": {
        "id": "Bil_rZRYRHZT"
      }
    },
    {
      "cell_type": "code",
      "source": [
        "def sorted_dict(nested_dict, sort_key):\n",
        "    return sorted(nested_dicts, key=lambda x: x[sort_key])\n",
        "\n",
        "nested_dicts = [\n",
        "    {'name': 'John', 'age': 25, 'city': 'New York'},\n",
        "    {'name': 'Alice', 'age': 30, 'city': 'Los Angeles'},\n",
        "    {'name': 'Bob', 'age': 20, 'city': 'Chicago'}\n",
        "]\n",
        "\n",
        "sort_by_age = sorted_dict(nested_dicts, 'age')\n",
        "print(\"Sorted by age: \", sort_by_age)\n",
        "\n",
        "sort_by_name = sorted_dict(nested_dicts, 'name')\n",
        "print(\"Sorted by name: \", sort_by_name)"
      ],
      "metadata": {
        "colab": {
          "base_uri": "https://localhost:8080/"
        },
        "id": "Vg7IK-T3RJkM",
        "outputId": "abdb0c86-fc4e-4847-fcf7-819c3872e009"
      },
      "execution_count": null,
      "outputs": [
        {
          "output_type": "stream",
          "name": "stdout",
          "text": [
            "Sorted by age:  [{'name': 'Bob', 'age': 20, 'city': 'Chicago'}, {'name': 'John', 'age': 25, 'city': 'New York'}, {'name': 'Alice', 'age': 30, 'city': 'Los Angeles'}]\n",
            "Sorted by name:  [{'name': 'Alice', 'age': 30, 'city': 'Los Angeles'}, {'name': 'Bob', 'age': 20, 'city': 'Chicago'}, {'name': 'John', 'age': 25, 'city': 'New York'}]\n"
          ]
        }
      ]
    },
    {
      "cell_type": "markdown",
      "source": [
        "51. Write a Python program to split a list every Nth element.\n",
        "\n",
        "Sample list: ['a', 'b', 'c', 'd', 'e', 'f', 'g', 'h', 'i', 'j', 'k', 'l', 'm', 'n']\n",
        "\n",
        "Expected Output: [['a', 'd', 'g', 'j', 'm'], ['b', 'e', 'h', 'k', 'n'], ['c', 'f', 'i', 'l']]"
      ],
      "metadata": {
        "id": "BEpqOnARaBNj"
      }
    },
    {
      "cell_type": "code",
      "source": [
        "list25 = ['a', 'b', 'c', 'd', 'e', 'f', 'g', 'h', 'i', 'j', 'k', 'l', 'm', 'n']\n",
        "\n",
        "def list_split(l1, n):\n",
        "  for i in range(0, n):\n",
        "    result = [[] for _ in range(n)] #create empty list with sublists of length n\n",
        "    for i, item in enumerate(l1): #access both index and element using enumerate\n",
        "      result[i % n].append(item) #append each element to the sublist based on the remainder of its index when divided by n\n",
        "  return result\n",
        "\n",
        "print(\"Split list: \", list_split(list25, 3))"
      ],
      "metadata": {
        "colab": {
          "base_uri": "https://localhost:8080/"
        },
        "id": "GsAEKJ9-afua",
        "outputId": "364dd452-2131-492a-e735-8335c8cf4802"
      },
      "execution_count": null,
      "outputs": [
        {
          "output_type": "stream",
          "name": "stdout",
          "text": [
            "Split list:  [['a', 'd', 'g', 'j', 'm'], ['b', 'e', 'h', 'k', 'n'], ['c', 'f', 'i', 'l']]\n"
          ]
        }
      ]
    },
    {
      "cell_type": "markdown",
      "source": [
        "52. Write a Python program to compute the difference between two lists.\n",
        "\n",
        "Sample data: [\"red\", \"orange\", \"green\", \"blue\", \"white\"], [\"black\", \"yellow\", \"green\", \"blue\"]\n",
        "\n",
        "Expected Output:\n",
        "\n",
        "Color1-Color2: ['white', 'orange', 'red']\n",
        "Color2-Color1: ['black', 'yellow']"
      ],
      "metadata": {
        "id": "PkovD3kIcITn"
      }
    },
    {
      "cell_type": "code",
      "source": [
        "list26 = [\"red\", \"orange\", \"green\", \"blue\", \"white\"]\n",
        "list27 = [\"black\", \"yellow\", \"green\", \"blue\"]\n",
        "\n",
        "def list_diff(l1, l2):\n",
        "  l1_l2 = []\n",
        "  l2_l1 = []\n",
        "  l1_l2 = set(l1) - set(l2)\n",
        "  l2_l1 = set(l2) - set(l1)\n",
        "  return l1_l2, l2_l1\n",
        "\n",
        "print(\"List Difference: \", list_diff(list26, list27))"
      ],
      "metadata": {
        "colab": {
          "base_uri": "https://localhost:8080/"
        },
        "id": "bguB5JmPcLWt",
        "outputId": "d4c2cf9b-4459-422a-c9e6-dfd1fac11b53"
      },
      "execution_count": null,
      "outputs": [
        {
          "output_type": "stream",
          "name": "stdout",
          "text": [
            "List Difference:  ({'white', 'orange', 'red'}, {'yellow', 'black'})\n"
          ]
        }
      ]
    },
    {
      "cell_type": "markdown",
      "source": [
        "53. Write a Python program to create a list with infinite elements.\n"
      ],
      "metadata": {
        "id": "rBnPJxyKczzE"
      }
    },
    {
      "cell_type": "code",
      "source": [
        "import itertools\n",
        "\n",
        "infinite_list = itertools.count() #returns an iterator that generates consecutive numbers, starting from default 0 and increments by 1\n",
        "\n",
        "for _ in range(10):\n",
        "  print(next(infinite_list)) #using next() to access each number from the iterator list, one at a time."
      ],
      "metadata": {
        "colab": {
          "base_uri": "https://localhost:8080/"
        },
        "id": "UQhUIab5c5s7",
        "outputId": "48d7804c-3edf-42e7-95f6-95fd2458bcb7"
      },
      "execution_count": null,
      "outputs": [
        {
          "output_type": "stream",
          "name": "stdout",
          "text": [
            "0\n",
            "1\n",
            "2\n",
            "3\n",
            "4\n",
            "5\n",
            "6\n",
            "7\n",
            "8\n",
            "9\n"
          ]
        }
      ]
    },
    {
      "cell_type": "markdown",
      "source": [
        "54. Write a Python program to concatenate elements of a list."
      ],
      "metadata": {
        "id": "730mg4JxfEoV"
      }
    },
    {
      "cell_type": "code",
      "source": [
        "def concate_list_ele(l1):\n",
        "  concatenated_string = ''\n",
        "\n",
        "  for i in l1:\n",
        "    concatenated_string += str(i)\n",
        "  return concatenated_string\n",
        "\n",
        "print(\"Concatenated String: \", concate_list_ele(list27))"
      ],
      "metadata": {
        "colab": {
          "base_uri": "https://localhost:8080/"
        },
        "id": "ERzGUw3wfF-O",
        "outputId": "afbfb6de-6c17-4ae6-9895-424551ac5ea2"
      },
      "execution_count": null,
      "outputs": [
        {
          "output_type": "stream",
          "name": "stdout",
          "text": [
            "Concatenated String:  blackyellowgreenblue\n"
          ]
        }
      ]
    },
    {
      "cell_type": "markdown",
      "source": [
        "55. Write a Python program to remove key-value pairs from a list of dictionaries."
      ],
      "metadata": {
        "id": "7n9bX8WBfg_5"
      }
    },
    {
      "cell_type": "code",
      "source": [
        "list28 = [\n",
        "    {'name':'John', 'age':23},\n",
        "    {'name': 'Sarah', 'age': 34},\n",
        "    {'name': 'Mary', 'age':12}\n",
        "]\n",
        "\n",
        "def remove_dict(l1, key_to_remove):\n",
        "  for dictionary in l1:\n",
        "    if key_to_remove in dictionary:\n",
        "      del dictionary[key_to_remove]\n",
        "  return l1\n",
        "\n",
        "print(\"Removing Age: \", remove_dict(list28, 'age'))\n"
      ],
      "metadata": {
        "colab": {
          "base_uri": "https://localhost:8080/"
        },
        "id": "1aIKbssgfmAG",
        "outputId": "d91f8669-7c56-403c-c956-4db75965a29c"
      },
      "execution_count": null,
      "outputs": [
        {
          "output_type": "stream",
          "name": "stdout",
          "text": [
            "Removing Age:  [{'name': 'John'}, {'name': 'Sarah'}, {'name': 'Mary'}]\n"
          ]
        }
      ]
    },
    {
      "cell_type": "markdown",
      "source": [
        "56. Write a Python program to convert a string to a list.\n"
      ],
      "metadata": {
        "id": "XeBvtB37guU8"
      }
    },
    {
      "cell_type": "code",
      "source": [
        "def string_to_list(string_vaalue):\n",
        "  l1 = []\n",
        "  for i in string_vaalue:\n",
        "    l1.append(i)\n",
        "  return l1\n",
        "\n",
        "print(\"String to list: \", string_to_list('abacus'))"
      ],
      "metadata": {
        "colab": {
          "base_uri": "https://localhost:8080/"
        },
        "id": "74_UREuPgvqY",
        "outputId": "4015508c-8634-49cc-e739-0dceaa90e51c"
      },
      "execution_count": null,
      "outputs": [
        {
          "output_type": "stream",
          "name": "stdout",
          "text": [
            "String to list:  ['a', 'b', 'a', 'c', 'u', 's']\n"
          ]
        }
      ]
    },
    {
      "cell_type": "markdown",
      "source": [
        "57. Write a Python program to check if all items in a given list of strings are equal to a given string."
      ],
      "metadata": {
        "id": "9tCz9NI7hHQj"
      }
    },
    {
      "cell_type": "code",
      "source": [
        "list29 = ['k','r','i','s','h','u']\n",
        "string29 = 'krishu'\n",
        "\n",
        "def string_list_validate(l1, s1):\n",
        "  test_str = ''\n",
        "  for i in l1:\n",
        "    test_str += i\n",
        "  if test_str == s1:\n",
        "    return True\n",
        "  else:\n",
        "    return False\n",
        "\n",
        "print(\"Elements in String and list are equal: \", string_list_validate(list29, string29))"
      ],
      "metadata": {
        "colab": {
          "base_uri": "https://localhost:8080/"
        },
        "id": "WTjkWMkAhIu5",
        "outputId": "3b1784b6-528e-4418-eefa-992aabb862ef"
      },
      "execution_count": null,
      "outputs": [
        {
          "output_type": "stream",
          "name": "stdout",
          "text": [
            "Elements in String and list are equal:  True\n"
          ]
        }
      ]
    },
    {
      "cell_type": "markdown",
      "source": [
        "58. Write a Python program to replace the last element in a list with another list.\n",
        "\n",
        "Sample data : [1, 3, 5, 7, 9, 10], [2, 4, 6, 8]\n",
        "\n",
        "Expected Output: [1, 3, 5, 7, 9, 2, 4, 6, 8]"
      ],
      "metadata": {
        "id": "cI5ZzxnFiJDU"
      }
    },
    {
      "cell_type": "code",
      "source": [
        "list30 = [1, 3, 5, 7, 9, 10]\n",
        "list31 = [2, 4, 6, 8]\n",
        "\n",
        "def last_ele_list(l1, l2):\n",
        "  del l1[-1]\n",
        "  for i in l2:\n",
        "    l1.append(i)\n",
        "  return l1\n",
        "\n",
        "print(\"Last element swap: \", last_ele_list(list30, list31))"
      ],
      "metadata": {
        "colab": {
          "base_uri": "https://localhost:8080/"
        },
        "id": "s0VW2Qq0iNzm",
        "outputId": "1ee27d71-63c2-4257-df6c-3d1ad1c20440"
      },
      "execution_count": null,
      "outputs": [
        {
          "output_type": "stream",
          "name": "stdout",
          "text": [
            "Last element swap:  [1, 3, 5, 7, 9, 2, 4, 6, 8]\n"
          ]
        }
      ]
    },
    {
      "cell_type": "markdown",
      "source": [
        "59. Write a Python program to check whether the n-th element exists in a given list.\n"
      ],
      "metadata": {
        "id": "f9myVsVKi89c"
      }
    },
    {
      "cell_type": "code",
      "source": [
        "def ele_check(l1, n):\n",
        "  if n < len(l1):\n",
        "    return True\n",
        "  else:\n",
        "    return False\n",
        "\n",
        "print(\"19th element in list 31: \", ele_check(list31, 19))\n",
        "print(\"3rd element in list 31: \", ele_check(list31, 3))"
      ],
      "metadata": {
        "colab": {
          "base_uri": "https://localhost:8080/"
        },
        "id": "tROvPHGki-Lc",
        "outputId": "7c3ed965-2b21-4150-d18e-af486919dbd2"
      },
      "execution_count": null,
      "outputs": [
        {
          "output_type": "stream",
          "name": "stdout",
          "text": [
            "19th element in list 31:  False\n",
            "3rd element in list 31:  True\n"
          ]
        }
      ]
    },
    {
      "cell_type": "markdown",
      "source": [
        "60. Write a Python program to find a tuple, the smallest second index value from a list of tuples."
      ],
      "metadata": {
        "id": "cmdtRLCykVei"
      }
    },
    {
      "cell_type": "code",
      "source": [
        "list32 = [(1,2), (3,4),(2,5), (9,2)]\n",
        "\n",
        "def smallest_tuple_in_list(l1):\n",
        "  return min(l1, key = lambda x:x[1])\n",
        "\n",
        "def smallest_tuple_in_list_2(l1):\n",
        "  smallest = l1[0] #assume first tuple has the smallest second element\n",
        "  for tup in l1[1:]: #iterate over rest of the tuples\n",
        "    if tup[1] < smallest [1]: #compare the second element of each tuple with the second element of smallest tuple\n",
        "      smallest = tup #update smallest if smaller found\n",
        "  return smallest\n",
        "\n",
        "print(\"Tuple with smallest index: \", smallest_tuple_in_list(list32))\n",
        "print(\"Tuple with smallest index: \", smallest_tuple_in_list_2(list32))"
      ],
      "metadata": {
        "colab": {
          "base_uri": "https://localhost:8080/"
        },
        "id": "cdBCNeAxkXqP",
        "outputId": "79c49ede-e9ea-4dfb-9bc2-827f17ad8d6b"
      },
      "execution_count": null,
      "outputs": [
        {
          "output_type": "stream",
          "name": "stdout",
          "text": [
            "Tuple with smallest index:  (1, 2)\n",
            "Tuple with smallest index:  (1, 2)\n"
          ]
        }
      ]
    },
    {
      "cell_type": "markdown",
      "source": [
        "61. Write a Python program to create a list of empty dictionaries."
      ],
      "metadata": {
        "id": "wSYCailoitX4"
      }
    },
    {
      "cell_type": "code",
      "source": [
        "def create_empty_diclist(n):\n",
        "  dict_list = []\n",
        "  for _ in range(n):\n",
        "    dict_list.append({})\n",
        "  return dict_list\n",
        "\n",
        "print(\"List with empty dictionary: \", create_empty_diclist(5))"
      ],
      "metadata": {
        "colab": {
          "base_uri": "https://localhost:8080/"
        },
        "id": "EyhvCN09iutb",
        "outputId": "fd090b27-bdcb-45ce-8d36-7882cb7f5dc0"
      },
      "execution_count": null,
      "outputs": [
        {
          "output_type": "stream",
          "name": "stdout",
          "text": [
            "List with empty dictionary:  [{}, {}, {}, {}, {}]\n"
          ]
        }
      ]
    },
    {
      "cell_type": "markdown",
      "source": [
        "62. Write a Python program to print a list of space-separated elements."
      ],
      "metadata": {
        "id": "tYG4UfijjuS5"
      }
    },
    {
      "cell_type": "code",
      "source": [
        "list33 = [1, 2, 3, 4, 5, 'hello', 'abc']\n",
        "\n",
        "def space_sep_list(l1):\n",
        "  result = \" \".join(map(str, l1))\n",
        "  return result\n",
        "\n",
        "print(\"Separated elements: \", space_sep_list(list33))"
      ],
      "metadata": {
        "colab": {
          "base_uri": "https://localhost:8080/"
        },
        "id": "N_guek9ukKWk",
        "outputId": "d9451ec5-59a1-4a2e-b1c5-1bcd4d0c6dd5"
      },
      "execution_count": null,
      "outputs": [
        {
          "output_type": "stream",
          "name": "stdout",
          "text": [
            "Separated elements:  1 2 3 4 5 hello abc\n"
          ]
        }
      ]
    },
    {
      "cell_type": "markdown",
      "source": [
        "63. Write a Python program to insert a given string at the beginning of all items in a list.\n",
        "\n",
        "Sample list : [1,2,3,4], string : emp\n",
        "\n",
        "Expected output : ['emp1', 'emp2', 'emp3', 'emp4']"
      ],
      "metadata": {
        "id": "e3skY_tykxWp"
      }
    },
    {
      "cell_type": "code",
      "source": [
        "list34 = [1,2,3,4]\n",
        "\n",
        "def insert_string_in_list(l1, string_insert):\n",
        "  new_list = []\n",
        "  for i in l1:\n",
        "    new_list.append(string_insert + str(i))\n",
        "  return new_list\n",
        "\n",
        "print(\"New list with inserted string: \", insert_string_in_list(list34, 'emp'))"
      ],
      "metadata": {
        "colab": {
          "base_uri": "https://localhost:8080/"
        },
        "id": "63LuNFIJk1cR",
        "outputId": "39a6b56b-be3a-4bff-9a2a-1975889112a4"
      },
      "execution_count": null,
      "outputs": [
        {
          "output_type": "stream",
          "name": "stdout",
          "text": [
            "New list with inserted string:  ['emp1', 'emp2', 'emp3', 'emp4']\n"
          ]
        }
      ]
    },
    {
      "cell_type": "markdown",
      "source": [
        "64. Write a Python program to iterate over two lists simultaneously."
      ],
      "metadata": {
        "id": "PKXHCDhdlWdC"
      }
    },
    {
      "cell_type": "code",
      "source": [
        "list35 = ['a','b','c','d']\n",
        "def iterate_simultaneously(l1, l2):\n",
        "  for i, j in zip(l1, l2):\n",
        "    print(i, j)\n",
        "\n",
        "iterate_simultaneously(list33, list35)"
      ],
      "metadata": {
        "colab": {
          "base_uri": "https://localhost:8080/"
        },
        "id": "S_xACDWIla7e",
        "outputId": "860ec893-5864-47e8-ab73-73b9e6c47fd5"
      },
      "execution_count": null,
      "outputs": [
        {
          "output_type": "stream",
          "name": "stdout",
          "text": [
            "1 a\n",
            "2 b\n",
            "3 c\n",
            "4 d\n"
          ]
        }
      ]
    },
    {
      "cell_type": "markdown",
      "source": [
        "65. Write a Python program to move all zero digits to the end of a given list of numbers.\n",
        "\n",
        "Expected output:\n",
        "Original list: [3, 4, 0, 0, 0, 6, 2, 0, 6, 7, 6, 0, 0, 0, 9, 10, 7, 4, 4, 5, 3, 0, 0, 2, 9, 7, 1]\n",
        "\n",
        "Move all zero digits to end of the said list of numbers:\n",
        "[3, 4, 6, 2, 6, 7, 6, 9, 10, 7, 4, 4, 5, 3, 2, 9, 7, 1, 0, 0, 0, 0, 0, 0, 0, 0, 0]"
      ],
      "metadata": {
        "id": "xuo4M_IimQma"
      }
    },
    {
      "cell_type": "code",
      "source": [
        "list36 = [3, 4, 0, 0, 0, 6, 2, 0, 6, 7, 6, 0, 0, 0, 9, 10, 7, 4, 4, 5, 3, 0, 0, 2, 9, 7, 1]\n",
        "\n",
        "def move_zero_end(l1):\n",
        "  new_list = []\n",
        "  zero_counter = 0\n",
        "  for i in l1:\n",
        "    if i != 0:\n",
        "      new_list.append(i)\n",
        "    else:\n",
        "      zero_counter += 1\n",
        "  for _ in range(zero_counter):\n",
        "    new_list.append(0)\n",
        "  return new_list\n",
        "\n",
        "print(\"Zero moved to end: \", move_zero_end(list36))\n"
      ],
      "metadata": {
        "colab": {
          "base_uri": "https://localhost:8080/"
        },
        "id": "CsJcIKz5mXX1",
        "outputId": "babbe2a0-a3d4-4baf-ccf1-fbab37e427fa"
      },
      "execution_count": null,
      "outputs": [
        {
          "output_type": "stream",
          "name": "stdout",
          "text": [
            "Zero moved to end:  [3, 4, 6, 2, 6, 7, 6, 9, 10, 7, 4, 4, 5, 3, 2, 9, 7, 1, 0, 0, 0, 0, 0, 0, 0, 0, 0]\n"
          ]
        }
      ]
    },
    {
      "cell_type": "markdown",
      "source": [
        "66. Write a Python program to find the list in a list of lists whose sum of elements is the highest.\n",
        "\n",
        "Sample lists: [1,2,3], [4,5,6], [10,11,12], [7,8,9]\n",
        "\n",
        "Expected Output: [10, 11, 12]"
      ],
      "metadata": {
        "id": "fLJ52tginq6Z"
      }
    },
    {
      "cell_type": "code",
      "source": [
        "list37 = [[1,2,3], [4,5,6], [10,11,12], [7,8,9]]\n",
        "\n",
        "def highest_sum(l1):\n",
        "  max_sum = 0\n",
        "  max_list = []\n",
        "  for i in l1:\n",
        "    current_sum = 0\n",
        "    for j in i:\n",
        "      current_sum += j\n",
        "      if current_sum > max_sum:\n",
        "        max_sum = current_sum\n",
        "        max_list = i\n",
        "  return max_list\n",
        "\n",
        "print(\"Sublist with max sum: \", highest_sum(list37))\n"
      ],
      "metadata": {
        "colab": {
          "base_uri": "https://localhost:8080/"
        },
        "id": "QDAyq6aBntsN",
        "outputId": "425ada17-b961-4335-c51c-6bea0a18b17e"
      },
      "execution_count": null,
      "outputs": [
        {
          "output_type": "stream",
          "name": "stdout",
          "text": [
            "Sublist with max sum:  [10, 11, 12]\n"
          ]
        }
      ]
    },
    {
      "cell_type": "markdown",
      "source": [
        "67. Write a  Python program to find all the values in a list that are greater than a specified number."
      ],
      "metadata": {
        "id": "tV6UIWhsqPCk"
      }
    },
    {
      "cell_type": "code",
      "source": [
        "def greater_list_value(l1, n):\n",
        "  new_list = []\n",
        "  for i in l1:\n",
        "    if i > n:\n",
        "      new_list.append(i)\n",
        "  return new_list\n",
        "\n",
        "print(\"All values greater than 3: \", greater_list_value(list36, 3))\n"
      ],
      "metadata": {
        "colab": {
          "base_uri": "https://localhost:8080/"
        },
        "id": "LvYbsxpoqRN5",
        "outputId": "938f09f1-15e2-4ff9-f498-54113dd27c30"
      },
      "execution_count": null,
      "outputs": [
        {
          "output_type": "stream",
          "name": "stdout",
          "text": [
            "All values greater than 3:  [4, 6, 6, 7, 6, 9, 10, 7, 4, 4, 5, 9, 7]\n"
          ]
        }
      ]
    },
    {
      "cell_type": "markdown",
      "source": [
        "68. Write a Python program to extend a list without appending.\n",
        "Sample data: [10, 20, 30]\n",
        "[40, 50, 60]\n",
        "Expected output : [40, 50, 60, 10, 20, 30]"
      ],
      "metadata": {
        "id": "e_1XBl0FqxJO"
      }
    },
    {
      "cell_type": "code",
      "source": [
        "list37 = [10,20,30]\n",
        "list38 = [40,50,60]\n",
        "\n",
        "list37.extend(list38)\n",
        "\n",
        "print(\"Extending list: \", list37)"
      ],
      "metadata": {
        "colab": {
          "base_uri": "https://localhost:8080/"
        },
        "id": "cGrp2reZq0xE",
        "outputId": "3699dfdd-189c-4713-b3f5-0cae007103bf"
      },
      "execution_count": null,
      "outputs": [
        {
          "output_type": "stream",
          "name": "stdout",
          "text": [
            "Extending list:  [10, 20, 30, 40, 50, 60]\n"
          ]
        }
      ]
    },
    {
      "cell_type": "markdown",
      "source": [
        "69. Write a Python program to remove duplicates from a list of lists.\n",
        "\n",
        "Sample list : [[10, 20], [40], [30, 56, 25], [10, 20], [33], [40]]\n",
        "\n",
        "New List : [[10, 20], [30, 56, 25], [33], [40]]"
      ],
      "metadata": {
        "id": "RxZfFae8rKib"
      }
    },
    {
      "cell_type": "code",
      "source": [
        "list39 = [[10, 20], [40], [30, 56, 25], [10, 20], [33], [40]]\n",
        "\n",
        "def remove_dupes(l1):\n",
        "  new_list = []\n",
        "  for i in l1:\n",
        "    if i not in new_list:\n",
        "      new_list.append(i)\n",
        "  return new_list\n",
        "\n",
        "print(\"New list without duplicates: \", remove_dupes(list39))"
      ],
      "metadata": {
        "colab": {
          "base_uri": "https://localhost:8080/"
        },
        "id": "MfNCrjVrrNAi",
        "outputId": "607cb6af-2814-4c64-81ec-0ae63807f7de"
      },
      "execution_count": null,
      "outputs": [
        {
          "output_type": "stream",
          "name": "stdout",
          "text": [
            "New list without duplicates:  [[10, 20], [40], [30, 56, 25], [33]]\n"
          ]
        }
      ]
    },
    {
      "cell_type": "markdown",
      "source": [
        "70. Write a Python program to find items starting with a specific character from a list.\n",
        "\n",
        "Expected Output:\n",
        "\n",
        "Original list:\n",
        "['abcd', 'abc', 'bcd', 'bkie', 'cder', 'cdsw', 'sdfsd', 'dagfa', 'acjd']\n",
        "\n",
        "Items start with a from the said list:\n",
        "['abcd', 'abc', 'acjd']\n",
        "\n",
        "Items start with d from the said list:\n",
        "['dagfa']\n",
        "\n",
        "Items start with w from the said list:\n",
        "[]"
      ],
      "metadata": {
        "id": "jux6pRPBroku"
      }
    },
    {
      "cell_type": "code",
      "source": [
        "list40 = ['abcd', 'abc', 'bcd', 'bkie', 'cder', 'cdsw', 'sdfsd', 'dagfa', 'acjd']\n",
        "\n",
        "def starting_letter(l1):\n",
        "  list_a = []\n",
        "  list_d = []\n",
        "  list_w = []\n",
        "\n",
        "  for i in l1:\n",
        "    if i[0] == 'a':\n",
        "      list_a.append(i)\n",
        "    elif i[0] == 'd':\n",
        "      list_d.append(i)\n",
        "    elif i[0] == 'w':\n",
        "      list_w.append(i)\n",
        "  return list_a, list_d, list_w\n",
        "\n",
        "letter_list = starting_letter(list40)\n",
        "\n",
        "print(\"Items start with a from the said list: \",letter_list[0])\n",
        "\n",
        "print(\"Items start with d from the said list: \",letter_list[1])\n",
        "\n",
        "print(\"Items start with w from the said list: \",letter_list[2])"
      ],
      "metadata": {
        "colab": {
          "base_uri": "https://localhost:8080/"
        },
        "id": "dLF72pUervc4",
        "outputId": "9572123a-4883-41f7-833c-837ec35d29f1"
      },
      "execution_count": null,
      "outputs": [
        {
          "output_type": "stream",
          "name": "stdout",
          "text": [
            "Items start with a from the said list:  ['abcd', 'abc', 'acjd']\n",
            "Items start with d from the said list:  ['dagfa']\n",
            "Items start with w from the said list:  []\n"
          ]
        }
      ]
    },
    {
      "cell_type": "code",
      "source": [
        "def start_with(l1, letter):\n",
        "  result = []\n",
        "  for i in l1:\n",
        "    if i.startswith(letter):\n",
        "      result.append(i)\n",
        "  return result\n",
        "\n",
        "print(\"Items start with a from the said list: \", start_with(list40, 'a'))\n",
        "print(\"Items start with d from the said list: \", start_with(list40, 'd'))\n",
        "print(\"Items start with w from the said list: \", start_with(list40, 'w'))"
      ],
      "metadata": {
        "colab": {
          "base_uri": "https://localhost:8080/"
        },
        "id": "cA0e24WltB0A",
        "outputId": "6fcaf41c-5634-4321-df9b-8815ab4cf13a"
      },
      "execution_count": null,
      "outputs": [
        {
          "output_type": "stream",
          "name": "stdout",
          "text": [
            "Items start with a from the said list:  ['abcd', 'abc', 'acjd']\n",
            "Items start with d from the said list:  ['dagfa']\n",
            "Items start with w from the said list:  []\n"
          ]
        }
      ]
    },
    {
      "cell_type": "markdown",
      "source": [
        "71. Write a Python program to check whether all dictionaries in a list are empty or not.\n",
        "Sample list : [{},{},{}]\n",
        "Return value : True\n",
        "Sample list : [{1,2},{},{}]\n",
        "Return value : False"
      ],
      "metadata": {
        "id": "sUeZaZ4MpZpt"
      }
    },
    {
      "cell_type": "code",
      "source": [
        "list41 = [{},{},{}]\n",
        "list42 = [{1,2},{},{}]\n",
        "\n",
        "def empty_dict(l1):\n",
        "  for i in l1:\n",
        "    if bool(i): #This checks if a dictionary is empty or not. An empty dictionary returns False, and a non-empty dictionary returns True.\n",
        "      return False\n",
        "    return True\n",
        "\n",
        "print(\"Dictionaries inside list are empty: \",empty_dict(list41))\n",
        "\n",
        "print(\"Dictionaries inside list are empty: \",empty_dict(list42))\n"
      ],
      "metadata": {
        "colab": {
          "base_uri": "https://localhost:8080/"
        },
        "id": "cZJhjZlypgZk",
        "outputId": "e0be806d-15bd-4094-efcc-5bc03f6c60bb"
      },
      "execution_count": null,
      "outputs": [
        {
          "output_type": "stream",
          "name": "stdout",
          "text": [
            "Dictionaries inside list are empty:  True\n",
            "Dictionaries inside list are empty:  False\n"
          ]
        }
      ]
    },
    {
      "cell_type": "markdown",
      "source": [
        "72. Write a Python program to flatten a given nested list structure.\n",
        "Original list: [0, 10, [20, 30], 40, 50, [60, 70, 80], [90, 100, 110, 120]]\n",
        "Flatten list:\n",
        "[0, 10, 20, 30, 40, 50, 60, 70, 80, 90, 100, 110, 120]"
      ],
      "metadata": {
        "id": "MWZyg1R5ruGz"
      }
    },
    {
      "cell_type": "code",
      "source": [
        "list42 = [0, 10, [20, 30], 40, 50, [60, 70, 80], [90, 100, 110, 120]]\n",
        "\n",
        "def flatten_list(l1):\n",
        "  new_list = []\n",
        "  for i in l1:\n",
        "    if isinstance(i, list):\n",
        "      new_list.extend(flatten_list(i)) #recursively flatten nested list\n",
        "    else:\n",
        "      new_list.append(i)\n",
        "\n",
        "  return new_list\n",
        "\n",
        "print(\"Flattened List: \", flatten_list(list42))"
      ],
      "metadata": {
        "colab": {
          "base_uri": "https://localhost:8080/"
        },
        "id": "7hFxz-sbrvrp",
        "outputId": "65cd74e9-d153-466e-fe17-75124f55db70"
      },
      "execution_count": null,
      "outputs": [
        {
          "output_type": "stream",
          "name": "stdout",
          "text": [
            "Flattened List:  [0, 10, 20, 30, 40, 50, 60, 70, 80, 90, 100, 110, 120]\n"
          ]
        }
      ]
    },
    {
      "cell_type": "markdown",
      "source": [
        "73. Write a Python program to remove consecutive (following each other continuously) duplicates (elements) from a given list.\n",
        "Original list:\n",
        "[0, 0, 1, 2, 3, 4, 4, 5, 6, 6, 6, 7, 8, 9, 4, 4]\n",
        "After removing consecutive duplicates:\n",
        "[0, 1, 2, 3, 4, 5, 6, 7, 8, 9, 4]"
      ],
      "metadata": {
        "id": "kVVMeMUrtu4d"
      }
    },
    {
      "cell_type": "code",
      "source": [
        "list43 = [0, 0, 1, 2, 3, 4, 4, 5, 6, 6, 6, 7, 8, 9, 4, 4]\n",
        "\n",
        "def remove_consec_dupes(l1):\n",
        "  new_list = [l1[0]] # Add the first element of the input list into the new list\n",
        "  for i in range(1, len(l1)):\n",
        "    if l1[i] != l1[i-1]:\n",
        "      new_list.append(l1[i])\n",
        "  return new_list\n",
        "\n",
        "print(\"Removing Consecutive duplicates: \", remove_consec_dupes(list43))"
      ],
      "metadata": {
        "colab": {
          "base_uri": "https://localhost:8080/"
        },
        "id": "Uv98k8Xvtwf7",
        "outputId": "e6c92261-75b1-4ca3-8177-1029f4b1b7f0"
      },
      "execution_count": null,
      "outputs": [
        {
          "output_type": "stream",
          "name": "stdout",
          "text": [
            "Removing Consecutive duplicates:  [0, 1, 2, 3, 4, 5, 6, 7, 8, 9, 4]\n"
          ]
        }
      ]
    },
    {
      "cell_type": "markdown",
      "source": [
        "74. Write a Python program to pack consecutive duplicates of a given list of elements into sublists.\n",
        "Original list:\n",
        "[0, 0, 1, 2, 3, 4, 4, 5, 6, 6, 6, 7, 8, 9, 4, 4]\n",
        "After packing consecutive duplicates of the said list elements into sublists:\n",
        "[[0, 0], [1], [2], [3], [4, 4], [5], [6, 6, 6], [7], [8], [9], [4, 4]]"
      ],
      "metadata": {
        "id": "MMwr8e1TwNRq"
      }
    },
    {
      "cell_type": "code",
      "source": [
        "def pack_consecutive_duplicates(lst):\n",
        "    packed_list = [[lst[0]]]  # Start by creating the first sublist with the first element\n",
        "\n",
        "    for i in range(1, len(lst)):\n",
        "        # If the current element is the same as the last element in the previous sublist, append it\n",
        "        if lst[i] == packed_list[-1][-1]:\n",
        "            packed_list[-1].append(lst[i])\n",
        "        else:\n",
        "            # Otherwise, start a new sublist with the current element\n",
        "            packed_list.append([lst[i]])\n",
        "\n",
        "    return packed_list\n",
        "\n",
        "original_list = [0, 0, 1, 2, 3, 4, 4, 5, 6, 6, 6, 7, 8, 9, 4, 4]\n",
        "\n",
        "result_list = pack_consecutive_duplicates(original_list)\n",
        "\n",
        "print(\"Original list:\", original_list)\n",
        "print(\"After packing consecutive duplicates into sublists:\", result_list)\n",
        "\n"
      ],
      "metadata": {
        "colab": {
          "base_uri": "https://localhost:8080/"
        },
        "id": "A4mBFKf-wQlF",
        "outputId": "4349edc1-8ffe-4a33-cac2-e8656c8eb869"
      },
      "execution_count": null,
      "outputs": [
        {
          "output_type": "stream",
          "name": "stdout",
          "text": [
            "Original list: [0, 0, 1, 2, 3, 4, 4, 5, 6, 6, 6, 7, 8, 9, 4, 4]\n",
            "After packing consecutive duplicates into sublists: [[0, 0], [1], [2], [3], [4, 4], [5], [6, 6, 6], [7], [8], [9], [4, 4]]\n"
          ]
        }
      ]
    },
    {
      "cell_type": "markdown",
      "source": [
        "75. Write a Python program to create a list reflecting the run-length encoding from a given list of integers or a given list of characters.\n",
        "\n",
        "Original list:\n",
        "[1, 1, 2, 3, 4, 4.3, 5, 1]\n",
        "\n",
        "List reflecting the run-length encoding from the said list:\n",
        "[[2, 1], [1, 2], [1, 3], [1, 4], [1, 4.3], [1, 5], [1, 1]]\n",
        "\n",
        "Original String:\n",
        "\n",
        "automatically\n",
        "\n",
        "List reflecting the run-length encoding from the said string:\n",
        "[[1, 'a'], [1, 'u'], [1, 't'], [1, 'o'], [1, 'm'], [1, 'a'], [1, 't'], [1, 'i'], [1, 'c'], [1, 'a'], [2, 'l'], [1, 'y']]"
      ],
      "metadata": {
        "id": "i2orJVhOygbo"
      }
    },
    {
      "cell_type": "code",
      "source": [
        "list44 =[1,1,2,3,4,4,3,5,1]\n",
        "string44 = 'automatically'\n",
        "\n",
        "def running_length(l1):\n",
        "  encoding = []\n",
        "  current_element = l1[0]\n",
        "  count = 1\n",
        "\n",
        "  for i in range(1, len(l1)):\n",
        "    if l1[i] == current_element:\n",
        "      count += 1 # Increment the count if same element appears consecutively\n",
        "    else:\n",
        "      encoding.append([count, current_element]) #Add the run-length encoded pair\n",
        "      current_element = l1[i]\n",
        "      count = 1\n",
        "  encoding.append([count, current_element])\n",
        "  return encoding\n",
        "\n",
        "print(\"New list: \", running_length(list44))\n",
        "print(\"New list: \", running_length(string44))\n",
        "\n"
      ],
      "metadata": {
        "colab": {
          "base_uri": "https://localhost:8080/"
        },
        "id": "IUc-UQVYymhd",
        "outputId": "ce9cd396-e134-4bc1-aea5-939d8bce767a"
      },
      "execution_count": null,
      "outputs": [
        {
          "output_type": "stream",
          "name": "stdout",
          "text": [
            "New list:  [[2, 1], [1, 2], [1, 3], [2, 4], [1, 3], [1, 5], [1, 1]]\n",
            "New list:  [[1, 'a'], [1, 'u'], [1, 't'], [1, 'o'], [1, 'm'], [1, 'a'], [1, 't'], [1, 'i'], [1, 'c'], [1, 'a'], [2, 'l'], [1, 'y']]\n"
          ]
        }
      ]
    },
    {
      "cell_type": "markdown",
      "source": [
        "77. Write a Python program to decode a run-length message.\n",
        "Original encoded list:\n",
        "[[2, 1], 2, 3, [2, 4], 5, 1]\n",
        "Decode a run-length encoded said list:\n",
        "[1, 1, 2, 3, 4, 4, 5, 1]"
      ],
      "metadata": {
        "id": "qSdYRNDC1gm5"
      }
    },
    {
      "cell_type": "code",
      "source": [
        "list45 =  [[2, 1], 2, 3, [2, 4], 5, 1]\n",
        "\n",
        "def decode_run_length(l1):\n",
        "  decoded_list = []\n",
        "  for i in l1:\n",
        "    if isinstance(i, list):\n",
        "      decoded_list.append([i[1]] * i[0])\n",
        "    else:\n",
        "      decoded_list.append(i)\n",
        "  return decoded_list\n",
        "\n",
        "print(\"Decoded list: \", decode_run_length(list45))"
      ],
      "metadata": {
        "colab": {
          "base_uri": "https://localhost:8080/"
        },
        "id": "OQnkKN1v1jtX",
        "outputId": "071a4ce3-fd8a-447a-c646-d0c1cc7a010f"
      },
      "execution_count": null,
      "outputs": [
        {
          "output_type": "stream",
          "name": "stdout",
          "text": [
            "Decoded list:  [[1, 1], 2, 3, [4, 4], 5, 1]\n"
          ]
        }
      ]
    },
    {
      "cell_type": "markdown",
      "source": [
        "78. Write a Python program to split a given list into two parts where the length of the first part of the list is given.\n",
        "Original list:\n",
        "[1, 1, 2, 3, 4, 4, 5, 1]\n",
        "Length of the first part of the list: 3\n",
        "Splited the said list into two parts:\n",
        "([1, 1, 2], [3, 4, 4, 5, 1])"
      ],
      "metadata": {
        "id": "Hx51hk0x3naK"
      }
    },
    {
      "cell_type": "code",
      "source": [
        "list46 = [1,1,2,3,4,4,5,1]\n",
        "\n",
        "def split_list(l1, n):\n",
        "  result_list = []\n",
        "  first_part = l1[:n]\n",
        "  second_part = l1[n:]\n",
        "  result_list = (first_part, second_part)\n",
        "  return result_list\n",
        "\n",
        "print(\"Resultant list: \", split_list(list46, 3))\n",
        "\n"
      ],
      "metadata": {
        "colab": {
          "base_uri": "https://localhost:8080/"
        },
        "id": "EiVK6sW93rke",
        "outputId": "52578c8e-f758-45c9-ef4a-e8bc990d8dda"
      },
      "execution_count": null,
      "outputs": [
        {
          "output_type": "stream",
          "name": "stdout",
          "text": [
            "Resultant list:  ([1, 1, 2], [3, 4, 4, 5, 1])\n"
          ]
        }
      ]
    },
    {
      "cell_type": "markdown",
      "source": [
        "79. Write a Python program to remove the K'th element from a given list, and print the updated list.\n",
        "Original list:\n",
        "[1, 1, 2, 3, 4, 4, 5, 1]\n",
        "After removing an element at the kth position of the said list:\n",
        "[1, 1, 3, 4, 4, 5, 1]"
      ],
      "metadata": {
        "id": "fWjVlEPi5UME"
      }
    },
    {
      "cell_type": "code",
      "source": [
        "list47 = [1,1,2,3,4,4,5,1]\n",
        "\n",
        "def remove_ele(l1, k):\n",
        "  del l1[k]\n",
        "  return l1\n",
        "\n",
        "print(\"Delete 3rd element: \", remove_ele(list47, 5))"
      ],
      "metadata": {
        "colab": {
          "base_uri": "https://localhost:8080/"
        },
        "id": "CUXA2MtO5Vb5",
        "outputId": "55b38cc9-b86d-4763-a5eb-5200c2a52178"
      },
      "execution_count": null,
      "outputs": [
        {
          "output_type": "stream",
          "name": "stdout",
          "text": [
            "Delete 3rd element:  [1, 1, 2, 3, 4, 5, 1]\n"
          ]
        }
      ]
    },
    {
      "cell_type": "markdown",
      "source": [
        "80. Write a Python program to insert an element at a specified position into a given list.\n",
        "Original list:\n",
        "[1, 1, 2, 3, 4, 4, 5, 1]\n",
        "After inserting an element at kth position in the said list:\n",
        "[1, 1, 12, 2, 3, 4, 4, 5, 1]"
      ],
      "metadata": {
        "id": "j4bqWCyP53jj"
      }
    },
    {
      "cell_type": "code",
      "source": [
        "def insert_ele(l1, k, ele):\n",
        "  l1.insert(k, ele)\n",
        "  return l1\n",
        "\n",
        "print(\"Insert 4 at 2nd index: \", insert_ele(list47, 2, 4))"
      ],
      "metadata": {
        "colab": {
          "base_uri": "https://localhost:8080/"
        },
        "id": "2EZ6-WF759N6",
        "outputId": "cbd4d01b-2fb5-40ad-e73d-6915abb81916"
      },
      "execution_count": null,
      "outputs": [
        {
          "output_type": "stream",
          "name": "stdout",
          "text": [
            "Insert 4 at 2nd index:  [1, 1, 4, 2, 3, 4, 5, 1]\n"
          ]
        }
      ]
    },
    {
      "cell_type": "markdown",
      "source": [
        "81. Write a Python program to extract a given number of randomly selected elements from a given list.\n",
        "Original list:\n",
        "[1, 1, 2, 3, 4, 4, 5, 1]\n",
        "Selected 3 random numbers of the above list:\n",
        "[4, 4, 1]"
      ],
      "metadata": {
        "id": "1iVZsVsG2U5L"
      }
    },
    {
      "cell_type": "code",
      "source": [
        "import random\n",
        "\n",
        "list81 = [1,1,2,3,4,4,5,1]\n",
        "\n",
        "def random_number(l1):\n",
        "  return random.choices(l1, weights = None, cum_weights = None, k =3)\n",
        "\n",
        "print(\"Three random numbers from the list: \", random_number(list81))\n"
      ],
      "metadata": {
        "colab": {
          "base_uri": "https://localhost:8080/"
        },
        "id": "SrOfpOVR2XM5",
        "outputId": "c136e522-9955-4422-abec-afb533785737"
      },
      "execution_count": null,
      "outputs": [
        {
          "output_type": "stream",
          "name": "stdout",
          "text": [
            "Three random numbers from the list:  [2, 1, 4]\n"
          ]
        }
      ]
    },
    {
      "cell_type": "markdown",
      "source": [
        "82. Write a Python program to generate combinations of n distinct objects taken from the elements of a given list.\n",
        "\n",
        "Original list: [1, 2, 3, 4, 5, 6, 7, 8, 9]\n",
        "\n",
        "Combinations of 2 distinct objects: [1, 2] [1, 3] [1, 4] [1, 5] .... [7, 8] [7, 9] [8, 9]"
      ],
      "metadata": {
        "id": "jt0-zAAL3Ni5"
      }
    },
    {
      "cell_type": "code",
      "source": [
        "from itertools import combinations\n",
        "\n",
        "list82 = [1,2,3,4,5,6,7,8,9]\n",
        "\n",
        "def comb_elements(l1, k):\n",
        "  new_list = list(combinations(l1, k)) #Generate all combinations of length k from the given input list.\n",
        "  for c in new_list:\n",
        "    print(list(c))\n",
        "\n",
        "print(\"Combinations of k distinct objects: \", comb_elements(list82, 2))\n"
      ],
      "metadata": {
        "colab": {
          "base_uri": "https://localhost:8080/"
        },
        "id": "3LnwCZY83QVi",
        "outputId": "3ced2555-edf2-4502-a859-ac3e5061a77f"
      },
      "execution_count": null,
      "outputs": [
        {
          "output_type": "stream",
          "name": "stdout",
          "text": [
            "[1, 2]\n",
            "[1, 3]\n",
            "[1, 4]\n",
            "[1, 5]\n",
            "[1, 6]\n",
            "[1, 7]\n",
            "[1, 8]\n",
            "[1, 9]\n",
            "[2, 3]\n",
            "[2, 4]\n",
            "[2, 5]\n",
            "[2, 6]\n",
            "[2, 7]\n",
            "[2, 8]\n",
            "[2, 9]\n",
            "[3, 4]\n",
            "[3, 5]\n",
            "[3, 6]\n",
            "[3, 7]\n",
            "[3, 8]\n",
            "[3, 9]\n",
            "[4, 5]\n",
            "[4, 6]\n",
            "[4, 7]\n",
            "[4, 8]\n",
            "[4, 9]\n",
            "[5, 6]\n",
            "[5, 7]\n",
            "[5, 8]\n",
            "[5, 9]\n",
            "[6, 7]\n",
            "[6, 8]\n",
            "[6, 9]\n",
            "[7, 8]\n",
            "[7, 9]\n",
            "[8, 9]\n",
            "Combinations of k distinct objects:  None\n"
          ]
        }
      ]
    },
    {
      "cell_type": "markdown",
      "source": [
        "83. Write a Python program to round every number in a given list of numbers and print the total sum multiplied by the length of the list.\n",
        "\n",
        "Original list: [22.4, 4.0, -16.22, -9.1, 11.0, -12.22, 14.2, -5.2, 17.5]\n",
        "Result:\n",
        "243"
      ],
      "metadata": {
        "id": "QtCKohM76Cz3"
      }
    },
    {
      "cell_type": "code",
      "source": [
        "list83 = [22.4, 4.0, -16.22, -9.1, 11.0, -12.22, 14.2, -5.2, 17.5]\n",
        "\n",
        "def round_num(l1):\n",
        "  whole_sum = 0\n",
        "  for i in l1:\n",
        "    whole_sum += round(i)\n",
        "  return whole_sum * len(l1)\n",
        "\n",
        "print(\"Total Sum multiplied by length of the list: \", round_num(list83))"
      ],
      "metadata": {
        "colab": {
          "base_uri": "https://localhost:8080/"
        },
        "id": "Fypi1ppc6GHL",
        "outputId": "37956a3a-e16c-40f0-ebe2-c37b20046ab0"
      },
      "execution_count": null,
      "outputs": [
        {
          "output_type": "stream",
          "name": "stdout",
          "text": [
            "Total Sum multiplied by length of the list:  243\n"
          ]
        }
      ]
    },
    {
      "cell_type": "markdown",
      "source": [
        "84. Write a Python program to round the numbers in a given list, print the minimum and maximum numbers and multiply the numbers by 5. Print the unique numbers in ascending order separated by space.\n",
        "\n",
        "Original list: [22.4, 4.0, 16.22, 9.1, 11.0, 12.22, 14.2, 5.2, 17.5]\n",
        "Minimum value: 4\n",
        "Maximum value: 22\n",
        "Result:\n",
        "20 25 45 55 60 70 80 90 110"
      ],
      "metadata": {
        "id": "j9QtSFK47TfP"
      }
    },
    {
      "cell_type": "code",
      "source": [
        "list84 = [22.4, 4.0, 16.22, 9.1, 11.0, 12.22, 14.2, 5.2, 17.5]\n",
        "\n",
        "def round_min(l1):\n",
        "  min_value = round(l1[0])\n",
        "  max_value = round(l1[0])\n",
        "  rounded_value = [round(i) for i in l1]\n",
        "  unique_num = []\n",
        "  results = []\n",
        "\n",
        "  for i in rounded_value:\n",
        "    if round(i) < min_value:\n",
        "      min_value = round(i)\n",
        "    if round(i) > max_value:\n",
        "      max_value = round(i)\n",
        "    unique_num.append(round(i) * 5)\n",
        "\n",
        "  print(\"Minimum value: \", min_value)\n",
        "  print(\"Maximum value: \", max_value)\n",
        "  for j in sorted(set(unique_num)):\n",
        "    results.append(j)\n",
        "  print(\"Result: \", \" \".join(map(str, results)))\n",
        "\n",
        "round_min(list84)"
      ],
      "metadata": {
        "colab": {
          "base_uri": "https://localhost:8080/"
        },
        "id": "S9Q9DkQF7erE",
        "outputId": "1e8d248f-d67d-4e49-baef-74a9309cdcfb"
      },
      "execution_count": null,
      "outputs": [
        {
          "output_type": "stream",
          "name": "stdout",
          "text": [
            "Minimum value:  4\n",
            "Maximum value:  22\n",
            "Result:  20 25 45 55 60 70 80 90 110\n"
          ]
        }
      ]
    },
    {
      "cell_type": "markdown",
      "source": [
        "85. Write a Python program to create a multidimensional list (lists of lists) with zeros.\n",
        "\n",
        "Multidimensional list: [[0, 0], [0, 0], [0, 0]]"
      ],
      "metadata": {
        "id": "nkmS4bY_-9EM"
      }
    },
    {
      "cell_type": "code",
      "source": [
        "def multi_list(rows, columns):\n",
        "  multi_list = []\n",
        "  for i in range(rows):\n",
        "    row = []\n",
        "    for j in range(columns):\n",
        "      row.append(0)\n",
        "    multi_list.append(row)\n",
        "  return multi_list\n",
        "\n",
        "print(\"A 3 * 2 list: \", multi_list(3, 2))\n"
      ],
      "metadata": {
        "colab": {
          "base_uri": "https://localhost:8080/"
        },
        "id": "5hQHmEPr--1z",
        "outputId": "c4cb66bc-db8e-41d7-d8a0-0f2b212a0864"
      },
      "execution_count": null,
      "outputs": [
        {
          "output_type": "stream",
          "name": "stdout",
          "text": [
            "A 3 * 2 list:  [[0, 0], [0, 0], [0, 0]]\n"
          ]
        }
      ]
    },
    {
      "cell_type": "markdown",
      "source": [
        "86. Write a Python program to create a 3X3 grid with numbers.\n",
        "3X3 grid with numbers:\n",
        "[[1, 2, 3], [1, 2, 3], [1, 2, 3]]"
      ],
      "metadata": {
        "id": "Y37iKOgnBlGt"
      }
    },
    {
      "cell_type": "code",
      "source": [
        "def three_grid():\n",
        "  grid = []\n",
        "  for i in range(1, 4):\n",
        "    row = []\n",
        "    for j in range(1, 4):\n",
        "      row.append(j)\n",
        "    grid.append(row)\n",
        "  return grid\n",
        "\n",
        "print(\"Grid: \", three_grid())"
      ],
      "metadata": {
        "colab": {
          "base_uri": "https://localhost:8080/"
        },
        "id": "9CjOFK_bBns2",
        "outputId": "c9aeedce-1c39-434f-83de-3da151d946b5"
      },
      "execution_count": null,
      "outputs": [
        {
          "output_type": "stream",
          "name": "stdout",
          "text": [
            "Grid:  [[1, 2, 3], [1, 2, 3], [1, 2, 3]]\n"
          ]
        }
      ]
    },
    {
      "cell_type": "markdown",
      "source": [
        "87. Write a Python program to read a matrix from the console and print the sum for each column. As input from the user, accept matrix rows, columns, and elements separated by a space (each row).\n",
        "\n",
        "Input rows: 2\n",
        "\n",
        "Input columns: 2\n",
        "\n",
        "Input number of elements in a row (1, 2, 3):\n",
        "1 2\n",
        "3 4\n",
        "sum for each column:\n",
        "4 6"
      ],
      "metadata": {
        "id": "qxBBzSR4CXCd"
      }
    },
    {
      "cell_type": "code",
      "source": [
        "def read_matrix(rows, columns):\n",
        "  matrix = []\n",
        "  print(f\"Enter the elements of the matrix row-wise: \")\n",
        "  for i in range(rows):\n",
        "    row = list(map(int, input().split()))\n",
        "    matrix.append(row)\n",
        "  return matrix\n",
        "\n",
        "def column_sum(matrix, rows, cols):\n",
        "  print(\"Sum for each column: \")\n",
        "  for col in range(cols):\n",
        "    col_sum = sum(matrix[row][col] for row in range(rows))\n",
        "    print(col_sum, end = '')\n",
        "  print()\n",
        "\n",
        "rows = int(input(\"Input rows: \"))\n",
        "cols = int(input(\"Input columns: \"))\n",
        "\n",
        "matrix = read_matrix(rows, cols)\n",
        "column_sum(matrix, rows, cols)\n"
      ],
      "metadata": {
        "colab": {
          "base_uri": "https://localhost:8080/"
        },
        "id": "gpLN9Xt_Caiq",
        "outputId": "e5cdde40-5530-430a-f6a0-634a4d2f4761"
      },
      "execution_count": null,
      "outputs": [
        {
          "output_type": "stream",
          "name": "stdout",
          "text": [
            "Input rows: 2\n",
            "Input columns: 2\n",
            "Enter the elements of the matrix row-wise: \n",
            "1 2\n",
            "3 4\n",
            "Sum for eeach column: \n",
            "46\n"
          ]
        }
      ]
    },
    {
      "cell_type": "markdown",
      "source": [
        "88. Write a Python program to read a square matrix from the console and print the sum of the matrix's primary diagonal. Accept the size of the square matrix and elements for each column separated with a space (for every row) as input from the user.\n",
        "Input the size of the matrix: 3\n",
        "2 3 4\n",
        "4 5 6\n",
        "3 4 7\n",
        "Sum of matrix primary diagonal:\n",
        "14"
      ],
      "metadata": {
        "id": "yGsy0bI5Flco"
      }
    },
    {
      "cell_type": "code",
      "source": [
        "def primary_diagnol_sum(matrix, size):\n",
        "  diagnol_sum = 0\n",
        "  for i in range(size):\n",
        "    diagnol_sum += matrix[i][i]\n",
        "  return diagnol_sum\n",
        "\n",
        "size = int(input(\"Input the size of the matrix: \"))\n",
        "\n",
        "matrix = []\n",
        "\n",
        "for i in range(size):\n",
        "  row = list(map(int, input().split()))\n",
        "  matrix.append(row)\n",
        "\n",
        "print(\"Sum of matrix primary diagnol: \", primary_diagnol_sum(matrix, size))"
      ],
      "metadata": {
        "colab": {
          "base_uri": "https://localhost:8080/"
        },
        "id": "F0PUGazzFp1J",
        "outputId": "9530d828-be13-408c-f1ca-3fcc6a403bc1"
      },
      "execution_count": null,
      "outputs": [
        {
          "output_type": "stream",
          "name": "stdout",
          "text": [
            "Input the size of the matrix: 3\n",
            "2 3 4\n",
            "4 5 6\n",
            "5 4 7\n",
            "Sum of matrix primary diagnol:  14\n"
          ]
        }
      ]
    },
    {
      "cell_type": "markdown",
      "source": [
        "89. Write a Python program to Zip two given lists of lists.\n",
        "Original lists:\n",
        "[[1, 3], [5, 7], [9, 11]]\n",
        "[[2, 4], [6, 8], [10, 12, 14]]\n",
        "Zipped list:\n",
        "[[1, 3, 2, 4], [5, 7, 6, 8], [9, 11, 10, 12, 14]]"
      ],
      "metadata": {
        "id": "pGpQ07TxGnhc"
      }
    },
    {
      "cell_type": "code",
      "source": [
        "def zip_lists(l1, l2):\n",
        "  zipped_list = [a + b for a,b in zip(l1, l2)]\n",
        "  return zipped_list\n",
        "\n",
        "list1 = [[1, 3], [5, 7], [9, 11]]\n",
        "list2 = [[2, 4], [6, 8], [10, 12, 14]]\n",
        "\n",
        "zipped_list = zip_lists(list1, list2)\n",
        "\n",
        "print(\"Zipped list:\")\n",
        "print(zipped_list)"
      ],
      "metadata": {
        "colab": {
          "base_uri": "https://localhost:8080/"
        },
        "id": "UUqf7223HQBu",
        "outputId": "436fdb57-5918-482c-e05a-6b8c8f216c28"
      },
      "execution_count": null,
      "outputs": [
        {
          "output_type": "stream",
          "name": "stdout",
          "text": [
            "Zipped list:\n",
            "[[1, 3, 2, 4], [5, 7, 6, 8], [9, 11, 10, 12, 14]]\n"
          ]
        }
      ]
    },
    {
      "cell_type": "markdown",
      "source": [
        "90. Write a Python program to count the number of lists in a given list of lists.\n",
        "\n",
        "Original list:\n",
        "[[1, 3], [5, 7], [9, 11], [13, 15, 17]]\n",
        "Number of lists in said list of lists:\n",
        "4\n",
        "\n",
        "Original list:\n",
        "[[2, 4], [[6, 8], [4, 5, 8]], [10, 12, 14]]\n",
        "Number of lists in said list of lists:\n",
        "3"
      ],
      "metadata": {
        "id": "Fwqxve0-HhM4"
      }
    },
    {
      "cell_type": "code",
      "source": [
        "list90 = [[1, 3], [5, 7], [9, 11], [13, 15, 17]]\n",
        "\n",
        "def count_lists(l1):\n",
        "  count = 0\n",
        "  for i in l1:\n",
        "    count += 1\n",
        "  return count\n",
        "\n",
        "print(\"Count: \", count_lists(list90))"
      ],
      "metadata": {
        "colab": {
          "base_uri": "https://localhost:8080/"
        },
        "id": "TggcQJUDH6KP",
        "outputId": "b86635b5-bc08-40e1-f3fc-4401bf4ce1ea"
      },
      "execution_count": null,
      "outputs": [
        {
          "output_type": "stream",
          "name": "stdout",
          "text": [
            "Count:  4\n"
          ]
        }
      ]
    },
    {
      "cell_type": "markdown",
      "source": [
        "91. Write a Python program to find a list with maximum and minimum lengths.\n",
        "\n",
        "Original list:\n",
        "[[0], [1, 3], [5, 7], [9, 11], [13, 15, 17]]\n",
        "List with maximum length of lists:\n",
        "(3, [13, 15, 17])\n",
        "List with minimum length of lists:\n",
        "(1, [0])\n",
        "\n",
        "Original list:\n",
        "[[0], [1, 3], [5, 7], [9, 11], [3, 5, 7]]\n",
        "List with maximum length of lists:\n",
        "(3, [3, 5, 7])\n",
        "List with minimum length of lists:\n",
        "(1, [0])\n",
        "\n",
        "Original list:\n",
        "[[12], [1, 3], [1, 34, 5, 7], [9, 11], [3, 5, 7]]\n",
        "List with maximum length of lists:\n",
        "(4, [1, 34, 5, 7])\n",
        "List with minimum length of lists:\n",
        "(1, [12])"
      ],
      "metadata": {
        "id": "yj9u564a2Z92"
      }
    },
    {
      "cell_type": "code",
      "source": [
        "list91 = [[0], [1, 3], [5, 7], [9, 11], [13, 15, 17]]\n",
        "\n",
        "def list_length(l1):\n",
        "  length = 0\n",
        "  min_length = len(l1[0])\n",
        "  max_length = len(l1[0])\n",
        "  min_list = l1[0]\n",
        "  max_list = l1[0]\n",
        "\n",
        "  print(f\"Original List: {l1}\")\n",
        "  for i in l1:\n",
        "    if len(i) < min_length:\n",
        "      min_length = len(i)\n",
        "      min_list = i\n",
        "    if len(i) > max_length:\n",
        "      max_length = len(i)\n",
        "      max_list = i\n",
        "\n",
        "  print(f\"List with minimum length of lists: {min_length}, {min_list}\")\n",
        "  print(f\"List with maximum length of lists: {max_length}, {max_list}\")\n",
        "\n",
        "list_length(list91)"
      ],
      "metadata": {
        "colab": {
          "base_uri": "https://localhost:8080/"
        },
        "id": "LPZHoICW2fBW",
        "outputId": "00bc1575-0026-4254-d3b8-1e0c1f79ae60"
      },
      "execution_count": null,
      "outputs": [
        {
          "output_type": "stream",
          "name": "stdout",
          "text": [
            "Original List: [[0], [1, 3], [5, 7], [9, 11], [13, 15, 17]]\n",
            "List with minimum length of lists: 1, [0]\n",
            "List with maximum length of lists: 3, [13, 15, 17]\n"
          ]
        }
      ]
    },
    {
      "cell_type": "markdown",
      "source": [
        "92. Write a Python program to check if a nested list is a subset of another nested list.\n",
        "\n",
        "Original list:\n",
        "[[1, 3], [5, 7], [9, 11], [13, 15, 17]]\n",
        "[[1, 3], [13, 15, 17]]\n",
        "\n",
        "If the one of the said list is a subset of another.:\n",
        "True"
      ],
      "metadata": {
        "id": "UwmZ9s9g47u0"
      }
    },
    {
      "cell_type": "code",
      "source": [
        "list92a = [[[1, 2], [2, 3]], [[3, 4], [5, 6]]]\n",
        "list92b = [[[3, 4], [5, 6]]]\n",
        "\n",
        "\n",
        "def find_subset(l1, l2):\n",
        "  for i in l2:\n",
        "    if i not in l1:\n",
        "      return False\n",
        "    return True\n",
        "\n",
        "print(\"If the one of the said list is a subset of another: \", find_subset(list92a, list92b))"
      ],
      "metadata": {
        "colab": {
          "base_uri": "https://localhost:8080/"
        },
        "id": "wQzSggKY4-T9",
        "outputId": "fdf8988a-81b8-4ba4-e7a0-37e59889506c"
      },
      "execution_count": null,
      "outputs": [
        {
          "output_type": "stream",
          "name": "stdout",
          "text": [
            "If the one of the said list is a subset of another:  True\n"
          ]
        }
      ]
    },
    {
      "cell_type": "markdown",
      "source": [
        "93. Write a Python program to count the number of sublists that contain a particular element.\n",
        "\n",
        "Original list:\n",
        "[[1, 3], [5, 7], [1, 11], [1, 15, 7]]\n",
        "Count 1 in the said list:\n",
        "3\n",
        "Count 7 in the said list:\n",
        "2\n",
        "\n",
        "Original list:\n",
        "[['A', 'B'], ['A', 'C'], ['A', 'D', 'E'], ['B', 'C', 'D']]\n",
        "Count 'A' in the said list:\n",
        "3\n",
        "Count 'E' in the said list:\n",
        "1"
      ],
      "metadata": {
        "id": "M4QVE1No6IX-"
      }
    },
    {
      "cell_type": "code",
      "source": [
        "list93a = [[1, 3], [5, 7], [1, 11], [1, 15, 7]]\n",
        "list93b = [['A', 'B'], ['A', 'C'], ['A', 'D', 'E'], ['B', 'C', 'D']]\n",
        "\n",
        "def count_element(l1, ele):\n",
        "  count = 0\n",
        "\n",
        "  for i in l1:\n",
        "    if ele in i:\n",
        "      count += 1\n",
        "  return count\n",
        "\n",
        "print(f\"Count 1 in the said list: \", count_element(list93a, 1))\n",
        "print(f\"Count 7 in the said list: \", count_element(list93a, 7))\n",
        "\n",
        "print(f\"Count 'A' in the said list: \", count_element(list93b, 'A'))\n",
        "print(f\"Count 'E' in the said list: \", count_element(list93b, 'E'))"
      ],
      "metadata": {
        "colab": {
          "base_uri": "https://localhost:8080/"
        },
        "id": "E4jOvuMv6MIi",
        "outputId": "ea8ac64b-ce8a-4ac4-8aab-11d804aec961"
      },
      "execution_count": null,
      "outputs": [
        {
          "output_type": "stream",
          "name": "stdout",
          "text": [
            "Count 1 in the said list:  3\n",
            "Count 7 in the said list:  2\n",
            "Count 'A' in the said list:  3\n",
            "Count 'E' in the said list:  1\n"
          ]
        }
      ]
    },
    {
      "cell_type": "markdown",
      "source": [
        "94. Write a Python program to count the number of unique sublists within a given list.\n",
        "\n",
        "Original list:\n",
        "[[1, 3], [5, 7], [1, 3], [13, 15, 17], [5, 7], [9, 11]]\n",
        "Number of unique lists of the said list:\n",
        "{(1, 3): 2, (5, 7): 2, (13, 15, 17): 1, (9, 11): 1}\n",
        "\n",
        "Original list:\n",
        "[['green', 'orange'], ['black'], ['green', 'orange'], ['white']]\n",
        "Number of unique lists of the said list:\n",
        "{('green', 'orange'): 2, ('black',): 1, ('white',): 1}"
      ],
      "metadata": {
        "id": "5lybJf4G7G7d"
      }
    },
    {
      "cell_type": "code",
      "source": [
        "list94a = [[1, 3], [5, 7], [1, 3], [13, 15, 17], [5, 7], [9, 11]]\n",
        "list94b = [['green', 'orange'], ['black'], ['green', 'orange'], ['white']]\n",
        "\n",
        "def unique_sublist(l1):\n",
        "  sublist_count = {}\n",
        "  for sub_list in l1:\n",
        "    tuple_sublist = tuple(sub_list)\n",
        "\n",
        "    if tuple_sublist in sublist_count:\n",
        "      sublist_count[tuple_sublist] += 1\n",
        "    else:\n",
        "      sublist_count[tuple_sublist] = 1\n",
        "  return sublist_count\n",
        "\n",
        "print(\"Number of unique sublists: \", unique_sublist(list94a))\n",
        "print(\"Number of unique sublists: \", unique_sublist(list94b))\n"
      ],
      "metadata": {
        "colab": {
          "base_uri": "https://localhost:8080/"
        },
        "id": "akTGx5sS7JZx",
        "outputId": "3ac179b7-ec11-4ebd-c917-738b36c08f87"
      },
      "execution_count": null,
      "outputs": [
        {
          "output_type": "stream",
          "name": "stdout",
          "text": [
            "Number of unique sublists:  {(1, 3): 2, (5, 7): 2, (13, 15, 17): 1, (9, 11): 1}\n",
            "Number of unique sublists:  {('green', 'orange'): 2, ('black',): 1, ('white',): 1}\n"
          ]
        }
      ]
    },
    {
      "cell_type": "markdown",
      "source": [
        "95. Write a Python program to sort each sublist of strings in a given list of lists.\n",
        "\n",
        "Original list:\n",
        "[[2], [0], [1, 3], [0, 7], [9, 11], [13, 15, 17]]\n",
        "\n",
        "Sort the list of lists by length and value:\n",
        "[[0], [2], [0, 7], [1, 3], [9, 11], [13, 15, 17]]"
      ],
      "metadata": {
        "id": "ek3bOeBz9NlP"
      }
    },
    {
      "cell_type": "code",
      "source": [
        "list95 = [[2], [0], [1, 3], [0, 7], [9, 11], [13, 15, 17]]\n",
        "\n",
        "def sort_sublist(l1):\n",
        "  for i in range(len(l1)):\n",
        "    l1[i] = sorted(l1[i])\n",
        "  l1 = sorted(l1, key = lambda x:(len(x), x)) #This is a lambda function, which is an anonymous, inline function that takes an argument x (each sublist in l1) and returns a tuple (len(x), x).\n",
        "  return l1\n",
        "\n",
        "print(\"Sorted list: \", sort_sublist(list95))\n"
      ],
      "metadata": {
        "colab": {
          "base_uri": "https://localhost:8080/"
        },
        "id": "5UbYIB_J9Qk1",
        "outputId": "bb32cb3a-9593-4d25-daef-fc96566d66b1"
      },
      "execution_count": null,
      "outputs": [
        {
          "output_type": "stream",
          "name": "stdout",
          "text": [
            "Sorted list:  [[0], [2], [0, 7], [1, 3], [9, 11], [13, 15, 17]]\n",
            "Sorted list:  [[0], [0, 7], [1, 3], [2], [9, 11], [13, 15, 17]]\n"
          ]
        }
      ]
    },
    {
      "cell_type": "markdown",
      "source": [
        "96. Write a  Python program to sort a given list of lists by length and value.\n",
        "\n",
        "Original list:\n",
        "[[2], [0], [1, 3], [0, 7], [9, 11], [13, 15, 17]]\n",
        "Sort the list of lists by length and value:\n",
        "[[0], [2], [0, 7], [1, 3], [9, 11], [13, 15, 17]]"
      ],
      "metadata": {
        "id": "94LqZo4T-8tI"
      }
    },
    {
      "cell_type": "code",
      "source": [
        "list95 = [[2], [0], [1, 3], [0, 7], [9, 11], [13, 15, 17]]\n",
        "\n",
        "def sort_sublists(l1):\n",
        "  for i in range(len(l1)):\n",
        "    l1[i] = sorted(l1[i])\n",
        "  l1 = sorted(l1, key = lambda x:(len(x), x))\n",
        "  return l1\n",
        "\n",
        "print(\"Sorted list: \", sort_sublist(list95))\n"
      ],
      "metadata": {
        "colab": {
          "base_uri": "https://localhost:8080/"
        },
        "id": "L5ol3RI3_D3p",
        "outputId": "fb5f1244-42b8-4669-d7b4-645958121a38"
      },
      "execution_count": null,
      "outputs": [
        {
          "output_type": "stream",
          "name": "stdout",
          "text": [
            "Sorted list:  [[0], [2], [0, 7], [1, 3], [9, 11], [13, 15, 17]]\n"
          ]
        }
      ]
    },
    {
      "cell_type": "markdown",
      "source": [
        "97. Write a Python program to remove sublists from a given list of lists that contain an element outside a given range.\n",
        "\n",
        "Original list:\n",
        "[[2], [0], [1, 2, 3], [0, 1, 2, 3, 6, 7], [9, 11], [13, 14, 15, 17]]\n",
        "After removing sublists from a given list of lists, which contains an element outside the given range:\n",
        "[[13, 14, 15, 17]]"
      ],
      "metadata": {
        "id": "N76GzBV8_Ya2"
      }
    },
    {
      "cell_type": "code",
      "source": [
        "list97 = [[2], [0], [1, 2, 3], [0, 1, 2, 3, 6, 7], [9, 11], [13, 14, 15, 17]]\n",
        "\n",
        "def range_ele(l1, min_value, max_value):\n",
        "  new_list = []\n",
        "  for sublist in l1:\n",
        "    all_within_range = True\n",
        "    for j in sublist:\n",
        "      if j < min_value or j > max_value:\n",
        "        all_within_range = False\n",
        "        break\n",
        "    if all_within_range:\n",
        "      new_list.append(sublist)\n",
        "  return new_list\n",
        "\n",
        "print(\"Removed element within range 0 to 12: \", range_ele(list97, 12, 18))"
      ],
      "metadata": {
        "colab": {
          "base_uri": "https://localhost:8080/"
        },
        "id": "CucPjlGQ_b7i",
        "outputId": "2a1705b5-0962-46f9-ce46-1a10946e2463"
      },
      "execution_count": null,
      "outputs": [
        {
          "output_type": "stream",
          "name": "stdout",
          "text": [
            "Removed element within range 0 to 12:  [[13, 14, 15, 17]]\n"
          ]
        }
      ]
    },
    {
      "cell_type": "markdown",
      "source": [
        "98. Write a Python program to scramble the letters of a string in a given list.\n",
        "\n",
        "Original list:\n",
        "['Python', 'list', 'exercises', 'practice', 'solution']\n",
        "After scrambling the letters of the strings of the said list:\n",
        "['tnPhyo', 'tlis', 'ecrsseiex', 'ccpitear', 'noiltuos']"
      ],
      "metadata": {
        "id": "VlcMQDEoBypg"
      }
    },
    {
      "cell_type": "code",
      "source": [
        "import random\n",
        "\n",
        "list98 = ['Python', 'list', 'exercises', 'practice', 'solution']\n",
        "\n",
        "def scramble_ele(l1):\n",
        "  srambled_list = []\n",
        "  for word in l1:\n",
        "    char_list = list(word) # Converting the string into a list of characters\n",
        "    random.shuffle(char_list)\n",
        "    scrambled_word = ''.join(char_list)\n",
        "    srambled_list.append(scrambled_word)\n",
        "  return srambled_list\n",
        "\n",
        "print(\"Scrambled list: \", scramble_ele(list98))\n"
      ],
      "metadata": {
        "colab": {
          "base_uri": "https://localhost:8080/"
        },
        "id": "i2qYO3geB1CZ",
        "outputId": "e3c7f598-ac5f-4528-ae27-6a9513898ee2"
      },
      "execution_count": null,
      "outputs": [
        {
          "output_type": "stream",
          "name": "stdout",
          "text": [
            "Scrambled list:  ['hoPnyt', 'slti', 'ieexrcsse', 'epriatcc', 'suntoloi']\n"
          ]
        }
      ]
    },
    {
      "cell_type": "markdown",
      "source": [
        "99. Write a Python program to find the maximum and minimum values in a given heterogeneous list.\n",
        "\n",
        "Original list:\n",
        "['Python', 3, 2, 4, 5, 'version']\n",
        "Maximum and Minimum values in the said list:\n",
        "(5, 2)"
      ],
      "metadata": {
        "id": "x2cmCeiwC01L"
      }
    },
    {
      "cell_type": "code",
      "source": [
        "list99 = ['Python', 3, 2, 4, 5, 'version']\n",
        "\n",
        "def max_min(l1):\n",
        "  max_val = None\n",
        "  min_val = None\n",
        "\n",
        "  for i in l1:\n",
        "    if isinstance(i, (int, float)):\n",
        "      if max_val is None or i > max_val:\n",
        "        max_val = i\n",
        "      if min_val is None or i < min_val:\n",
        "        min_val = i\n",
        "\n",
        "  return max_val, min_val\n",
        "\n",
        "print(\"Max and Min value: \", max_min(list99))"
      ],
      "metadata": {
        "colab": {
          "base_uri": "https://localhost:8080/"
        },
        "id": "vgjkN3gyC3U7",
        "outputId": "c62b082d-2db4-4749-fe7a-df9655b560d9"
      },
      "execution_count": null,
      "outputs": [
        {
          "output_type": "stream",
          "name": "stdout",
          "text": [
            "Max and Min value:  (5, 2)\n"
          ]
        }
      ]
    },
    {
      "cell_type": "markdown",
      "source": [
        "100. Write a Python program to extract common index elements from more than one given list.\n",
        "\n",
        "Original lists:\n",
        "[1, 1, 3, 4, 5, 6, 7]\n",
        "[0, 1, 2, 3, 4, 5, 7]\n",
        "[0, 1, 2, 3, 4, 5, 7]\n",
        "Common index elements of the said lists:\n",
        "[1, 7]"
      ],
      "metadata": {
        "id": "wR4HLJzbED_o"
      }
    },
    {
      "cell_type": "code",
      "source": [
        "list100a = [1, 1, 3, 4, 5, 6, 7]\n",
        "list100b = [0, 1, 2, 3, 4, 5, 7]\n",
        "list100c = [0, 1, 2, 3, 4, 5, 7]\n",
        "\n",
        "def index_ele(*lists):\n",
        "  common_elements = []\n",
        "  min_length = min(len(lst) for lst in lists) # get the length of shortest lists\n",
        "  for i in range(min_length):\n",
        "    elements_at_index = [lst[i] for lst in lists]\n",
        "    if all(x == elements_at_index[0] for x in elements_at_index):\n",
        "            common_elements.append(elements_at_index[0])\n",
        "\n",
        "    return common_elements\n",
        "\n",
        "\n",
        "\n",
        "print(\"Common element at same index: \", index_ele(list100a, list100b, list100c))"
      ],
      "metadata": {
        "colab": {
          "base_uri": "https://localhost:8080/"
        },
        "id": "_2pYOWgxENSO",
        "outputId": "57ca7b82-3666-42ed-babe-dd8b76e66e38"
      },
      "execution_count": null,
      "outputs": [
        {
          "output_type": "stream",
          "name": "stdout",
          "text": [
            "Common element at same index:  []\n"
          ]
        }
      ]
    },
    {
      "cell_type": "markdown",
      "source": [
        "101. Write a Python program to sort a given matrix in ascending order according to the sum of its rows.\n",
        "\n",
        "Original Matrix:\n",
        "[[1, 2, 3], [2, 4, 5], [1, 1, 1]]\n",
        "Sort the said matrix in ascending order according to the sum of its rows\n",
        "[[1, 1, 1], [1, 2, 3], [2, 4, 5]]\n",
        "\n",
        "Original Matrix:\n",
        "[[1, 2, 3], [-2, 4, -5], [1, -1, 1]]\n",
        "Sort the said matrix in ascending order according to the sum of its rows\n",
        "[[-2, 4, -5], [1, -1, 1], [1, 2, 3]]"
      ],
      "metadata": {
        "id": "FYlpe3sCQufx"
      }
    },
    {
      "cell_type": "code",
      "source": [
        "list101 = [[1,2,3], [2,4,5], [1,1,1]]\n",
        "\n",
        "def order_list(l1):\n",
        "  new_list = sorted(l1, key=sum)\n",
        "  return new_list\n",
        "\n",
        "print(\"New List: \", order_list(list101))"
      ],
      "metadata": {
        "colab": {
          "base_uri": "https://localhost:8080/"
        },
        "id": "L_7KWW8aQyQM",
        "outputId": "53941420-0313-48e9-9643-3f4c39a820d3"
      },
      "execution_count": null,
      "outputs": [
        {
          "output_type": "stream",
          "name": "stdout",
          "text": [
            "New List:  [[1, 1, 1], [1, 2, 3], [2, 4, 5]]\n"
          ]
        }
      ]
    },
    {
      "cell_type": "markdown",
      "source": [
        "102. Write a Python program to extract specified size of strings from a give list of string values.\n",
        "\n",
        "Original list:\n",
        "['Python', 'list', 'exercises', 'practice', 'solution']\n",
        "length of the string to extract:\n",
        "8\n",
        "After extracting strings of specified length from the said list:\n",
        "['practice', 'solution']"
      ],
      "metadata": {
        "id": "fwtS_FSdSP7n"
      }
    },
    {
      "cell_type": "code",
      "source": [
        "list102 = ['Python', 'list', 'exercises', 'practice', 'solution']\n",
        "\n",
        "def length_string(l1, n):\n",
        "  new_list = []\n",
        "  for i in l1:\n",
        "    if len(i) == n:\n",
        "      new_list.append(i)\n",
        "  return new_list\n",
        "\n",
        "print(\"Strings of length 8: \", length_string(list102, 8))"
      ],
      "metadata": {
        "colab": {
          "base_uri": "https://localhost:8080/"
        },
        "id": "HY_aWBoDSSEZ",
        "outputId": "2070b6e7-cad5-43cb-b5f9-23ae6e37a424"
      },
      "execution_count": null,
      "outputs": [
        {
          "output_type": "stream",
          "name": "stdout",
          "text": [
            "Strings of length 8:  ['practice', 'solution']\n"
          ]
        }
      ]
    },
    {
      "cell_type": "markdown",
      "source": [
        "103. Write a Python program to extract specified number of elements from a given list, which follows each other continuously.\n",
        "\n",
        "Original list:\n",
        "[1, 1, 3, 4, 4, 5, 6, 7]\n",
        "\n",
        "Extract 2 number of elements from the said list which follows each other continuously:\n",
        "\n",
        "[1, 4]\n",
        "\n",
        "Original lists:\n",
        "[0, 1, 2, 3, 4, 4, 4, 4, 5, 7]\n",
        "Extract 4 number of elements from the said list which follows each other continuously:\n",
        "[4]"
      ],
      "metadata": {
        "id": "P_rc5Oq2Sx-K"
      }
    },
    {
      "cell_type": "code",
      "source": [
        "list103a = [1,1,3,4,4,5,6,7]\n",
        "list103b = [0, 1, 2, 3, 4, 4, 4, 4, 5, 7]\n",
        "\n",
        "def conti_number(l1, n):\n",
        "    new_list = []\n",
        "    i = 0\n",
        "    while i < len(l1) - 1:\n",
        "        count = 1  # To count the number of continuous elements\n",
        "        # Compare consecutive elements and count them\n",
        "        while i < len(l1) - 1 and l1[i] == l1[i + 1]:\n",
        "            count += 1\n",
        "            i += 1\n",
        "        # If the count of consecutive elements matches 'n', add the element to new_list\n",
        "        if count == n:\n",
        "            new_list.append(l1[i])\n",
        "        i += 1\n",
        "    return new_list\n",
        "\n",
        "print(\"New List: \", conti_number(list103a, 2))\n",
        "print(\"New List: \", conti_number(list103b, 4))"
      ],
      "metadata": {
        "colab": {
          "base_uri": "https://localhost:8080/"
        },
        "id": "MwsP82u4S5nf",
        "outputId": "06de833e-b4d3-4e9e-fa95-1dba73377b20"
      },
      "execution_count": null,
      "outputs": [
        {
          "output_type": "stream",
          "name": "stdout",
          "text": [
            "New List:  [1, 4]\n",
            "New List:  [4]\n"
          ]
        }
      ]
    },
    {
      "cell_type": "markdown",
      "source": [
        "104. Write a Python program to find the difference between consecutive numbers in a given list.\n",
        "\n",
        "Original list:\n",
        "[1, 1, 3, 4, 4, 5, 6, 7]\n",
        "Difference between consecutive numbers of the said list:\n",
        "[0, 2, 1, 0, 1, 1, 1]\n",
        "\n",
        "Original list:\n",
        "[4, 5, 8, 9, 6, 10]\n",
        "Difference between consecutive numbers of the said list:\n",
        "[1, 3, 1, -3, 4]"
      ],
      "metadata": {
        "id": "RoyPCg5jYDet"
      }
    },
    {
      "cell_type": "code",
      "source": [
        "list104a = [1,1,3,4,4,5,6,7]\n",
        "list104b = [4,5,8,9,6,10]\n",
        "\n",
        "def consecutive_diff(l1):\n",
        "  new_list = []\n",
        "  diff = 0\n",
        "  for i in range(0, len(l1) - 1):\n",
        "    diff = l1[i+1] - l1[i]\n",
        "    new_list.append(diff)\n",
        "  return new_list\n",
        "\n",
        "print(\"Diff in consecutive elements: \", consecutive_diff(list104a))\n",
        "print(\"Diff in consecutive elements: \", consecutive_diff(list104b))"
      ],
      "metadata": {
        "colab": {
          "base_uri": "https://localhost:8080/"
        },
        "id": "vlbMR98pYHzE",
        "outputId": "1bc80864-2c45-4c20-b4f3-642687694e35"
      },
      "execution_count": null,
      "outputs": [
        {
          "output_type": "stream",
          "name": "stdout",
          "text": [
            "Diff in consecutive elements:  [0, 2, 1, 0, 1, 1, 1]\n",
            "Diff in consecutive elements:  [1, 3, 1, -3, 4]\n"
          ]
        }
      ]
    },
    {
      "cell_type": "markdown",
      "source": [
        "105. Write a Python program to compute average of two given lists.\n",
        "Original list:\n",
        "[1, 1, 3, 4, 4, 5, 6, 7]\n",
        "[0, 1, 2, 3, 4, 4, 5, 7, 8]\n",
        "\n",
        "Average of two lists:\n",
        "3.823529411764706"
      ],
      "metadata": {
        "id": "FxMrRO5aY-sj"
      }
    },
    {
      "cell_type": "code",
      "source": [
        "list105a = [1, 1, 3, 4, 4, 5, 6, 7]\n",
        "list105b = [0, 1, 2, 3, 4, 4, 5, 7, 8]\n",
        "\n",
        "def list_avg(l1, l2):\n",
        "  avg1 = 0\n",
        "  avg2 = 0\n",
        "  sum1 = 0\n",
        "  sum2 = 0\n",
        "  for i in l1:\n",
        "    sum1 += i\n",
        "  avg1 = sum1 / len(l1)\n",
        "  for j in l2:\n",
        "    sum2 += j\n",
        "  avg2 = sum2 / len(l2)\n",
        "  return ((avg1 + avg2) / 2)\n",
        "\n",
        "print(\"Average: \", list_avg(list105a, list105b))"
      ],
      "metadata": {
        "colab": {
          "base_uri": "https://localhost:8080/"
        },
        "id": "9XBZHA7VZBLc",
        "outputId": "de640885-4921-44cd-c7d4-670af13f82de"
      },
      "execution_count": null,
      "outputs": [
        {
          "output_type": "stream",
          "name": "stdout",
          "text": [
            "Average:  3.826388888888889\n"
          ]
        }
      ]
    },
    {
      "cell_type": "markdown",
      "source": [
        "106. Write a Python program to count integers in a given mixed list.\n",
        "\n",
        "Original list:\n",
        "[1, 'abcd', 3, 1.2, 4, 'xyz', 5, 'pqr', 7, -5, -12.22]\n",
        "Number of integers in the said mixed list:\n",
        "6"
      ],
      "metadata": {
        "id": "Wyt3d_YkaGrr"
      }
    },
    {
      "cell_type": "code",
      "source": [
        "list106 = [1, 'abcd', 3, 1.2, 4, 'xyz', 5, 'pqr', 7, -5, -12.22]\n",
        "\n",
        "def int_num(l1):\n",
        "  count = 0\n",
        "  for i in l1:\n",
        "    if isinstance(i, int):\n",
        "      count += 1\n",
        "  return count\n",
        "\n",
        "print(\"Number of integers in the said mixed list: \",int_num(list106))\n"
      ],
      "metadata": {
        "colab": {
          "base_uri": "https://localhost:8080/"
        },
        "id": "0gJYE8xqaJpS",
        "outputId": "c2c53c77-2abc-4090-b990-e39c08fabef9"
      },
      "execution_count": null,
      "outputs": [
        {
          "output_type": "stream",
          "name": "stdout",
          "text": [
            "Number of integers in the said mixed list:  6\n"
          ]
        }
      ]
    },
    {
      "cell_type": "markdown",
      "source": [
        "107. Write a Python program to remove a specified column from a given nested list.\n",
        "\n",
        "Original Nested list:\n",
        "[[1, 2, 3], [2, 4, 5], [1, 1, 1]]\n",
        "After removing 1st column:\n",
        "[[2, 3], [4, 5], [1, 1]]\n",
        "\n",
        "Original Nested list:\n",
        "[[1, 2, 3], [-2, 4, -5], [1, -1, 1]]\n",
        "After removing 3rd column:\n",
        "[[1, 2], [-2, 4], [1, -1]]"
      ],
      "metadata": {
        "id": "HGaC0i3Qa2ej"
      }
    },
    {
      "cell_type": "code",
      "source": [
        "list107 = [[1,2,3], [2,4,5], [1,1,1]]\n",
        "list107b = [[1, 2, 3], [-2, 4, -5], [1, -1, 1]]\n",
        "\n",
        "def remove_col(l1, n):\n",
        "  sublist = 0\n",
        "  for sublist in l1:\n",
        "    del sublist[n-1]\n",
        "  return l1\n",
        "\n",
        "print(\"After removing 1st column: \", remove_col(list107, 1))\n",
        "print(\"After removing 3rd column: \", remove_col(list107b, 3))"
      ],
      "metadata": {
        "colab": {
          "base_uri": "https://localhost:8080/"
        },
        "id": "OS5owXQma9eo",
        "outputId": "ec192d98-7079-4d7e-afa4-9b9c4fa45ae2"
      },
      "execution_count": null,
      "outputs": [
        {
          "output_type": "stream",
          "name": "stdout",
          "text": [
            "After removing 1st column:  [[2, 3], [4, 5], [1, 1]]\n",
            "After removing 1st column:  [[1, 2], [-2, 4], [1, -1]]\n"
          ]
        }
      ]
    },
    {
      "cell_type": "markdown",
      "source": [
        "108. Write a Python program to extract a specified column from a given nested list.\n",
        "\n",
        "Original Nested list:\n",
        "[[1, 2, 3], [2, 4, 5], [1, 1, 1]]\n",
        "Extract 1st column:\n",
        "[1, 2, 1]\n",
        "\n",
        "Original Nested list:\n",
        "[[1, 2, 3], [-2, 4, -5], [1, -1, 1]]\n",
        "Extract 3rd column:\n",
        "[3, -5, 1]"
      ],
      "metadata": {
        "id": "HTMseTJ1cf2b"
      }
    },
    {
      "cell_type": "code",
      "source": [
        "def extract_col(l1, n):\n",
        "  new_list = []\n",
        "  index = n - 1\n",
        "  ele = ''\n",
        "  for sublist in l1:\n",
        "    ele = sublist[index]\n",
        "    new_list.append(ele)\n",
        "  return new_list\n",
        "\n",
        "list108a = [[1, 2, 3], [2, 4, 5], [1, 1, 1]]\n",
        "list108b = [[1, 2, 3], [-2, 4, -5], [1, -1, 1]]\n",
        "\n",
        "print(\"Extarct 1st column: \", extract_col(list108a, 1))\n",
        "print(\"Extract 3rd column: \", extract_col(list108b, 3))"
      ],
      "metadata": {
        "colab": {
          "base_uri": "https://localhost:8080/"
        },
        "id": "B-XSyOEWclQi",
        "outputId": "5b32b24a-57af-4994-b676-de4d81ed3596"
      },
      "execution_count": null,
      "outputs": [
        {
          "output_type": "stream",
          "name": "stdout",
          "text": [
            "Extarct 1st column:  [1, 2, 1]\n",
            "Extract 3rd column:  [3, -5, 1]\n"
          ]
        }
      ]
    },
    {
      "cell_type": "markdown",
      "source": [
        "109. Write a Python program to rotate a given list by a specified number of items in the right or left direction.\n",
        "\n",
        "original List:\n",
        "[1, 2, 3, 4, 5, 6, 7, 8, 9, 10]\n",
        "\n",
        "Rotate the said list in left direction by 4:\n",
        "[4, 5, 6, 7, 8, 9, 10, 1, 2, 3, 4]\n",
        "\n",
        "Rotate the said list in left direction by 2:\n",
        "[3, 4, 5, 6, 7, 8, 9, 10, 1, 2]\n",
        "\n",
        "Rotate the said list in Right direction by 4:\n",
        "[8, 9, 10, 1, 2, 3, 4, 5, 6]\n",
        "\n",
        "Rotate the said list in Right direction by 2:\n",
        "[9, 10, 1, 2, 3, 4, 5, 6, 7, 8]"
      ],
      "metadata": {
        "id": "0UlORbcqfEii"
      }
    },
    {
      "cell_type": "code",
      "source": [
        "original_list = [1, 2, 3, 4, 5, 6, 7, 8, 9, 10]\n",
        "\n",
        "def rotate_list(l1, num, direction):\n",
        "  num = num % len(l1)\n",
        "\n",
        "  if direction == \"left\":\n",
        "    return l1[num:] + l1[:num]\n",
        "  elif direction == \"right\":\n",
        "    return l1[-num:] + l1[:-num]\n",
        "  else:\n",
        "    return \"Invalid Direction\"\n",
        "\n",
        "print(\"Original List:\", original_list)\n",
        "print(\"Rotate left by 4:\", rotate_list(original_list, 4, 'left'))\n",
        "print(\"Rotate left by 2:\", rotate_list(original_list, 2, 'left'))\n",
        "\n",
        "# Rotate in right direction\n",
        "print(\"\\nRotate right by 4:\", rotate_list(original_list, 4, 'right'))\n",
        "print(\"Rotate right by 2:\", rotate_list(original_list, 2, 'right'))\n"
      ],
      "metadata": {
        "colab": {
          "base_uri": "https://localhost:8080/"
        },
        "id": "O985GqgRfLTH",
        "outputId": "3ad0606c-f0e6-498a-cacd-4ea13ec880cf"
      },
      "execution_count": null,
      "outputs": [
        {
          "output_type": "stream",
          "name": "stdout",
          "text": [
            "Original List: [1, 2, 3, 4, 5, 6, 7, 8, 9, 10]\n",
            "Rotate left by 4: [5, 6, 7, 8, 9, 10, 1, 2, 3, 4]\n",
            "Rotate left by 2: [3, 4, 5, 6, 7, 8, 9, 10, 1, 2]\n",
            "\n",
            "Rotate right by 4: [7, 8, 9, 10, 1, 2, 3, 4, 5, 6]\n",
            "Rotate right by 2: [9, 10, 1, 2, 3, 4, 5, 6, 7, 8]\n"
          ]
        }
      ]
    },
    {
      "cell_type": "markdown",
      "source": [
        "110. Write a Python program to find the item with the most occurrences in a given list.\n",
        "\n",
        "Original list:\n",
        "[2, 3, 8, 4, 7, 9, 8, 2, 6, 5, 1, 6, 1, 2, 3, 4, 6, 9, 1, 2]\n",
        "Item with maximum occurrences of the said list:\n",
        "2"
      ],
      "metadata": {
        "id": "4Vs1N4Ckh6Er"
      }
    },
    {
      "cell_type": "code",
      "source": [
        "from collections import Counter\n",
        "\n",
        "list110 = [2, 3, 8, 4, 7, 9, 8, 2, 6, 5, 1, 6, 1, 2, 3, 4, 6, 9, 1, 2]\n",
        "\n",
        "def item_occ(l1):\n",
        "  count = Counter(l1)\n",
        "  return max(count, key=count.get)\n",
        "\n",
        "print(\"Item with maximum occurrences of the said list: \", item_occ(list110))"
      ],
      "metadata": {
        "colab": {
          "base_uri": "https://localhost:8080/"
        },
        "id": "jf3RsEZrh8Nm",
        "outputId": "d98d5b64-9f37-4eec-c744-da6af787b214"
      },
      "execution_count": null,
      "outputs": [
        {
          "output_type": "stream",
          "name": "stdout",
          "text": [
            "Item with maximum occurrences of the said list:  2\n"
          ]
        }
      ]
    },
    {
      "cell_type": "code",
      "source": [
        "def item_occ_2(l1):\n",
        "  occurences = {}\n",
        "  for item in l1:\n",
        "    if item in occurences:\n",
        "      occurences[item] += 1\n",
        "    else:\n",
        "      occurences[item] = 1\n",
        "\n",
        "  max_item = None\n",
        "  max_count = 0\n",
        "  for item, count in occurences.items():\n",
        "    if count > max_count:\n",
        "      max_count = count\n",
        "      max_item = item\n",
        "  return max_item\n",
        "\n",
        "print(\"Item with maximum occurrences of the said list: \", item_occ_2(list110))"
      ],
      "metadata": {
        "colab": {
          "base_uri": "https://localhost:8080/"
        },
        "id": "3RE4smjwjR7e",
        "outputId": "0c51e1af-9cb5-4ebb-fb63-0935d9b48b97"
      },
      "execution_count": null,
      "outputs": [
        {
          "output_type": "stream",
          "name": "stdout",
          "text": [
            "Item with maximum occurrences of the said list:  2\n"
          ]
        }
      ]
    },
    {
      "cell_type": "markdown",
      "source": [
        "111. Write a Python program to access multiple elements at a specified index from a given list.\n",
        "\n",
        "Original list:\n",
        "[2, 3, 8, 4, 7, 9, 8, 2, 6, 5, 1, 6, 1, 2, 3, 4, 6, 9, 1, 2]\n",
        "Index list:\n",
        "[0, 3, 5, 7, 10]\n",
        "Items with specified index of the said list:\n",
        "[2, 4, 9, 2, 1]"
      ],
      "metadata": {
        "id": "ChmVzbBiZaIR"
      }
    },
    {
      "cell_type": "code",
      "source": [
        "list111= [2, 3, 8, 4, 7, 9, 8, 2, 6, 5, 1, 6, 1, 2, 3, 4, 6, 9, 1, 2]\n",
        "indexlist = [0, 3, 5, 7, 10]\n",
        "\n",
        "def index_ele(l1, l2):\n",
        "  new_list = []\n",
        "  for i in l2:\n",
        "    new_list.append(l1[i])\n",
        "  return new_list\n",
        "\n",
        "print(\"Items with specified index of the said list: \", index_ele(list111, indexlist))"
      ],
      "metadata": {
        "colab": {
          "base_uri": "https://localhost:8080/"
        },
        "id": "_DWvbXzAZccS",
        "outputId": "59642ae0-665e-4636-acd6-85173c1ee9cc"
      },
      "execution_count": null,
      "outputs": [
        {
          "output_type": "stream",
          "name": "stdout",
          "text": [
            "Items with specified index of the said list:  [2, 4, 9, 2, 1]\n"
          ]
        }
      ]
    },
    {
      "cell_type": "markdown",
      "source": [
        "112. Write a Python program to check whether a specified list is sorted or not.\n",
        "\n",
        "Original list:\n",
        "[1, 2, 4, 6, 8, 10, 12, 14, 16, 17]\n",
        "Is the said list is sorted!\n",
        "True\n",
        "Original list:\n",
        "[1, 2, 4, 6, 8, 10, 12, 14, 16, 17]\n",
        "Is the said list is sorted!\n",
        "False"
      ],
      "metadata": {
        "id": "Dfnlj-wSbFkf"
      }
    },
    {
      "cell_type": "code",
      "source": [
        "list112 = [1, 2, 4, 6, 8, 10, 12, 14, 22, 16, 17]\n",
        "\n",
        "def sorted_check(l1):\n",
        "  return l1 == sorted(l1)\n",
        "\n",
        "print(\"Is the said list is sorted!\", sorted_check(list112))"
      ],
      "metadata": {
        "colab": {
          "base_uri": "https://localhost:8080/"
        },
        "id": "F8amlHQ3bHyn",
        "outputId": "d1107799-f2b3-4861-ed8c-8bb3e75cbce0"
      },
      "execution_count": null,
      "outputs": [
        {
          "output_type": "stream",
          "name": "stdout",
          "text": [
            "Is the said list is sorted! False\n"
          ]
        }
      ]
    },
    {
      "cell_type": "markdown",
      "source": [
        "113. Write a Python program to remove duplicate dictionary entries from a given list.\n",
        "\n",
        "Original list with duplicate dictionary:\n",
        "[{'Green': '#008000'}, {'Black': '#000000'}, {'Blue': '#0000FF'}, {'Green': '#008000'}]\n",
        "After removing duplicate dictionary of the said list:\n",
        "[{'Black': '#000000'}, {'Blue': '#0000FF'}, {'Green': '#008000'}]"
      ],
      "metadata": {
        "id": "vp5xlFZecVyb"
      }
    },
    {
      "cell_type": "code",
      "source": [
        "list113 = [{'Green': '#008000'}, {'Black': '#000000'}, {'Blue': '#0000FF'}, {'Green': '#008000'}]\n",
        "\n",
        "def dupli_ele(l1):\n",
        "  new_list = []\n",
        "  for i in l1:\n",
        "    if i not in new_list:\n",
        "      new_list.append(i)\n",
        "  return new_list\n",
        "\n",
        "print(\"After removing duplicate dictionary of the said list: \", dupli_ele(list113))"
      ],
      "metadata": {
        "colab": {
          "base_uri": "https://localhost:8080/"
        },
        "id": "AFcDAQMJcYUc",
        "outputId": "074f9a9b-f816-4b05-c826-16b627972c7e"
      },
      "execution_count": null,
      "outputs": [
        {
          "output_type": "stream",
          "name": "stdout",
          "text": [
            "After removing duplicate dictionary of the said list:  [{'Green': '#008000'}, {'Black': '#000000'}, {'Blue': '#0000FF'}]\n"
          ]
        }
      ]
    },
    {
      "cell_type": "markdown",
      "source": [
        "114. Write a Python program to extract the nth element from a given list of tuples.\n",
        "\n",
        "Original list:\n",
        "[('Greyson Fulton', 98, 99), ('Brady Kent', 97, 96), ('Wyatt Knott', 91, 94), ('Beau Turnbull', 94, 98)]\n",
        "Extract nth element ( n = 0 ) from the said list of tuples:\n",
        "['Greyson Fulton', 'Brady Kent', 'Wyatt Knott', 'Beau Turnbull']\n",
        "Extract nth element ( n = 2 ) from the said list of tuples:\n",
        "[99, 96, 94, 98]"
      ],
      "metadata": {
        "id": "XauQGbzYcuL_"
      }
    },
    {
      "cell_type": "code",
      "source": [
        "list114 = [('Greyson Fulton', 98, 99), ('Brady Kent', 97, 96), ('Wyatt Knott', 91, 94), ('Beau Turnbull', 94, 98)]\n",
        "\n",
        "def tuple_ele(l1, n):\n",
        "  new_list = []\n",
        "  for i in l1:\n",
        "    for j in range(0, len(i)):\n",
        "      if j == n:\n",
        "        new_list.append(i[j])\n",
        "  return new_list\n",
        "\n",
        "print(\"Extract nth element ( n = 0 ) from the said list of tuples: \", tuple_ele(list114, 0))\n",
        "print(\"Extract nth element ( n = 2 ) from the said list of tuples: \", tuple_ele(list114, 2))\n"
      ],
      "metadata": {
        "colab": {
          "base_uri": "https://localhost:8080/"
        },
        "id": "pSwYE2rbdk0A",
        "outputId": "52f42a4b-5154-40f8-aff7-8f21e33b1ee5"
      },
      "execution_count": null,
      "outputs": [
        {
          "output_type": "stream",
          "name": "stdout",
          "text": [
            "Extract nth element ( n = 0 ) from the said list of tuples:  ['Greyson Fulton', 'Brady Kent', 'Wyatt Knott', 'Beau Turnbull']\n",
            "Extract nth element ( n = 2 ) from the said list of tuples:  [99, 96, 94, 98]\n"
          ]
        }
      ]
    },
    {
      "cell_type": "markdown",
      "source": [
        "115. Write a  Python program to check if the elements of a given list are unique or not.\n",
        "\n",
        "Original list:\n",
        "[1, 2, 4, 6, 8, 2, 1, 4, 10, 12, 14, 12, 16, 17]\n",
        "Is the said list contains all unique elements!\n",
        "False\n",
        "Original list:\n",
        "[2, 4, 6, 8, 10, 12, 14]\n",
        "Is the said list contains all unique elements!\n",
        "True"
      ],
      "metadata": {
        "id": "g4XRfdpqeT8X"
      }
    },
    {
      "cell_type": "code",
      "source": [
        "list115 = [1, 2, 4, 6, 8, 2, 1, 4, 10, 12, 14, 12, 16, 17]\n",
        "list115b = [2, 4, 6, 8, 10, 12, 14]\n",
        "\n",
        "print(set(list115))\n",
        "print(set(list115b))\n",
        "\n",
        "def uniq_ele(l1):\n",
        "  return len(set(l1)) == len(l1)\n",
        "\n",
        "print(\"Is the said list contains all unique elements!\", uniq_ele(list115))\n"
      ],
      "metadata": {
        "colab": {
          "base_uri": "https://localhost:8080/"
        },
        "id": "MgCe7WWqeV_o",
        "outputId": "fe1ff96e-7b1c-43df-d9da-200823b37560"
      },
      "execution_count": null,
      "outputs": [
        {
          "output_type": "stream",
          "name": "stdout",
          "text": [
            "{1, 2, 4, 6, 8, 10, 12, 14, 16, 17}\n",
            "{2, 4, 6, 8, 10, 12, 14}\n",
            "Is the said list contains all unique elements! False\n"
          ]
        }
      ]
    },
    {
      "cell_type": "markdown",
      "source": [
        "116. Write a Python program to sort a list of lists by a given index of the inner list.\n",
        "\n",
        "Original list:\n",
        "[('Greyson Fulton', 98, 99), ('Brady Kent', 97, 96), ('Wyatt Knott', 91, 94), ('Beau Turnbull', 94, 98)]\n",
        "Sort the said list of lists by a given index ( Index = 0 ) of the inner list\n",
        "[('Beau Turnbull', 94, 98), ('Brady Kent', 97, 96), ('Greyson Fulton', 98, 99), ('Wyatt Knott', 91, 94)]\n",
        "Sort the said list of lists by a given index ( Index = 2 ) of the inner list\n",
        "[('Wyatt Knott', 91, 94), ('Brady Kent', 97, 96), ('Beau Turnbull', 94, 98), ('Greyson Fulton', 98, 99)]"
      ],
      "metadata": {
        "id": "s14tcreQgL5M"
      }
    },
    {
      "cell_type": "code",
      "source": [
        "list116 = [('Greyson Fulton', 98, 99), ('Brady Kent', 97, 96), ('Wyatt Knott', 91, 94), ('Beau Turnbull', 94, 98)]\n",
        "\n",
        "def sort_inner(l1, n):\n",
        "    return sorted(l1, key = lambda x:x[n])\n",
        "\n",
        "print(\"Sort the said list of lists by a given index ( Index = 0 ) of the inner list: \", sort_inner(list116, 0))\n",
        "print(\"Sort the said list of lists by a given index ( Index = 2 ) of the inner list: \", sort_inner(list116, 2))"
      ],
      "metadata": {
        "colab": {
          "base_uri": "https://localhost:8080/"
        },
        "id": "sBPO4Q05gN69",
        "outputId": "25ea6e05-ac8f-4361-b774-9e9b901af0ac"
      },
      "execution_count": null,
      "outputs": [
        {
          "output_type": "stream",
          "name": "stdout",
          "text": [
            "Sort the said list of lists by a given index ( Index = 0 ) of the inner list:  [('Beau Turnbull', 94, 98), ('Brady Kent', 97, 96), ('Greyson Fulton', 98, 99), ('Wyatt Knott', 91, 94)]\n",
            "Sort the said list of lists by a given index ( Index = 2 ) of the inner list:  [('Wyatt Knott', 91, 94), ('Brady Kent', 97, 96), ('Beau Turnbull', 94, 98), ('Greyson Fulton', 98, 99)]\n"
          ]
        }
      ]
    },
    {
      "cell_type": "markdown",
      "source": [
        "117. Write a Python program to remove all elements from a given list that are present in another list.\n",
        "\n",
        "Original lists:\n",
        "list1: [1, 2, 3, 4, 5, 6, 7, 8, 9, 10]\n",
        "list2: [2, 4, 6, 8]\n",
        "Remove all elements from 'list1' present in 'list2:\n",
        "[1, 3, 5, 7, 9, 10]"
      ],
      "metadata": {
        "id": "r-MY1IMRhVLv"
      }
    },
    {
      "cell_type": "code",
      "source": [
        "list117a = [1, 2, 3, 4, 5, 6, 7, 8, 9, 10]\n",
        "list117b = [2, 4, 6, 8]\n",
        "\n",
        "def remove_ele(l1, l2):\n",
        "  new_list = []\n",
        "  for i in range(0, len(l1)):\n",
        "    if l1[i] not in l2:\n",
        "      new_list.append(l1[i])\n",
        "  return new_list\n",
        "\n",
        "print(\"Remove all elements from 'list1' present in 'list2: \", remove_ele(list117a, list117b))\n"
      ],
      "metadata": {
        "colab": {
          "base_uri": "https://localhost:8080/"
        },
        "id": "Dvfzk-hchW1T",
        "outputId": "17c4eec2-8257-445f-ded5-49b0c986ece7"
      },
      "execution_count": null,
      "outputs": [
        {
          "output_type": "stream",
          "name": "stdout",
          "text": [
            "Remove all elements from 'list1' present in 'list2:  [1, 3, 5, 7, 9, 10]\n"
          ]
        }
      ]
    },
    {
      "cell_type": "markdown",
      "source": [
        "118. Write a Python program to find the difference between elements (n+1th - nth) of a given list of numeric values.\n",
        "\n",
        "Original list:\n",
        "[1, 2, 3, 4, 5, 6, 7, 8, 9, 10]\n",
        "Dfference between elements (n+1th - nth) of the said list :\n",
        "[1, 1, 1, 1, 1, 1, 1, 1, 1]\n",
        "Original list:\n",
        "[2, 4, 6, 8]\n",
        "Dfference between elements (n+1th - nth) of the said list :\n",
        "[2, 2, 2]"
      ],
      "metadata": {
        "id": "wWQSXFuPizW0"
      }
    },
    {
      "cell_type": "code",
      "source": [
        "list118 = [1, 2, 3, 4, 5, 6, 7, 8, 9, 10]\n",
        "\n",
        "def ele_diff(l1):\n",
        "  diff_list = []\n",
        "  for i in range(1, len(l1) - 1):\n",
        "    diff_list.append(l1[i+1] - l1[i])\n",
        "  return diff_list\n",
        "\n",
        "print(\"Dfference between elements (n+1th - nth) of the said list :\", ele_diff(list118))\n"
      ],
      "metadata": {
        "colab": {
          "base_uri": "https://localhost:8080/"
        },
        "id": "3z7Jx61Bi2TT",
        "outputId": "56ebfae3-f606-4731-80d4-481fedbf025f"
      },
      "execution_count": null,
      "outputs": [
        {
          "output_type": "stream",
          "name": "stdout",
          "text": [
            "Dfference between elements (n+1th - nth) of the said list : [1, 1, 1, 1, 1, 1, 1, 1]\n"
          ]
        }
      ]
    },
    {
      "cell_type": "markdown",
      "source": [
        "119. Write a Python program to check if a substring appears in a given list of string values.\n",
        "\n",
        "Original list:\n",
        "['red', 'black', 'white', 'green', 'orange']\n",
        "Substring to search:\n",
        "ack\n",
        "Check if a substring presents in the said list of string values:\n",
        "True\n",
        "Substring to search:\n",
        "abc\n",
        "Check if a substring presents in the said list of string values:\n",
        "False"
      ],
      "metadata": {
        "id": "0xOvqWckjbzI"
      }
    },
    {
      "cell_type": "code",
      "source": [
        "list119 = ['red', 'black', 'white', 'green', 'orange']\n",
        "\n",
        "def sub_search(l1, substring):\n",
        "    print(\"Substring to search:\", substring)\n",
        "    for i in l1:\n",
        "        if substring in i:  # Check if substring is in the current string\n",
        "            return True\n",
        "    return False\n",
        "\n",
        "print(\"Check if a substring presents in the said list of string values: \", sub_search(list119, 'ack'))\n"
      ],
      "metadata": {
        "colab": {
          "base_uri": "https://localhost:8080/"
        },
        "id": "QXtjf0KzjezG",
        "outputId": "7fb7a0f2-9de2-40de-96e5-c56178730eb9"
      },
      "execution_count": null,
      "outputs": [
        {
          "output_type": "stream",
          "name": "stdout",
          "text": [
            "Substring to search: ack\n",
            "Check if a substring presents in the said list of string values:  True\n"
          ]
        }
      ]
    },
    {
      "cell_type": "markdown",
      "source": [
        "120. Write a Python program to create a list taking alternate elements from a given list.\n",
        "\n",
        "Original list:\n",
        "['red', 'black', 'white', 'green', 'orange']\n",
        "List with alternate elements from the said list:\n",
        "['red', 'white', 'orange']\n",
        "Original list:\n",
        "[2, 0, 3, 4, 0, 2, 8, 3, 4, 2]\n",
        "List with alternate elements from the said list:\n",
        "[2, 3, 0, 8, 4]"
      ],
      "metadata": {
        "id": "T_hExu1UnJdY"
      }
    },
    {
      "cell_type": "code",
      "source": [
        "list120 = ['red', 'black', 'white', 'green', 'orange']\n",
        "list120b = [2, 0, 3, 4, 0, 2, 8, 3, 4, 2]\n",
        "\n",
        "def alternate_ele(l1):\n",
        "     return l1[::2]  # Slicing with a step of 2 to take alternate elements\n",
        "\n",
        "\n",
        "print(\"List with alternate elements from the said list: \", alternate_ele(list120))\n",
        "print(\"List with alternate elements from the said list: \", alternate_ele(list120b))\n"
      ],
      "metadata": {
        "colab": {
          "base_uri": "https://localhost:8080/"
        },
        "id": "hejyUNPZnLKe",
        "outputId": "f040e246-3900-42cd-a40d-3997999c3eac"
      },
      "execution_count": null,
      "outputs": [
        {
          "output_type": "stream",
          "name": "stdout",
          "text": [
            "List with alternate elements from the said list:  ['red', 'white', 'orange']\n",
            "List with alternate elements from the said list:  [2, 3, 0, 8, 4]\n"
          ]
        }
      ]
    },
    {
      "cell_type": "markdown",
      "source": [
        "121. Write a Python program to find nested list elements that are present in another list.\n",
        "\n",
        "Original lists:\n",
        "[1, 2, 3, 4, 5, 6, 7, 8, 9, 10, 11, 12, 13, 14]\n",
        "[[12, 18, 23, 25, 45], [7, 11, 19, 24, 28], [1, 5, 8, 18, 15, 16]]\n",
        "Intersection of said nested lists:\n",
        "[[12], [7, 11], [1, 5, 8]]"
      ],
      "metadata": {
        "id": "q-SqPplRn-gW"
      }
    },
    {
      "cell_type": "code",
      "source": [
        "a121 = [1, 2, 3, 4, 5, 6, 7, 8, 9, 10, 11, 12, 13, 14]\n",
        "b121 = [[12, 18, 23, 25, 45], [7, 11, 19, 24, 28], [1, 5, 8, 18, 15, 16]]\n",
        "\n",
        "def same_ele_inotherlist(l1, l2):\n",
        "  new_list = []\n",
        "  for i in l2:\n",
        "    for j in i:\n",
        "      if j in l1:\n",
        "        new_list.append(j)\n",
        "  return j\n",
        "\n",
        "print(\"Intersection of said nested lists: \")\n",
        "[[12], [7, 11], [1, 5, 8]]"
      ],
      "metadata": {
        "colab": {
          "base_uri": "https://localhost:8080/"
        },
        "id": "4Czu3oxBoCul",
        "outputId": "92702cce-f247-40ee-bee4-49e8a1006b01"
      },
      "execution_count": null,
      "outputs": [
        {
          "output_type": "stream",
          "name": "stdout",
          "text": [
            "Intersection of said nested lists: \n"
          ]
        },
        {
          "output_type": "execute_result",
          "data": {
            "text/plain": [
              "[[12], [7, 11], [1, 5, 8]]"
            ]
          },
          "metadata": {},
          "execution_count": 3
        }
      ]
    },
    {
      "cell_type": "markdown",
      "source": [
        "122. Write a Python program to find common elements in a nested list.\n",
        "Original lists:\n",
        "\n",
        "[[12, 18, 23, 25, 45], [7, 12, 18, 24, 28], [1, 5, 8, 12, 15, 16, 18]]\n",
        "Common element(s) in nested lists:\n",
        "[18, 12]"
      ],
      "metadata": {
        "id": "7Q-a-1gsoog9"
      }
    },
    {
      "cell_type": "code",
      "source": [
        "a122 = [[12, 18, 23, 25, 45], [7, 12, 18, 24, 28], [1, 5, 8, 12, 15, 16, 18]]\n",
        "\n",
        "def common_ele(l1):\n",
        "  new_list = []\n",
        "  for i in l1:\n",
        "    for j in i:\n",
        "      for k in range(l1.index(i)+1, len(l1)):\n",
        "        if j in l1[k]:\n",
        "          if j not in new_list:\n",
        "            new_list.append(j)\n",
        "  return new_list\n",
        "\n",
        "print(\"Common element(s) in nested lists: \", common_ele(a122))"
      ],
      "metadata": {
        "colab": {
          "base_uri": "https://localhost:8080/"
        },
        "id": "5spypY3JorOx",
        "outputId": "33339a92-8f13-4380-f477-965d2992a4a7"
      },
      "execution_count": null,
      "outputs": [
        {
          "output_type": "stream",
          "name": "stdout",
          "text": [
            "Common element(s) in nested lists:  [12, 18]\n"
          ]
        }
      ]
    },
    {
      "cell_type": "markdown",
      "source": [
        "123. Write a Python program to reverse strings in a given list of string values.\n",
        "\n",
        "Original lists:\n",
        "['Red', 'Green', 'Blue', 'White', 'Black']\n",
        "Reverse strings of the said given list:\n",
        "['deR', 'neerG', 'eulB', 'etihW', 'kcalB']"
      ],
      "metadata": {
        "id": "NqdPwcN5q6vh"
      }
    },
    {
      "cell_type": "code",
      "source": [
        "a123 = ['Red', 'Green', 'Blue', 'White', 'Black']\n",
        "\n",
        "def reverse_string(l1):\n",
        "  new_list = []\n",
        "\n",
        "  for i in l1:\n",
        "    string_a = ''\n",
        "    for j in range(len(i) - 1, -1, -1):\n",
        "      string_a += i[j]\n",
        "    new_list.append(string_a)\n",
        "  return new_list\n",
        "\n",
        "print(\"Reverse strings of the said given list: \",reverse_string(a123))"
      ],
      "metadata": {
        "colab": {
          "base_uri": "https://localhost:8080/"
        },
        "id": "KrOKGFqTq_6h",
        "outputId": "45b19061-f0cd-47eb-84ed-a753e7dd70f1"
      },
      "execution_count": null,
      "outputs": [
        {
          "output_type": "stream",
          "name": "stdout",
          "text": [
            "Reverse strings of the said given list:  ['deR', 'neerG', 'eulB', 'etihW', 'kcalB']\n"
          ]
        }
      ]
    },
    {
      "cell_type": "markdown",
      "source": [
        "124. Write a Python program to find the maximum and minimum product of pairs of tuples within a given list.\n",
        "\n",
        "The original list, tuple :\n",
        "[(2, 7), (2, 6), (1, 8), (4, 9)]\n",
        "Maximum and minimum product from the pairs of the said tuple of list:\n",
        "(36, 8)"
      ],
      "metadata": {
        "id": "CCuOAYWus0lu"
      }
    },
    {
      "cell_type": "code",
      "source": [
        "a124 = [(2, 7), (2, 6), (1, 8), (4, 9)]\n",
        "\n",
        "def max_min_product(l1):\n",
        "  max_p = l1[0][0] * l1[0][1]\n",
        "  min_p = l1[0][0] * l1[0][1]\n",
        "\n",
        "  for tup in l1:\n",
        "    prod = tup[0] * tup[1]\n",
        "    if prod > max_p:\n",
        "      max_p = prod\n",
        "    if prod < min_p:\n",
        "      min_p = prod\n",
        "  return (max_p, min_p)\n",
        "\n",
        "print(\"Maximum and minimum product from the pairs of the said tuple of list: \", max_min_product(a124))"
      ],
      "metadata": {
        "colab": {
          "base_uri": "https://localhost:8080/"
        },
        "id": "_0aNVhwvs2RB",
        "outputId": "41cceca1-89cb-4f35-b7f4-c28512891e78"
      },
      "execution_count": null,
      "outputs": [
        {
          "output_type": "stream",
          "name": "stdout",
          "text": [
            "Maximum and minimum product from the pairs of the said tuple of list:  (36, 8)\n"
          ]
        }
      ]
    },
    {
      "cell_type": "markdown",
      "source": [
        "125. Write a Python program to calculate the product of the unique numbers in a given list.\n",
        "\n",
        "Original List : [10, 20, 30, 40, 20, 50, 60, 40]\n",
        "Product of the unique numbers of the said list: 720000000"
      ],
      "metadata": {
        "id": "NwB8I04WvBbi"
      }
    },
    {
      "cell_type": "code",
      "source": [
        "a125 = [10, 20, 30, 40, 20, 50, 60, 40]\n",
        "\n",
        "def uni_prod(l1):\n",
        "  new_list = []\n",
        "  prod = 1\n",
        "  for i in l1:\n",
        "    if i not in new_list:\n",
        "      new_list.append(i)\n",
        "  for j in new_list:\n",
        "      prod *= j\n",
        "  return prod\n",
        "\n",
        "print(\"Product of the unique numbers of the said list: \", uni_prod(a125))"
      ],
      "metadata": {
        "colab": {
          "base_uri": "https://localhost:8080/"
        },
        "id": "cTU96NZGvDOQ",
        "outputId": "8700471a-051e-4d09-9bb0-85d7cc639748"
      },
      "execution_count": null,
      "outputs": [
        {
          "output_type": "stream",
          "name": "stdout",
          "text": [
            "Product of the unique numbers of the said list:  720000000\n"
          ]
        }
      ]
    },
    {
      "cell_type": "markdown",
      "source": [
        "126. Write a Python program to interleave multiple lists of the same length.\n",
        "\n",
        "Original list:\n",
        "list1: [1, 2, 3, 4, 5, 6, 7]\n",
        "list2: [10, 20, 30, 40, 50, 60, 70]\n",
        "list3: [100, 200, 300, 400, 500, 600, 700]\n",
        "Interleave multiple lists:\n",
        "[1, 10, 100, 2, 20, 200, 3, 30, 300, 4, 40, 400, 5, 50, 500, 6, 60, 600, 7, 70, 700]"
      ],
      "metadata": {
        "id": "a_eLIC99vqer"
      }
    },
    {
      "cell_type": "code",
      "source": [
        "a126 = [1, 2, 3, 4, 5, 6, 7]\n",
        "b126 = [10, 20, 30, 40, 50, 60, 70]\n",
        "c126 = [100, 200, 300, 400, 500, 600, 700]\n",
        "\n",
        "def interleave_list(l1, l2, l3):\n",
        "  new_list = []\n",
        "  for i in range(len(l1)):\n",
        "    new_list.append(l1[i])\n",
        "    new_list.append(l2[i])\n",
        "    new_list.append(l3[i])\n",
        "  return new_list\n",
        "\n",
        "print(\"Interleave multiple lists: \", interleave_list(a126,b126, c126))"
      ],
      "metadata": {
        "colab": {
          "base_uri": "https://localhost:8080/"
        },
        "id": "cE9sU6rMvsPq",
        "outputId": "f007bb1b-3c55-4239-d772-1b86aad6ecd0"
      },
      "execution_count": null,
      "outputs": [
        {
          "output_type": "stream",
          "name": "stdout",
          "text": [
            "Interleave multiple lists:  [1, 10, 100, 2, 20, 200, 3, 30, 300, 4, 40, 400, 5, 50, 500, 6, 60, 600, 7, 70, 700]\n"
          ]
        }
      ]
    },
    {
      "cell_type": "markdown",
      "source": [
        "127. Write a Python program to remove words from a given list of strings containing a character or string.\n",
        "\n",
        "Original list:\n",
        "list1: ['Red color', 'Orange#', 'Green', 'Orange @', 'White']\n",
        "Character list:\n",
        "['#', 'color', '@']\n",
        "New list:\n",
        "['Red', '', 'Green', 'Orange', 'White']"
      ],
      "metadata": {
        "id": "bwtxjpnTwhA0"
      }
    },
    {
      "cell_type": "code",
      "source": [
        "a127 = ['Red color', 'Orange#', 'Green', 'Orange @', 'White']\n",
        "b127 = ['#', 'color', '@']\n",
        "\n",
        "def remove_char_strings(l1, l2):\n",
        "  new_list = []\n",
        "  for string in l1:\n",
        "    modified_string = string\n",
        "    for char in l2:\n",
        "      if char in modified_string:\n",
        "        modified_string = modified_string.replace(char, '').strip()\n",
        "    new_list.append(modified_string)\n",
        "  return new_list\n",
        "\n",
        "print(\"New_list: \", remove_char_strings(a127, b127))\n"
      ],
      "metadata": {
        "colab": {
          "base_uri": "https://localhost:8080/"
        },
        "id": "hb7g1WetwjOC",
        "outputId": "f62c3348-7e8a-4e87-c6bc-2310b1f41db2"
      },
      "execution_count": null,
      "outputs": [
        {
          "output_type": "stream",
          "name": "stdout",
          "text": [
            "New_list:  ['Red', 'Orange', 'Green', 'Orange', 'White']\n"
          ]
        }
      ]
    },
    {
      "cell_type": "markdown",
      "source": [
        "128. Write a Python program to calculate the sum of the numbers in a list between the indices of a specified range.\n",
        "\n",
        "Original list:\n",
        "[2, 1, 5, 6, 8, 3, 4, 9, 10, 11, 8, 12]\n",
        "Range: 8 , 10\n",
        "Sum of the specified range:\n",
        "29"
      ],
      "metadata": {
        "id": "HwIbbqayy5Xb"
      }
    },
    {
      "cell_type": "code",
      "source": [
        "a128 = [2, 1, 5, 6, 8, 3, 4, 9, 10, 11, 8, 12]\n",
        "\n",
        "def sum_num(l1, min_range, max_range):\n",
        "  new_list = []\n",
        "  sum = 0\n",
        "  for i in range(min_range, max_range+1):\n",
        "    new_list.append(l1[i])\n",
        "  print(new_list)\n",
        "  for j in new_list:\n",
        "    sum += j\n",
        "  return sum\n",
        "\n",
        "print(\"Sum of the specified range: \", sum_num(a128, 8, 10))"
      ],
      "metadata": {
        "colab": {
          "base_uri": "https://localhost:8080/"
        },
        "id": "MztNUsdGy8TZ",
        "outputId": "eb243f7a-a0cd-4bec-d751-3814e53eac50"
      },
      "execution_count": null,
      "outputs": [
        {
          "output_type": "stream",
          "name": "stdout",
          "text": [
            "[10, 11, 8]\n",
            "Sum of the specified range:  29\n"
          ]
        }
      ]
    },
    {
      "cell_type": "markdown",
      "source": [
        "129. Write a Python program to reverse each list in a given list of lists.\n",
        "\n",
        "Original list of lists:\n",
        "[[1, 2, 3, 4], [5, 6, 7, 8], [9, 10, 11, 12], [13, 14, 15, 16]]\n",
        "Reverse each list in the said list of lists:\n",
        "[[4, 3, 2, 1], [8, 7, 6, 5], [12, 11, 10, 9], [16, 15, 14, 13]]"
      ],
      "metadata": {
        "id": "QKQUtci90Tn8"
      }
    },
    {
      "cell_type": "code",
      "source": [
        "a129 = [[1, 2, 3, 4], [5, 6, 7, 8], [9, 10, 11, 12], [13, 14, 15, 16]]\n",
        "\n",
        "def reverse_each_list(l1):\n",
        "  outer_list = []\n",
        "\n",
        "  for sublist in l1:\n",
        "    inner_list = []\n",
        "    for j in range(len(sublist) - 1, -1, -1):\n",
        "      inner_list.append(sublist[j])\n",
        "    outer_list.append(inner_list)\n",
        "  return outer_list\n",
        "\n",
        "print(\"Reverse each list in the said list of lists: \", reverse_each_list(a129))\n"
      ],
      "metadata": {
        "colab": {
          "base_uri": "https://localhost:8080/"
        },
        "id": "s4AmP6190Vrz",
        "outputId": "ade0439d-d29c-4bc9-f03e-dbbac5caa411"
      },
      "execution_count": null,
      "outputs": [
        {
          "output_type": "stream",
          "name": "stdout",
          "text": [
            "Reverse each list in the said list of lists:  [[4, 3, 2, 1], [8, 7, 6, 5], [12, 11, 10, 9], [16, 15, 14, 13]]\n"
          ]
        }
      ]
    },
    {
      "cell_type": "markdown",
      "source": [
        "130. Write a Python program to count the same pair in three given lists.\n",
        "\n",
        "Original lists:\n",
        "\n",
        "[1, 2, 3, 4, 5, 6, 7, 8]\n",
        "[2, 2, 3, 1, 2, 6, 7, 9]\n",
        "[2, 1, 3, 1, 2, 6, 7, 9]\n",
        "Number of same pair of the said three given lists:\n",
        "3"
      ],
      "metadata": {
        "id": "sdfcnssOmYoi"
      }
    },
    {
      "cell_type": "code",
      "source": [
        "a130 = [1, 2, 3, 4, 5, 6, 7, 8]\n",
        "b130 = [2, 2, 3, 1, 2, 6, 7, 9]\n",
        "c130 = [2, 1, 3, 1, 2, 6, 7, 9]\n",
        "\n",
        "def same_pair(l1, l2, l3): # Count of indeces where same number is there in all 3 lists\n",
        "  count = 0\n",
        "  for i in range(len(l1)):\n",
        "    if l1[i] == l2[i] == l3[i]:\n",
        "      count += 1\n",
        "  return count\n",
        "\n",
        "print(\"Number of same pair of the said three given lists: \", same_pair(a130, b130, c130))"
      ],
      "metadata": {
        "colab": {
          "base_uri": "https://localhost:8080/"
        },
        "id": "7CxyGPxHmbDM",
        "outputId": "3c1394de-a7a5-420c-aee1-b541837ed5e5"
      },
      "execution_count": null,
      "outputs": [
        {
          "output_type": "stream",
          "name": "stdout",
          "text": [
            "Number of same pair of the said three given lists:  3\n"
          ]
        }
      ]
    },
    {
      "cell_type": "markdown",
      "source": [
        "131. Write a Python program to count the frequency of consecutive duplicate elements in a given list of numbers.\n",
        "\n",
        "Original lists:\n",
        "[1, 2, 2, 2, 4, 4, 4, 5, 5, 5, 5]\n",
        "Consecutive duplicate elements and their frequency:\n",
        "([1, 2, 4, 5], [1, 3, 3, 4])"
      ],
      "metadata": {
        "id": "YTltEOdAnzxR"
      }
    },
    {
      "cell_type": "code",
      "source": [
        "a131 = [1, 2, 2, 2, 4, 4, 4, 5, 5, 5, 5]\n",
        "\n",
        "def num_frequency(l1):\n",
        "    new_list = []  # List to store unique consecutive elements\n",
        "    count_list = []  # List to store their frequencies\n",
        "    count = 1  # Initialize count for the first element\n",
        "\n",
        "    for i in range(1, len(l1)):\n",
        "        if l1[i] == l1[i-1]:\n",
        "            count += 1  # Increment count if current element is same as previous\n",
        "        else:\n",
        "            new_list.append(l1[i-1])  # Append the previous element\n",
        "            count_list.append(count)  # Append its count\n",
        "            count = 1  # Reset count for the next new element\n",
        "\n",
        "    # Append the last element and its count\n",
        "    new_list.append(l1[-1])\n",
        "    count_list.append(count)\n",
        "\n",
        "    return (new_list, count_list)\n",
        "\n",
        "print(\"Consecutive duplicate elements and their frequency:\", num_frequency(a131))\n"
      ],
      "metadata": {
        "colab": {
          "base_uri": "https://localhost:8080/"
        },
        "id": "DRmaaSYCWgij",
        "outputId": "5c3e3d41-9675-464f-eb06-2bdaf4b3e8be"
      },
      "execution_count": null,
      "outputs": [
        {
          "output_type": "stream",
          "name": "stdout",
          "text": [
            "Consecutive duplicate elements and their frequency: ([1, 2, 4, 5], [1, 3, 3, 4])\n"
          ]
        }
      ]
    },
    {
      "cell_type": "markdown",
      "source": [
        "132. Write a Python program to find all index positions of the maximum and minimum values in a given list of numbers.\n",
        "\n",
        "Original list:\n",
        "[12, 33, 23, 10, 67, 89, 45, 667, 23, 12, 11, 10, 54]\n",
        "Index positions of the maximum value of the said list:\n",
        "7\n",
        "Index positions of the minimum value of the said list:\n",
        "3, 11"
      ],
      "metadata": {
        "id": "pdVFRefLYUCR"
      }
    },
    {
      "cell_type": "code",
      "source": [
        "a132 = [12, 33, 23, 10, 67, 89, 45, 667, 23, 12, 11, 10, 54]\n",
        "\n",
        "def min_max_position(l1):\n",
        "\n",
        "  min_value = l1[0]\n",
        "  max_value = l1[0]\n",
        "  max_index = []\n",
        "  min_index = []\n",
        "\n",
        "  for i in l1:\n",
        "    if i >= max_value:\n",
        "      max_value = i\n",
        "    if i <= min_value:\n",
        "      min_value = i\n",
        "\n",
        "  for i in range(len(l1)):\n",
        "    if l1[i] == max_value:\n",
        "      max_index.append(i)\n",
        "    if l1[i] == min_value:\n",
        "      min_index.append(i)\n",
        "\n",
        "  print(\"Index positions of the maximum value of the said list: \", max_index)\n",
        "  print(\"Index positions of the minimum value of the said list: \", min_index)\n",
        "\n",
        "min_max_position(a132)"
      ],
      "metadata": {
        "colab": {
          "base_uri": "https://localhost:8080/"
        },
        "id": "0LndrB7TXLxV",
        "outputId": "c979ee87-a6ae-4650-ea91-15ffc3e4f4c0"
      },
      "execution_count": null,
      "outputs": [
        {
          "output_type": "stream",
          "name": "stdout",
          "text": [
            "Index positions of the maximum value of the said list:  [7]\n",
            "Index positions of the minimum value of the said list:  [3, 11]\n"
          ]
        }
      ]
    },
    {
      "cell_type": "markdown",
      "source": [
        "133. Write a Python program to check if two lists have the same elements in them in same order or not.\n",
        "\n",
        "Original lists:\n",
        "['red', 'green', 'black', 'orange']\n",
        "['red', 'pink', 'green', 'white', 'black']\n",
        "['white', 'orange', 'pink', 'black']\n",
        "Test common elements between color1 and color2 are in same order?\n",
        "True\n",
        "Test common elements between color1 and color3 are in same order?\n",
        "False\n",
        "Test common elements between color2 and color3 are in same order?\n",
        "False"
      ],
      "metadata": {
        "id": "53dJwm_aai9E"
      }
    },
    {
      "cell_type": "code",
      "source": [
        "a133 = ['red', 'green', 'black', 'orange']\n",
        "b133 = ['red', 'pink', 'green', 'white', 'black']\n",
        "c133 = ['white', 'orange', 'pink', 'black']\n",
        "\n",
        "def list_ele_order(l1, l2):\n",
        "  common_ele_1 = []\n",
        "  common_ele_2 = []\n",
        "  for i in range(len(l1)):\n",
        "    if l1[i] in l2:\n",
        "      common_ele_1.append(l1[i])\n",
        "  for j in range(len(l2)):\n",
        "    if l2[j] in common_ele_1:\n",
        "      common_ele_2.append(l2[j])\n",
        "  return common_ele_1 == common_ele_2\n",
        "\n",
        "\n",
        "print(\"Test common elements between color1 and color2 are in same order? :\", list_ele_order(a133, b133))\n",
        "print(\"Test common elements between color1 and color3 are in same order? :\", list_ele_order(b133, c133))\n",
        "print(\"Test common elements between color2 and color3 are in same order? :\", list_ele_order(c133, a133))\n"
      ],
      "metadata": {
        "colab": {
          "base_uri": "https://localhost:8080/"
        },
        "id": "V5G_sseXZM_L",
        "outputId": "c4ff025b-bd9b-4807-f846-695359633c39"
      },
      "execution_count": null,
      "outputs": [
        {
          "output_type": "stream",
          "name": "stdout",
          "text": [
            "Test common elements between color1 and color2 are in same order? : True\n",
            "Test common elements between color1 and color3 are in same order? : False\n",
            "Test common elements between color2 and color3 are in same order? : False\n"
          ]
        }
      ]
    },
    {
      "cell_type": "markdown",
      "source": [
        "134. Write a  Python program to find the difference between two lists including duplicate elements.\n",
        "\n",
        "Original lists:\n",
        "[1, 1, 2, 3, 3, 4, 4, 5, 6, 7]\n",
        "[1, 1, 2, 4, 5, 6]\n",
        "Difference between two said list including duplicate elements):\n",
        "[3, 3, 4, 7]"
      ],
      "metadata": {
        "id": "-Ydcg45WcIsy"
      }
    },
    {
      "cell_type": "code",
      "source": [
        "a134 = [1, 1, 2, 3, 3, 4, 4, 5, 6, 7]\n",
        "b134 = [1, 1, 2, 4, 5, 6]\n",
        "\n",
        "def list_diff_including_common(l1, l2):\n",
        "    l1_copy = l1[:]  # Create a copy of l1 to avoid modifying the original list\n",
        "    for element in l2:\n",
        "        if element in l1_copy:\n",
        "            l1_copy.remove(element)  # Remove the element from the copy of l1 if it's in l2\n",
        "    return l1_copy\n",
        "\n",
        "print(\"Difference between two said list including duplicate elements:\", list_diff_including_common(a134, b134))"
      ],
      "metadata": {
        "colab": {
          "base_uri": "https://localhost:8080/"
        },
        "id": "xyUnRG1Tb1Pi",
        "outputId": "e22770ab-0c6c-4fb3-cb32-8ad875398a86"
      },
      "execution_count": null,
      "outputs": [
        {
          "output_type": "stream",
          "name": "stdout",
          "text": [
            "Difference between two said list including duplicate elements: [3, 3, 4, 7]\n"
          ]
        }
      ]
    },
    {
      "cell_type": "markdown",
      "source": [
        "135. Write a Python program to iterate over all pairs of consecutive items in a given list.\n",
        "\n",
        "Original lists:\n",
        "[1, 1, 2, 3, 3, 4, 4, 5]\n",
        "Iterate over all pairs of consecutive items of the said list:\n",
        "[(1, 1), (1, 2), (2, 3), (3, 3), (3, 4), (4, 4), (4, 5)]"
      ],
      "metadata": {
        "id": "uF1NQjHWhlHq"
      }
    },
    {
      "cell_type": "code",
      "source": [
        "a135 = [1, 1, 2, 3, 3, 4, 4, 5]\n",
        "\n",
        "def list_pair(l1):\n",
        "  new_list = []\n",
        "  for i in range(1, len(l1)):\n",
        "    new_list.append((l1[i-1], l1[i]))\n",
        "  return new_list\n",
        "\n",
        "print(\"Iterate over all pairs of consecutive items of the said list: \", list_pair(a135))\n"
      ],
      "metadata": {
        "colab": {
          "base_uri": "https://localhost:8080/"
        },
        "id": "wPSJPOM6clUt",
        "outputId": "5d418d3c-744d-4830-9b7a-303d3f6be722"
      },
      "execution_count": null,
      "outputs": [
        {
          "output_type": "stream",
          "name": "stdout",
          "text": [
            "Iterate over all pairs of consecutive items of the said list:  [(1, 1), (1, 2), (2, 3), (3, 3), (3, 4), (4, 4), (4, 5)]\n"
          ]
        }
      ]
    },
    {
      "cell_type": "code",
      "source": [
        "a136 = ['Python', 'Exercises', 'Practice', 'Solution', 'Exercises']\n",
        "\n",
        "def remove_dup_string(l1):\n",
        "  new_list = []\n",
        "  for i in l1:\n",
        "    if i not in new_list:\n",
        "      new_list.append(i)\n",
        "  return new_list\n",
        "\n",
        "print(\"After removing duplicate words from the said list of strings: \", remove_dup_string(a136))"
      ],
      "metadata": {
        "colab": {
          "base_uri": "https://localhost:8080/"
        },
        "id": "0FBqW4oUh-qK",
        "outputId": "fec2f6f4-d276-4e6a-91e7-19df36e2a4e2"
      },
      "execution_count": null,
      "outputs": [
        {
          "output_type": "stream",
          "name": "stdout",
          "text": [
            "After removing duplicate words from the said list of strings:  ['Python', 'Exercises', 'Practice', 'Solution']\n"
          ]
        }
      ]
    },
    {
      "cell_type": "markdown",
      "source": [
        "137. Write a Python program to find the first even and odd number in a given list of numbers.\n",
        "\n",
        "Original list:\n",
        "[1, 3, 5, 7, 4, 1, 6, 8]\n",
        "First even and odd number of the said list of numbers:\n",
        "(4, 1)"
      ],
      "metadata": {
        "id": "pulZ8SRzjE-U"
      }
    },
    {
      "cell_type": "code",
      "source": [
        "a137 = [1, 3, 5, 7, 4, 1, 6, 8]\n",
        "\n",
        "def first_even_odd(l1):\n",
        "  f_ev = [i for i in l1 if i % 2 == 0]\n",
        "  f_od = [i for i in l1 if i % 2 != 0]\n",
        "  return (f_ev[0], f_od[0])\n",
        "\n",
        "print(\"First even and odd number of the said list of numbers: \", first_even_odd(a137))"
      ],
      "metadata": {
        "colab": {
          "base_uri": "https://localhost:8080/"
        },
        "id": "p7kGZc5jidtT",
        "outputId": "5b56bf10-f5b4-43eb-bb79-242457273fdf"
      },
      "execution_count": null,
      "outputs": [
        {
          "output_type": "stream",
          "name": "stdout",
          "text": [
            "First even and odd number of the said list of numbers:  (4, 1)\n"
          ]
        }
      ]
    },
    {
      "cell_type": "markdown",
      "source": [
        "138. Write a Python program to sort a given mixed list of integers and strings. Numbers must be sorted before strings.\n",
        "\n",
        "Original list:\n",
        "[19, 'red', 12, 'green', 'blue', 10, 'white', 'green', 1]\n",
        "Sort the said mixed list of integers and strings:\n",
        "[1, 10, 12, 19, 'blue', 'green', 'green', 'red', 'white']"
      ],
      "metadata": {
        "id": "XEj_SRCmkBR-"
      }
    },
    {
      "cell_type": "code",
      "source": [
        "a138 = [19, 'red', 12, 'green', 'blue', 10, 'white', 'green', 1]\n",
        "\n",
        "def sort_num_Str(l1):\n",
        "  num_list = []\n",
        "  str_list = []\n",
        "\n",
        "  for i in l1:\n",
        "    if isinstance(i, int) == True:\n",
        "      num_list.append(i)\n",
        "    else:\n",
        "      str_list.append(i)\n",
        "  return sorted(num_list) + sorted(str_list)\n",
        "\n",
        "print(\"Sort the said mixed list of integers and strings: \", sort_num_Str(a138))"
      ],
      "metadata": {
        "colab": {
          "base_uri": "https://localhost:8080/"
        },
        "id": "SASRNzu6jBIZ",
        "outputId": "17a87759-48ae-43ac-da98-9a00c45267cb"
      },
      "execution_count": null,
      "outputs": [
        {
          "output_type": "stream",
          "name": "stdout",
          "text": [
            "Sort the said mixed list of integers and strings:  [1, 10, 12, 19, 'blue', 'green', 'green', 'red', 'white']\n"
          ]
        }
      ]
    },
    {
      "cell_type": "markdown",
      "source": [
        "139. Write a Python program to sort a given list of strings(numbers) numerically.\n",
        "\n",
        "Original list:\n",
        "['4', '12', '45', '7', '0', '100', '200', '-12', '-500']\n",
        "Sort the said list of strings(numbers) numerically:\n",
        "[-500, -12, 0, 4, 7, 12, 45, 100, 200]"
      ],
      "metadata": {
        "id": "m20KAEM1kIGz"
      }
    },
    {
      "cell_type": "code",
      "source": [
        "a139 = ['4', '12', '45', '7', '0', '100', '200', '-12', '-500']\n",
        "\n",
        "def num_sort(l1):\n",
        "  new_list = []\n",
        "  for i in l1:\n",
        "    i = int(i)\n",
        "    new_list.append(i)\n",
        "  return sorted(new_list)\n",
        "\n",
        "print(\"Sort the said list of strings(numbers) numerically: \", num_sort(a139))"
      ],
      "metadata": {
        "colab": {
          "base_uri": "https://localhost:8080/"
        },
        "id": "iRdk7_oCjthN",
        "outputId": "3d508d9f-8911-4a30-b2fa-33d811b686b2"
      },
      "execution_count": null,
      "outputs": [
        {
          "output_type": "stream",
          "name": "stdout",
          "text": [
            "Sort the said list of strings(numbers) numerically:  [-500, -12, 0, 4, 7, 12, 45, 100, 200]\n"
          ]
        }
      ]
    },
    {
      "cell_type": "markdown",
      "source": [
        "140. Write a Python program to remove a specific item from a given list of lists.\n",
        "\n",
        "Original list of lists:\n",
        "[['Red', 'Maroon', 'Yellow', 'Olive'], ['#FF0000', '#800000', '#FFFF00', '#808000'], ['rgb(255,0,0)', 'rgb(128,0,0)', 'rgb(255,255,0)', 'rgb(128,128,0)']]\n",
        "\n",
        "Remove 1st list from the saod given list of lists:\n",
        "[['Maroon', 'Yellow', 'Olive'], ['#800000', '#FFFF00', '#808000'], ['rgb(128,0,0)', 'rgb(255,255,0)', 'rgb(128,128,0)']]\n",
        "\n",
        "Remove 2nd list from the saod given list of lists:\n",
        "[['Red', 'Yellow', 'Olive'], ['#FF0000', '#FFFF00', '#808000'], ['rgb(255,0,0)', 'rgb(255,255,0)', 'rgb(128,128,0)']]\n",
        "\n",
        "Remove 4th list from the saod given list of lists:\n",
        "[['Red', 'Maroon', 'Yellow'], ['#FF0000', '#800000', '#FFFF00'], ['rgb(255,0,0)', 'rgb(128,0,0)', 'rgb(255,255,0)']]"
      ],
      "metadata": {
        "id": "5v3twxztlovX"
      }
    },
    {
      "cell_type": "code",
      "source": [
        "def remove_sublist(l1, n):\n",
        "  for i in l1:\n",
        "    for j in range(0, len(i)):\n",
        "      if j == n:\n",
        "        i.remove(i[j])\n",
        "  return l1\n",
        "\n",
        "a140 = [['Red', 'Maroon', 'Yellow', 'Olive'], ['#FF0000', '#800000', '#FFFF00', '#808000'], ['rgb(255,0,0)', 'rgb(128,0,0)', 'rgb(255,255,0)', 'rgb(128,128,0)']]\n",
        "print(\"Remove 1st list from the saod given list of lists:\", remove_sublist(a140, 0))\n",
        "\n",
        "a140 = [['Red', 'Maroon', 'Yellow', 'Olive'], ['#FF0000', '#800000', '#FFFF00', '#808000'], ['rgb(255,0,0)', 'rgb(128,0,0)', 'rgb(255,255,0)', 'rgb(128,128,0)']]\n",
        "print(\"Remove 2nd list from the saod given list of lists:\", remove_sublist(a140, 1))\n",
        "\n",
        "a140 = [['Red', 'Maroon', 'Yellow', 'Olive'], ['#FF0000', '#800000', '#FFFF00', '#808000'], ['rgb(255,0,0)', 'rgb(128,0,0)', 'rgb(255,255,0)', 'rgb(128,128,0)']]\n",
        "print(\"Remove 4th list from the saod given list of lists:\", remove_sublist(a140, 3))"
      ],
      "metadata": {
        "colab": {
          "base_uri": "https://localhost:8080/"
        },
        "id": "geFAEfWukmE2",
        "outputId": "d412242a-490e-4e12-cdcb-02f1a343a956"
      },
      "execution_count": null,
      "outputs": [
        {
          "output_type": "stream",
          "name": "stdout",
          "text": [
            "Remove 1st list from the saod given list of lists: [['Maroon', 'Yellow', 'Olive'], ['#800000', '#FFFF00', '#808000'], ['rgb(128,0,0)', 'rgb(255,255,0)', 'rgb(128,128,0)']]\n",
            "Remove 2nd list from the saod given list of lists: [['Red', 'Yellow', 'Olive'], ['#FF0000', '#FFFF00', '#808000'], ['rgb(255,0,0)', 'rgb(255,255,0)', 'rgb(128,128,0)']]\n",
            "Remove 4th list from the saod given list of lists: [['Red', 'Maroon', 'Yellow'], ['#FF0000', '#800000', '#FFFF00'], ['rgb(255,0,0)', 'rgb(128,0,0)', 'rgb(255,255,0)']]\n"
          ]
        }
      ]
    },
    {
      "cell_type": "markdown",
      "source": [
        "141. Write a Python program to remove empty lists from a given list of lists.\n",
        "\n",
        "Original list:\n",
        "[[], [], [], 'Red', 'Green', [1, 2], 'Blue', [], []]\n",
        "After deleting the empty lists from the said lists of lists\n",
        "['Red', 'Green', [1, 2], 'Blue']"
      ],
      "metadata": {
        "id": "xeH-sYpaj9LG"
      }
    },
    {
      "cell_type": "code",
      "source": [
        "a141 = [[], [], [], 'Red', 'Green', [1, 2], 'Blue', [], []]\n",
        "\n",
        "def remove_empty(l1):\n",
        "  new_list = []\n",
        "  for i in l1:\n",
        "    if i:\n",
        "      new_list.append(i)\n",
        "  return new_list\n",
        "\n",
        "print(\"After deleting the empty lists from the said lists of lists: \", remove_empty(a141))"
      ],
      "metadata": {
        "id": "3gEEmUoJlRAe",
        "colab": {
          "base_uri": "https://localhost:8080/"
        },
        "outputId": "2bc5c1b5-493e-4a67-9602-7529e11c87b9"
      },
      "execution_count": null,
      "outputs": [
        {
          "output_type": "stream",
          "name": "stdout",
          "text": [
            "After deleting the empty lists from the said lists of lists:  ['Red', 'Green', [1, 2], 'Blue']\n"
          ]
        }
      ]
    },
    {
      "cell_type": "markdown",
      "source": [
        "142. Write a Python program to sum a specific column of a list in a given list of lists.\n",
        "\n",
        "Original list of lists:\n",
        "[[1, 2, 3, 2], [4, 5, 6, 2], [7, 8, 9, 5]]\n",
        "Sum: 1st column of the said list of lists:\n",
        "12\n",
        "Sum: 2nd column of the said list of lists:\n",
        "15\n",
        "Sum: 4th column of the said list of lists:\n",
        "9"
      ],
      "metadata": {
        "id": "CYwxsYoAlUvI"
      }
    },
    {
      "cell_type": "code",
      "source": [
        "a142 = [[1, 2, 3, 2], [4, 5, 6, 2], [7, 8, 9, 5]]\n",
        "\n",
        "def column_sum(l1, n):\n",
        "  col_sum = 0\n",
        "  for sublist in l1:\n",
        "      if n< len(sublist):\n",
        "        col_sum += sublist[n]\n",
        "  return col_sum\n",
        "\n",
        "print(\"Sum: 1st column of the said list of lists: \", column_sum(a142, 0))\n",
        "print(\"Sum: 2nd column of the said list of lists: \", column_sum(a142, 1))\n",
        "print(\"Sum: 4th column of the said list of lists: \", column_sum(a142, 3))"
      ],
      "metadata": {
        "colab": {
          "base_uri": "https://localhost:8080/"
        },
        "id": "1VEWDaX1kduF",
        "outputId": "334eec4c-a36c-4af0-a1d8-4a6e1e46e2cd"
      },
      "execution_count": null,
      "outputs": [
        {
          "output_type": "stream",
          "name": "stdout",
          "text": [
            "Sum: 1st column of the said list of lists:  12\n",
            "Sum: 2nd column of the said list of lists:  15\n",
            "Sum: 4th column of the said list of lists:  9\n"
          ]
        }
      ]
    },
    {
      "cell_type": "markdown",
      "source": [
        "143. Write a Python program to get the frequency of elements in a given list of lists.\n",
        "\n",
        "Original list of lists:\n",
        "[[1, 2, 3, 2], [4, 5, 6, 2], [7, 8, 9, 5]]\n",
        "Frequency of the elements in the said list of lists:\n",
        "{1: 1, 2: 3, 3: 1, 4: 1, 5: 2, 6: 1, 7: 1, 8: 1, 9: 1}"
      ],
      "metadata": {
        "id": "z3gAfUJnnJ48"
      }
    },
    {
      "cell_type": "code",
      "source": [
        "a143 = [[1, 2, 3, 2], [4, 5, 6, 2], [7, 8, 9, 5]]\n",
        "\n",
        "def freq_list(l1):\n",
        "  freq_dict = {}\n",
        "  count = 0\n",
        "  for i in l1:\n",
        "    for j in i:\n",
        "      if j in freq_dict:\n",
        "        freq_dict[j] += 1\n",
        "      else:\n",
        "        freq_dict[j] = 1\n",
        "  return freq_dict\n",
        "\n",
        "print(\"Frequency of the elements in the said list of lists: \", freq_list(a143))"
      ],
      "metadata": {
        "colab": {
          "base_uri": "https://localhost:8080/"
        },
        "id": "LaihFR5RmYIN",
        "outputId": "d3408203-262b-43f8-968c-3816bc70d891"
      },
      "execution_count": null,
      "outputs": [
        {
          "output_type": "stream",
          "name": "stdout",
          "text": [
            "Frequency of the elements in the said list of lists:  {1: 1, 2: 3, 3: 1, 4: 1, 5: 2, 6: 1, 7: 1, 8: 1, 9: 1}\n"
          ]
        }
      ]
    },
    {
      "cell_type": "markdown",
      "source": [
        "144. Write a Python program to extract every first or specified element from a given two-dimensional list.\n",
        "\n",
        "Original list of lists:\n",
        "[[1, 2, 3, 2], [4, 5, 6, 2], [7, 1, 9, 5]]\n",
        "Extract every first element from the said given two dimensional list:\n",
        "[1, 4, 7]\n",
        "Extract every third element from the said given two dimensional list:\n",
        "[3, 6, 9]"
      ],
      "metadata": {
        "id": "pMRWfSfppFMm"
      }
    },
    {
      "cell_type": "code",
      "source": [
        "a144 =[[1, 2, 3, 2], [4, 5, 6, 2], [7, 1, 9, 5]]\n",
        "\n",
        "def extract_ele(l1, n):\n",
        "  new_list = []\n",
        "  for i in l1:\n",
        "    new_list.append(i[n])\n",
        "  return new_list\n",
        "\n",
        "print(\"Extract every first element from the said given two dimensional list: \", extract_ele(a144, 0))\n",
        "print(\"Extract every third element from the said given two dimensional list: \", extract_ele(a144, 2))"
      ],
      "metadata": {
        "colab": {
          "base_uri": "https://localhost:8080/"
        },
        "id": "b5-yOjNTozSX",
        "outputId": "085c0bbb-a465-4a24-ddbc-dae944483718"
      },
      "execution_count": null,
      "outputs": [
        {
          "output_type": "stream",
          "name": "stdout",
          "text": [
            "Extract every first element from the said given two dimensional list:  [1, 4, 7]\n",
            "Extract every third element from the said given two dimensional list:  [3, 6, 9]\n"
          ]
        }
      ]
    },
    {
      "cell_type": "markdown",
      "source": [
        "145. Write a Python program to generate a number in a specified range except for some specific numbers.\n",
        "\n",
        "Generate a number in a specified range (1, 10) except [2, 9, 10]\n",
        "7\n",
        "Generate a number in a specified range (-5, 5) except [-5,0,4,3,2]\n",
        "-4"
      ],
      "metadata": {
        "id": "f4ko6R79pnbk"
      }
    },
    {
      "cell_type": "code",
      "source": [
        "import random\n",
        "\n",
        "def generate_range(min_val, max_val, num):\n",
        "  new_list = []\n",
        "  for i in range(min_val, max_val + 1):\n",
        "    new_list.append(i)\n",
        "\n",
        "  for n in num:\n",
        "    new_list.remove(n)\n",
        "\n",
        "  return random.choice(new_list)\n",
        "\n",
        "print(\"Generate a number in a specified range (1, 10) except [2, 9, 10] : \", generate_range(1, 10,  [2, 9, 10] ))\n",
        "print(\"Generate a number in a specified range (-5, 5) except [-5,0,4,3,2] : \", generate_range(-5, 5,[-5,0,4,3,2]))"
      ],
      "metadata": {
        "colab": {
          "base_uri": "https://localhost:8080/"
        },
        "id": "KkSx-sSwpjGS",
        "outputId": "53aaf9b4-b973-41bb-8383-dcd80a66297a"
      },
      "execution_count": null,
      "outputs": [
        {
          "output_type": "stream",
          "name": "stdout",
          "text": [
            "Generate a number in a specified range (1, 10) except [2, 9, 10] :  3\n",
            "Generate a number in a specified range (-5, 5) except [-5,0,4,3,2] :  -4\n"
          ]
        }
      ]
    },
    {
      "cell_type": "markdown",
      "source": [
        "146. Write a Python program to compute the sum of digits of each number in a given list.\n",
        "\n",
        "Original tuple:\n",
        "[10, 2, 56]\n",
        "Sum of digits of each number of the said list of integers:\n",
        "14\n",
        "Original tuple:\n",
        "[10, 20, 4, 5, 'b', 70, 'a']\n",
        "Sum of digits of each number of the said list of integers:\n",
        "19\n",
        "Original tuple:\n",
        "[10, 20, -4, 5, -70]\n",
        "Sum of digits of each number of the said list of integers:\n",
        "19"
      ],
      "metadata": {
        "id": "PQnUWwzesLur"
      }
    },
    {
      "cell_type": "code",
      "source": [
        "a146 = [10, 2, 56]\n",
        "b146 = [10, 20, 4, 5, 'b', 70, 'a']\n",
        "c146 = [10, 20, -4, 5, -70]\n",
        "\n",
        "def sum_digit(l1):\n",
        "  sum_total = 0\n",
        "  for i in l1:\n",
        "    if isinstance(i, int):\n",
        "      num = abs(i)\n",
        "      while num > 0:\n",
        "        sum_total += num % 10 #get the last digit\n",
        "        num //= 10 #remove the last digit\n",
        "  return sum_total\n",
        "\n",
        "print(\"Sum of digits of each number of the said list of integers: \", sum_digit(a146))\n",
        "print(\"Sum of digits of each number of the said list of integers: \", sum_digit(b146))\n",
        "print(\"Sum of digits of each number of the said list of integers: \", sum_digit(c146))"
      ],
      "metadata": {
        "colab": {
          "base_uri": "https://localhost:8080/"
        },
        "id": "lnWWSCACq2EO",
        "outputId": "06b5d40a-73a5-43eb-a202-1789b5b86099"
      },
      "execution_count": null,
      "outputs": [
        {
          "output_type": "stream",
          "name": "stdout",
          "text": [
            "Sum of digits of each number of the said list of integers:  14\n",
            "Sum of digits of each number of the said list of integers:  19\n",
            "Sum of digits of each number of the said list of integers:  19\n"
          ]
        }
      ]
    },
    {
      "cell_type": "code",
      "source": [
        "import random\n",
        "\n",
        "a147 = [1, 2, 7, 8, 3, 7]\n",
        "b147 = [4, 3, 8, 9, 4, 3, 8, 9]\n",
        "\n",
        "def random_interleave(l1, l2):\n",
        "  new_list = l1 + l2\n",
        "  random.shuffle(new_list)\n",
        "  return new_list\n",
        "\n",
        "\n",
        "print(\"Interleave two given list into another list randomly: \", random_interleave(a147, b147))"
      ],
      "metadata": {
        "colab": {
          "base_uri": "https://localhost:8080/"
        },
        "id": "2abYo7J9tFHo",
        "outputId": "15b08413-5cda-49a2-da20-1e095be418ac"
      },
      "execution_count": null,
      "outputs": [
        {
          "output_type": "stream",
          "name": "stdout",
          "text": [
            "Interleave two given list into another list randomly:  [3, 8, 9, 3, 7, 8, 8, 4, 4, 9, 2, 3, 1, 7]\n"
          ]
        }
      ]
    },
    {
      "cell_type": "code",
      "source": [
        "a148 = ['red', 'green', 'blue', 'white', 'black', 'orange']\n",
        "b148 = ['white', 'orange']\n",
        "\n",
        "def remove_list(l1, rw):\n",
        "  new_list = []\n",
        "  print(\"Remove words: \")\n",
        "  print(rw)\n",
        "\n",
        "  for i in l1:\n",
        "    if i not in rw:\n",
        "      new_list.append(i)\n",
        "  return new_list\n",
        "\n",
        "print(\"After removing the specified words from the said list: \", remove_list(a148, b148))\n"
      ],
      "metadata": {
        "colab": {
          "base_uri": "https://localhost:8080/"
        },
        "id": "q04T0jZ8wrH-",
        "outputId": "62775c74-93e4-432c-938b-6378fdcef6dc"
      },
      "execution_count": null,
      "outputs": [
        {
          "output_type": "stream",
          "name": "stdout",
          "text": [
            "Remove words: \n",
            "['white', 'orange']\n",
            "After removing the specified words from the said list:  ['red', 'green', 'blue', 'black']\n"
          ]
        }
      ]
    },
    {
      "cell_type": "markdown",
      "source": [
        "149. Write a Python program to get all possible combinations of the elements of a given list.\n",
        "Original list:\n",
        "['orange', 'red', 'green', 'blue']\n",
        "All possible combinations of the said list's elements:\n",
        "[[], ['orange'], ['red'], ['red', 'orange'], ['green'], ['green', 'orange'], ['green', 'red'], ['green', 'red', 'orange'], ['blue'], ['blue', 'orange'], ['blue', 'red'], ['blue', 'red', 'orange'], ['blue', 'green'], ['blue', 'green', 'orange'], ['blue', 'green', 'red'], ['blue', 'green', 'red', 'orange']]"
      ],
      "metadata": {
        "id": "s5av3wMSx-I2"
      }
    },
    {
      "cell_type": "code",
      "source": [
        "import itertools\n",
        "\n",
        "a149 = ['orange', 'red', 'green', 'blue']\n",
        "\n",
        "def all_combination(l1):\n",
        "  result = [[]]\n",
        "\n",
        "  for r in range(1, len(l1) + 1):\n",
        "    combinations = itertools.combinations(l1, r)\n",
        "    for combo in combinations:\n",
        "      result.append(list(combo))\n",
        "  return result\n",
        "\n",
        "print(\"Original list:\", a149)\n",
        "print(\"All possible combinations of the said list's elements:\")\n",
        "print(all_combination(a149))"
      ],
      "metadata": {
        "colab": {
          "base_uri": "https://localhost:8080/"
        },
        "id": "4jWF8qjUx4xw",
        "outputId": "a243f247-174a-4eac-9143-7d2202e87053"
      },
      "execution_count": null,
      "outputs": [
        {
          "output_type": "stream",
          "name": "stdout",
          "text": [
            "Original list: ['orange', 'red', 'green', 'blue']\n",
            "All possible combinations of the said list's elements:\n",
            "[[], ['orange'], ['red'], ['green'], ['blue'], ['orange', 'red'], ['orange', 'green'], ['orange', 'blue'], ['red', 'green'], ['red', 'blue'], ['green', 'blue'], ['orange', 'red', 'green'], ['orange', 'red', 'blue'], ['orange', 'green', 'blue'], ['red', 'green', 'blue'], ['orange', 'red', 'green', 'blue']]\n"
          ]
        }
      ]
    },
    {
      "cell_type": "code",
      "source": [
        "a150 = [['orange', 'red'], ['green', 'blue'], ['white', 'black', 'pink']]\n",
        "b150 = [[1, 2, 3, 4], [0, 2, 4, 5], [2, 3, 4, 2, 4]]\n",
        "\n",
        "def reverse_list(l1):\n",
        "  new_list = []\n",
        "  for i in range(len(l1) - 1, -1, -1):\n",
        "    new_list.append(l1[i])\n",
        "  return new_list\n",
        "\n",
        "print(\"Reverse said list of lists: \", reverse_list(a150))\n",
        "print(\"Reverse said list of lists: \", reverse_list(b150))"
      ],
      "metadata": {
        "colab": {
          "base_uri": "https://localhost:8080/"
        },
        "id": "mqbVsIk_y_48",
        "outputId": "72e0c0c6-f85c-49ba-929a-febe1ddb6782"
      },
      "execution_count": null,
      "outputs": [
        {
          "output_type": "stream",
          "name": "stdout",
          "text": [
            "Reverse said list of lists:  [['white', 'black', 'pink'], ['green', 'blue'], ['orange', 'red']]\n",
            "Reverse said list of lists:  [[2, 3, 4, 2, 4], [0, 2, 4, 5], [1, 2, 3, 4]]\n"
          ]
        }
      ]
    },
    {
      "cell_type": "markdown",
      "source": [
        "151. Write a Python program to find the maximum and minimum values in a given list within a specified index range.\n",
        "\n",
        "Original list:\n",
        "[4, 3, 0, 5, 3, 0, 2, 3, 4, 2, 4, 3, 5]\n",
        "Index range:\n",
        "3 to 8\n",
        "Maximum and minimum values of the said given list within index range:\n",
        "(5, 0)"
      ],
      "metadata": {
        "id": "ZNqlsdcWkBKC"
      }
    },
    {
      "cell_type": "code",
      "source": [
        "a151 = [4, 3, 0, 5, 3, 0, 2, 3, 4, 2, 4, 3, 5]\n",
        "\n",
        "def min_max_range(l1, min_val, max_val):\n",
        "\n",
        "  new_list = [i for i in l1[min_val:max_val]]\n",
        "  min_ele = new_list[0]\n",
        "  max_ele = new_list[0]\n",
        "  for i in new_list:\n",
        "    if i < min_ele:\n",
        "      min_ele = i\n",
        "    if i > max_ele:\n",
        "      max_ele = i\n",
        "\n",
        "  return (min_ele, max_ele)\n",
        "print(\"Maximum and minimum values of the said given list within index range: \", min_max_range(a151, 3, 8))"
      ],
      "metadata": {
        "id": "k_hRwfy3zwLy",
        "colab": {
          "base_uri": "https://localhost:8080/"
        },
        "outputId": "60fae58e-d2fc-4533-ee07-d610650f84dd"
      },
      "execution_count": null,
      "outputs": [
        {
          "output_type": "stream",
          "name": "stdout",
          "text": [
            "Maximum and minimum values of the said given list within index range:  (0, 5)\n"
          ]
        }
      ]
    },
    {
      "cell_type": "markdown",
      "source": [
        "152. Write a Python program to combine two sorted lists using the heapq module.\n",
        "\n",
        "Original sorted lists:\n",
        "[1, 3, 5, 7, 9, 11]\n",
        "[0, 2, 4, 6, 8, 10]\n",
        "After merging the said two sorted lists:\n",
        "[0, 1, 2, 3, 4, 5, 6, 7, 8, 9, 10, 11]"
      ],
      "metadata": {
        "id": "aBd_0ZMgBzIm"
      }
    },
    {
      "cell_type": "code",
      "source": [
        "import heapq\n",
        "\n",
        "a152 = [1, 3, 5, 7, 9, 11]\n",
        "b152 = [0, 2, 4, 6, 8, 10]\n",
        "\n",
        "merged_list = list(heapq.merge(a152, b152))\n",
        "print(\"Merged List: \", merged_list)\n"
      ],
      "metadata": {
        "colab": {
          "base_uri": "https://localhost:8080/"
        },
        "id": "b2aJ_3j36m_o",
        "outputId": "75102426-032c-47ee-d1af-e21acdd491b4"
      },
      "execution_count": null,
      "outputs": [
        {
          "output_type": "stream",
          "name": "stdout",
          "text": [
            "Merged List:  [0, 1, 2, 3, 4, 5, 6, 7, 8, 9, 10, 11]\n"
          ]
        }
      ]
    },
    {
      "cell_type": "markdown",
      "source": [
        "53. Write a Python program to check if a given element occurs at least n times in a list.\n",
        "\n",
        "Original list:\n",
        "[0, 1, 3, 5, 0, 3, 4, 5, 0, 8, 0, 3, 6, 0, 3, 1, 1, 0]\n",
        "Check if 3 occurs at least 4 times in a list:\n",
        "True\n",
        "Check if 0 occurs at least 5 times in a list:\n",
        "True\n",
        "Check if 8 occurs at least 3 times in a list:\n",
        "False"
      ],
      "metadata": {
        "id": "u5PIDXVTT0kr"
      }
    },
    {
      "cell_type": "code",
      "source": [
        "a153 = [0, 1, 3, 5, 0, 3, 4, 5, 0, 8, 0, 3, 6, 0, 3, 1, 1, 0]\n",
        "\n",
        "def item_n_timeS(l1, ele, n):\n",
        "  new_list = []\n",
        "  count = 0\n",
        "\n",
        "  for i in l1:\n",
        "    if i == ele:\n",
        "      new_list.append(i)\n",
        "      count += 1\n",
        "    if count == n:\n",
        "      return True\n",
        "  return False\n",
        "\n",
        "print(\"Check if 3 occurs at least 4 times in a list: \", item_n_timeS(a153, 3, 4))\n",
        "print(\"Check if 0 occurs at least 5 times in a list: \", item_n_timeS(a153, 0, 5))\n",
        "print(\"Check if 8 occurs at least 3 times in a list: \", item_n_timeS(a153, 8, 3))"
      ],
      "metadata": {
        "colab": {
          "base_uri": "https://localhost:8080/"
        },
        "id": "vSUtHyaVCQqY",
        "outputId": "54fefe70-86ba-4af6-ca8e-ce478ca06e83"
      },
      "execution_count": null,
      "outputs": [
        {
          "output_type": "stream",
          "name": "stdout",
          "text": [
            "Check if 3 occurs at least 4 times in a list:  True\n",
            "Check if 0 occurs at least 5 times in a list:  True\n",
            "Check if 8 occurs at least 3 times in a list:  False\n"
          ]
        }
      ]
    },
    {
      "cell_type": "markdown",
      "source": [
        "154. Write a Python program to join two given list of lists of the same length, element wise.\n",
        "\n",
        "Original lists:\n",
        "[[10, 20], [30, 40], [50, 60], [30, 20, 80]]\n",
        "[[61], [12, 14, 15], [12, 13, 19, 20], [12]]\n",
        "Join the said two lists element wise:\n",
        "[[10, 20, 61], [30, 40, 12, 14, 15], [50, 60, 12, 13, 19, 20], [30, 20, 80, 12]]\n",
        "Original lists:\n",
        "[['a', 'b'], ['b', 'c', 'd'], ['e', 'f']]\n",
        "[['p', 'q'], ['p', 's', 't'], ['u', 'v', 'w']]\n",
        "Join the said two lists element wise:\n",
        "[['a', 'b', 'p', 'q'], ['b', 'c', 'd', 'p', 's', 't'], ['e', 'f', 'u', 'v', 'w']]"
      ],
      "metadata": {
        "id": "KTcGgvACVvCS"
      }
    },
    {
      "cell_type": "code",
      "source": [
        "a154 = [[10, 20], [30, 40], [50, 60], [30, 20, 80]]\n",
        "b154 = [[61], [12, 14, 15], [12, 13, 19, 20], [12]]\n",
        "c154 = [['a', 'b'], ['b', 'c', 'd'], ['e', 'f']]\n",
        "d154 = [['p', 'q'], ['p', 's', 't'], ['u', 'v', 'w']]\n",
        "\n",
        "def join_lists(l1, l2):\n",
        "  new_list = []\n",
        "\n",
        "  for i in range(len(l1)):\n",
        "    combined_sublist = []\n",
        "    for item in l1[i]:\n",
        "      combined_sublist.append(item)\n",
        "    for item in l2[i]:\n",
        "      combined_sublist.append(item)\n",
        "    new_list.append(combined_sublist)\n",
        "  return new_list\n",
        "\n",
        "print(\"Join the said two lists element wise: \", join_lists(a154, b154))"
      ],
      "metadata": {
        "colab": {
          "base_uri": "https://localhost:8080/"
        },
        "id": "7w5dtXTNU22c",
        "outputId": "0c018e87-41dd-4810-f26a-53d860cba533"
      },
      "execution_count": null,
      "outputs": [
        {
          "output_type": "stream",
          "name": "stdout",
          "text": [
            "Join the said two lists element wise:  [[10, 20, 61], [30, 40, 12, 14, 15], [50, 60, 12, 13, 19, 20], [30, 20, 80, 12]]\n"
          ]
        }
      ]
    },
    {
      "cell_type": "markdown",
      "source": [
        "155. Write a Python program to add two given lists of different lengths, starting on the left.\n",
        "\n",
        "Original lists:\n",
        "[2, 4, 7, 0, 5, 8]\n",
        "[3, 3, -1, 7]\n",
        "Add said two lists from left:\n",
        "[5, 7, 6, 7, 5, 8]\n",
        "Original lists:\n",
        "[1, 2, 3, 4, 5, 6]\n",
        "[2, 4, -3]\n",
        "Add said two lists from left:\n",
        "[3, 6, 0, 4, 5, 6]"
      ],
      "metadata": {
        "id": "BJ6XV9duXmeo"
      }
    },
    {
      "cell_type": "code",
      "source": [
        "a155 = [2, 4, 7, 0, 5, 8]\n",
        "b155 = [3, 3, -1, 7]\n",
        "c155 = [1, 2, 3, 4, 5, 6]\n",
        "d155 = [2, 4, -3]\n",
        "\n",
        "def add_lists_left(l1, l2):\n",
        "  new_list = []\n",
        "  min_len = min(len(l1), len(l2))\n",
        "\n",
        "  for i in range(min_len):\n",
        "    new_list.append(l1[i] + l2[i])\n",
        "\n",
        "  if len(l1) > len(l2):\n",
        "    new_list.extend(l1[min_len:])\n",
        "  else:\n",
        "    new_list.extend(l2[min_len:])\n",
        "  return new_list\n",
        "\n",
        "print(\"Add said two lists from left: \", add_lists_left(a155, b155))\n",
        "print(\"Add said two lists from left: \", add_lists_left(c155, d155))"
      ],
      "metadata": {
        "colab": {
          "base_uri": "https://localhost:8080/"
        },
        "id": "94sqEkKvWVAh",
        "outputId": "e5826649-6a9b-4082-e1ff-2d4b831de368"
      },
      "execution_count": null,
      "outputs": [
        {
          "output_type": "stream",
          "name": "stdout",
          "text": [
            "Add said two lists from left:  [5, 7, 6, 7, 5, 8]\n",
            "Add said two lists from left:  [3, 6, 0, 4, 5, 6]\n"
          ]
        }
      ]
    },
    {
      "cell_type": "markdown",
      "source": [
        "156. Write a Python program to add two given lists of different lengths, starting on the right.\n",
        "\n",
        "Original lists:\n",
        "[2, 4, 7, 0, 5, 8]\n",
        "[3, 3, -1, 7]\n",
        "Add said two lists from left:\n",
        "[2, 4, 10, 3, 4, 15]\n",
        "Original lists:\n",
        "[1, 2, 3, 4, 5, 6]\n",
        "[2, 4, -3]\n",
        "Add said two lists from left:\n",
        "[1, 2, 3, 6, 9, 3]"
      ],
      "metadata": {
        "id": "1n_0TIs3ZZC0"
      }
    },
    {
      "cell_type": "code",
      "source": [
        "def add_list_right(l1, l2):\n",
        "  new_list = []\n",
        "  min_len = min(len(l1), len(l2))\n",
        "\n",
        "  l1 = l1[::-1] #Reverse both lists to work from right\n",
        "  l2 = l2[::-1]\n",
        "\n",
        "  for i in range(min_len):\n",
        "    new_list.append(l1[i] + l2[i])\n",
        "\n",
        "  if len(l1) > len(l2):\n",
        "    new_list.extend(l1[min_len:])\n",
        "  if len(l2) > len(l1):\n",
        "    new_list.extend(l2[min_len:])\n",
        "\n",
        "  return new_list[::-1] # Revrese again and bring back the list in original order\n",
        "\n",
        "\n",
        "print(\"Add said two lists from left: \", add_list_right(a155, b155))\n",
        "print(\"Add said two lists from left: \", add_list_right(c155, d155))"
      ],
      "metadata": {
        "id": "7AOlQDKQYEm7",
        "colab": {
          "base_uri": "https://localhost:8080/"
        },
        "outputId": "3377022d-e1f0-4b32-da14-98e30ee4a4f4"
      },
      "execution_count": null,
      "outputs": [
        {
          "output_type": "stream",
          "name": "stdout",
          "text": [
            "Add said two lists from left:  [2, 4, 10, 3, 4, 15]\n",
            "Add said two lists from left:  [1, 2, 3, 6, 9, 3]\n"
          ]
        }
      ]
    },
    {
      "cell_type": "markdown",
      "source": [
        "157. Write a Python program to interleave lists of varying lengths.\n",
        "\n",
        "Original lists:\n",
        "[2, 4, 7, 0, 5, 8]\n",
        "[2, 5, 8]\n",
        "[0, 1]\n",
        "[3, 3, -1, 7]\n",
        "Interleave said lists of different lengths:\n",
        "[2, 2, 0, 3, 4, 5, 1, 3, 7, 8, -1, 0, 7, 5, 8]"
      ],
      "metadata": {
        "id": "Fu978Yx3bIWe"
      }
    },
    {
      "cell_type": "code",
      "source": [
        "a157 = [2, 4, 7, 0, 5, 8]\n",
        "b157 = [2, 5, 8]\n",
        "c157 = [0, 1]\n",
        "d157 = [3, 3, -1, 7]\n",
        "\n",
        "def interleave_list_diff_len(l1, l2, l3, l4):\n",
        "  new_list = []\n",
        "  max_len = max(len(l1), len(l2), len(l3), len(l4))\n",
        "\n",
        "  for i in range(max_len):\n",
        "    if i < len(l1):\n",
        "      new_list.append(l1[i])\n",
        "    if i < len(l2):\n",
        "      new_list.append(l2[i])\n",
        "    if i < len(l3):\n",
        "      new_list.append(l3[i])\n",
        "    if i < len(l4):\n",
        "      new_list.append(l4[i])\n",
        "\n",
        "  return new_list\n",
        "\n",
        "print(\"Interleave said lists of different lengths: \",interleave_list_diff_len (a157, b157, c157, d157))"
      ],
      "metadata": {
        "colab": {
          "base_uri": "https://localhost:8080/"
        },
        "id": "jDzlPQFsbFg1",
        "outputId": "8c409e73-2a8b-4f50-e5fd-d60eb8ca2b68"
      },
      "execution_count": null,
      "outputs": [
        {
          "output_type": "stream",
          "name": "stdout",
          "text": [
            "Interleave said lists of different lengths:  [2, 2, 0, 3, 4, 5, 1, 3, 7, 8, -1, 0, 7, 5, 8]\n"
          ]
        }
      ]
    },
    {
      "cell_type": "markdown",
      "source": [
        "158. Write a Python program to find the maximum and minimum values in a given list of tuples.\n",
        "\n",
        "Original list with tuples:\n",
        "[('V', 60), ('VI', 70), ('VII', 75), ('VIII', 72), ('IX', 78), ('X', 70)]\n",
        "Maximum and minimum values of the said list of tuples:\n",
        "(78, 60)"
      ],
      "metadata": {
        "id": "TPbWqQGHdSE9"
      }
    },
    {
      "cell_type": "code",
      "source": [
        "a158 = [('V', 60), ('VI', 70), ('VII', 75), ('VIII', 72), ('IX', 78), ('X', 70)]\n",
        "\n",
        "def max_min_tuple(l1):\n",
        "  max_val = l1[0][1]\n",
        "  min_val = l1[0][1]\n",
        "\n",
        "  for tup in l1:\n",
        "    for i in tup:\n",
        "      if isinstance(i, int):\n",
        "        if i < min_val:\n",
        "          min_val = i\n",
        "        if i > max_val:\n",
        "          max_val = i\n",
        "  return (max_val, min_val)\n",
        "\n",
        "\n",
        "print(\"Maximum and minimum values of the said list of tuples: \", max_min_tuple(a158))"
      ],
      "metadata": {
        "colab": {
          "base_uri": "https://localhost:8080/"
        },
        "id": "b3bhTWGCcDTZ",
        "outputId": "6f5ab11c-8ea0-4401-c9e4-590f9a269acb"
      },
      "execution_count": null,
      "outputs": [
        {
          "output_type": "stream",
          "name": "stdout",
          "text": [
            "Maximum and minimum values of the said list of tuples:  (78, 60)\n"
          ]
        }
      ]
    },
    {
      "cell_type": "markdown",
      "source": [
        "159. Write a Python program to append the same value/a list multiple times to a list/list-of-lists.\n",
        "\n",
        "Add a value(7), 5 times, to a list:\n",
        "['7', '7', '7', '7', '7']\n",
        "Add 5, 6 times, to a list:\n",
        "[1, 2, 3, 4, 5, 5, 5, 5, 5, 5]\n",
        "Add a list, 4 times, to a list of lists:\n",
        "[[1, 2, 5], [1, 2, 5], [1, 2, 5], [1, 2, 5]]\n",
        "Add a list, 3 times, to a list of lists:\n",
        "[[5, 6, 7], [1, 2, 5], [1, 2, 5], [1, 2, 5], [1, 2, 5]]"
      ],
      "metadata": {
        "id": "7IRF4tJxeT6M"
      }
    },
    {
      "cell_type": "code",
      "source": [
        "def add_list_of_list(l1, ele, n):\n",
        "\n",
        "  for i in range(n):\n",
        "    l1.append(ele)\n",
        "  return l1\n",
        "\n",
        "print(\"Add a value(7), 5 times, to a list: \",add_list_of_list([], 7, 5))\n",
        "print(\"Add 5, 6 times, to a list: \",add_list_of_list([1, 2, 3, 4, 5], 5, 6))\n",
        "print(\"Add a list, 4 times, to a list of lists: \", add_list_of_list([], [1, 2, 5], 4))\n",
        "print(\"Add a list, 3 times, to a list of lists:\", add_list_of_list([5, 6, 7], [1, 2, 5], 3))"
      ],
      "metadata": {
        "colab": {
          "base_uri": "https://localhost:8080/"
        },
        "id": "gVW7PXLldoTc",
        "outputId": "ec4268aa-7e9e-4cd2-b514-d9fcc3b39a4f"
      },
      "execution_count": null,
      "outputs": [
        {
          "output_type": "stream",
          "name": "stdout",
          "text": [
            "Add a value(7), 5 times, to a list:  [7, 7, 7, 7, 7]\n",
            "Add 5, 6 times, to a list:  [1, 2, 3, 4, 5, 5, 5, 5, 5, 5, 5]\n",
            "Add a list, 4 times, to a list of lists:  [[1, 2, 5], [1, 2, 5], [1, 2, 5], [1, 2, 5]]\n",
            "Add a list, 3 times, to a list of lists: [5, 6, 7, [1, 2, 5], [1, 2, 5], [1, 2, 5]]\n"
          ]
        }
      ]
    },
    {
      "cell_type": "markdown",
      "source": [
        "160. Write a Python program to remove the first specified number of elements from a given list satisfying a condition.\n",
        "\n",
        "Remove the first 4 number of even numbers from the following list:\n",
        "[3,10,4,7,5,7,8,3,3,4,5,9,3,4,9,8,5]\n",
        "Output:\n",
        "[3, 7, 5, 7, 3, 3, 5, 9, 3, 4, 9, 8, 5]\n",
        "Original list:\n",
        "[3, 10, 4, 7, 5, 7, 8, 3, 3, 4, 5, 9, 3, 4, 9, 8, 5]\n",
        "Remove first 4 even numbers from the said list:\n",
        "[3, 7, 5, 7, 3, 3, 5, 9, 3, 4, 9, 8, 5]"
      ],
      "metadata": {
        "id": "z9_gcv0Uf-If"
      }
    },
    {
      "cell_type": "code",
      "source": [
        "a160 = [3, 10, 4, 7, 5, 7, 8, 3, 3, 4, 5, 9, 3, 4, 9, 8, 5]\n",
        "\n",
        "def remove_ele_cond(l1, n):\n",
        "    count = 0  # Counter for removed even numbers\n",
        "    i = 0  # Index to track current position\n",
        "    while i < len(l1) and count < n:\n",
        "        if l1[i] % 2 == 0:  # Check if the element is even\n",
        "            del l1[i]\n",
        "            count += 1  # Increment the counter\n",
        "        else:\n",
        "            i += 1  # Only move to the next element if no deletion occurred\n",
        "    return l1\n",
        "\n",
        "# Test the function\n",
        "print(\"Remove first 4 even numbers from the said list: \", remove_ele_cond(a160, 4))\n"
      ],
      "metadata": {
        "colab": {
          "base_uri": "https://localhost:8080/"
        },
        "id": "g4CeJlS6fJHy",
        "outputId": "4ebf3314-53b6-4bfa-fedd-3de443f6087b"
      },
      "execution_count": null,
      "outputs": [
        {
          "output_type": "stream",
          "name": "stdout",
          "text": [
            "Remove first 4 even numbers from the said list:  [3, 7, 5, 7, 3, 3, 5, 9, 3, 4, 9, 8, 5]\n"
          ]
        }
      ]
    },
    {
      "cell_type": "markdown",
      "source": [
        "161. Write a Python program to check if a given list increases strictly. Moreover, if removing only one element from the list results in a strictly increasing list, we still consider the list true.\n",
        "True\n",
        "True\n",
        "True\n",
        "True\n",
        "True\n",
        "True\n",
        "True\n",
        "True\n",
        "True\n",
        "True\n",
        "True\n",
        "False\n",
        "False\n",
        "False\n",
        "False\n",
        "False"
      ],
      "metadata": {
        "id": "OwoBkqfqCEcn"
      }
    },
    {
      "cell_type": "code",
      "source": [
        "def is_strictly_increasing(l1):\n",
        "  for i in range(len(l1) - 1):\n",
        "    if l1[i] >= l1[i +1]:\n",
        "      return False\n",
        "  return True\n",
        "\n",
        "def can_be_strictly_increasing(l1):\n",
        "  if is_strictly_increasing(l1):\n",
        "    return True\n",
        "  for i in range(len(l1)):\n",
        "    new_list = l1[:i] + l1[i+1:]\n",
        "    if is_strictly_increasing(new_list):\n",
        "      return True\n",
        "  return False\n",
        "\n",
        "\n",
        "test_cases = [\n",
        "    [1, 2, 3],         # True\n",
        "    [1, 3, 2],         # True\n",
        "    [10, 1, 2, 3],     # True\n",
        "    [1, 2, 2],         # True\n",
        "    [1],               # True\n",
        "    [5, 6, 7, 8],      # True\n",
        "    [10, 5, 6, 7],     # True\n",
        "    [1, 5, 10],        # True\n",
        "    [1, 2, 3, 5, 8],   # True\n",
        "    [1, 10],           # True\n",
        "    [1, 2],            # True\n",
        "    [5, 4, 3, 2, 1],   # False\n",
        "    [10, 9, 8, 7],     # False\n",
        "    [1, 5, 5, 10],     # False\n",
        "    [2, 2, 2],         # False\n",
        "    [3, 2, 1],         # False\n",
        "]\n",
        "\n",
        "# Check the test cases\n",
        "for case in test_cases:\n",
        "    print(can_be_strictly_increasing(case))"
      ],
      "metadata": {
        "id": "Aet9IOgSgFQ1",
        "colab": {
          "base_uri": "https://localhost:8080/"
        },
        "outputId": "cd43133b-b260-4ba3-df8f-188c7206e106"
      },
      "execution_count": null,
      "outputs": [
        {
          "output_type": "stream",
          "name": "stdout",
          "text": [
            "True\n",
            "True\n",
            "True\n",
            "True\n",
            "True\n",
            "True\n",
            "True\n",
            "True\n",
            "True\n",
            "True\n",
            "True\n",
            "False\n",
            "False\n",
            "True\n",
            "False\n",
            "False\n"
          ]
        }
      ]
    },
    {
      "cell_type": "markdown",
      "source": [
        "162. Write a Python program to find the last occurrence of a specified item in a given list.\n",
        "\n",
        "Original list:\n",
        "['s', 'd', 'f', 's', 'd', 'f', 's', 'f', 'k', 'o', 'p', 'i', 'w', 'e', 'k', 'c']\n",
        "Last occurrence of f in the said list:\n",
        "7\n",
        "Last occurrence of c in the said list:\n",
        "15\n",
        "Last occurrence of k in the said list:\n",
        "14\n",
        "Last occurrence of w in the said list:\n",
        "12"
      ],
      "metadata": {
        "id": "W9Re7fhYEChH"
      }
    },
    {
      "cell_type": "code",
      "source": [
        "a162 = ['s', 'd', 'f', 's', 'd', 'f', 's', 'f', 'k', 'o', 'p', 'i', 'w', 'e', 'k', 'c']\n",
        "\n",
        "def last_occurence(l1, ele):\n",
        "  occurences = []\n",
        "  for i in range(len(l1)):\n",
        "    if l1[i] == ele:\n",
        "      occurences.append(i)\n",
        "  return occurences[-1]\n",
        "\n",
        "print(\"Last occurrence of f in the said list: \", last_occurence(a162, 'f'))\n",
        "print(\"Last occurrence of f in the said list: \", last_occurence(a162, 'c'))\n",
        "print(\"Last occurrence of f in the said list: \", last_occurence(a162, 'k'))\n",
        "print(\"Last occurrence of f in the said list: \", last_occurence(a162, 'w'))\n"
      ],
      "metadata": {
        "colab": {
          "base_uri": "https://localhost:8080/"
        },
        "id": "x59mfEhKEEdI",
        "outputId": "113c884f-18c2-48be-e787-31b8a5c24820"
      },
      "execution_count": null,
      "outputs": [
        {
          "output_type": "stream",
          "name": "stdout",
          "text": [
            "Last occurrence of f in the said list:  7\n",
            "Last occurrence of f in the said list:  15\n",
            "Last occurrence of f in the said list:  14\n",
            "Last occurrence of f in the said list:  12\n"
          ]
        }
      ]
    },
    {
      "cell_type": "markdown",
      "source": [
        "163. Write a Python program to get the index of the first element that is greater than a specified element.\n",
        "\n",
        "Original list:\n",
        "[12, 45, 23, 67, 78, 90, 100, 76, 38, 62, 73, 29, 83]\n",
        "Index of the first element which is greater than 73 in the said list:\n",
        "4\n",
        "Index of the first element which is greater than 21 in the said list:\n",
        "1\n",
        "Index of the first element which is greater than 80 in the said list:\n",
        "5\n",
        "Index of the first element which is greater than 55 in the said list:\n",
        "3"
      ],
      "metadata": {
        "id": "kWyUG9miIDvI"
      }
    },
    {
      "cell_type": "code",
      "source": [
        "a163 = [12, 45, 23, 67, 78, 90, 100, 76, 38, 62, 73, 29, 83]\n",
        "\n",
        "def first_larger_ele(l1, ele):\n",
        "  larger_elements = []\n",
        "  for i in range(len(l1)):\n",
        "    if l1[i] > ele:\n",
        "      larger_elements.append(i)\n",
        "  return larger_elements[0]\n",
        "\n",
        "print(\"Index of the first element which is greater than 73 in the said list: \", first_larger_ele(a163, 73))\n",
        "print(\"Index of the first element which is greater than 21 in the said list: \", first_larger_ele(a163, 21))\n",
        "print(\"Index of the first element which is greater than 80 in the said list: \", first_larger_ele(a163, 80))\n",
        "print(\"Index of the first element which is greater than 55 in the said list: \", first_larger_ele(a163, 55))"
      ],
      "metadata": {
        "colab": {
          "base_uri": "https://localhost:8080/"
        },
        "id": "fCvpOnVrEw81",
        "outputId": "5915b5e2-271e-4a48-cdda-0f34ddf146e4"
      },
      "execution_count": null,
      "outputs": [
        {
          "output_type": "stream",
          "name": "stdout",
          "text": [
            "Index of the first element which is greater than 73 in the said list:  4\n",
            "Index of the first element which is greater than 21 in the said list:  1\n",
            "Index of the first element which is greater than 80 in the said list:  5\n",
            "Index of the first element which is greater than 55 in the said list:  3\n"
          ]
        }
      ]
    },
    {
      "cell_type": "code",
      "source": [
        "a164 = [12, 45, 23, 67, 78, 90, 45, 32, 100, 76, 38, 62, 73, 29, 83]\n",
        "\n",
        "def even_greater(l1, ele):\n",
        "  new_list = []\n",
        "\n",
        "  for i in l1:\n",
        "    if i % 2 == 0 and i > 45:\n",
        "      new_list.append(i)\n",
        "  return len(new_list)\n",
        "\n",
        "print(\"Number of Items of the said list which are even and greater than 45: \", even_greater(a164, 45))"
      ],
      "metadata": {
        "colab": {
          "base_uri": "https://localhost:8080/"
        },
        "id": "ree-kG9fIfno",
        "outputId": "ddea44a7-ff9e-4700-a121-a9bc17d493a2"
      },
      "execution_count": null,
      "outputs": [
        {
          "output_type": "stream",
          "name": "stdout",
          "text": [
            "Number of Items of the said list which are even and greater than 45:  5\n"
          ]
        }
      ]
    },
    {
      "cell_type": "code",
      "source": [
        "a165=[12, 45, 23, 67, 78, 90, 45, 32, 100, 76, 38, 62, 73, 29, 83]\n",
        "\n",
        "def chunks_split(l1, n):\n",
        "  chunks = []\n",
        "\n",
        "  for i in range(0, len(l1), n): #starting at 0 and step by chunk size\n",
        "    chunks.append(l1[i:i + n]) # slicing sublist from original list. Creates a chunk starting at index 0 to i + chunk size - 1. -> Creates a smaller chunk of chunk size n.\n",
        "  return chunks\n",
        "\n",
        "\n",
        "print(\"Split the said list into equal size 3: \", chunks_split(a165, 3))\n",
        "print(\"Split the said list into equal size 4: \", chunks_split(a165, 4))\n",
        "print(\"Split the said list into equal size 5: \", chunks_split(a165, 5))"
      ],
      "metadata": {
        "colab": {
          "base_uri": "https://localhost:8080/"
        },
        "id": "zdrQpsMBJA7i",
        "outputId": "2954510f-3829-45c3-9531-391c2115b3ee"
      },
      "execution_count": null,
      "outputs": [
        {
          "output_type": "stream",
          "name": "stdout",
          "text": [
            "Split the said list into equal size 3:  [[12, 45, 23], [67, 78, 90], [45, 32, 100], [76, 38, 62], [73, 29, 83]]\n",
            "Split the said list into equal size 4:  [[12, 45, 23, 67], [78, 90, 45, 32], [100, 76, 38, 62], [73, 29, 83]]\n",
            "Split the said list into equal size 5:  [[12, 45, 23, 67, 78], [90, 45, 32, 100, 76], [38, 62, 73, 29, 83]]\n"
          ]
        }
      ]
    },
    {
      "cell_type": "markdown",
      "source": [
        "166. Write a Python program to remove the None value from a given list.\n",
        "\n",
        "Original list:\n",
        "[12, 0, None, 23, None, -55, 234, 89, None, 0, 6, -12]\n",
        "Remove None value from the said list:\n",
        "[12, 0, 23, -55, 234, 89, 0, 6, -12]"
      ],
      "metadata": {
        "id": "C53w2zNZK4o9"
      }
    },
    {
      "cell_type": "code",
      "source": [
        "a166 = [12, 0, None, 23, None, -55, 234, 89, None, 0, 6, -12]\n",
        "\n",
        "def remove_none(l1):\n",
        "\n",
        "  new_list = []\n",
        "  for i in l1:\n",
        "    if i is not None:\n",
        "      new_list.append(i)\n",
        "\n",
        "  return new_list\n",
        "\n",
        "print(\"Remove None value from the said list: \", remove_none(a166))\n"
      ],
      "metadata": {
        "colab": {
          "base_uri": "https://localhost:8080/"
        },
        "id": "7pS9cmSNKSPp",
        "outputId": "963275a1-c53e-4520-ea7d-f24a2a25757b"
      },
      "execution_count": null,
      "outputs": [
        {
          "output_type": "stream",
          "name": "stdout",
          "text": [
            "Remove None value from the said list:  [12, 0, 23, -55, 234, 89, 0, 6, -12]\n"
          ]
        }
      ]
    },
    {
      "cell_type": "markdown",
      "source": [
        "167. Write a Python program to convert a given list of strings into a list of lists.\n",
        "\n",
        "Original list of strings:\n",
        "['Red', 'Maroon', 'Yellow', 'Olive']\n",
        "Convert the said list of strings into list of lists:\n",
        "[['R', 'e', 'd'], ['M', 'a', 'r', 'o', 'o', 'n'], ['Y', 'e', 'l', 'l', 'o', 'w'], ['O', 'l', 'i', 'v', 'e']]"
      ],
      "metadata": {
        "id": "ipVaKUgMLVkf"
      }
    },
    {
      "cell_type": "code",
      "source": [
        "a167 = ['Red', 'Maroon', 'Yellow', 'Olive']\n",
        "\n",
        "def string_to_list_of_list(l1):\n",
        "  new_list = []\n",
        "\n",
        "  for color_string in l1:\n",
        "    sublist = []\n",
        "    for i in color_string:\n",
        "      sublist.append(i)\n",
        "    new_list.append(sublist)\n",
        "  return new_list\n",
        "print(\"Convert the said list of strings into list of lists: \", string_to_list_of_list(a167))"
      ],
      "metadata": {
        "colab": {
          "base_uri": "https://localhost:8080/"
        },
        "id": "hTYVXuM-LNFO",
        "outputId": "a3f4b2bc-fc6b-4cc3-b702-bc963f408bf8"
      },
      "execution_count": null,
      "outputs": [
        {
          "output_type": "stream",
          "name": "stdout",
          "text": [
            "Convert the said list of strings into list of lists:  [['R', 'e', 'd'], ['M', 'a', 'r', 'o', 'o', 'n'], ['Y', 'e', 'l', 'l', 'o', 'w'], ['O', 'l', 'i', 'v', 'e']]\n"
          ]
        }
      ]
    },
    {
      "cell_type": "markdown",
      "source": [
        "168. Write a Python program to display vertically each element of a given list, list of lists.\n",
        "\n",
        "Original list:\n",
        "['a', 'b', 'c', 'd', 'e', 'f']\n",
        "Display each element vertically of the said list:\n",
        "a\n",
        "b\n",
        "c\n",
        "d\n",
        "e\n",
        "f\n",
        "Original list:\n",
        "[[1, 2, 5], [4, 5, 8], [7, 3, 6]]\n",
        "Display each element vertically of the said list of lists:\n",
        "1 4 7\n",
        "2 5 3\n",
        "5 8 6"
      ],
      "metadata": {
        "id": "_rwkQGLCNeD9"
      }
    },
    {
      "cell_type": "code",
      "source": [
        "a168 = ['a', 'b', 'c', 'd', 'e', 'f']\n",
        "b168 = [[1, 2, 5], [4, 5, 8], [7, 3, 6]]\n",
        "\n",
        "def vertical_display(l1):\n",
        "  for i in l1:\n",
        "    print(i)\n",
        "\n",
        "def vertical_display_list_of_lists(l1):\n",
        "  for i in range(len(l1[0])):\n",
        "    for row in l1:\n",
        "      print(row[i], end = \" \")\n",
        "    print()\n",
        "\n",
        "print(\"Display each element vertically of the said list of lists: \", vertical_display(a168))\n",
        "print(\"Display each element vertically of the said list of lists: \", vertical_display(b168))\n"
      ],
      "metadata": {
        "colab": {
          "base_uri": "https://localhost:8080/"
        },
        "id": "Ll0ho74RNBGc",
        "outputId": "876f4765-9961-483a-f722-cdf9b275ad28"
      },
      "execution_count": null,
      "outputs": [
        {
          "output_type": "stream",
          "name": "stdout",
          "text": [
            "a\n",
            "b\n",
            "c\n",
            "d\n",
            "e\n",
            "f\n",
            "Display each element vertically of the said list of lists:  None\n",
            "[1, 2, 5]\n",
            "[4, 5, 8]\n",
            "[7, 3, 6]\n",
            "Display each element vertically of the said list of lists:  None\n"
          ]
        }
      ]
    },
    {
      "cell_type": "markdown",
      "source": [
        "169. Write a  Python program to convert a given list of strings and characters to a single list of characters.\n",
        "\n",
        "Original list:\n",
        "['red', 'white', 'a', 'b', 'black', 'f']\n",
        "Convert the said list of strings and characters to a single list of characters:\n",
        "['r', 'e', 'd', 'w', 'h', 'i', 't', 'e', 'a', 'b', 'b', 'l', 'a', 'c', 'k', 'f']"
      ],
      "metadata": {
        "id": "3EcprL8yPdhW"
      }
    },
    {
      "cell_type": "code",
      "source": [
        "a169 = ['red', 'white', 'a', 'b', 'black', 'f']\n",
        "\n",
        "def string_to_char_list(l1):\n",
        "  new_list = []\n",
        "  for i in l1:\n",
        "    for j in i:\n",
        "      new_list.append(j)\n",
        "  return new_list\n",
        "\n",
        "print(\"Convert the said list of strings and characters to a single list of characters: \", string_to_char_list(a169))"
      ],
      "metadata": {
        "colab": {
          "base_uri": "https://localhost:8080/"
        },
        "id": "flaf73hCN8Q2",
        "outputId": "8e9d3523-1ab8-470d-f510-eb0ac1b37995"
      },
      "execution_count": null,
      "outputs": [
        {
          "output_type": "stream",
          "name": "stdout",
          "text": [
            "Convert the said list of strings and characters to a single list of characters:  ['r', 'e', 'd', 'w', 'h', 'i', 't', 'e', 'a', 'b', 'b', 'l', 'a', 'c', 'k', 'f']\n"
          ]
        }
      ]
    },
    {
      "cell_type": "markdown",
      "source": [
        "170. Write a Python program to insert an element in a given list after every nth position.\n",
        "\n",
        "Original list:\n",
        "[1, 2, 3, 4, 5, 6, 7, 8, 9, 0]\n",
        "Insert a in the said list after 2 nd element:\n",
        "[1, 2, 'a', 3, 4, 'a', 5, 6, 'a', 7, 8, 'a', 9, 0]\n",
        "Insert b in the said list after 4 th element:\n",
        "[1, 2, 3, 4, 'b', 5, 6, 7, 8, 'b', 9, 0]"
      ],
      "metadata": {
        "id": "5dUqJ2DBQnEK"
      }
    },
    {
      "cell_type": "code",
      "source": [
        "def insert_ele_at_index(l1, ele, index):\n",
        "  i = index\n",
        "  while i < len(l1):\n",
        "    l1.insert (i, ele)\n",
        "    i += index + 1 #Fix the inde after insert, since after each insert the size of the list changes\n",
        "  return l1\n",
        "\n",
        "a170 = [1, 2, 3, 4, 5, 6, 7, 8, 9, 0]\n",
        "print(\"Insert a in the said list after 2 nd element: \", insert_ele_at_index(a170, 'a', 2))\n",
        "a170 = [1, 2, 3, 4, 5, 6, 7, 8, 9, 0]\n",
        "print(\"Insert b in the said list after 4 th element: \", insert_ele_at_index(a170, 'b', 4))"
      ],
      "metadata": {
        "colab": {
          "base_uri": "https://localhost:8080/"
        },
        "id": "h1Fq5nvOP1tO",
        "outputId": "dfaa4f81-71c1-4481-f0b7-dd8085f706c7"
      },
      "execution_count": null,
      "outputs": [
        {
          "output_type": "stream",
          "name": "stdout",
          "text": [
            "Insert a in the said list after 2 nd element:  [1, 2, 'a', 3, 4, 'a', 5, 6, 'a', 7, 8, 'a', 9, 0]\n",
            "Insert b in the said list after 4 th element:  [1, 2, 3, 4, 'b', 5, 6, 7, 8, 'b', 9, 0]\n"
          ]
        }
      ]
    },
    {
      "cell_type": "markdown",
      "source": [
        "171. Write a Python program to concatenate element-wise three given lists.\n",
        "\n",
        "Original lists:\n",
        "['0', '1', '2', '3', '4']\n",
        "['red', 'green', 'black', 'blue', 'white']\n",
        "['100', '200', '300', '400', '500']\n",
        "Concatenate element-wise three said lists:\n",
        "['0red100', '1green200', '2black300', '3blue400', '4white500']"
      ],
      "metadata": {
        "id": "Wxqi2LJvRWVt"
      }
    },
    {
      "cell_type": "code",
      "source": [
        "a171 = ['0', '1', '2', '3', '4']\n",
        "b171 = ['red', 'green', 'black', 'blue', 'white']\n",
        "c171 = ['100', '200', '300', '400', '500']\n",
        "\n",
        "def concat_elements(l1, l2, l3):\n",
        "  new_list = []\n",
        "  for i in range(len(l1)):\n",
        "    new_list.append(l1[i] + l2[i] +l3[i])\n",
        "  return new_list\n",
        "\n",
        "print(\"Concatenate element-wise three said lists: \", concat_elements(a171, b171, c171))"
      ],
      "metadata": {
        "id": "smlu5fKURr_f",
        "colab": {
          "base_uri": "https://localhost:8080/"
        },
        "outputId": "525cb87b-ce83-45d1-d589-1f08ee97d6ab"
      },
      "execution_count": 1,
      "outputs": [
        {
          "output_type": "stream",
          "name": "stdout",
          "text": [
            "Concatenate element-wise three said lists:  ['0red100', '1green200', '2black300', '3blue400', '4white500']\n"
          ]
        }
      ]
    },
    {
      "cell_type": "markdown",
      "source": [
        "172. Write a Python program to remove the last N number of elements from a given list.\n",
        "\n",
        "Original lists:\n",
        "[2, 3, 9, 8, 2, 0, 39, 84, 2, 2, 34, 2, 34, 5, 3, 5]\n",
        "Remove the last 3 elements from the said list:\n",
        "[2, 3, 9, 8, 2, 0, 39, 84, 2, 2, 34, 2, 34]\n",
        "Remove the last 5 elements from the said list:\n",
        "[2, 3, 9, 8, 2, 0, 39, 84, 2, 2, 34]\n",
        "Remove the last 1 element from the said list:\n",
        "[2, 3, 9, 8, 2, 0, 39, 84, 2, 2, 34, 2, 34, 5, 3]"
      ],
      "metadata": {
        "id": "-HCoZpnNR1fL"
      }
    },
    {
      "cell_type": "code",
      "source": [
        "a172 = [2, 3, 9, 8, 2, 0, 39, 84, 2, 2, 34, 2, 34, 5, 3, 5]\n",
        "\n",
        "def remove_last_n_ele(l1, n):\n",
        "  new_list = []\n",
        "  for i in range(len(l1) - n):\n",
        "    new_list.append(l1[i])\n",
        "  return new_list\n",
        "\n",
        "print(\"Remove the last 3 elements from the said list: \", remove_last_n_ele(a172, 3))\n",
        "print(\"Remove the last 5 elements from the said list: \", remove_last_n_ele(a172, 5))\n",
        "print(\"Remove the last 1 element from the said list: \", remove_last_n_ele(a172, 1))"
      ],
      "metadata": {
        "colab": {
          "base_uri": "https://localhost:8080/"
        },
        "id": "qmjee04MRvsl",
        "outputId": "6768b9ec-ba54-4ebc-d345-450ce266a609"
      },
      "execution_count": 2,
      "outputs": [
        {
          "output_type": "stream",
          "name": "stdout",
          "text": [
            "Remove the last 3 elements from the said list:  [2, 3, 9, 8, 2, 0, 39, 84, 2, 2, 34, 2, 34]\n",
            "Remove the last 5 elements from the said list:  [2, 3, 9, 8, 2, 0, 39, 84, 2, 2, 34]\n",
            "Remove the last 1 element from the said list:  [2, 3, 9, 8, 2, 0, 39, 84, 2, 2, 34, 2, 34, 5, 3]\n"
          ]
        }
      ]
    },
    {
      "cell_type": "markdown",
      "source": [
        "173. Write a Python program to merge some list items in a given list using the index value.\n",
        "\n",
        "Original lists:\n",
        "['a', 'b', 'c', 'd', 'e', 'f', 'g']\n",
        "\n",
        "Merge items from 2 to 4 in the said List:\n",
        "['a', 'b', 'cd', 'e', 'f', 'g']\n",
        "\n",
        "Merge items from 3 to 7 in the said List:\n",
        "['a', 'b', 'c', 'defg']"
      ],
      "metadata": {
        "id": "ACeqgCBETZum"
      }
    },
    {
      "cell_type": "code",
      "source": [
        "a173 = ['a', 'b', 'c', 'd', 'e', 'f', 'g']\n",
        "\n",
        "def merge_ele(l1, min_val, max_val):\n",
        "  new_list = []\n",
        "  merged_part = ''\n",
        "\n",
        "  for i in range(len(l1)):\n",
        "    if i < min_val:\n",
        "      new_list.append(l1[i])\n",
        "    elif min_val <= i <= max_val:\n",
        "      merged_part += l1[i]\n",
        "    else:\n",
        "      new_list.append(l1[i])\n",
        "  if merged_part:\n",
        "    new_list.insert(min_val, merged_part)\n",
        "  return new_list\n",
        "\n",
        "print(\"Merge items from 2 to 4 in the said List: \", merge_ele(a173, 2, 4))\n",
        "print(\"Merge items from 3 to 7 in the said List: \", merge_ele(a173, 3, 7))"
      ],
      "metadata": {
        "colab": {
          "base_uri": "https://localhost:8080/"
        },
        "id": "XxYME1s0SaZ-",
        "outputId": "e2fd1920-5bba-450b-f7f0-1dd3bcb211e5"
      },
      "execution_count": 5,
      "outputs": [
        {
          "output_type": "stream",
          "name": "stdout",
          "text": [
            "Merge items from 2 to 4 in the said List:  ['a', 'b', 'cde', 'f', 'g']\n",
            "Merge items from 3 to 7 in the said List:  ['a', 'b', 'c', 'defg']\n"
          ]
        }
      ]
    },
    {
      "cell_type": "code",
      "source": [
        "\n",
        "def add_ele_to_list(l1, n):\n",
        "  new_list = []\n",
        "  for i in l1:\n",
        "    new_list.append(i + n)\n",
        "  return new_list\n",
        "\n",
        "a174 = [3, 8, 9, 4, 5, 0, 5, 0, 3]\n",
        "print(\"Add 3 to each element in the said list: \", add_ele_to_list(a174, 3))\n",
        "b174 = [3.2, 8, 9.9, 4.2, 5, 0.1, 5, 3.11, 0]\n",
        "print(\"Add 0.51 to each element in the said list: \", add_ele_to_list(a174, 0.51))"
      ],
      "metadata": {
        "colab": {
          "base_uri": "https://localhost:8080/"
        },
        "id": "mRj4nE6LTVqU",
        "outputId": "99fb7dab-c0d8-4d8d-9da4-f1823d132bdc"
      },
      "execution_count": 6,
      "outputs": [
        {
          "output_type": "stream",
          "name": "stdout",
          "text": [
            "Add 3 to each element in the said list:  [6, 11, 12, 7, 8, 3, 8, 3, 6]\n",
            "Add 0.51 to each element in the said list:  [3.51, 8.51, 9.51, 4.51, 5.51, 0.51, 5.51, 0.51, 3.51]\n"
          ]
        }
      ]
    },
    {
      "cell_type": "markdown",
      "source": [
        "175. Write a Python program to find the minimum and maximum value for each tuple position in a given list of tuples.\n",
        "\n",
        "Original list:\n",
        "[(2, 3), (2, 4), (0, 6), (7, 1)]\n",
        "Maximum value for each tuple position in the said list of tuples:\n",
        "[7, 6]\n",
        "Minimum value for each tuple position in the said list of tuples:\n",
        "[0, 1]"
      ],
      "metadata": {
        "id": "0pBZ6p5YVNzj"
      }
    },
    {
      "cell_type": "code",
      "source": [
        "a175 = [(2, 3), (2, 4), (0, 6), (7, 1)]\n",
        "\n",
        "min_values = [min(x) for x in zip(*a175)]\n",
        "max_values = [max(x) for x in zip(*a175)]\n",
        "\n",
        "print(\"Maximum value for each tuple position in the said list of tuples: \", max_values)\n",
        "print(\"Minimum value for each tuple position in the said list of tuples: \", min_values)\n"
      ],
      "metadata": {
        "colab": {
          "base_uri": "https://localhost:8080/"
        },
        "id": "6oTbjFZVU0dC",
        "outputId": "b09421fc-7e34-42db-a2a7-6ccc5e862e5d"
      },
      "execution_count": 8,
      "outputs": [
        {
          "output_type": "stream",
          "name": "stdout",
          "text": [
            "Maximum value for each tuple position in the said list of tuples:  [7, 6]\n",
            "Minimum value for each tuple position in the said list of tuples:  [0, 1]\n"
          ]
        }
      ]
    },
    {
      "cell_type": "code",
      "source": [
        "a176 = [7, 2, 3, 4, 9, 2, 3]\n",
        "b176 = [9, 8, 2, 3, 3, 1, 2]\n",
        "\n",
        "def divide_list(l1, l2):\n",
        "  new_list = []\n",
        "  for i in range(len(l1)):\n",
        "    new_list.append(l1[i] / l2[i])\n",
        "  return new_list\n",
        "\n",
        "print(divide_list(a176, b176))"
      ],
      "metadata": {
        "colab": {
          "base_uri": "https://localhost:8080/"
        },
        "id": "F_j3dBpbWnU3",
        "outputId": "3c838367-443c-4fed-a761-74384d85a841"
      },
      "execution_count": 11,
      "outputs": [
        {
          "output_type": "stream",
          "name": "stdout",
          "text": [
            "[0.7777777777777778, 0.25, 1.5, 1.3333333333333333, 3.0, 2.0, 1.5]\n"
          ]
        }
      ]
    },
    {
      "cell_type": "code",
      "source": [
        "def common_ele(l1):\n",
        "      # Convert the first list to a set and then find the intersection with other lists\n",
        "  common_elements = set(l1[0])\n",
        "  # Iterate through the rest of the lists and update the intersection\n",
        "  for sublist in l1[1:]:\n",
        "    common_elements.intersection_update(sublist)\n",
        "  return list(common_elements)\n",
        "\n",
        "\n",
        "a177 = [[7, 2, 3, 4, 7], [9, 2, 3, 2, 5], [8, 2, 3, 4, 4]]\n",
        "print(\"Common elements of the said list of lists: \", common_ele(a177))\n",
        "b177 = [['a', 'b', 'c'], ['b', 'c', 'd'], ['c', 'd', 'e']]\n",
        "print(\"Common elements of the said list of lists: \", common_ele(b177))\n"
      ],
      "metadata": {
        "colab": {
          "base_uri": "https://localhost:8080/"
        },
        "id": "ITMeS4UXXuLx",
        "outputId": "2014ab5f-9d3e-4270-8282-2e87f1305171"
      },
      "execution_count": 12,
      "outputs": [
        {
          "output_type": "stream",
          "name": "stdout",
          "text": [
            "Common elements of the said list of lists:  [2, 3]\n",
            "Common elements of the said list of lists:  ['c']\n"
          ]
        }
      ]
    },
    {
      "cell_type": "markdown",
      "source": [
        "178. Write a Python program to insert a specified element in a given list after every nth element.\n",
        "\n",
        "Original list:\n",
        "[1, 3, 5, 7, 9, 11, 0, 2, 4, 6, 8, 10, 8, 9, 0, 4, 3, 0]\n",
        "Insert 20 in said list after every 4 th element:\n",
        "[1, 3, 5, 7, 20, 9, 11, 0, 2, 20, 4, 6, 8, 10, 20, 8, 9, 0, 4, 20, 3, 0]\n",
        "Original list:\n",
        "['s', 'd', 'f', 'j', 's', 'a', 'j', 'd', 'f', 'd']\n",
        "Insert Z in said list after every 3 th element:\n",
        "['s', 'd', 'f', 'Z', 'j', 's', 'a', 'Z', 'j', 'd', 'f', 'Z', 'd']"
      ],
      "metadata": {
        "id": "TjGy8LnbZBuv"
      }
    },
    {
      "cell_type": "code",
      "source": [
        "def insert_after_n(l1, ele, n):\n",
        "  for i in range(n, len(l1), n+1): # We need to iterate in reverse order to avoid index shifting issues when inserting\n",
        "    l1.insert(i, ele)\n",
        "  return l1\n",
        "\n",
        "a178 = [1, 3, 5, 7, 9, 11, 0, 2, 4, 6, 8, 10, 8, 9, 0, 4, 3, 0]\n",
        "print(\"Insert 20 in said list after every 4 th element: \", insert_after_n(a178, 20, 4))\n",
        "b178 = ['s', 'd', 'f', 'j', 's', 'a', 'j', 'd', 'f', 'd']\n",
        "print(\"Insert Z in said list after every 3 th element: \", insert_after_n(b178, 'z', 3))"
      ],
      "metadata": {
        "colab": {
          "base_uri": "https://localhost:8080/"
        },
        "id": "0gmzXTGnY-If",
        "outputId": "49265c5d-035c-4ce6-8332-4f42aa4662cd"
      },
      "execution_count": 17,
      "outputs": [
        {
          "output_type": "stream",
          "name": "stdout",
          "text": [
            "Insert 20 in said list after every 4 th element:  [1, 3, 5, 7, 20, 9, 11, 0, 2, 20, 4, 6, 8, 10, 20, 8, 9, 0, 4, 3, 0]\n",
            "Insert Z in said list after every 3 th element:  ['s', 'd', 'f', 'z', 'j', 's', 'a', 'z', 'j', 'd', 'f', 'd']\n"
          ]
        }
      ]
    },
    {
      "cell_type": "markdown",
      "source": [
        "179. Write a Python program to create the largest possible number using the elements of a given list of positive integers.\n",
        "\n",
        "Original list:\n",
        "[3, 40, 41, 43, 74, 9]\n",
        "Largest possible number using the elements of the said list of positive integers:\n",
        "9744341403\n",
        "Original list:\n",
        "[10, 40, 20, 30, 50, 60]\n",
        "Largest possible number using the elements of the said list of positive integers:\n",
        "605040302010\n",
        "Original list:\n",
        "[8, 4, 2, 9, 5, 6, 1, 0]\n",
        "Largest possible number using the elements of the said list of positive integers:\n",
        "98654210"
      ],
      "metadata": {
        "id": "FwHIAUBfaBWi"
      }
    },
    {
      "cell_type": "code",
      "source": [
        "\n",
        "from functools import cmp_to_key\n",
        "\n",
        "# Custom comparator to sort numbers based on their string concatenation\n",
        "def compare(a, b):\n",
        "    if a + b > b + a:\n",
        "        return -1\n",
        "    elif a + b < b + a:\n",
        "        return 1\n",
        "    else:\n",
        "        return 0\n",
        "\n",
        "def largest_number(l1):\n",
        "    # Convert integers to strings for comparison\n",
        "    l1 = list(map(str, l1))\n",
        "\n",
        "    # Sort using the custom comparator\n",
        "    l1_sorted = sorted(l1, key=cmp_to_key(compare))\n",
        "\n",
        "    # Join the sorted list to form the largest possible number\n",
        "    largest_num = ''.join(l1_sorted)\n",
        "\n",
        "    return largest_num\n",
        "\n",
        "a179 = [3, 40, 41, 43, 74, 9]\n",
        "print(\"Largest possible number using the elements of the said list of positive integers: \", largest_number(a179))\n",
        "b179 = [10, 40, 20, 30, 50, 60]\n",
        "print(\"Largest possible number using the elements of the said list of positive integers: \", largest_number(b179))\n",
        "c179 = [8, 4, 2, 9, 5, 6, 1, 0]\n",
        "print(\"Largest possible number using the elements of the said list of positive integers: \", largest_number(c179))\n"
      ],
      "metadata": {
        "colab": {
          "base_uri": "https://localhost:8080/"
        },
        "id": "AzRnlaRfZeGT",
        "outputId": "5f681b04-3aa8-4752-9d66-c8eee5473619"
      },
      "execution_count": 21,
      "outputs": [
        {
          "output_type": "stream",
          "name": "stdout",
          "text": [
            "Largest possible number using the elements of the said list of positive integers:  9744341403\n",
            "Largest possible number using the elements of the said list of positive integers:  605040302010\n",
            "Largest possible number using the elements of the said list of positive integers:  98654210\n"
          ]
        }
      ]
    },
    {
      "cell_type": "markdown",
      "source": [
        "180. Write a Python program to create the smallest possible number using the elements of a given list of positive integers.\n",
        "\n",
        "Original list:\n",
        "[3, 40, 41, 43, 74, 9]\n",
        "Smallest possible number using the elements of the said list of positive integers:\n",
        "3404143749\n",
        "Original list:\n",
        "[10, 40, 20, 30, 50, 60]\n",
        "Smallest possible number using the elements of the said list of positive integers:\n",
        "102030405060\n",
        "Original list:\n",
        "[8, 4, 2, 9, 5, 6, 1, 0]\n",
        "Smallest possible number using the elements of the said list of positive integers:\n",
        "01245689"
      ],
      "metadata": {
        "id": "1aDlOhmfbWzI"
      }
    },
    {
      "cell_type": "code",
      "source": [
        "from functools import cmp_to_key\n",
        "\n",
        "# Custom comparator to sort numbers based on their string concatenation\n",
        "def compare(a, b):\n",
        "    if a + b < b + a:\n",
        "        return -1\n",
        "    elif a + b > b + a:\n",
        "        return 1\n",
        "    else:\n",
        "        return 0\n",
        "\n",
        "def smallest_number(l1):\n",
        "    # Convert integers to strings for comparison\n",
        "    l1 = list(map(str, l1))\n",
        "\n",
        "    # Sort using the custom comparator\n",
        "    l1_sorted = sorted(l1, key=cmp_to_key(compare))\n",
        "\n",
        "    # Join the sorted list to form the smallest possible number\n",
        "    smallest_num = ''.join(l1_sorted)\n",
        "\n",
        "    return smallest_num\n",
        "\n",
        "# Example 1\n",
        "list1 = [3, 40, 41, 43, 74, 9]\n",
        "print(\"Original list:\")\n",
        "print(list1)\n",
        "print(\"Smallest possible number using the elements of the said list of positive integers:\")\n",
        "print(smallest_number(list1))\n",
        "\n",
        "# Example 2\n",
        "list2 = [10, 40, 20, 30, 50, 60]\n",
        "print(\"\\nOriginal list:\")\n",
        "print(list2)\n",
        "print(\"Smallest possible number using the elements of the said list of positive integers:\")\n",
        "print(smallest_number(list2))\n",
        "\n",
        "# Example 3\n",
        "list3 = [8, 4, 2, 9, 5, 6, 1, 0]\n",
        "print(\"\\nOriginal list:\")\n",
        "print(list3)\n",
        "print(\"Smallest possible number using the elements of the said list of positive integers:\")\n",
        "print(smallest_number(list3))\n"
      ],
      "metadata": {
        "colab": {
          "base_uri": "https://localhost:8080/"
        },
        "id": "iOp4d3LpaqrM",
        "outputId": "1fd226a3-aafa-49a1-9b97-7d0424d6df60"
      },
      "execution_count": 22,
      "outputs": [
        {
          "output_type": "stream",
          "name": "stdout",
          "text": [
            "Original list:\n",
            "[3, 40, 41, 43, 74, 9]\n",
            "Smallest possible number using the elements of the said list of positive integers:\n",
            "3404143749\n",
            "\n",
            "Original list:\n",
            "[10, 40, 20, 30, 50, 60]\n",
            "Smallest possible number using the elements of the said list of positive integers:\n",
            "102030405060\n",
            "\n",
            "Original list:\n",
            "[8, 4, 2, 9, 5, 6, 1, 0]\n",
            "Smallest possible number using the elements of the said list of positive integers:\n",
            "01245689\n"
          ]
        }
      ]
    },
    {
      "cell_type": "code",
      "source": [],
      "metadata": {
        "id": "Pkt9Nu7Sbhup"
      },
      "execution_count": null,
      "outputs": []
    }
  ]
}